{
 "cells": [
  {
   "cell_type": "markdown",
   "metadata": {},
   "source": [
    "Single experiment"
   ]
  },
  {
   "cell_type": "code",
   "execution_count": 1,
   "metadata": {},
   "outputs": [
    {
     "name": "stdout",
     "output_type": "stream",
     "text": [
      "Input file temporarily saved at /home/ec2-user/Kitana_e2e/Kitana-e2e/tmp/dev.table_entity_linking.json\n",
      "Ensuring container directory exists: docker exec c3138415edf0 bash -c mkdir -p /TURL/data/kitana/country/buyer/2\n",
      "Output from creating directory: \n",
      "Error (if any): \n",
      "Copying file into container with command: docker cp /home/ec2-user/Kitana_e2e/Kitana-e2e/tmp/dev.table_entity_linking.json c3138415edf0:/TURL/data/kitana/country/buyer/2/dev.table_entity_linking.json\n",
      "Output from copying file: \n",
      "Error (if any): \n",
      "File successfully copied into container and verified.\n",
      "Running command: docker exec c3138415edf0 bash -c source /root/miniconda3/etc/profile.d/conda.sh && conda activate TURL_origin && cd /TURL/ && CUDA_VISIBLE_DEVICES=0 python run_table_EL_finetuning.py --data_dir=/TURL/data/kitana/country/buyer/2 --output_dir=output/EL/v2/0/model_v1_table_0.2_0.6_0.7_10000_1e-4_candnew_0_adam --model_name_or_path=output/EL/v2/0/model_v1_table_0.2_0.6_0.7_10000_1e-4_candnew_0_adam --model_type=EL --do_eval --per_gpu_eval_batch_size=10 --overwrite_output_dir --config_name=configs/table-base-config_v2.json\n",
      "try loading preprocessed data from /TURL/data/kitana/country/buyer/2/procressed_EL/dev.pickle\n",
      "Container evaluation completed.\n",
      "Predictions read from /home/ec2-user/TURL/predictions.txt\n",
      "Structured data loaded from /home/ec2-user/Kitana_e2e/Kitana-e2e/el_data/country/buyer/2/structured_data.json\n",
      "converted:  [[{'original_entity': 'Germany', 'linked_entity': 'Saxony'}, {'original_entity': 'Italy', 'linked_entity': 'Italian campaign (World War II)'}, {'original_entity': 'Switzerland', 'linked_entity': 'PostBus Switzerland'}]]\n",
      "Updated entities saved to /home/ec2-user/Kitana_e2e/Kitana-e2e/el_data/country/buyer/2/buyer_gini.csv\n",
      "Input file temporarily saved at /home/ec2-user/Kitana_e2e/Kitana-e2e/tmp/dev.table_entity_linking.json\n",
      "Ensuring container directory exists: docker exec c3138415edf0 bash -c mkdir -p /TURL/data/kitana/country/seller/2\n",
      "Output from creating directory: \n",
      "Error (if any): \n",
      "Copying file into container with command: docker cp /home/ec2-user/Kitana_e2e/Kitana-e2e/tmp/dev.table_entity_linking.json c3138415edf0:/TURL/data/kitana/country/seller/2/dev.table_entity_linking.json\n",
      "Output from copying file: \n",
      "Error (if any): \n",
      "File successfully copied into container and verified.\n",
      "Running command: docker exec c3138415edf0 bash -c source /root/miniconda3/etc/profile.d/conda.sh && conda activate TURL_origin && cd /TURL/ && CUDA_VISIBLE_DEVICES=0 python run_table_EL_finetuning.py --data_dir=/TURL/data/kitana/country/seller/2 --output_dir=output/EL/v2/0/model_v1_table_0.2_0.6_0.7_10000_1e-4_candnew_0_adam --model_name_or_path=output/EL/v2/0/model_v1_table_0.2_0.6_0.7_10000_1e-4_candnew_0_adam --model_type=EL --do_eval --per_gpu_eval_batch_size=10 --overwrite_output_dir --config_name=configs/table-base-config_v2.json\n",
      "try loading preprocessed data from /TURL/data/kitana/country/seller/2/procressed_EL/dev.pickle\n",
      "Container evaluation completed.\n",
      "Predictions read from /home/ec2-user/TURL/predictions.txt\n",
      "Structured data loaded from /home/ec2-user/Kitana_e2e/Kitana-e2e/el_data/country/seller/2/structured_data.json\n",
      "converted seller:  [[{'original_entity': 'Luxembourg', 'linked_entity': 'Belgium–Luxembourg relations'}, {'original_entity': 'Kosovo', 'linked_entity': 'COVID-19 pandemic in Kosovo'}, {'original_entity': 'Peru', 'linked_entity': 'Viceroyalty of Peru'}], [{'original_entity': 'Armenia', 'linked_entity': 'FC Ararat-Armenia'}, {'original_entity': 'Austria', 'linked_entity': 'SC Austria Lustenau'}, {'original_entity': 'Azerbaijan', 'linked_entity': 'Azerbaijan–Georgia relations'}, {'original_entity': 'Bahrain', 'linked_entity': 'List of ambassadors of the United Kingdom to Bahrain'}, {'original_entity': 'Benin', 'linked_entity': 'List of Catholic dioceses in South Africa, Botswana and Swaziland'}, {'original_entity': 'Bosnia and Herzegovina', 'linked_entity': 'Bosnia and Herzegovina national under-17 football team'}, {'original_entity': 'Botswana', 'linked_entity': 'List of Catholic dioceses in South Africa, Botswana and Swaziland'}, {'original_entity': \"Côte d'Ivoire\", 'linked_entity': 'Democratic Party of Ivory Coast – African Democratic Rally'}, {'original_entity': 'Cambodia', 'linked_entity': 'List of ambassadors of the United States to Cambodia'}, {'original_entity': 'Chile', 'linked_entity': 'Chile–Denmark relations'}, {'original_entity': 'Czechia', 'linked_entity': \"Czech Republic men's national junior ice hockey team\"}, {'original_entity': 'Democratic Republic of the Congo', 'linked_entity': 'Central African Republic–Democratic Republic of the Congo border'}, {'original_entity': 'Denmark', 'linked_entity': 'Chile–Denmark relations'}, {'original_entity': 'Equatorial Guinea', 'linked_entity': \"Equatorial Guinea women's national football team\"}, {'original_entity': 'Estonia', 'linked_entity': 'Estonian language'}, {'original_entity': 'Ethiopia', 'linked_entity': 'List of ambassadors of the United Kingdom to Ethiopia'}, {'original_entity': 'Fiji', 'linked_entity': 'Fiji national rugby union team'}, {'original_entity': 'France', 'linked_entity': 'France 2'}, {'original_entity': 'Georgia', 'linked_entity': \"Georgia women's national football team\"}, {'original_entity': 'Grenada', 'linked_entity': 'List of ambassadors of the United States to Grenada'}, {'original_entity': 'Guinea-Bissau', 'linked_entity': 'Guinea-Bissau at the Lusofonia Games'}, {'original_entity': 'Guyana', 'linked_entity': 'List of ambassadors of the United States to Guyana'}, {'original_entity': 'Haiti', 'linked_entity': 'List of ambassadors of the United States to Haiti'}, {'original_entity': 'Iceland', 'linked_entity': 'List of ambassadors of the United Kingdom to Iceland'}, {'original_entity': 'Iceland', 'linked_entity': 'List of ambassadors of the United Kingdom to Iceland'}, {'original_entity': 'Iraq', 'linked_entity': 'United States support for Iraq during the Iran–Iraq War'}, {'original_entity': 'Italy', 'linked_entity': 'Kingdom of Italy (Holy Roman Empire)'}, {'original_entity': 'Kenya', 'linked_entity': 'Mt Kenya United F.C.'}, {'original_entity': 'Latvia', 'linked_entity': 'Latvia national under-21 football team'}, {'original_entity': 'Lebanon', 'linked_entity': 'Lebanon national under-20 football team'}, {'original_entity': 'Lithuania', 'linked_entity': 'Magnates of Poland and Lithuania'}, {'original_entity': 'Madagascar', 'linked_entity': 'Madagascar for the Malagasy'}, {'original_entity': 'Malaysia', 'linked_entity': 'Malaysia Airlines'}, {'original_entity': 'Montenegro', 'linked_entity': 'COVID-19 pandemic in Montenegro'}, {'original_entity': 'Mozambique', 'linked_entity': 'Portuguese Mozambique'}, {'original_entity': 'New Zealand', 'linked_entity': 'New Zealand national football team'}, {'original_entity': 'Norway', 'linked_entity': 'Norway, Maine'}, {'original_entity': 'Oman', 'linked_entity': 'Governorates of Oman'}, {'original_entity': 'Pakistan', 'linked_entity': 'Pakistan national football team'}, {'original_entity': 'Panama', 'linked_entity': 'COVID-19 pandemic in Panama'}, {'original_entity': 'Paraguay', 'linked_entity': 'LATAM Paraguay'}, {'original_entity': 'Republic of Korea', 'linked_entity': 'South Pyeongan Province (Republic of Korea)'}, {'original_entity': 'Republic of Korea', 'linked_entity': 'South Pyeongan Province (Republic of Korea)'}, {'original_entity': 'Samoa', 'linked_entity': 'Roman Catholic Archdiocese of Samoa–Apia'}, {'original_entity': 'South Africa', 'linked_entity': 'History of cricket in South Africa from 1945–46 to 1970'}, {'original_entity': 'South Sudan', 'linked_entity': 'COVID-19 pandemic in South Sudan'}, {'original_entity': 'Sudan', 'linked_entity': 'List of ambassadors of the United States to South Sudan'}, {'original_entity': 'Swaziland', 'linked_entity': 'Emavulandlela Swaziland Scout Association'}, {'original_entity': 'Sweden', 'linked_entity': 'Valdemar, King of Sweden'}, {'original_entity': 'Tajikistan', 'linked_entity': 'List of ambassadors of the United States to Tajikistan'}, {'original_entity': 'Tajikistan', 'linked_entity': 'List of ambassadors of the United States to Tajikistan'}, {'original_entity': 'Thailand', 'linked_entity': 'COVID-19 pandemic in Thailand'}, {'original_entity': 'Timor-Leste', 'linked_entity': 'Radio-Televisão Timor Leste'}, {'original_entity': 'United Republic of Tanzania', 'linked_entity': \"American Samoa women's national football team\"}, {'original_entity': 'United Republic of Tanzania', 'linked_entity': \"American Samoa women's national football team\"}, {'original_entity': 'Uzbekistan', 'linked_entity': 'List of ambassadors of the United States to Uzbekistan'}, {'original_entity': 'Uzbekistan', 'linked_entity': 'List of ambassadors of the United States to Uzbekistan'}, {'original_entity': 'Yemen', 'linked_entity': \"Arab Socialist Ba'ath Party – Yemen Region\"}], [{'original_entity': 'Albania', 'linked_entity': 'COVID-19 pandemic in Albania'}, {'original_entity': 'Argentina', 'linked_entity': 'La Rioja Province, Argentina'}, {'original_entity': 'Argentina', 'linked_entity': 'La Rioja Province, Argentina'}, {'original_entity': 'Argentina', 'linked_entity': 'La Rioja Province, Argentina'}, {'original_entity': 'Armenia', 'linked_entity': 'FC Ararat-Armenia'}, {'original_entity': 'Australia', 'linked_entity': 'Liberal Party of Australia (Western Australian Division)'}, {'original_entity': 'Barbados', 'linked_entity': 'Supreme Court of Judicature (Barbados)'}, {'original_entity': 'Barbados', 'linked_entity': 'Supreme Court of Judicature (Barbados)'}, {'original_entity': 'Brazil', 'linked_entity': 'Brazil v Germany (2014 FIFA World Cup)'}, {'original_entity': 'Brazil', 'linked_entity': 'Brazil v Germany (2014 FIFA World Cup)'}, {'original_entity': 'British Virgin Islands', 'linked_entity': \"British Virgin Islands men's national basketball team\"}, {'original_entity': 'Bulgaria', 'linked_entity': 'Armenia–Bulgaria relations'}, {'original_entity': 'Canada', 'linked_entity': \"Canada men's national ice hockey team\"}, {'original_entity': 'Cayman Islands', 'linked_entity': 'List of amphibians and reptiles of the Cayman Islands'}, {'original_entity': 'Costa Rica', 'linked_entity': 'COVID-19 pandemic in Costa Rica'}, {'original_entity': 'Cyprus', 'linked_entity': 'Turks and Caicos Islands national rugby union team'}, {'original_entity': 'Denmark', 'linked_entity': 'Denmark'}, {'original_entity': 'Denmark', 'linked_entity': 'Denmark'}, {'original_entity': 'Denmark', 'linked_entity': 'Denmark'}, {'original_entity': 'Dominican Republic', 'linked_entity': 'Dominican Republic at the Pan American Games'}, {'original_entity': 'Dominican Republic', 'linked_entity': 'Dominican Republic at the Pan American Games'}, {'original_entity': 'Ecuador', 'linked_entity': 'Marxist–Leninist Communist Party of Ecuador'}, {'original_entity': 'El Salvador', 'linked_entity': 'List of ambassadors of the United States to El Salvador'}, {'original_entity': 'El Salvador', 'linked_entity': 'List of ambassadors of the United States to El Salvador'}, {'original_entity': 'Estonia', 'linked_entity': 'Estonian language'}, {'original_entity': 'Estonia', 'linked_entity': 'Estonian language'}, {'original_entity': 'Falkland Islands (Malvinas)', 'linked_entity': 'Queen Elizabeth II Bridge, British Virgin Islands'}, {'original_entity': 'Fiji', 'linked_entity': 'Fiji national rugby union team'}, {'original_entity': 'Finland', 'linked_entity': 'Swedish-speaking population of Finland'}, {'original_entity': 'France', 'linked_entity': 'France 2'}, {'original_entity': 'France', 'linked_entity': 'France 2'}, {'original_entity': 'French Guiana', 'linked_entity': 'List of airports in French Guiana'}, {'original_entity': 'Guadeloupe', 'linked_entity': 'Pointe-Noire, Guadeloupe'}, {'original_entity': 'Ireland', 'linked_entity': 'Great Northern Railway (Ireland)'}, {'original_entity': 'Italy', 'linked_entity': 'Kingdom of Italy (Holy Roman Empire)'}, {'original_entity': 'Italy', 'linked_entity': 'Kingdom of Italy (Holy Roman Empire)'}, {'original_entity': 'Kuwait', 'linked_entity': 'Kuwait Liberation Medal (Kuwait)'}, {'original_entity': 'Luxembourg', 'linked_entity': 'Belgium–Luxembourg relations'}, {'original_entity': 'Martinique', 'linked_entity': 'Carriacou and Petite Martinique'}, {'original_entity': 'Mauritius', 'linked_entity': 'List of ambassadors of the United States to Mauritius'}, {'original_entity': 'Montserrat', 'linked_entity': 'Santa Cecília de Montserrat'}, {'original_entity': 'Netherlands', 'linked_entity': 'Caribbean Netherlands'}, {'original_entity': 'Norway', 'linked_entity': 'Norway, Maine'}, {'original_entity': 'Poland', 'linked_entity': 'Gmina Rzgów, Greater Poland Voivodeship'}, {'original_entity': 'Poland', 'linked_entity': 'Gmina Rzgów, Greater Poland Voivodeship'}, {'original_entity': 'Poland', 'linked_entity': 'Gmina Rzgów, Greater Poland Voivodeship'}, {'original_entity': 'Portugal', 'linked_entity': 'Kingdom of Portugal'}, {'original_entity': 'Puerto Rico', 'linked_entity': 'Puerto Rico Police'}, {'original_entity': 'Qatar', 'linked_entity': 'Al-Arabi SC (Qatar)'}, {'original_entity': 'Rodrigues', 'linked_entity': 'Gerson Rodrigues (footballer, born 1995)'}, {'original_entity': 'Romania', 'linked_entity': 'National Liberal Party (Romania)'}, {'original_entity': 'Russian Federation', 'linked_entity': 'Annexation of Crimea by the Russian Federation'}, {'original_entity': 'Saint Vincent and Grenadines', 'linked_entity': 'Saint Vincent and the Grenadines national football team results'}, {'original_entity': 'Serbia', 'linked_entity': 'Alexander Karađorđević, Prince of Serbia'}, {'original_entity': 'Singapore', 'linked_entity': 'Marina Bay, Singapore'}, {'original_entity': 'Slovakia', 'linked_entity': 'Czech Republic–Slovakia relations'}, {'original_entity': 'South Africa', 'linked_entity': 'COVID-19 pandemic in South Africa'}, {'original_entity': 'South Africa', 'linked_entity': 'COVID-19 pandemic in South Africa'}, {'original_entity': 'South Africa', 'linked_entity': 'COVID-19 pandemic in South Africa'}, {'original_entity': 'South Africa', 'linked_entity': 'COVID-19 pandemic in South Africa'}, {'original_entity': 'Spain', 'linked_entity': 'Spain'}, {'original_entity': 'Suriname', 'linked_entity': 'List of chairmen of the National Assembly of Suriname'}, {'original_entity': 'Sweden', 'linked_entity': 'Valdemar, King of Sweden'}, {'original_entity': 'Switzerland', 'linked_entity': 'Rail transport in Switzerland'}, {'original_entity': 'Syrian Arab Republic', 'linked_entity': 'Sahrawi Arab Democratic Republic–Syria relations'}, {'original_entity': 'Thailand', 'linked_entity': 'COVID-19 pandemic in Thailand'}, {'original_entity': 'Turkmenistan', 'linked_entity': 'Turkmenistan national under-21 football team'}, {'original_entity': 'Turks and Caicos Islands', 'linked_entity': 'Turks and Caicos Islands national rugby union team'}, {'original_entity': 'Turks and Caicos Islands', 'linked_entity': 'Turks and Caicos Islands national rugby union team'}, {'original_entity': 'United States of America', 'linked_entity': 'Reform Party of the United States of America'}, {'original_entity': 'Uruguay', 'linked_entity': 'Uruguay national under-17 football team'}, {'original_entity': 'Virgin Islands (USA)', 'linked_entity': 'Saint Thomas, U.S. Virgin Islands'}]]\n",
      "Updated entities saved to /home/ec2-user/Kitana_e2e/Kitana-e2e/el_data/country/seller/2/seller_happiness.csv\n",
      "Updated entities saved to /home/ec2-user/Kitana_e2e/Kitana-e2e/el_data/country/seller/2/seller_life.csv\n",
      "Updated entities saved to /home/ec2-user/Kitana_e2e/Kitana-e2e/el_data/country/seller/2/seller_suicide.csv\n"
     ]
    },
    {
     "name": "stderr",
     "output_type": "stream",
     "text": [
      "Loading sellers: 100%|██████████| 3/3 [00:00<00:00, 31.98it/s]\n",
      "Registering sellers: 100%|██████████| 3/3 [00:00<00:00, 69.57it/s]\n"
     ]
    },
    {
     "data": {
      "image/png": "[encoded data removed]",
      "text/plain": [
       "<Figure size 1200x800 with 1 Axes>"
      ]
     },
     "metadata": {},
     "output_type": "display_data"
    },
    {
     "name": "stdout",
     "output_type": "stream",
     "text": [
      "\n",
      "Experiment Results:\n",
      "Final Accuracy: [0.0, 0.0020592136493452484, 0.28065407381793206, 0.3476843366754817, 0.42199686300898664, 0.4501598824445612, 0.47378977092043706, 0.4782746642453888, 0.48332305658278796, 0.5007556749213625, 0.5025430760307682]\n",
      "Time Taken: 0.30 seconds\n",
      "Number of Features Found: 10\n"
     ]
    }
   ],
   "source": [
    "from search_engine.experiment import ScaledExperiment\n",
    "from search_engine.config import get_config, Config, DataConfig, SearchConfig, ExperimentConfig, LoggingConfig\n",
    "from search_engine.entity_linking.el_test import DBpediaLinker, TURLExecuter, PredictionEntityConverter\n",
    "import os\n",
    "\n",
    "\n",
    "def main():\n",
    "    config = get_config()\n",
    "    # Instantiate the DBpediaLinker class\n",
    "    linker = DBpediaLinker(output_dir_base=\"el_data/country/buyer/2/\", auto_load_meta_data=True)\n",
    "    input_data = {\n",
    "        \"data/country/buyer/buyer_gini.csv\": [\"country\"]\n",
    "    }\n",
    "    percentage_list = [2]\n",
    "    if not os.path.exists(linker.output_dir_base):\n",
    "        linker.batch_link(input_data=input_data, percentage_list=percentage_list)\n",
    "\n",
    "\n",
    "    executer = TURLExecuter()\n",
    "    executer.prepare_input_file()\n",
    "    executer.run_container_evaluation()\n",
    "    buyer_predictions = executer.read_predictions()\n",
    "    \n",
    "    converter = PredictionEntityConverter(buyer_predictions, linker, \"/home/ec2-user/Kitana_e2e/Kitana-e2e/el_data/country/buyer/2/structured_data.json\")\n",
    "    print(\"converted: \", converter.get_converted())\n",
    "    converter.apply_convertion(input_data=input_data, output_dir=\"/home/ec2-user/Kitana_e2e/Kitana-e2e/el_data/country/buyer/2\")\n",
    "\n",
    "    input_data = {\n",
    "        #\"data/country/seller/seller_fifa.csv\": [\"country\"],\n",
    "        \"data/country/seller/seller_happiness.csv\": [\"country\"],\n",
    "        \"data/country/seller/seller_life.csv\": [\"country\"],\n",
    "        #\"data/country/seller/seller_pollution.csv\": [\"country\"],\n",
    "        \"data/country/seller/seller_suicide.csv\": [\"country\"]\n",
    "    }\n",
    "    percentage_list = [2,2,2]\n",
    "    linker.output_dir_base = \"el_data/country/seller/2/\"\n",
    "    if not os.path.exists(linker.output_dir_base):\n",
    "        linker.batch_link(input_data=input_data, percentage_list=percentage_list)\n",
    "\n",
    "    executer = TURLExecuter(\n",
    "        input_data=\"/home/ec2-user/Kitana_e2e/Kitana-e2e/el_data/country/seller/2/structured_data.json\",\n",
    "        host_input_dir=\"/TURL/data/kitana/country/seller/2\"\n",
    "    )\n",
    "    executer.prepare_input_file()\n",
    "    executer.run_container_evaluation()\n",
    "    seller_predictions = executer.read_predictions()\n",
    "\n",
    "    converter = PredictionEntityConverter(seller_predictions, linker, \"/home/ec2-user/Kitana_e2e/Kitana-e2e/el_data/country/seller/2/structured_data.json\")\n",
    "    print(\"converted seller: \", converter.get_converted())\n",
    "    converter.apply_convertion(input_data=input_data, output_dir=\"/home/ec2-user/Kitana_e2e/Kitana-e2e/el_data/country/seller/2/\")\n",
    "    \n",
    "    experiment = ScaledExperiment(config)\n",
    "    results = experiment.run()\n",
    "    \n",
    "    print(\"\\nExperiment Results:\")\n",
    "    print(f\"Final Accuracy: {results['accuracy']}\")\n",
    "    print(f\"Time Taken: {results['time_taken']:.2f} seconds\")\n",
    "    print(f\"Number of Features Found: {len(results['augplan'])}\")\n",
    "\n",
    "if __name__ == \"__main__\":\n",
    "    main()"
   ]
  },
  {
   "cell_type": "code",
   "execution_count": 2,
   "metadata": {},
   "outputs": [
    {
     "name": "stderr",
     "output_type": "stream",
     "text": [
      "Loading sellers: 100%|██████████| 3/3 [00:00<00:00, 31.75it/s]\n",
      "Registering sellers: 100%|██████████| 3/3 [00:00<00:00, 72.32it/s]\n"
     ]
    },
    {
     "data": {
      "image/png": "[encoded data removed]",
      "text/plain": [
       "<Figure size 1200x800 with 1 Axes>"
      ]
     },
     "metadata": {},
     "output_type": "display_data"
    },
    {
     "name": "stderr",
     "output_type": "stream",
     "text": [
      "Loading sellers: 100%|██████████| 3/3 [00:00<00:00, 31.72it/s]\n",
      "Registering sellers: 100%|██████████| 3/3 [00:00<00:00, 72.88it/s]\n"
     ]
    },
    {
     "data": {
      "image/png": "[encoded data removed]",
      "text/plain": [
       "<Figure size 1200x800 with 1 Axes>"
      ]
     },
     "metadata": {},
     "output_type": "display_data"
    },
    {
     "name": "stdout",
     "output_type": "stream",
     "text": [
      "[{'augplan': [(1, 1, 'seller_life', 'country_seller_life_year'), (0, 2, 'seller_happiness', 'country_seller_happiness_SD of Ladder'), (1, 3, 'seller_life', 'country_seller_life_ HIV/AIDS'), (0, 4, 'seller_happiness', 'country_seller_happiness_Positive affect'), (1, 5, 'seller_life', 'country_seller_life_percentage expenditure'), (0, 6, 'seller_happiness', 'country_seller_happiness_Generosity'), (2, 7, 'seller_suicide', 'country_seller_suicide_year'), (0, 8, 'seller_happiness', 'country_seller_happiness_Ladder'), (0, 9, 'seller_happiness', 'country_seller_happiness_Negative affect'), (1, 10, 'seller_life', 'country_seller_life_infant deaths')], 'accuracy': [0.0, 0.0020592136493452484, 0.28065407381793206, 0.3476843366754817, 0.42199686300898664, 0.4501598824445612, 0.47378977092043706, 0.4782746642453888, 0.48332305658278796, 0.5007556749213625, 0.5025430760307682], 'time_taken': 0.3034951686859131}, {'augplan': [(1, 1, 'seller_life', 'country_seller_life_year'), (0, 2, 'seller_happiness', 'country_seller_happiness_SD of Ladder'), (1, 3, 'seller_life', 'country_seller_life_ HIV/AIDS'), (0, 4, 'seller_happiness', 'country_seller_happiness_Positive affect'), (1, 5, 'seller_life', 'country_seller_life_percentage expenditure'), (0, 6, 'seller_happiness', 'country_seller_happiness_Generosity'), (2, 7, 'seller_suicide', 'country_seller_suicide_year'), (0, 8, 'seller_happiness', 'country_seller_happiness_Ladder'), (0, 9, 'seller_happiness', 'country_seller_happiness_Negative affect'), (1, 10, 'seller_life', 'country_seller_life_infant deaths')], 'accuracy': [0.0, 0.0020592136493452484, 0.28065407381793206, 0.3476843366754817, 0.42199686300898664, 0.4501598824445612, 0.47378977092043706, 0.4782746642453888, 0.48332305658278796, 0.5007556749213625, 0.5025430760307682], 'time_taken': 0.3034951686859131}]\n"
     ]
    }
   ],
   "source": [
    "from search_engine.utils.plot_utils import plot_whiskers\n",
    "from search_engine.config import get_config, Config, DataConfig, SearchConfig, ExperimentConfig, LoggingConfig\n",
    "\n",
    "def run_multiple_experiment():\n",
    "    config1 = Config(\n",
    "        search=SearchConfig(iterations=10),\n",
    "        data=DataConfig(\n",
    "            directory_path='data/country/seller',\n",
    "            buyer_csv='data/country/buyer/buyer_gini.csv',\n",
    "            join_keys=[['country']],\n",
    "            target_feature='value',\n",
    "            one_target_feature=False,\n",
    "            need_to_clean_data=True\n",
    "        ),\n",
    "        experiment=ExperimentConfig(\n",
    "            plot_results=True,\n",
    "            results_dir='results/'\n",
    "        ),\n",
    "        logging=LoggingConfig(\n",
    "            level='ERROR',\n",
    "            file='logs/experiment.log'\n",
    "        )\n",
    "    )\n",
    "\n",
    "    config2 = Config(\n",
    "        search=SearchConfig(iterations=12),\n",
    "        data=DataConfig(\n",
    "            directory_path='el_data/country/seller/2',\n",
    "            buyer_csv='el_data/country/buyer/2/buyer_gini.csv',\n",
    "            join_keys=[['country']],\n",
    "            target_feature='value',\n",
    "            one_target_feature=False,\n",
    "            need_to_clean_data=True\n",
    "        ),\n",
    "        experiment=ExperimentConfig(\n",
    "            plot_results=True,\n",
    "            results_dir='results/'\n",
    "        ),\n",
    "        logging=LoggingConfig(\n",
    "            level='ERROR',\n",
    "            file='logs/experiment.log'\n",
    "        )\n",
    "    )\n",
    "    experiments = [\n",
    "        (\"origin-experiment\", config1),\n",
    "        (\"TURL-experiment\", config2)\n",
    "    ]\n",
    "    origin_experiment = ScaledExperiment(experiments[0][1])\n",
    "    turl_experiment = ScaledExperiment(experiments[1][1])\n",
    "    \n",
    "    origin_experiment_result = origin_experiment.run()\n",
    "    turl_experiment_result = turl_experiment.run()\n",
    "\n",
    "    return [origin_experiment_result,origin_experiment_result]\n",
    "\n",
    "print(run_multiple_experiment())"
   ]
  },
  {
   "cell_type": "code",
   "execution_count": 7,
   "metadata": {},
   "outputs": [
    {
     "name": "stderr",
     "output_type": "stream",
     "text": [
      "Loading sellers: 100%|██████████| 3/3 [00:00<00:00, 31.94it/s]\n",
      "Registering sellers: 100%|██████████| 3/3 [00:00<00:00, 72.72it/s]\n"
     ]
    },
    {
     "data": {
      "image/png": "[encoded data removed]",
      "text/plain": [
       "<Figure size 1200x800 with 1 Axes>"
      ]
     },
     "metadata": {},
     "output_type": "display_data"
    },
    {
     "name": "stderr",
     "output_type": "stream",
     "text": [
      "Loading sellers: 100%|██████████| 3/3 [00:00<00:00, 31.86it/s]\n",
      "Registering sellers: 100%|██████████| 3/3 [00:00<00:00, 69.53it/s]\n"
     ]
    },
    {
     "data": {
      "image/png": "[encoded data removed]",
      "text/plain": [
       "<Figure size 1200x800 with 1 Axes>"
      ]
     },
     "metadata": {},
     "output_type": "display_data"
    },
    {
     "name": "stderr",
     "output_type": "stream",
     "text": [
      "Loading sellers:   0%|          | 0/7 [00:00<?, ?it/s]"
     ]
    },
    {
     "name": "stdout",
     "output_type": "stream",
     "text": [
      "Seller: countries of the world's join key: Country does not have any intersection with the buyer's join key\n",
      "Seller: countries of the world does not have the corresponding join keys\n",
      "Seller: country-wise-average's join key: Country does not have any intersection with the buyer's join key\n",
      "Seller: country-wise-average does not have the corresponding join keys\n"
     ]
    },
    {
     "name": "stderr",
     "output_type": "stream",
     "text": [
      "Loading sellers: 100%|██████████| 7/7 [00:00<00:00, 11.10it/s]\n",
      "Registering sellers: 100%|██████████| 5/5 [00:00<00:00, 59.83it/s]\n"
     ]
    },
    {
     "data": {
      "image/png": "[encoded data removed]",
      "text/plain": [
       "<Figure size 1200x800 with 1 Axes>"
      ]
     },
     "metadata": {},
     "output_type": "display_data"
    },
    {
     "data": {
      "image/png": "[encoded data removed]",
      "text/plain": [
       "<Figure size 800x600 with 1 Axes>"
      ]
     },
     "metadata": {},
     "output_type": "display_data"
    },
    {
     "name": "stdout",
     "output_type": "stream",
     "text": [
      "[{'augplan': [(1, 1, 'seller_life', 'country_seller_life_year'), (0, 2, 'seller_happiness', 'country_seller_happiness_SD of Ladder'), (1, 3, 'seller_life', 'country_seller_life_ HIV/AIDS'), (0, 4, 'seller_happiness', 'country_seller_happiness_Positive affect'), (1, 5, 'seller_life', 'country_seller_life_percentage expenditure'), (0, 6, 'seller_happiness', 'country_seller_happiness_Generosity'), (2, 7, 'seller_suicide', 'country_seller_suicide_year'), (0, 8, 'seller_happiness', 'country_seller_happiness_Social support'), (1, 9, 'seller_life', 'country_seller_life_Polio'), (1, 10, 'seller_life', 'country_seller_life_Diphtheria '), (1, 11, 'seller_life', 'country_seller_life_Hepatitis B'), (1, 12, 'seller_life', 'country_seller_life_Schooling')], 'accuracy': [0.0, 0.0020592136493452484, 0.28065407381793206, 0.3476843366754817, 0.42199686300898664, 0.4501598824445612, 0.47378977092043706, 0.4782746642453888, 0.4826683507014762, 0.4844727100501338, 0.4949603044719254, 0.5113831295985223, 0.5113831296025129], 'time_taken': 0.3937852382659912}, {'augplan': [(0, 1, 'seller_happiness', 'country_seller_happiness_Log of GDP\\nper capita'), (1, 2, 'seller_life', 'country_seller_life_Alcohol'), (0, 3, 'seller_happiness', 'country_seller_happiness_Positive affect'), (0, 4, 'seller_happiness', 'country_seller_happiness_Ladder'), (0, 5, 'seller_happiness', 'country_seller_happiness_Social support'), (0, 6, 'seller_happiness', 'country_seller_happiness_Freedom'), (1, 7, 'seller_life', 'country_seller_life_under-five deaths '), (0, 8, 'seller_happiness', 'country_seller_happiness_Healthy life\\nexpectancy'), (1, 9, 'seller_life', 'country_seller_life_ BMI '), (1, 10, 'seller_life', 'country_seller_life_ thinness 5-9 years'), (0, 11, 'seller_happiness', 'country_seller_happiness_SD of Ladder'), (0, 12, 'seller_happiness', 'country_seller_happiness_Generosity')], 'accuracy': [0.0, 0.13079498707617798, 0.1341148947860593, 0.25995263641818855, 0.26184274864882895, 0.26200930728746574, 0.27123627651755544, 0.2773392384605916, 0.28678279230239523, 0.2872886383501856, 0.2912436192367073, 0.3651132924494269, 0.40129059152968016], 'time_taken': 0.3924427032470703}, {'augplan': [(2, 1, 'population_by_country_2020', 'Country_population_by_country_2020_Med. Age'), (4, 2, 'world-data-2023', 'Country_world-data-2023_Longitude'), (2, 3, 'population_by_country_2020', 'Country_population_by_country_2020_Land Area (Km²)'), (3, 4, 'who_suicide_statistics', 'Country_who_suicide_statistics_year'), (2, 5, 'population_by_country_2020', 'Country_population_by_country_2020_Fert. Rate'), (4, 6, 'world-data-2023', 'Country_world-data-2023_Physicians per thousand'), (0, 7, 'Cost_of_Living_Index_by_Country_2024', 'Country_Cost_of_Living_Index_by_Country_2024_Local Purchasing Power Index'), (4, 8, 'world-data-2023', 'Country_world-data-2023_CPI'), (4, 9, 'world-data-2023', 'Country_world-data-2023_Life expectancy'), (0, 10, 'Cost_of_Living_Index_by_Country_2024', 'Country_Cost_of_Living_Index_by_Country_2024_Restaurant Price Index'), (0, 11, 'Cost_of_Living_Index_by_Country_2024', 'Country_Cost_of_Living_Index_by_Country_2024_Groceries Index'), (4, 12, 'world-data-2023', 'Country_world-data-2023_Calling Code')], 'accuracy': [0.14783765252358982, 0.14901091152788992, 0.15942073356244402, 0.15960416510418063, 0.160559171521375, 0.1605639174136988, 0.16254856543068108, 0.16278771902469513, 0.16297823748097728, 0.16358015373767687, 0.16442188295031535, 0.16462553259231572, 0.1646375302644747], 'time_taken': 2.012402296066284}]\n"
     ]
    }
   ],
   "source": [
    "import pandas as pd\n",
    "import numpy as np\n",
    "def plot_two_experiments_results_max(\n",
    "    origin_result: dict, \n",
    "    turl_result: dict, \n",
    "    turl_10_result: dict,\n",
    "    output_fig=\"experiment_comparison.png\"\n",
    "):\n",
    "    acc1 = origin_result[\"accuracy\"]  # list\n",
    "    max_len = max(len(acc1))\n",
    "    acc1_padded = list(acc1) + [np.nan] * (max_len - len(acc1))\n",
    "\n",
    "    iterations = range(1, max_len + 1)\n",
    "    df = pd.DataFrame({\n",
    "        \"iteration\": iterations,\n",
    "        \"origin_exp\": acc1_padded,\n",
    "\n",
    "    })\n",
    "\n",
    "\n",
    "    from search_engine.utils.plot_utils import plot_whiskers\n",
    "    plot_whiskers(\n",
    "        df=df,\n",
    "        x_col=\"iteration\", \n",
    "        y_cols=[\"origin_exp\"],\n",
    "        labels=[\"Origin Exp\"],\n",
    "        colors=[\"blue\"],\n",
    "        linestyles=[\"-\"],\n",
    "        figsize=(8, 6),\n",
    "        resultname=output_fig,\n",
    "        xlabel=\"Iteration\",\n",
    "        ylabel=\"Accuracy\"\n",
    "    )\n",
    "\n",
    "    return df\n",
    "\n",
    "def run_multiple_experiment():\n",
    "    config1 = Config(\n",
    "        search=SearchConfig(iterations=12),\n",
    "        data=DataConfig(\n",
    "            directory_path='data/company_datasets/seller',\n",
    "            buyer_csv='data/company_datasets/buyer/company_employee_details.csv',\n",
    "            join_keys=[['company']],\n",
    "            target_feature='value',\n",
    "            one_target_feature=False,\n",
    "            need_to_clean_data=True\n",
    "        ),\n",
    "        experiment=ExperimentConfig(\n",
    "            plot_results=True,\n",
    "            results_dir='results/'\n",
    "        ),\n",
    "        logging=LoggingConfig(\n",
    "            level='ERROR',\n",
    "            file='logs/experiment.log'\n",
    "        )\n",
    "    )\n",
    "\n",
    "    # Run exps\n",
    "    company = ScaledExperiment(config1)\n",
    "    \n",
    "    company_experiment_result = company.run()\n",
    "\n",
    "    # Return as list\n",
    "    results_list = [company_experiment_result]\n",
    "\n",
    "    # plot\n",
    "    plot_two_experiments_results_max(\n",
    "        origin_result=company_experiment_result,\n",
    "        output_fig=\"comparison_whiskers.png\"\n",
    "    )\n",
    "\n",
    "    return results_list\n",
    "\n",
    "if __name__ == \"__main__\":\n",
    "    final_results = run_multiple_experiment()\n",
    "    print(final_results)"
   ]
  },
  {
   "cell_type": "code",
   "execution_count": 3,
   "metadata": {},
   "outputs": [
    {
     "name": "stdout",
     "output_type": "stream",
     "text": [
      "{'data/country_extend/seller/Cost_of_Living_Index_by_Country_2024.csv': ['country'], 'data/country_extend/seller/countries of the world.csv': ['country'], 'data/country_extend/seller/country_vaccinations.csv': ['country'], 'data/country_extend/seller/country_wise_latest.csv': ['country'], 'data/country_extend/seller/country-wise-average.csv': ['country'], 'data/country_extend/seller/Country.csv': ['country'], 'data/country_extend/seller/fifa_ranking.csv': ['country'], 'data/country_extend/seller/Final.csv': ['country'], 'data/country_extend/seller/GCB2022v27_MtCO2_flat.csv': ['country'], 'data/country_extend/seller/global air pollution dataset.csv': ['country'], 'data/country_extend/seller/global-data-on-sustainable-energy (1).csv': ['country'], 'data/country_extend/seller/GlobalWeatherRepository.csv': ['country'], 'data/country_extend/seller/Life Expectancy Data.csv': ['country'], 'data/country_extend/seller/Petrol Dataset June 20 2022.csv': ['country'], 'data/country_extend/seller/population_by_country_2020.csv': ['country'], 'data/country_extend/seller/raw_data.csv': ['country'], 'data/country_extend/seller/wfp_market_food_prices.csv': ['country'], 'data/country_extend/seller/who_suicide_statistics.csv': ['country'], 'data/country_extend/seller/world-data-2023.csv': ['country'], 'data/country_extend/seller/world-happiness-report-2019.csv': ['country'], 'data/country_extend/seller/world-happiness-report-2021.csv': ['country']}\n",
      "21\n"
     ]
    }
   ],
   "source": [
    "def build_input_data(folder_path: str, columns: list) -> dict:\n",
    "    input_data = {}\n",
    "    for file in os.listdir(folder_path):\n",
    "        if file.endswith(\".csv\"):\n",
    "            csv_path = os.path.join(folder_path, file)\n",
    "            input_data[csv_path] = columns\n",
    "    return input_data\n",
    "\n",
    "print(build_input_data(\"data/country_extend/seller\", [\"country\"]))\n",
    "print(len(build_input_data(\"data/country_extend/seller\", [\"country\"])))"
   ]
  },
  {
   "cell_type": "code",
   "execution_count": 4,
   "metadata": {},
   "outputs": [
    {
     "name": "stdout",
     "output_type": "stream",
     "text": [
      "Error reading master.csv: name 'pd' is not defined\n"
     ]
    }
   ],
   "source": [
    "def print_csv_head(folder_path: str, num_rows: int = 5):\n",
    "\n",
    "    for file in os.listdir(folder_path):\n",
    "        if file.endswith(\".csv\"):\n",
    "            file_path = os.path.join(folder_path, file)\n",
    "            try:\n",
    "                df = pd.read_csv(file_path)\n",
    "                print(f\"\\n===== {file} (First {num_rows} rows) =====\")\n",
    "                print(df.head(num_rows))\n",
    "            except Exception as e:\n",
    "                print(f\"Error reading {file}: {e}\")\n",
    "\n",
    "print_csv_head(\"data/country_extend/buyer\")"
   ]
  },
  {
   "cell_type": "code",
   "execution_count": 7,
   "metadata": {},
   "outputs": [
    {
     "name": "stdout",
     "output_type": "stream",
     "text": [
      "Length of the list: 8\n"
     ]
    }
   ],
   "source": [
    "import json\n",
    "\n",
    "def print_json_length(json_file_path):\n",
    "    try:\n",
    "        with open(json_file_path, 'r', encoding='utf-8') as file:\n",
    "            data = json.load(file)\n",
    "        if isinstance(data, list):\n",
    "            print(\"Length of the list:\", len(data))\n",
    "\n",
    "    except FileNotFoundError:\n",
    "        print(\"File not found:\", json_file_path)\n",
    "    except json.JSONDecodeError:\n",
    "        print(\"Failed to decode JSON from the file.\")\n",
    "    except Exception as e:\n",
    "        print(\"An error occurred:\", str(e))\n",
    "\n",
    "def get_selected(json_file_path):\n",
    "    try:\n",
    "        with open(json_file_path, 'r', encoding='utf-8') as file:\n",
    "            data = json.load(file)\n",
    "        if isinstance(data, dict):\n",
    "            return data\n",
    "    except Exception as e:\n",
    "        print(\"An error occurred:\", str(e))\n",
    "\n",
    "print_json_length(\"/home/ec2-user/Kitana_e2e/Kitana-e2e/el_data/country_extend/seller/10/structured_data.json\")\n"
   ]
  },
  {
   "cell_type": "code",
   "execution_count": 3,
   "metadata": {},
   "outputs": [
    {
     "name": "stdout",
     "output_type": "stream",
     "text": [
      "Input file temporarily saved at /home/ec2-user/Kitana_e2e/Kitana-e2e/tmp/dev.table_entity_linking.json\n",
      "Ensuring container directory exists: docker exec c3138415edf0 bash -c mkdir -p /TURL/data/kitana/country_extend/buyer/10\n",
      "Output from creating directory: \n",
      "Error (if any): \n",
      "Copying file into container with command: docker cp /home/ec2-user/Kitana_e2e/Kitana-e2e/tmp/dev.table_entity_linking.json c3138415edf0:/TURL/data/kitana/country_extend/buyer/10/dev.table_entity_linking.json\n",
      "Output from copying file: \n",
      "Error (if any): \n",
      "File successfully copied into container and verified.\n",
      "Running command: docker exec c3138415edf0 bash -c source /root/miniconda3/etc/profile.d/conda.sh && conda activate TURL_origin && cd /TURL/ && CUDA_VISIBLE_DEVICES=0 python run_table_EL_finetuning.py --data_dir=/TURL/data/kitana/country_extend/buyer/10 --output_dir=output/EL/v2/0/model_v1_table_0.2_0.6_0.7_10000_1e-4_candnew_0_adam --model_name_or_path=output/EL/v2/0/model_v1_table_0.2_0.6_0.7_10000_1e-4_candnew_0_adam --model_type=EL --do_eval --per_gpu_eval_batch_size=10 --overwrite_output_dir --config_name=configs/table-base-config_v2.json\n",
      "try loading preprocessed data from /TURL/data/kitana/country_extend/buyer/10/procressed_EL/dev.pickle\n",
      "[8, 107, 221, 357, 459, 512, 645, 702, 805, 900]\n",
      "Container evaluation completed.\n",
      "Predictions read from /home/ec2-user/TURL/data/kitana/country_extend/buyer/10/predictions.txt\n",
      "Structured data loaded from /home/ec2-user/Kitana_e2e/Kitana-e2e/el_data/country_extend/buyer/true/10/structured_data.json\n",
      "converted seller:  [[{'original_entity': 'Antigua and Barbuda', 'linked_entity': 'Antigua and Barbuda Defence Force'}, {'original_entity': 'Austria', 'linked_entity': 'Vienna'}, {'original_entity': 'Barbados', 'linked_entity': 'Barbados–India relations'}, {'original_entity': 'Dominica', 'linked_entity': '2015–16 Dominica Premier League'}, {'original_entity': 'Estonia', 'linked_entity': 'Estonian language'}, {'original_entity': 'Israel', 'linked_entity': 'Technion – Israel Institute of Technology'}, {'original_entity': 'Jamaica', 'linked_entity': 'Germany–Jamaica relations'}, {'original_entity': 'South Africa', 'linked_entity': 'Union of South Africa'}, {'original_entity': 'Ukraine', 'linked_entity': 'City of regional significance (Ukraine)'}, {'original_entity': 'United Kingdom', 'linked_entity': 'United Kingdom'}]]\n",
      "selected:  {'data/country_extend/buyer/master.csv': ['Country']}\n",
      "in apply_convertion, the entity_mapping:  [[{'original_entity': 'Antigua and Barbuda', 'linked_entity': 'Antigua and Barbuda Defence Force'}, {'original_entity': 'Austria', 'linked_entity': 'Vienna'}, {'original_entity': 'Barbados', 'linked_entity': 'Barbados–India relations'}, {'original_entity': 'Dominica', 'linked_entity': '2015–16 Dominica Premier League'}, {'original_entity': 'Estonia', 'linked_entity': 'Estonian language'}, {'original_entity': 'Israel', 'linked_entity': 'Technion – Israel Institute of Technology'}, {'original_entity': 'Jamaica', 'linked_entity': 'Germany–Jamaica relations'}, {'original_entity': 'South Africa', 'linked_entity': 'Union of South Africa'}, {'original_entity': 'Ukraine', 'linked_entity': 'City of regional significance (Ukraine)'}, {'original_entity': 'United Kingdom', 'linked_entity': 'United Kingdom'}]]\n",
      "Updated entities saved to /home/ec2-user/Kitana_e2e/Kitana-e2e/el_data/country_extend/buyer/10/master.csv\n",
      "Input file temporarily saved at /home/ec2-user/Kitana_e2e/Kitana-e2e/tmp/dev.table_entity_linking.json\n",
      "Ensuring container directory exists: docker exec c3138415edf0 bash -c mkdir -p /TURL/data/kitana/country_extend/seller/10\n",
      "Output from creating directory: \n",
      "Error (if any): \n",
      "Copying file into container with command: docker cp /home/ec2-user/Kitana_e2e/Kitana-e2e/tmp/dev.table_entity_linking.json c3138415edf0:/TURL/data/kitana/country_extend/seller/10/dev.table_entity_linking.json\n",
      "Output from copying file: \n",
      "Error (if any): \n",
      "File successfully copied into container and verified.\n",
      "Running command: docker exec c3138415edf0 bash -c source /root/miniconda3/etc/profile.d/conda.sh && conda activate TURL_origin && cd /TURL/ && CUDA_VISIBLE_DEVICES=0 python run_table_EL_finetuning.py --data_dir=/TURL/data/kitana/country_extend/seller/10 --output_dir=output/EL/v2/0/model_v1_table_0.2_0.6_0.7_10000_1e-4_candnew_0_adam --model_name_or_path=output/EL/v2/0/model_v1_table_0.2_0.6_0.7_10000_1e-4_candnew_0_adam --model_type=EL --do_eval --per_gpu_eval_batch_size=10 --overwrite_output_dir --config_name=configs/table-base-config_v2.json\n",
      "try loading preprocessed data from /TURL/data/kitana/country_extend/seller/10/procressed_EL/dev.pickle\n",
      "[8, 107, 221, 357, 459, 512, 645, 786, 805, 900, 786, 786, 786, 786, 786, 786, 786, 786, 786, 786, 786, 786, 786, 95, 100, 238, 386, 447, 569, 624, 737, 852, 986, 1088, 1123, 439, 439, 439, 439, 439, 439, 439, 439, 439, 439, 439, 8, 117, 233, 326, 476, 564, 600, 727, 868, 962, 1092, 1138, 1286, 1361, 2026, 1533, 1616, 1769, 1800, 1942, 2029, 2128, 1485, 37, 161, 227, 333, 451, 565, 640, 565, 850, 900, 1059, 1148, 1228, 1325, 1453, 489, 489, 489, 489, 489, 489, 489, 489, 96, 932, 238, 334, 402, 531, 618, 700, 867, 918, 1074, 1122, 1245, 1337, 1477, 1568, 1681, 1494, 1494, 1494, 1494, 1494, 1494, 2026, 108, 225, 312, 498, 550, 686, 784, 828, 987, 1061, 1177, 1215, 1360, 1466, 1542, 1659, 1725, 1807, 2044, 2062, 2108, 2293, 36, 108, 271, 393, 434, 574, 612, 745, 854, 901, 1087, 1116, 1290, 1100, 1111, 1111, 1111, 1111, 1111, 1111, 1111, 1111, 1111, 18, 138, 234, 395, 1866, 569, 662, 774, 834, 916, 1089, 1145, 1258, 1372, 319, 1031, 1698, 1727, 1822, 318, 318, 318, 318]\n",
      "Container evaluation completed.\n",
      "Predictions read from /home/ec2-user/TURL/data/kitana/country_extend/seller/10/predictions.txt\n",
      "Structured data loaded from /home/ec2-user/Kitana_e2e/Kitana-e2e/el_data/country_extend/seller/10/structured_data.json\n",
      "converted seller:  [[{'original_entity': 'Austria', 'linked_entity': 'SC Austria Lustenau'}, {'original_entity': 'Bosnia and Herzegovina', 'linked_entity': 'Bosnia and Herzegovina national under-17 football team'}, {'original_entity': 'France', 'linked_entity': 'France 2'}, {'original_entity': 'Kyrgyzstan', 'linked_entity': 'List of ambassadors of the United States to Kyrgyzstan'}, {'original_entity': 'Mauritius', 'linked_entity': 'List of ambassadors of the United States to Mauritius'}, {'original_entity': 'Oman', 'linked_entity': 'Governorates of Oman'}, {'original_entity': 'Paraguay', 'linked_entity': 'LATAM Paraguay'}, {'original_entity': 'Philippines', 'linked_entity': 'Department of Science and Technology (Philippines)'}, {'original_entity': 'Russian Federation', 'linked_entity': 'Annexation of Crimea by the Russian Federation'}, {'original_entity': 'Spain', 'linked_entity': 'Spain'}], [{'original_entity': 'Iceland', 'linked_entity': 'List of ambassadors of the United Kingdom to Iceland'}, {'original_entity': 'Singapore', 'linked_entity': 'Singapore'}, {'original_entity': 'Finland', 'linked_entity': 'Swedish-speaking population of Finland'}, {'original_entity': 'Netherlands', 'linked_entity': 'Caribbean Netherlands'}, {'original_entity': 'Germany', 'linked_entity': 'Order of Merit of the Federal Republic of Germany'}, {'original_entity': 'Saudi Arabia', 'linked_entity': 'Saudi Arabia–United Arab Emirates relations'}, {'original_entity': 'Bulgaria', 'linked_entity': 'Montana, Bulgaria'}, {'original_entity': 'Fiji', 'linked_entity': 'Fiji national rugby union team'}, {'original_entity': 'Thailand', 'linked_entity': 'Malaysia–Thailand border'}, {'original_entity': 'Philippines', 'linked_entity': 'Department of Science and Technology (Philippines)'}, {'original_entity': 'Botswana', 'linked_entity': 'Ministry of Defence and Security (Botswana)'}, {'original_entity': 'Libya', 'linked_entity': 'Libya, Libya, Libya'}], [{'original_entity': 'Austria ', 'linked_entity': 'SC Austria Lustenau'}, {'original_entity': 'Belarus ', 'linked_entity': 'Belarus–Georgia relations'}, {'original_entity': \"Cote d'Ivoire \", 'linked_entity': 'Democratic Party of Ivory Coast – African Democratic Rally'}, {'original_entity': 'Cuba ', 'linked_entity': 'Republic of Cuba (1902–1959)'}, {'original_entity': 'Czech Republic ', 'linked_entity': \"Czech Republic men's national junior ice hockey team\"}, {'original_entity': 'Djibouti ', 'linked_entity': 'Addis Ababa–Djibouti Railway'}, {'original_entity': 'Equatorial Guinea ', 'linked_entity': 'Equatorial Guinea'}, {'original_entity': 'Gambia, The ', 'linked_entity': 'List of ambassadors of the United States to the Gambia'}, {'original_entity': 'Guam ', 'linked_entity': 'Guam National Guard'}, {'original_entity': 'Haiti ', 'linked_entity': 'List of ambassadors of the United States to Haiti'}, {'original_entity': 'Jersey ', 'linked_entity': 'List of county routes in Monmouth County, New Jersey'}, {'original_entity': 'Laos ', 'linked_entity': 'National University of Laos'}, {'original_entity': 'Netherlands ', 'linked_entity': 'Caribbean Netherlands'}, {'original_entity': 'Niger ', 'linked_entity': 'National Assembly (Niger)'}, {'original_entity': 'Reunion ', 'linked_entity': 'List of ambassadors of the United States to Tuvalu'}, {'original_entity': 'Saint Lucia ', 'linked_entity': 'List of ambassadors of the United States to Saint Lucia'}, {'original_entity': 'St Pierre & Miquelon ', 'linked_entity': 'Saint-Pierre, Saint Pierre and Miquelon'}, {'original_entity': 'Saudi Arabia ', 'linked_entity': 'Saudi Arabia–United Arab Emirates relations'}, {'original_entity': 'Spain ', 'linked_entity': 'Spain'}, {'original_entity': 'Sudan ', 'linked_entity': 'List of heads of state of South Sudan'}, {'original_entity': 'Tuvalu ', 'linked_entity': 'List of Tuvalu MPs, 2006–2010'}, {'original_entity': 'Virgin Islands ', 'linked_entity': 'Hassel Island, U.S. Virgin Islands'}], [{'original_entity': 'BHUTAN', 'linked_entity': 'Communist Party of Bhutan (Marxist–Leninist–Maoist)'}, {'original_entity': 'BRUNEI DARUSSALAM', 'linked_entity': 'National Football Association of Brunei Darussalam'}, {'original_entity': 'CABO VERDE', 'linked_entity': 'O dialecto crioulo de Cabo Verde'}, {'original_entity': \"COTE D'IVOIRE\", 'linked_entity': 'Democratic Party of Ivory Coast – African Democratic Rally'}, {'original_entity': \"DEMOCRATIC PEOPLE'S REP. OF KOREA (THE)\", 'linked_entity': \"Central Bank of the Democratic People's Republic of Korea\"}, {'original_entity': 'DEMOCRATIC REP. OF THE CONGO (THE)', 'linked_entity': 'Central African Republic–Democratic Republic of the Congo border'}, {'original_entity': 'GUINEA-BISSAU', 'linked_entity': \"Guinea-Bissau men's national basketball team\"}, {'original_entity': \"LAO PEOPLE'S DEMOCRATIC REP. (THE)\", 'linked_entity': 'Central African Republic–Democratic Republic of the Congo border'}, {'original_entity': 'MALAWI', 'linked_entity': 'Malawi eyebiter'}, {'original_entity': 'MALI', 'linked_entity': 'Mali'}, {'original_entity': 'MAURITIUS', 'linked_entity': 'List of ambassadors of the United States to Mauritius'}, {'original_entity': 'TOGO', 'linked_entity': 'List of ambassadors of the United States to Togo'}, {'original_entity': 'TURKEY', 'linked_entity': \"Turkey men's national volleyball team\"}, {'original_entity': 'UGANDA', 'linked_entity': 'History of Uganda (1963–1971)'}, {'original_entity': 'ZIMBABWE', 'linked_entity': 'Amazulu F.C. (Zimbabwe)'}], [{'original_entity': 'Brazil', 'linked_entity': 'Brazil v Germany (2014 FIFA World Cup)'}, {'original_entity': 'India', 'linked_entity': 'Bangladesh–India border'}, {'original_entity': 'Finland', 'linked_entity': 'Swedish-speaking population of Finland'}, {'original_entity': 'Japan', 'linked_entity': 'Prefectures of Japan'}, {'original_entity': 'Portugal', 'linked_entity': 'Kingdom of Portugal'}, {'original_entity': \"Côte d'Ivoire\", 'linked_entity': 'Democratic Party of Ivory Coast – African Democratic Rally'}, {'original_entity': 'Israel', 'linked_entity': 'Arab citizens of Israel'}, {'original_entity': 'Spain', 'linked_entity': 'Spain'}, {'original_entity': 'Argentina', 'linked_entity': 'La Rioja Province, Argentina'}, {'original_entity': 'Bangladesh', 'linked_entity': 'Bangladesh Jamaat-e-Islami'}, {'original_entity': 'Kyrgyzstan', 'linked_entity': 'Chüy, Kyrgyzstan'}, {'original_entity': 'Senegal', 'linked_entity': 'Senegalia senegal'}, {'original_entity': 'Mongolia', 'linked_entity': 'Sums of Inner Mongolia'}, {'original_entity': 'Slovenia', 'linked_entity': 'COVID-19 pandemic in Slovenia'}, {'original_entity': 'Republic of Korea', 'linked_entity': 'South Pyeongan Province (Republic of Korea)'}, {'original_entity': 'Trinidad and Tobago', 'linked_entity': 'List of heads of state of Trinidad and Tobago'}, {'original_entity': 'Suriname', 'linked_entity': 'Indo-Surinamese'}], [{'original_entity': 'India', 'linked_entity': 'India–Federated States of Micronesia relations'}, {'original_entity': 'Vietnam', 'linked_entity': 'Southeast (Vietnam)'}, {'original_entity': 'Afghanistan', 'linked_entity': 'List of military operations in the war in Afghanistan (2001–2021)'}, {'original_entity': 'Venezuela', 'linked_entity': 'States of Venezuela'}, {'original_entity': 'Sri Lanka', 'linked_entity': 'Sri Lanka Mahajana Pakshaya'}, {'original_entity': 'Malawi', 'linked_entity': 'Malawi eyebiter'}, {'original_entity': 'Netherlands', 'linked_entity': 'Caribbean Netherlands'}, {'original_entity': 'South Sudan', 'linked_entity': 'List of ambassadors of the United States to South Sudan'}, {'original_entity': 'Azerbaijan', 'linked_entity': 'Azerbaijan–Georgia relations'}, {'original_entity': 'Sweden', 'linked_entity': 'Valdemar, King of Sweden'}, {'original_entity': 'El Salvador', 'linked_entity': 'List of ambassadors of the United States to El Salvador'}, {'original_entity': 'Congo', 'linked_entity': 'List of presidents of the Republic of the Congo'}, {'original_entity': 'Costa Rica', 'linked_entity': 'COVID-19 pandemic in Costa Rica'}, {'original_entity': 'Liberia', 'linked_entity': 'List of ambassadors of the United States to Liberia'}, {'original_entity': 'Georgia', 'linked_entity': \"Georgia women's national football team\"}, {'original_entity': 'North Macedonia', 'linked_entity': 'Bosnia and Herzegovina–North Macedonia relations'}, {'original_entity': 'Estonia', 'linked_entity': 'Estonian language'}, {'original_entity': 'Timor-Leste', 'linked_entity': 'Radio-Televisão Timor Leste'}, {'original_entity': 'Comoros', 'linked_entity': 'Comoros–France relations'}, {'original_entity': 'Guam', 'linked_entity': 'Department of Education (Federated States of Micronesia)'}, {'original_entity': 'Micronesia', 'linked_entity': 'Marshall Islands–Federated States of Micronesia Maritime Boundary Treaty'}, {'original_entity': 'Wallis & Futuna', 'linked_entity': 'Futuna (Wallis and Futuna)'}, {'original_entity': 'Montserrat', 'linked_entity': 'Santa Cecília de Montserrat'}, {'original_entity': 'Australia', 'linked_entity': 'Liberal Party of Australia (Western Australian Division)'}, {'original_entity': 'Austria', 'linked_entity': 'SC Austria Lustenau'}, {'original_entity': 'British Virgin Islands', 'linked_entity': \"British Virgin Islands men's national basketball team\"}, {'original_entity': 'Jamaica', 'linked_entity': 'Diocese of Jamaica and the Cayman Islands'}, {'original_entity': 'Japan', 'linked_entity': 'Prefectures of Japan'}, {'original_entity': 'Kyrgyzstan', 'linked_entity': 'Chüy, Kyrgyzstan'}, {'original_entity': 'Mayotte', 'linked_entity': 'List of colonial and departmental heads of Mayotte'}, {'original_entity': 'Paraguay', 'linked_entity': 'LATAM Paraguay'}, {'original_entity': 'Saint Kitts and Nevis', 'linked_entity': \"Saint Kitts and Nevis men's national basketball team\"}, {'original_entity': 'Saint Pierre and Miquelon', 'linked_entity': 'Saint-Pierre, Saint Pierre and Miquelon'}, {'original_entity': 'Sweden', 'linked_entity': 'Valdemar, King of Sweden'}, {'original_entity': 'Syrian Arab Republic', 'linked_entity': 'Sahrawi Arab Democratic Republic–Syria relations'}, {'original_entity': 'Tunisia', 'linked_entity': 'French conquest of Tunisia'}, {'original_entity': 'Turkey', 'linked_entity': 'Syria'}], [{'original_entity': 'Chile', 'linked_entity': 'Santiago Province, Chile'}, {'original_entity': 'China', 'linked_entity': \"State Council of the People's Republic of China\"}, {'original_entity': 'Honduras', 'linked_entity': 'President of Honduras'}, {'original_entity': 'Iceland', 'linked_entity': 'List of ambassadors of the United Kingdom to Iceland'}, {'original_entity': 'India', 'linked_entity': 'India–Ukraine relations'}, {'original_entity': 'Italy', 'linked_entity': 'Kingdom of Italy (Holy Roman Empire)'}, {'original_entity': 'Jordan', 'linked_entity': 'COVID-19 pandemic in Jordan'}, {'original_entity': 'Kyrgyzstan', 'linked_entity': 'Chüy, Kyrgyzstan'}, {'original_entity': 'Luxembourg', 'linked_entity': 'Belgium–Luxembourg relations'}, {'original_entity': 'Malaysia', 'linked_entity': 'Malaysia Airlines'}, {'original_entity': 'Palau', 'linked_entity': 'List of islands of Palau'}, {'original_entity': 'Paraguay', 'linked_entity': 'LATAM Paraguay'}, {'original_entity': 'Poland', 'linked_entity': 'Gmina Rzgów, Greater Poland Voivodeship'}, {'original_entity': 'Saint Vincent and the Grenadines', 'linked_entity': 'Saint Vincent and the Grenadines national football team results'}, {'original_entity': 'S�����������', 'linked_entity': 'Defence of Iceland'}, {'original_entity': 'Singapore', 'linked_entity': 'Federated States of Micronesia–Palau relations'}, {'original_entity': 'Sri Lanka', 'linked_entity': 'Sri Lanka Mahajana Pakshaya'}, {'original_entity': 'Switzerland', 'linked_entity': 'Languages of Switzerland'}, {'original_entity': 'Ukraine', 'linked_entity': 'Reichskommissariat Ukraine'}], []]\n",
      "selected:  {'data/country_extend/seller/Cost_of_Living_Index_by_Country_2024.csv': ['Country'], 'data/country_extend/seller/countries of the world.csv': ['Country'], 'data/country_extend/seller/country-wise-average.csv': ['Country'], 'data/country_extend/seller/global air pollution dataset.csv': ['Country'], 'data/country_extend/seller/population_by_country_2020.csv': ['Country'], 'data/country_extend/seller/who_suicide_statistics.csv': ['Country'], 'data/country_extend/seller/world-data-2023.csv': ['Country']}\n",
      "in apply_convertion, the entity_mapping:  [[{'original_entity': 'Austria', 'linked_entity': 'SC Austria Lustenau'}, {'original_entity': 'Bosnia and Herzegovina', 'linked_entity': 'Bosnia and Herzegovina national under-17 football team'}, {'original_entity': 'France', 'linked_entity': 'France 2'}, {'original_entity': 'Kyrgyzstan', 'linked_entity': 'List of ambassadors of the United States to Kyrgyzstan'}, {'original_entity': 'Mauritius', 'linked_entity': 'List of ambassadors of the United States to Mauritius'}, {'original_entity': 'Oman', 'linked_entity': 'Governorates of Oman'}, {'original_entity': 'Paraguay', 'linked_entity': 'LATAM Paraguay'}, {'original_entity': 'Philippines', 'linked_entity': 'Department of Science and Technology (Philippines)'}, {'original_entity': 'Russian Federation', 'linked_entity': 'Annexation of Crimea by the Russian Federation'}, {'original_entity': 'Spain', 'linked_entity': 'Spain'}], [{'original_entity': 'Iceland', 'linked_entity': 'List of ambassadors of the United Kingdom to Iceland'}, {'original_entity': 'Singapore', 'linked_entity': 'Singapore'}, {'original_entity': 'Finland', 'linked_entity': 'Swedish-speaking population of Finland'}, {'original_entity': 'Netherlands', 'linked_entity': 'Caribbean Netherlands'}, {'original_entity': 'Germany', 'linked_entity': 'Order of Merit of the Federal Republic of Germany'}, {'original_entity': 'Saudi Arabia', 'linked_entity': 'Saudi Arabia–United Arab Emirates relations'}, {'original_entity': 'Bulgaria', 'linked_entity': 'Montana, Bulgaria'}, {'original_entity': 'Fiji', 'linked_entity': 'Fiji national rugby union team'}, {'original_entity': 'Thailand', 'linked_entity': 'Malaysia–Thailand border'}, {'original_entity': 'Philippines', 'linked_entity': 'Department of Science and Technology (Philippines)'}, {'original_entity': 'Botswana', 'linked_entity': 'Ministry of Defence and Security (Botswana)'}, {'original_entity': 'Libya', 'linked_entity': 'Libya, Libya, Libya'}], [{'original_entity': 'Austria ', 'linked_entity': 'SC Austria Lustenau'}, {'original_entity': 'Belarus ', 'linked_entity': 'Belarus–Georgia relations'}, {'original_entity': \"Cote d'Ivoire \", 'linked_entity': 'Democratic Party of Ivory Coast – African Democratic Rally'}, {'original_entity': 'Cuba ', 'linked_entity': 'Republic of Cuba (1902–1959)'}, {'original_entity': 'Czech Republic ', 'linked_entity': \"Czech Republic men's national junior ice hockey team\"}, {'original_entity': 'Djibouti ', 'linked_entity': 'Addis Ababa–Djibouti Railway'}, {'original_entity': 'Equatorial Guinea ', 'linked_entity': 'Equatorial Guinea'}, {'original_entity': 'Gambia, The ', 'linked_entity': 'List of ambassadors of the United States to the Gambia'}, {'original_entity': 'Guam ', 'linked_entity': 'Guam National Guard'}, {'original_entity': 'Haiti ', 'linked_entity': 'List of ambassadors of the United States to Haiti'}, {'original_entity': 'Jersey ', 'linked_entity': 'List of county routes in Monmouth County, New Jersey'}, {'original_entity': 'Laos ', 'linked_entity': 'National University of Laos'}, {'original_entity': 'Netherlands ', 'linked_entity': 'Caribbean Netherlands'}, {'original_entity': 'Niger ', 'linked_entity': 'National Assembly (Niger)'}, {'original_entity': 'Reunion ', 'linked_entity': 'List of ambassadors of the United States to Tuvalu'}, {'original_entity': 'Saint Lucia ', 'linked_entity': 'List of ambassadors of the United States to Saint Lucia'}, {'original_entity': 'St Pierre & Miquelon ', 'linked_entity': 'Saint-Pierre, Saint Pierre and Miquelon'}, {'original_entity': 'Saudi Arabia ', 'linked_entity': 'Saudi Arabia–United Arab Emirates relations'}, {'original_entity': 'Spain ', 'linked_entity': 'Spain'}, {'original_entity': 'Sudan ', 'linked_entity': 'List of heads of state of South Sudan'}, {'original_entity': 'Tuvalu ', 'linked_entity': 'List of Tuvalu MPs, 2006–2010'}, {'original_entity': 'Virgin Islands ', 'linked_entity': 'Hassel Island, U.S. Virgin Islands'}], [{'original_entity': 'BHUTAN', 'linked_entity': 'Communist Party of Bhutan (Marxist–Leninist–Maoist)'}, {'original_entity': 'BRUNEI DARUSSALAM', 'linked_entity': 'National Football Association of Brunei Darussalam'}, {'original_entity': 'CABO VERDE', 'linked_entity': 'O dialecto crioulo de Cabo Verde'}, {'original_entity': \"COTE D'IVOIRE\", 'linked_entity': 'Democratic Party of Ivory Coast – African Democratic Rally'}, {'original_entity': \"DEMOCRATIC PEOPLE'S REP. OF KOREA (THE)\", 'linked_entity': \"Central Bank of the Democratic People's Republic of Korea\"}, {'original_entity': 'DEMOCRATIC REP. OF THE CONGO (THE)', 'linked_entity': 'Central African Republic–Democratic Republic of the Congo border'}, {'original_entity': 'GUINEA-BISSAU', 'linked_entity': \"Guinea-Bissau men's national basketball team\"}, {'original_entity': \"LAO PEOPLE'S DEMOCRATIC REP. (THE)\", 'linked_entity': 'Central African Republic–Democratic Republic of the Congo border'}, {'original_entity': 'MALAWI', 'linked_entity': 'Malawi eyebiter'}, {'original_entity': 'MALI', 'linked_entity': 'Mali'}, {'original_entity': 'MAURITIUS', 'linked_entity': 'List of ambassadors of the United States to Mauritius'}, {'original_entity': 'TOGO', 'linked_entity': 'List of ambassadors of the United States to Togo'}, {'original_entity': 'TURKEY', 'linked_entity': \"Turkey men's national volleyball team\"}, {'original_entity': 'UGANDA', 'linked_entity': 'History of Uganda (1963–1971)'}, {'original_entity': 'ZIMBABWE', 'linked_entity': 'Amazulu F.C. (Zimbabwe)'}], [{'original_entity': 'Brazil', 'linked_entity': 'Brazil v Germany (2014 FIFA World Cup)'}, {'original_entity': 'India', 'linked_entity': 'Bangladesh–India border'}, {'original_entity': 'Finland', 'linked_entity': 'Swedish-speaking population of Finland'}, {'original_entity': 'Japan', 'linked_entity': 'Prefectures of Japan'}, {'original_entity': 'Portugal', 'linked_entity': 'Kingdom of Portugal'}, {'original_entity': \"Côte d'Ivoire\", 'linked_entity': 'Democratic Party of Ivory Coast – African Democratic Rally'}, {'original_entity': 'Israel', 'linked_entity': 'Arab citizens of Israel'}, {'original_entity': 'Spain', 'linked_entity': 'Spain'}, {'original_entity': 'Argentina', 'linked_entity': 'La Rioja Province, Argentina'}, {'original_entity': 'Bangladesh', 'linked_entity': 'Bangladesh Jamaat-e-Islami'}, {'original_entity': 'Kyrgyzstan', 'linked_entity': 'Chüy, Kyrgyzstan'}, {'original_entity': 'Senegal', 'linked_entity': 'Senegalia senegal'}, {'original_entity': 'Mongolia', 'linked_entity': 'Sums of Inner Mongolia'}, {'original_entity': 'Slovenia', 'linked_entity': 'COVID-19 pandemic in Slovenia'}, {'original_entity': 'Republic of Korea', 'linked_entity': 'South Pyeongan Province (Republic of Korea)'}, {'original_entity': 'Trinidad and Tobago', 'linked_entity': 'List of heads of state of Trinidad and Tobago'}, {'original_entity': 'Suriname', 'linked_entity': 'Indo-Surinamese'}], [{'original_entity': 'India', 'linked_entity': 'India–Federated States of Micronesia relations'}, {'original_entity': 'Vietnam', 'linked_entity': 'Southeast (Vietnam)'}, {'original_entity': 'Afghanistan', 'linked_entity': 'List of military operations in the war in Afghanistan (2001–2021)'}, {'original_entity': 'Venezuela', 'linked_entity': 'States of Venezuela'}, {'original_entity': 'Sri Lanka', 'linked_entity': 'Sri Lanka Mahajana Pakshaya'}, {'original_entity': 'Malawi', 'linked_entity': 'Malawi eyebiter'}, {'original_entity': 'Netherlands', 'linked_entity': 'Caribbean Netherlands'}, {'original_entity': 'South Sudan', 'linked_entity': 'List of ambassadors of the United States to South Sudan'}, {'original_entity': 'Azerbaijan', 'linked_entity': 'Azerbaijan–Georgia relations'}, {'original_entity': 'Sweden', 'linked_entity': 'Valdemar, King of Sweden'}, {'original_entity': 'El Salvador', 'linked_entity': 'List of ambassadors of the United States to El Salvador'}, {'original_entity': 'Congo', 'linked_entity': 'List of presidents of the Republic of the Congo'}, {'original_entity': 'Costa Rica', 'linked_entity': 'COVID-19 pandemic in Costa Rica'}, {'original_entity': 'Liberia', 'linked_entity': 'List of ambassadors of the United States to Liberia'}, {'original_entity': 'Georgia', 'linked_entity': \"Georgia women's national football team\"}, {'original_entity': 'North Macedonia', 'linked_entity': 'Bosnia and Herzegovina–North Macedonia relations'}, {'original_entity': 'Estonia', 'linked_entity': 'Estonian language'}, {'original_entity': 'Timor-Leste', 'linked_entity': 'Radio-Televisão Timor Leste'}, {'original_entity': 'Comoros', 'linked_entity': 'Comoros–France relations'}, {'original_entity': 'Guam', 'linked_entity': 'Department of Education (Federated States of Micronesia)'}, {'original_entity': 'Micronesia', 'linked_entity': 'Marshall Islands–Federated States of Micronesia Maritime Boundary Treaty'}, {'original_entity': 'Wallis & Futuna', 'linked_entity': 'Futuna (Wallis and Futuna)'}, {'original_entity': 'Montserrat', 'linked_entity': 'Santa Cecília de Montserrat'}, {'original_entity': 'Australia', 'linked_entity': 'Liberal Party of Australia (Western Australian Division)'}, {'original_entity': 'Austria', 'linked_entity': 'SC Austria Lustenau'}, {'original_entity': 'British Virgin Islands', 'linked_entity': \"British Virgin Islands men's national basketball team\"}, {'original_entity': 'Jamaica', 'linked_entity': 'Diocese of Jamaica and the Cayman Islands'}, {'original_entity': 'Japan', 'linked_entity': 'Prefectures of Japan'}, {'original_entity': 'Kyrgyzstan', 'linked_entity': 'Chüy, Kyrgyzstan'}, {'original_entity': 'Mayotte', 'linked_entity': 'List of colonial and departmental heads of Mayotte'}, {'original_entity': 'Paraguay', 'linked_entity': 'LATAM Paraguay'}, {'original_entity': 'Saint Kitts and Nevis', 'linked_entity': \"Saint Kitts and Nevis men's national basketball team\"}, {'original_entity': 'Saint Pierre and Miquelon', 'linked_entity': 'Saint-Pierre, Saint Pierre and Miquelon'}, {'original_entity': 'Sweden', 'linked_entity': 'Valdemar, King of Sweden'}, {'original_entity': 'Syrian Arab Republic', 'linked_entity': 'Sahrawi Arab Democratic Republic–Syria relations'}, {'original_entity': 'Tunisia', 'linked_entity': 'French conquest of Tunisia'}, {'original_entity': 'Turkey', 'linked_entity': 'Syria'}], [{'original_entity': 'Chile', 'linked_entity': 'Santiago Province, Chile'}, {'original_entity': 'China', 'linked_entity': \"State Council of the People's Republic of China\"}, {'original_entity': 'Honduras', 'linked_entity': 'President of Honduras'}, {'original_entity': 'Iceland', 'linked_entity': 'List of ambassadors of the United Kingdom to Iceland'}, {'original_entity': 'India', 'linked_entity': 'India–Ukraine relations'}, {'original_entity': 'Italy', 'linked_entity': 'Kingdom of Italy (Holy Roman Empire)'}, {'original_entity': 'Jordan', 'linked_entity': 'COVID-19 pandemic in Jordan'}, {'original_entity': 'Kyrgyzstan', 'linked_entity': 'Chüy, Kyrgyzstan'}, {'original_entity': 'Luxembourg', 'linked_entity': 'Belgium–Luxembourg relations'}, {'original_entity': 'Malaysia', 'linked_entity': 'Malaysia Airlines'}, {'original_entity': 'Palau', 'linked_entity': 'List of islands of Palau'}, {'original_entity': 'Paraguay', 'linked_entity': 'LATAM Paraguay'}, {'original_entity': 'Poland', 'linked_entity': 'Gmina Rzgów, Greater Poland Voivodeship'}, {'original_entity': 'Saint Vincent and the Grenadines', 'linked_entity': 'Saint Vincent and the Grenadines national football team results'}, {'original_entity': 'S�����������', 'linked_entity': 'Defence of Iceland'}, {'original_entity': 'Singapore', 'linked_entity': 'Federated States of Micronesia–Palau relations'}, {'original_entity': 'Sri Lanka', 'linked_entity': 'Sri Lanka Mahajana Pakshaya'}, {'original_entity': 'Switzerland', 'linked_entity': 'Languages of Switzerland'}, {'original_entity': 'Ukraine', 'linked_entity': 'Reichskommissariat Ukraine'}], []]\n",
      "Updated entities saved to /home/ec2-user/Kitana_e2e/Kitana-e2e/el_data/country_extend/seller/10/Cost_of_Living_Index_by_Country_2024.csv\n",
      "Updated entities saved to /home/ec2-user/Kitana_e2e/Kitana-e2e/el_data/country_extend/seller/10/countries of the world.csv\n",
      "Updated entities saved to /home/ec2-user/Kitana_e2e/Kitana-e2e/el_data/country_extend/seller/10/country-wise-average.csv\n",
      "Updated entities saved to /home/ec2-user/Kitana_e2e/Kitana-e2e/el_data/country_extend/seller/10/global air pollution dataset.csv\n",
      "Updated entities saved to /home/ec2-user/Kitana_e2e/Kitana-e2e/el_data/country_extend/seller/10/population_by_country_2020.csv\n",
      "Updated entities saved to /home/ec2-user/Kitana_e2e/Kitana-e2e/el_data/country_extend/seller/10/who_suicide_statistics.csv\n",
      "Updated entities saved to /home/ec2-user/Kitana_e2e/Kitana-e2e/el_data/country_extend/seller/10/world-data-2023.csv\n"
     ]
    }
   ],
   "source": [
    "from search_engine.experiment import ScaledExperiment\n",
    "from search_engine.config import get_config, Config, DataConfig, SearchConfig, ExperimentConfig, LoggingConfig\n",
    "from search_engine.entity_linking.el_test import DBpediaLinker, TURLExecuter, PredictionEntityConverter\n",
    "import os\n",
    "import json\n",
    "\n",
    "def build_input_data(folder_path: str, columns: list) -> dict:\n",
    "    input_data = {}\n",
    "    for file in os.listdir(folder_path):\n",
    "        if file.endswith(\".csv\"):\n",
    "            csv_path = os.path.join(folder_path, file)\n",
    "            input_data[csv_path] = columns\n",
    "    return input_data\n",
    "def print_json_length(json_file_path):\n",
    "    try:\n",
    "        with open(json_file_path, 'r', encoding='utf-8') as file:\n",
    "            data = json.load(file)\n",
    "        if isinstance(data, list):\n",
    "            print(\"Length of the list:\", len(data))\n",
    "\n",
    "    except FileNotFoundError:\n",
    "        print(\"File not found:\", json_file_path)\n",
    "    except json.JSONDecodeError:\n",
    "        print(\"Failed to decode JSON from the file.\")\n",
    "    except Exception as e:\n",
    "        print(\"An error occurred:\", str(e))\n",
    "\n",
    "def get_selected(json_file_path):\n",
    "    try:\n",
    "        with open(json_file_path, 'r', encoding='utf-8') as file:\n",
    "            data = json.load(file)\n",
    "        if isinstance(data, dict):\n",
    "            return data\n",
    "    except Exception as e:\n",
    "        print(\"An error occurred:\", str(e))\n",
    "def main():\n",
    "    config = get_config()\n",
    "    # Instantiate the DBpediaLinker class\n",
    "    linker = DBpediaLinker(output_dir_base=\"el_data/country_extend/buyer/true/10/\", auto_load_meta_data=True)\n",
    "    input_data = {\n",
    "        \"data/country_extend/buyer/master.csv\": [\"Country\"]\n",
    "    }\n",
    "    percentage_list = [10]\n",
    "    if not os.path.exists(linker.output_dir_base):\n",
    "        linker.batch_link(input_data=input_data, percentage_list=percentage_list)\n",
    "\n",
    "\n",
    "    executer = TURLExecuter(\n",
    "        input_data = \"/home/ec2-user/Kitana_e2e/Kitana-e2e/el_data/country_extend/buyer/true/10/structured_data.json\",\n",
    "        host_input_dir=\"/TURL/data/kitana/country_extend/buyer/10\",\n",
    "        output_path=f\"/home/ec2-user/TURL/data/kitana/country_extend/buyer/10/predictions.txt\"\n",
    "    )\n",
    "    executer.prepare_input_file()\n",
    "    executer.run_container_evaluation()\n",
    "    buyer_predictions = executer.read_predictions()\n",
    "    \n",
    "    converter = PredictionEntityConverter(buyer_predictions, linker, \"/home/ec2-user/Kitana_e2e/Kitana-e2e/el_data/country_extend/buyer/true/10/structured_data.json\")\n",
    "    print(\"converted seller: \", converter.get_converted())\n",
    "    print(\"selected: \",get_selected(\"el_data/country_extend/buyer/true/10/selected_input.json\"))\n",
    "    converter.apply_convertion(input_data=get_selected(\"el_data/country_extend/buyer/true/10/selected_input.json\"), output_dir=\"/home/ec2-user/Kitana_e2e/Kitana-e2e/el_data/country_extend/buyer/10\")\n",
    "\n",
    "    input_data = build_input_data(\"data/country_extend/seller\", [\"Country\"])\n",
    "    percentage_list = [10] * len(input_data)\n",
    "    linker.output_dir_base = \"el_data/country_extend/seller/10/\"\n",
    "    if not os.path.exists(linker.output_dir_base):\n",
    "        linker.batch_link(input_data=input_data, percentage_list=percentage_list)\n",
    "\n",
    "    executer = TURLExecuter(\n",
    "        input_data=\"/home/ec2-user/Kitana_e2e/Kitana-e2e/el_data/country_extend/seller/10/structured_data.json\",\n",
    "        host_input_dir=\"/TURL/data/kitana/country_extend/seller/10\",\n",
    "        output_path=f\"/home/ec2-user/TURL/data/kitana/country_extend/seller/10/predictions.txt\"\n",
    "    )\n",
    "    executer.prepare_input_file()\n",
    "    executer.run_container_evaluation()\n",
    "    seller_predictions = executer.read_predictions()\n",
    "\n",
    "    converter = PredictionEntityConverter(seller_predictions, linker, \"/home/ec2-user/Kitana_e2e/Kitana-e2e/el_data/country_extend/seller/10/structured_data.json\")\n",
    "    print(\"converted seller: \", converter.get_converted())\n",
    "    print(\"selected: \",get_selected(\"el_data/country_extend/seller/10/selected_input.json\"))\n",
    "    converter.apply_convertion(input_data=get_selected(\"el_data/country_extend/seller/10/selected_input.json\"), output_dir=\"/home/ec2-user/Kitana_e2e/Kitana-e2e/el_data/country_extend/seller/10/\")\n",
    "\n",
    "\n",
    "if __name__ == \"__main__\":\n",
    "    main()"
   ]
  },
  {
   "cell_type": "markdown",
   "metadata": {},
   "source": [
    "100%"
   ]
  },
  {
   "cell_type": "code",
   "execution_count": null,
   "metadata": {},
   "outputs": [
    {
     "name": "stdout",
     "output_type": "stream",
     "text": [
      "Input file temporarily saved at /home/ec2-user/Kitana_e2e/Kitana-e2e/tmp/dev.table_entity_linking.json\n",
      "Ensuring container directory exists: docker exec c3138415edf0 bash -c mkdir -p /TURL/data/kitana/country_extend/buyer/100\n",
      "Output from creating directory: \n",
      "Error (if any): \n",
      "Copying file into container with command: docker cp /home/ec2-user/Kitana_e2e/Kitana-e2e/tmp/dev.table_entity_linking.json c3138415edf0:/TURL/data/kitana/country_extend/buyer/100/dev.table_entity_linking.json\n",
      "Output from copying file: \n",
      "Error (if any): \n",
      "File successfully copied into container and verified.\n",
      "Running command: docker exec c3138415edf0 bash -c source /root/miniconda3/etc/profile.d/conda.sh && conda activate TURL_origin && cd /TURL/ && CUDA_VISIBLE_DEVICES=0 python run_table_EL_finetuning.py --data_dir=/TURL/data/kitana/country_extend/buyer/100 --output_dir=output/EL/v2/0/model_v1_table_0.2_0.6_0.7_10000_1e-4_candnew_0_adam --model_name_or_path=output/EL/v2/0/model_v1_table_0.2_0.6_0.7_10000_1e-4_candnew_0_adam --model_type=EL --do_eval --per_gpu_eval_batch_size=10 --overwrite_output_dir --config_name=configs/table-base-config_v2.json\n"
     ]
    }
   ],
   "source": [
    "from search_engine.experiment import ScaledExperiment\n",
    "from search_engine.config import get_config, Config, DataConfig, SearchConfig, ExperimentConfig, LoggingConfig\n",
    "from search_engine.entity_linking.el_test import DBpediaLinker, TURLExecuter, PredictionEntityConverter\n",
    "import os\n",
    "import json\n",
    "\n",
    "def build_input_data(folder_path: str, columns: list) -> dict:\n",
    "    input_data = {}\n",
    "    for file in os.listdir(folder_path):\n",
    "        if file.endswith(\".csv\"):\n",
    "            csv_path = os.path.join(folder_path, file)\n",
    "            input_data[csv_path] = columns\n",
    "    return input_data\n",
    "def print_json_length(json_file_path):\n",
    "    try:\n",
    "        with open(json_file_path, 'r', encoding='utf-8') as file:\n",
    "            data = json.load(file)\n",
    "        if isinstance(data, list):\n",
    "            print(\"Length of the list:\", len(data))\n",
    "\n",
    "    except FileNotFoundError:\n",
    "        print(\"File not found:\", json_file_path)\n",
    "    except json.JSONDecodeError:\n",
    "        print(\"Failed to decode JSON from the file.\")\n",
    "    except Exception as e:\n",
    "        print(\"An error occurred:\", str(e))\n",
    "\n",
    "def get_selected(json_file_path):\n",
    "    try:\n",
    "        with open(json_file_path, 'r', encoding='utf-8') as file:\n",
    "            data = json.load(file)\n",
    "        if isinstance(data, dict):\n",
    "            return data\n",
    "    except Exception as e:\n",
    "        print(\"An error occurred:\", str(e))\n",
    "def main():\n",
    "    config = get_config()\n",
    "    # Instantiate the DBpediaLinker class\n",
    "    linker = DBpediaLinker(output_dir_base=\"el_data/country_extend/buyer/100/\", auto_load_meta_data=True)\n",
    "    input_data = {\n",
    "        \"data/country_extend/buyer/master.csv\": [\"Country\"]\n",
    "    }\n",
    "    percentage_list = [100]\n",
    "    if not os.path.exists(linker.output_dir_base):\n",
    "        linker.batch_link(input_data=input_data, percentage_list=percentage_list)\n",
    "\n",
    "\n",
    "    executer = TURLExecuter(\n",
    "        input_data = \"/home/ec2-user/Kitana_e2e/Kitana-e2e/el_data/country_extend/buyer/100/structured_data.json\",\n",
    "        host_input_dir=\"/TURL/data/kitana/country_extend/buyer/100\",\n",
    "    )\n",
    "    executer.prepare_input_file()\n",
    "    executer.run_container_evaluation()\n",
    "    buyer_predictions = executer.read_predictions()\n",
    "    \n",
    "    converter = PredictionEntityConverter(buyer_predictions, linker, \"/home/ec2-user/Kitana_e2e/Kitana-e2e/el_data/country_extend/buyer/100/structured_data.json\")\n",
    "    print(\"converted seller: \", converter.get_converted())\n",
    "    print(\"selected: \",get_selected(\"el_data/country_extend/buyer/100/selected_input.json\"))\n",
    "    converter.apply_convertion(input_data=get_selected(\"el_data/country_extend/buyer/100/selected_input.json\"), output_dir=\"/home/ec2-user/Kitana_e2e/Kitana-e2e/el_data/country_extend/buyer/10\")\n",
    "\n",
    "    input_data = build_input_data(\"data/country_extend/seller\", [\"Country\"])\n",
    "    percentage_list = [100] * len(input_data)\n",
    "    linker.output_dir_base = \"el_data/country_extend/seller/100/\"\n",
    "    if not os.path.exists(linker.output_dir_base):\n",
    "        linker.batch_link(input_data=input_data, percentage_list=percentage_list)\n",
    "\n",
    "    executer = TURLExecuter(\n",
    "        input_data=\"/home/ec2-user/Kitana_e2e/Kitana-e2e/el_data/country_extend/seller/100/structured_data.json\",\n",
    "        host_input_dir=\"/TURL/data/kitana/country_extend/seller/100\"\n",
    "    )\n",
    "    executer.prepare_input_file()\n",
    "    executer.run_container_evaluation()\n",
    "    seller_predictions = executer.read_predictions()\n",
    "\n",
    "    converter = PredictionEntityConverter(seller_predictions, linker, \"/home/ec2-user/Kitana_e2e/Kitana-e2e/el_data/country_extend/seller/100/structured_data.json\")\n",
    "    print(\"converted seller: \", converter.get_converted())\n",
    "    print(\"selected: \",get_selected(\"el_data/country_extend/seller/100/selected_input.json\"))\n",
    "    converter.apply_convertion(input_data=get_selected(\"el_data/country_extend/seller/100/selected_input.json\"), output_dir=\"/home/ec2-user/Kitana_e2e/Kitana-e2e/el_data/country_extend/seller/10/\")\n",
    "\n",
    "\n",
    "if __name__ == \"__main__\":\n",
    "    main()"
   ]
  },
  {
   "cell_type": "code",
   "execution_count": 1,
   "metadata": {},
   "outputs": [
    {
     "name": "stdout",
     "output_type": "stream",
     "text": [
      "Input file temporarily saved at /home/ec2-user/Kitana_e2e/Kitana-e2e/tmp/dev.table_entity_linking.json\n",
      "Ensuring container directory exists: docker exec c3138415edf0 bash -c mkdir -p /TURL/data/kitana/country_extend/buyer/dbpedia/10\n",
      "Output from creating directory: \n",
      "Error (if any): \n",
      "Copying file into container with command: docker cp /home/ec2-user/Kitana_e2e/Kitana-e2e/tmp/dev.table_entity_linking.json c3138415edf0:/TURL/data/kitana/country_extend/buyer/dbpedia/10/dev.table_entity_linking.json\n",
      "Output from copying file: \n",
      "Error (if any): \n",
      "File successfully copied into container and verified.\n",
      "Running command: docker exec c3138415edf0 bash -c source /root/miniconda3/etc/profile.d/conda.sh && conda activate TURL_origin && cd /TURL/ && CUDA_VISIBLE_DEVICES=0 python run_table_EL_finetuning.py --data_dir=/TURL/data/kitana/country_extend/buyer/dbpedia/10 --output_dir=output/EL/v2/0/model_v1_table_0.2_0.6_0.7_10000_1e-4_candnew_0_adam --model_name_or_path=output/EL/v2/0/model_v1_table_0.2_0.6_0.7_10000_1e-4_candnew_0_adam --model_type=EL --do_eval --per_gpu_eval_batch_size=10 --overwrite_output_dir --config_name=configs/table-base-config_v2.json\n",
      "try creating preprocessed data in /TURL/data/kitana/country_extend/buyer/dbpedia/10/procressed_EL/dev.pickle\n",
      "1 dev tables\n",
      "Processing table DOC026\n",
      "Processing table DOC026\n",
      "Container evaluation completed.\n",
      "Predictions read from /home/ec2-user/TURL/predictions.txt\n",
      "Structured data loaded from /home/ec2-user/Kitana_e2e/Kitana-e2e/el_data/country_extend/buyer/dbpedia/10/structured_data.json\n",
      "converted seller:  [[{'original_entity': 'Armenia', 'linked_entity': 'Armenia'}, {'original_entity': 'Belgium', 'linked_entity': 'Belgium'}, {'original_entity': 'Chile', 'linked_entity': 'Chile'}, {'original_entity': 'El Salvador', 'linked_entity': 'El Salvador'}, {'original_entity': 'Greece', 'linked_entity': 'Greece'}, {'original_entity': 'Guyana', 'linked_entity': 'Guyana'}, {'original_entity': 'Hungary', 'linked_entity': 'Hungary'}, {'original_entity': 'Qatar', 'linked_entity': 'Qatar'}, {'original_entity': 'Slovakia', 'linked_entity': 'Slovakia'}, {'original_entity': 'Uzbekistan', 'linked_entity': 'Uzbekistan'}]]\n",
      "selected:  {'data/country_extend/buyer/master.csv': ['Country']}\n",
      "in apply_convertion, the entity_mapping:  [[{'original_entity': 'Armenia', 'linked_entity': 'Armenia'}, {'original_entity': 'Belgium', 'linked_entity': 'Belgium'}, {'original_entity': 'Chile', 'linked_entity': 'Chile'}, {'original_entity': 'El Salvador', 'linked_entity': 'El Salvador'}, {'original_entity': 'Greece', 'linked_entity': 'Greece'}, {'original_entity': 'Guyana', 'linked_entity': 'Guyana'}, {'original_entity': 'Hungary', 'linked_entity': 'Hungary'}, {'original_entity': 'Qatar', 'linked_entity': 'Qatar'}, {'original_entity': 'Slovakia', 'linked_entity': 'Slovakia'}, {'original_entity': 'Uzbekistan', 'linked_entity': 'Uzbekistan'}]]\n",
      "Updated entities saved to /home/ec2-user/Kitana_e2e/Kitana-e2e/el_data/country_extend/buyer/dbpedia/10/master.csv\n",
      "ent picked:  Tunisia\n",
      "ent picked:  Chile\n",
      "ent picked:  Canada\n",
      "ent picked:  Czech Republic\n",
      "ent picked:  Dominican Republic\n",
      "ent picked:  Costa Rica\n",
      "ent picked:  New Zealand\n",
      "ent picked:  Iran\n",
      "ent picked:  United Kingdom\n",
      "ent picked:  Fiji\n",
      "ent picked:  Finland\n",
      "ent picked:  Armenia\n",
      "Processing file: data/country_extend/seller/Cost_of_Living_Index_by_Country_2024.csv\n",
      "Entity link positions: [[103, 1], [62, 1], [11, 1], [43, 1], [66, 1], [32, 1], [12, 1], [107, 1], [21, 1], [74, 1], [16, 1], [57, 1]]\n",
      "Canada\n",
      "New Zealand\n",
      "Finland\n",
      "United Kingdom\n",
      "Costa Rica\n",
      "Czech Republic\n",
      "Armenia\n",
      "Chile\n",
      "Dominican Republic\n",
      "Fiji\n",
      "Tunisia\n",
      "Iran\n",
      "Data linked and saved to el_data/country_extend/seller/dbpedia/10/\n",
      "ent picked:  Fiji \n",
      "ent picked:  Romania \n",
      "ent picked:  Ukraine \n",
      "ent picked:  Malaysia \n",
      "ent picked:  Germany \n",
      "ent picked:  St Pierre & Miquelon \n",
      "ent picked:  Thailand \n",
      "ent picked:  Mongolia \n",
      "ent picked:  Kuwait \n",
      "ent picked:  Serbia \n",
      "ent picked:  Comoros \n",
      "ent picked:  Cambodia \n",
      "ent picked:  Guatemala \n",
      "ent picked:  Niger \n",
      "ent picked:  Gibraltar \n",
      "ent picked:  Antigua & Barbuda \n",
      "ent picked:  Reunion \n",
      "ent picked:  British Virgin Is. \n",
      "ent picked:  Yemen \n",
      "ent picked:  Dominica \n",
      "ent picked:  Egypt \n",
      "ent picked:  Turks & Caicos Is \n",
      "Processing file: data/country_extend/seller/countries of the world.csv\n",
      "Entity link positions: [[67, 0], [168, 0], [211, 0], [126, 0], [76, 0], [174, 0], [201, 0], [139, 0], [111, 0], [181, 0], [44, 0], [34, 0], [84, 0], [151, 0], [78, 0], [7, 0], [167, 0], [28, 0], [224, 0], [56, 0], [60, 0], [208, 0]]\n",
      "Antigua & Barbuda \n",
      "British Virgin Is. \n",
      "Cambodia \n",
      "Comoros \n",
      "Dominica \n",
      "Egypt \n",
      "Fiji \n",
      "Germany \n",
      "Gibraltar \n",
      "Guatemala \n",
      "Kuwait \n",
      "Malaysia \n",
      "Mongolia \n",
      "Niger \n",
      "Reunion \n",
      "Romania \n",
      "St Pierre & Miquelon \n",
      "Serbia \n",
      "Thailand \n",
      "Turks & Caicos Is \n",
      "Ukraine \n",
      "Yemen \n",
      "Data linked and saved to el_data/country_extend/seller/dbpedia/10/\n",
      "Error processing file: data/country_extend/seller/country_vaccinations.csv. Skipping. Details: Column Country not found in the data for file: data/country_extend/seller/country_vaccinations.csv\n",
      "Error processing file: data/country_extend/seller/country_wise_latest.csv. Skipping. Details: Column Country not found in the data for file: data/country_extend/seller/country_wise_latest.csv\n",
      "ent picked:  KYRGYZSTAN\n",
      "ent picked:  SINGAPORE\n",
      "ent picked:  TRINIDAD AND TOBAGO\n",
      "ent picked:  MALDIVES\n",
      "ent picked:  SRI LANKA\n",
      "ent picked:  ARMENIA\n",
      "ent picked:  QATAR\n",
      "ent picked:  STATE OF PALESTINE\n",
      "ent picked:  CUBA\n",
      "ent picked:  ARGENTINA\n",
      "ent picked:  PANAMA\n",
      "ent picked:  SOLOMON ISLANDS\n",
      "ent picked:  MYANMAR\n",
      "ent picked:  BAHRAIN\n",
      "ent picked:  GAMBIA (THE)\n",
      "Processing file: data/country_extend/seller/country-wise-average.csv\n",
      "Entity link positions: [[72, 0], [120, 0], [135, 0], [81, 0], [125, 0], [5, 0], [107, 0], [126, 0], [36, 0], [4, 0], [101, 0], [121, 0], [91, 0], [8, 0], [51, 0]]\n",
      "ARGENTINA\n",
      "ARMENIA\n",
      "BAHRAIN\n",
      "CUBA\n",
      "GAMBIA (THE)\n",
      "KYRGYZSTAN\n",
      "MALDIVES\n",
      "MYANMAR\n",
      "PANAMA\n",
      "QATAR\n",
      "SINGAPORE\n",
      "SOLOMON ISLANDS\n",
      "SRI LANKA\n",
      "STATE OF PALESTINE\n",
      "TRINIDAD AND TOBAGO\n",
      "Data linked and saved to el_data/country_extend/seller/dbpedia/10/\n",
      "Error processing file: data/country_extend/seller/Country.csv. Skipping. Details: Column Country not found in the data for file: data/country_extend/seller/Country.csv\n",
      "Error processing file: data/country_extend/seller/fifa_ranking.csv. Skipping. Details: Column Country not found in the data for file: data/country_extend/seller/fifa_ranking.csv\n",
      "Error processing file: data/country_extend/seller/Final.csv. Skipping. Details: Column Country not found in the data for file: data/country_extend/seller/Final.csv\n",
      "Error processing file: data/country_extend/seller/GCB2022v27_MtCO2_flat.csv. Skipping. Details: 'ascii' codec can't decode byte 0xc3 in position 62121: ordinal not in range(128)\n",
      "ent picked:  Nepal\n",
      "ent picked:  Maldives\n",
      "ent picked:  Suriname\n",
      "ent picked:  Malta\n",
      "ent picked:  Liberia\n",
      "ent picked:  Georgia\n",
      "ent picked:  Uruguay\n",
      "ent picked:  Nicaragua\n",
      "ent picked:  Greece\n",
      "ent picked:  Congo\n",
      "ent picked:  Romania\n",
      "ent picked:  Central African Republic\n",
      "ent picked:  Papua New Guinea\n",
      "ent picked:  Chile\n",
      "ent picked:  Pakistan\n",
      "ent picked:  Kuwait\n",
      "ent picked:  Croatia\n",
      "Processing file: data/country_extend/seller/global air pollution dataset.csv\n",
      "Entity link positions: [[3198, 0], [15429, 0], [15151, 0], [1026, 0], [2203, 0], [3103, 0], [496, 0], [1359, 0], [411, 0], [388, 0], [27, 0], [1200, 0], [249, 0], [369, 0], [13, 0], [2926, 0], [656, 0]]\n",
      "Pakistan\n",
      "Romania\n",
      "Papua New Guinea\n",
      "Chile\n",
      "Congo\n",
      "Greece\n",
      "Uruguay\n",
      "Croatia\n",
      "Malta\n",
      "Central African Republic\n",
      "Nicaragua\n",
      "Liberia\n",
      "Kuwait\n",
      "Georgia\n",
      "Nepal\n",
      "Suriname\n",
      "Maldives\n",
      "Data linked and saved to el_data/country_extend/seller/dbpedia/10/\n",
      "Error processing file: data/country_extend/seller/global-data-on-sustainable-energy (1).csv. Skipping. Details: Column Country not found in the data for file: data/country_extend/seller/global-data-on-sustainable-energy (1).csv\n",
      "Error processing file: data/country_extend/seller/GlobalWeatherRepository.csv. Skipping. Details: 'ascii' codec can't decode byte 0xc3 in position 68298: ordinal not in range(128)\n",
      "Error processing file: data/country_extend/seller/Life Expectancy Data.csv. Skipping. Details: 'ascii' codec can't decode byte 0xc3 in position 50251: ordinal not in range(128)\n",
      "ent picked:  Czech Republic (Czechia)\n",
      "ent picked:  France\n",
      "ent picked:  Turkey\n",
      "ent picked:  United Kingdom\n",
      "ent picked:  Sierra Leone\n",
      "ent picked:  Chile\n",
      "ent picked:  Kiribati\n",
      "ent picked:  Slovakia\n",
      "ent picked:  Laos\n",
      "ent picked:  Mali\n",
      "ent picked:  Finland\n",
      "ent picked:  New Caledonia\n",
      "ent picked:  Nigeria\n",
      "ent picked:  Malta\n",
      "ent picked:  Trinidad and Tobago\n",
      "ent picked:  Togo\n",
      "ent picked:  South Korea\n",
      "ent picked:  Ecuador\n",
      "Processing file: data/country_extend/seller/Petrol Dataset June 20 2022.csv\n",
      "Entity link positions: [[52, 1], [12, 1], [20, 1], [14, 1], [158, 1], [38, 1], [177, 1], [84, 1], [141, 1], [127, 1], [62, 1], [136, 1], [34, 1], [106, 1], [93, 1], [147, 1], [7, 1], [44, 1]]\n",
      "Error processing file: data/country_extend/seller/Petrol Dataset June 20 2022.csv. Skipping. Details: 'utf-8' codec can't decode byte 0xf4 in position 5055: invalid continuation byte\n",
      "ent picked:  Guinea\n",
      "ent picked:  Saint Helena\n",
      "ent picked:  Thailand\n",
      "ent picked:  Australia\n",
      "ent picked:  Faeroe Islands\n",
      "ent picked:  Palau\n",
      "ent picked:  Mali\n",
      "ent picked:  Panama\n",
      "ent picked:  Austria\n",
      "ent picked:  Laos\n",
      "ent picked:  Ethiopia\n",
      "ent picked:  Philippines\n",
      "ent picked:  Peru\n",
      "ent picked:  Dominica\n",
      "ent picked:  Indonesia\n",
      "ent picked:  Guadeloupe\n",
      "ent picked:  Bosnia and Herzegovina\n",
      "ent picked:  Monaco\n",
      "ent picked:  Saint Barthelemy\n",
      "ent picked:  Croatia\n",
      "ent picked:  Mayotte\n",
      "ent picked:  Egypt\n",
      "ent picked:  Slovakia\n",
      "Processing file: data/country_extend/seller/population_by_country_2020.csv\n",
      "Entity link positions: [[74, 0], [228, 0], [19, 0], [54, 0], [211, 0], [221, 0], [59, 0], [127, 0], [96, 0], [104, 0], [11, 0], [12, 0], [42, 0], [203, 0], [3, 0], [175, 0], [134, 0], [213, 0], [227, 0], [129, 0], [185, 0], [13, 0], [117, 0]]\n",
      "Indonesia\n",
      "Ethiopia\n",
      "Philippines\n",
      "Egypt\n",
      "Thailand\n",
      "Peru\n",
      "Australia\n",
      "Mali\n",
      "Guinea\n",
      "Austria\n",
      "Laos\n",
      "Slovakia\n",
      "Panama\n",
      "Croatia\n",
      "Bosnia and Herzegovina\n",
      "Guadeloupe\n",
      "Mayotte\n",
      "Dominica\n",
      "Faeroe Islands\n",
      "Monaco\n",
      "Palau\n",
      "Saint Barthelemy\n",
      "Saint Helena\n",
      "Data linked and saved to el_data/country_extend/seller/dbpedia/10/\n",
      "Error processing file: data/country_extend/seller/raw_data.csv. Skipping. Details: Column Country not found in the data for file: data/country_extend/seller/raw_data.csv\n",
      "Error processing file: data/country_extend/seller/wfp_market_food_prices.csv. Skipping. Details: 'ascii' codec can't decode byte 0xea in position 259813: ordinal not in range(128)\n",
      "ent picked:  Czech Republic\n",
      "ent picked:  Thailand\n",
      "ent picked:  El Salvador\n",
      "ent picked:  Iraq\n",
      "ent picked:  Bolivia\n",
      "ent picked:  Reunion\n",
      "ent picked:  Brunei Darussalam\n",
      "ent picked:  Belarus\n",
      "ent picked:  Sri Lanka\n",
      "ent picked:  Puerto Rico\n",
      "ent picked:  Albania\n",
      "ent picked:  Guyana\n",
      "ent picked:  Saudi Arabia\n",
      "ent picked:  Cayman Islands\n",
      "Processing file: data/country_extend/seller/who_suicide_statistics.csv\n",
      "Entity link positions: [[10764, 0], [39312, 0], [13116, 0], [19140, 0], [6024, 0], [32148, 0], [6984, 0], [4332, 0], [37044, 0], [30708, 0], [0, 0], [17220, 0], [34716, 0], [8100, 0]]\n",
      "Albania\n",
      "Belarus\n",
      "Bolivia\n",
      "Brunei Darussalam\n",
      "Cayman Islands\n",
      "Czech Republic\n",
      "El Salvador\n",
      "Guyana\n",
      "Iraq\n",
      "Puerto Rico\n",
      "Reunion\n",
      "Saudi Arabia\n",
      "Sri Lanka\n",
      "Thailand\n",
      "Data linked and saved to el_data/country_extend/seller/dbpedia/10/\n",
      "ent picked:  Bhutan\n",
      "ent picked:  Russia\n",
      "ent picked:  Hungary\n",
      "ent picked:  Somalia\n",
      "ent picked:  Azerbaijan\n",
      "ent picked:  Antigua and Barbuda\n",
      "ent picked:  Nauru\n",
      "ent picked:  Fiji\n",
      "ent picked:  Austria\n",
      "ent picked:  Zambia\n",
      "ent picked:  Egypt\n",
      "ent picked:  Iceland\n",
      "ent picked:  Tunisia\n",
      "ent picked:  Argentina\n",
      "ent picked:  Romania\n",
      "ent picked:  Czech Republic\n",
      "ent picked:  Ethiopia\n",
      "ent picked:  Nepal\n",
      "ent picked:  Federated States of Micronesia\n",
      "Processing file: data/country_extend/seller/world-data-2023.csv\n",
      "Entity link positions: [[19, 0], [143, 0], [75, 0], [160, 0], [10, 0], [5, 0], [120, 0], [58, 0], [9, 0], [193, 0], [51, 0], [76, 0], [178, 0], [6, 0], [142, 0], [44, 0], [57, 0], [121, 0], [111, 0]]\n",
      "Antigua and Barbuda\n",
      "Argentina\n",
      "Austria\n",
      "Azerbaijan\n",
      "Bhutan\n",
      "Czech Republic\n",
      "Egypt\n",
      "Ethiopia\n",
      "Fiji\n",
      "Hungary\n",
      "Iceland\n",
      "Federated States of Micronesia\n",
      "Nauru\n",
      "Nepal\n",
      "Romania\n",
      "Russia\n",
      "Somalia\n",
      "Tunisia\n",
      "Zambia\n",
      "Data linked and saved to el_data/country_extend/seller/dbpedia/10/\n",
      "Error processing file: data/country_extend/seller/world-happiness-report-2019.csv. Skipping. Details: Column Country not found in the data for file: data/country_extend/seller/world-happiness-report-2019.csv\n",
      "Error processing file: data/country_extend/seller/world-happiness-report-2021.csv. Skipping. Details: Column Country not found in the data for file: data/country_extend/seller/world-happiness-report-2021.csv\n",
      "Data saved to el_data/country_extend/seller/dbpedia/10/structured_data.json\n",
      "Selected input data saved to el_data/country_extend/seller/dbpedia/10/selected_input.json\n",
      "Input file temporarily saved at /home/ec2-user/Kitana_e2e/Kitana-e2e/tmp/dev.table_entity_linking.json\n",
      "Ensuring container directory exists: docker exec c3138415edf0 bash -c mkdir -p /TURL/data/kitana/country_extend/seller/dbpedia/10\n",
      "Output from creating directory: \n",
      "Error (if any): \n",
      "Copying file into container with command: docker cp /home/ec2-user/Kitana_e2e/Kitana-e2e/tmp/dev.table_entity_linking.json c3138415edf0:/TURL/data/kitana/country_extend/seller/dbpedia/10/dev.table_entity_linking.json\n",
      "Output from copying file: \n",
      "Error (if any): \n",
      "File successfully copied into container and verified.\n",
      "Running command: docker exec c3138415edf0 bash -c source /root/miniconda3/etc/profile.d/conda.sh && conda activate TURL_origin && cd /TURL/ && CUDA_VISIBLE_DEVICES=0 python run_table_EL_finetuning.py --data_dir=/TURL/data/kitana/country_extend/seller/dbpedia/10 --output_dir=output/EL/v2/0/model_v1_table_0.2_0.6_0.7_10000_1e-4_candnew_0_adam --model_name_or_path=output/EL/v2/0/model_v1_table_0.2_0.6_0.7_10000_1e-4_candnew_0_adam --model_type=EL --do_eval --per_gpu_eval_batch_size=10 --overwrite_output_dir --config_name=configs/table-base-config_v2.json\n",
      "try creating preprocessed data in /TURL/data/kitana/country_extend/seller/dbpedia/10/procressed_EL/dev.pickle\n",
      "8 dev tables\n",
      "Processing table DOC026\n",
      "Processing table DOC026\n",
      "Processing table DOC005\n",
      "Processing table DOC006\n",
      "Processing table DOC009\n",
      "Processing table DOC014\n",
      "Processing table DOC019\n",
      "Processing table DOC022\n",
      "Processing table DOC023\n",
      "Container evaluation completed.\n",
      "Predictions read from /home/ec2-user/TURL/predictions.txt\n",
      "Structured data loaded from /home/ec2-user/Kitana_e2e/Kitana-e2e/el_data/country_extend/seller/dbpedia/10/structured_data.json\n",
      "converted seller:  [[{'original_entity': 'Armenia', 'linked_entity': 'Armenia'}, {'original_entity': 'Belgium', 'linked_entity': 'Belgium'}, {'original_entity': 'Chile', 'linked_entity': 'Chile'}, {'original_entity': 'El Salvador', 'linked_entity': 'El Salvador'}, {'original_entity': 'Greece', 'linked_entity': 'Greece'}, {'original_entity': 'Guyana', 'linked_entity': 'Guyana'}, {'original_entity': 'Hungary', 'linked_entity': 'Hungary'}, {'original_entity': 'Qatar', 'linked_entity': 'Qatar'}, {'original_entity': 'Slovakia', 'linked_entity': 'Slovakia'}, {'original_entity': 'Uzbekistan', 'linked_entity': 'Uzbekistan'}], [{'original_entity': 'Canada', 'linked_entity': 'Canada'}, {'original_entity': 'New Zealand', 'linked_entity': 'New Zealand'}, {'original_entity': 'Finland', 'linked_entity': 'Finland'}, {'original_entity': 'United Kingdom', 'linked_entity': 'United Kingdom'}, {'original_entity': 'Costa Rica', 'linked_entity': 'Costa Rica'}, {'original_entity': 'Czech Republic', 'linked_entity': 'Czech Republic'}, {'original_entity': 'Armenia', 'linked_entity': 'Armenia'}, {'original_entity': 'Chile', 'linked_entity': 'Chile'}, {'original_entity': 'Dominican Republic', 'linked_entity': 'Dominican Republic'}, {'original_entity': 'Fiji', 'linked_entity': 'Fiji'}, {'original_entity': 'Tunisia', 'linked_entity': 'Tunisia'}, {'original_entity': 'Iran', 'linked_entity': 'Iran'}], [{'original_entity': 'Antigua & Barbuda ', 'linked_entity': 'Antigua'}, {'original_entity': 'British Virgin Is. ', 'linked_entity': 'British Virgin Islands'}, {'original_entity': 'Cambodia ', 'linked_entity': 'Cambodia'}, {'original_entity': 'Comoros ', 'linked_entity': 'Comoros'}, {'original_entity': 'Dominica ', 'linked_entity': 'Dominica'}, {'original_entity': 'Egypt ', 'linked_entity': 'Egypt'}, {'original_entity': 'Fiji ', 'linked_entity': 'Fiji'}, {'original_entity': 'Germany ', 'linked_entity': 'Germany'}, {'original_entity': 'Gibraltar ', 'linked_entity': 'Gibraltar'}, {'original_entity': 'Guatemala ', 'linked_entity': 'Guatemala'}, {'original_entity': 'Kuwait ', 'linked_entity': 'Kuwait'}, {'original_entity': 'Malaysia ', 'linked_entity': 'Malaysia'}, {'original_entity': 'Mongolia ', 'linked_entity': 'Mongolia'}, {'original_entity': 'Niger ', 'linked_entity': 'Niger'}, {'original_entity': 'Reunion ', 'linked_entity': 'Réunion'}, {'original_entity': 'Romania ', 'linked_entity': 'Romania'}, {'original_entity': 'St Pierre & Miquelon ', 'linked_entity': 'Saint Pierre and Miquelon'}, {'original_entity': 'Serbia ', 'linked_entity': 'Serbia'}, {'original_entity': 'Thailand ', 'linked_entity': 'Thailand'}, {'original_entity': 'Turks & Caicos Is ', 'linked_entity': 'Turkish people'}, {'original_entity': 'Ukraine ', 'linked_entity': 'Ukraine'}, {'original_entity': 'Yemen ', 'linked_entity': 'Yemen'}], [{'original_entity': 'ARGENTINA', 'linked_entity': 'Argentina'}, {'original_entity': 'ARMENIA', 'linked_entity': 'Armenia'}, {'original_entity': 'BAHRAIN', 'linked_entity': 'Bahrain'}, {'original_entity': 'CUBA', 'linked_entity': 'Cuba'}, {'original_entity': 'GAMBIA (THE)', 'linked_entity': 'The Gambia'}, {'original_entity': 'KYRGYZSTAN', 'linked_entity': 'Kyrgyzstan'}, {'original_entity': 'MALDIVES', 'linked_entity': 'Maldives'}, {'original_entity': 'MYANMAR', 'linked_entity': 'Myanmar'}, {'original_entity': 'PANAMA', 'linked_entity': 'Panama'}, {'original_entity': 'QATAR', 'linked_entity': 'Qatar'}, {'original_entity': 'SINGAPORE', 'linked_entity': 'Singapore'}, {'original_entity': 'SOLOMON ISLANDS', 'linked_entity': 'Solomon Islands'}, {'original_entity': 'SRI LANKA', 'linked_entity': 'Sri Lanka'}, {'original_entity': 'STATE OF PALESTINE', 'linked_entity': 'State of Palestine'}, {'original_entity': 'TRINIDAD AND TOBAGO', 'linked_entity': 'Trinidad and Tobago'}], [{'original_entity': 'Pakistan', 'linked_entity': 'Pakistan'}, {'original_entity': 'Romania', 'linked_entity': 'Romania'}, {'original_entity': 'Papua New Guinea', 'linked_entity': 'Papua New Guinea'}, {'original_entity': 'Chile', 'linked_entity': 'Chile'}, {'original_entity': 'Congo', 'linked_entity': 'Atlantic–Congo languages'}, {'original_entity': 'Greece', 'linked_entity': 'Greece'}, {'original_entity': 'Uruguay', 'linked_entity': 'Uruguay'}, {'original_entity': 'Croatia', 'linked_entity': 'Croatia'}, {'original_entity': 'Malta', 'linked_entity': 'Malta'}, {'original_entity': 'Central African Republic', 'linked_entity': 'Central African Republic'}, {'original_entity': 'Nicaragua', 'linked_entity': 'Nicaragua'}, {'original_entity': 'Liberia', 'linked_entity': 'Liberia'}, {'original_entity': 'Kuwait', 'linked_entity': 'Kuwait'}, {'original_entity': 'Georgia', 'linked_entity': 'Georgia (U.S. state)'}, {'original_entity': 'Nepal', 'linked_entity': 'Nepal'}, {'original_entity': 'Suriname', 'linked_entity': 'Suriname'}, {'original_entity': 'Maldives', 'linked_entity': 'Maldives'}], [{'original_entity': 'Indonesia', 'linked_entity': 'Indonesia'}, {'original_entity': 'Ethiopia', 'linked_entity': 'Ethiopia'}, {'original_entity': 'Philippines', 'linked_entity': 'Philippines'}, {'original_entity': 'Egypt', 'linked_entity': 'Egypt'}, {'original_entity': 'Thailand', 'linked_entity': 'Thailand'}, {'original_entity': 'Peru', 'linked_entity': 'Peru'}, {'original_entity': 'Australia', 'linked_entity': 'Australia'}, {'original_entity': 'Mali', 'linked_entity': 'Mali'}, {'original_entity': 'Guinea', 'linked_entity': 'Papua New Guinea'}, {'original_entity': 'Austria', 'linked_entity': 'Austria'}, {'original_entity': 'Laos', 'linked_entity': 'Laos'}, {'original_entity': 'Slovakia', 'linked_entity': 'Slovakia'}, {'original_entity': 'Panama', 'linked_entity': 'Panama'}, {'original_entity': 'Croatia', 'linked_entity': 'Croatia'}, {'original_entity': 'Bosnia and Herzegovina', 'linked_entity': 'Bosnia and Herzegovina'}, {'original_entity': 'Guadeloupe', 'linked_entity': 'Guadeloupe'}, {'original_entity': 'Mayotte', 'linked_entity': 'Mayotte'}, {'original_entity': 'Dominica', 'linked_entity': 'Dominica'}, {'original_entity': 'Faeroe Islands', 'linked_entity': 'Faroe Islands'}, {'original_entity': 'Monaco', 'linked_entity': 'AS Monaco FC'}, {'original_entity': 'Palau', 'linked_entity': 'Palau'}, {'original_entity': 'Saint Barthelemy', 'linked_entity': 'Saint Barthélemy'}, {'original_entity': 'Saint Helena', 'linked_entity': 'Saint Helena'}, {'original_entity': 'Albania', 'linked_entity': 'Albania'}, {'original_entity': 'Belarus', 'linked_entity': 'Belarus'}, {'original_entity': 'Bolivia', 'linked_entity': 'Bolivia'}, {'original_entity': 'Brunei Darussalam', 'linked_entity': 'Brunei'}, {'original_entity': 'Cayman Islands', 'linked_entity': 'Cayman Islands'}, {'original_entity': 'Czech Republic', 'linked_entity': 'Czech Republic'}, {'original_entity': 'El Salvador', 'linked_entity': 'El Salvador'}, {'original_entity': 'Guyana', 'linked_entity': 'Guyana'}, {'original_entity': 'Iraq', 'linked_entity': 'Iraq'}, {'original_entity': 'Puerto Rico', 'linked_entity': 'Puerto Rico'}, {'original_entity': 'Reunion', 'linked_entity': 'Réunion'}, {'original_entity': 'Saudi Arabia', 'linked_entity': 'Saudi Arabia'}, {'original_entity': 'Sri Lanka', 'linked_entity': 'Sri Lanka'}, {'original_entity': 'Thailand', 'linked_entity': 'Thailand'}], [{'original_entity': 'Antigua and Barbuda', 'linked_entity': 'Antigua and Barbuda'}, {'original_entity': 'Argentina', 'linked_entity': 'Argentina'}, {'original_entity': 'Austria', 'linked_entity': 'Austria'}, {'original_entity': 'Azerbaijan', 'linked_entity': 'Azerbaijan'}, {'original_entity': 'Bhutan', 'linked_entity': 'Bhutan'}, {'original_entity': 'Czech Republic', 'linked_entity': 'Czech Republic'}, {'original_entity': 'Egypt', 'linked_entity': 'Egypt'}, {'original_entity': 'Ethiopia', 'linked_entity': 'Ethiopia'}, {'original_entity': 'Fiji', 'linked_entity': 'Fiji'}, {'original_entity': 'Hungary', 'linked_entity': 'Hungary'}, {'original_entity': 'Iceland', 'linked_entity': 'Iceland'}, {'original_entity': 'Federated States of Micronesia', 'linked_entity': 'Federated States of Micronesia'}, {'original_entity': 'Nauru', 'linked_entity': 'Nauru'}, {'original_entity': 'Nepal', 'linked_entity': 'Nepal'}, {'original_entity': 'Romania', 'linked_entity': 'Romania'}, {'original_entity': 'Russia', 'linked_entity': 'Russia'}, {'original_entity': 'Somalia', 'linked_entity': 'Somalia'}, {'original_entity': 'Tunisia', 'linked_entity': 'Tunisia'}, {'original_entity': 'Zambia', 'linked_entity': 'Zambia'}], []]\n",
      "selected:  {'data/country_extend/seller/Cost_of_Living_Index_by_Country_2024.csv': ['Country'], 'data/country_extend/seller/countries of the world.csv': ['Country'], 'data/country_extend/seller/country-wise-average.csv': ['Country'], 'data/country_extend/seller/global air pollution dataset.csv': ['Country'], 'data/country_extend/seller/population_by_country_2020.csv': ['Country'], 'data/country_extend/seller/who_suicide_statistics.csv': ['Country'], 'data/country_extend/seller/world-data-2023.csv': ['Country']}\n",
      "in apply_convertion, the entity_mapping:  [[{'original_entity': 'Armenia', 'linked_entity': 'Armenia'}, {'original_entity': 'Belgium', 'linked_entity': 'Belgium'}, {'original_entity': 'Chile', 'linked_entity': 'Chile'}, {'original_entity': 'El Salvador', 'linked_entity': 'El Salvador'}, {'original_entity': 'Greece', 'linked_entity': 'Greece'}, {'original_entity': 'Guyana', 'linked_entity': 'Guyana'}, {'original_entity': 'Hungary', 'linked_entity': 'Hungary'}, {'original_entity': 'Qatar', 'linked_entity': 'Qatar'}, {'original_entity': 'Slovakia', 'linked_entity': 'Slovakia'}, {'original_entity': 'Uzbekistan', 'linked_entity': 'Uzbekistan'}], [{'original_entity': 'Canada', 'linked_entity': 'Canada'}, {'original_entity': 'New Zealand', 'linked_entity': 'New Zealand'}, {'original_entity': 'Finland', 'linked_entity': 'Finland'}, {'original_entity': 'United Kingdom', 'linked_entity': 'United Kingdom'}, {'original_entity': 'Costa Rica', 'linked_entity': 'Costa Rica'}, {'original_entity': 'Czech Republic', 'linked_entity': 'Czech Republic'}, {'original_entity': 'Armenia', 'linked_entity': 'Armenia'}, {'original_entity': 'Chile', 'linked_entity': 'Chile'}, {'original_entity': 'Dominican Republic', 'linked_entity': 'Dominican Republic'}, {'original_entity': 'Fiji', 'linked_entity': 'Fiji'}, {'original_entity': 'Tunisia', 'linked_entity': 'Tunisia'}, {'original_entity': 'Iran', 'linked_entity': 'Iran'}], [{'original_entity': 'Antigua & Barbuda ', 'linked_entity': 'Antigua'}, {'original_entity': 'British Virgin Is. ', 'linked_entity': 'British Virgin Islands'}, {'original_entity': 'Cambodia ', 'linked_entity': 'Cambodia'}, {'original_entity': 'Comoros ', 'linked_entity': 'Comoros'}, {'original_entity': 'Dominica ', 'linked_entity': 'Dominica'}, {'original_entity': 'Egypt ', 'linked_entity': 'Egypt'}, {'original_entity': 'Fiji ', 'linked_entity': 'Fiji'}, {'original_entity': 'Germany ', 'linked_entity': 'Germany'}, {'original_entity': 'Gibraltar ', 'linked_entity': 'Gibraltar'}, {'original_entity': 'Guatemala ', 'linked_entity': 'Guatemala'}, {'original_entity': 'Kuwait ', 'linked_entity': 'Kuwait'}, {'original_entity': 'Malaysia ', 'linked_entity': 'Malaysia'}, {'original_entity': 'Mongolia ', 'linked_entity': 'Mongolia'}, {'original_entity': 'Niger ', 'linked_entity': 'Niger'}, {'original_entity': 'Reunion ', 'linked_entity': 'Réunion'}, {'original_entity': 'Romania ', 'linked_entity': 'Romania'}, {'original_entity': 'St Pierre & Miquelon ', 'linked_entity': 'Saint Pierre and Miquelon'}, {'original_entity': 'Serbia ', 'linked_entity': 'Serbia'}, {'original_entity': 'Thailand ', 'linked_entity': 'Thailand'}, {'original_entity': 'Turks & Caicos Is ', 'linked_entity': 'Turkish people'}, {'original_entity': 'Ukraine ', 'linked_entity': 'Ukraine'}, {'original_entity': 'Yemen ', 'linked_entity': 'Yemen'}], [{'original_entity': 'ARGENTINA', 'linked_entity': 'Argentina'}, {'original_entity': 'ARMENIA', 'linked_entity': 'Armenia'}, {'original_entity': 'BAHRAIN', 'linked_entity': 'Bahrain'}, {'original_entity': 'CUBA', 'linked_entity': 'Cuba'}, {'original_entity': 'GAMBIA (THE)', 'linked_entity': 'The Gambia'}, {'original_entity': 'KYRGYZSTAN', 'linked_entity': 'Kyrgyzstan'}, {'original_entity': 'MALDIVES', 'linked_entity': 'Maldives'}, {'original_entity': 'MYANMAR', 'linked_entity': 'Myanmar'}, {'original_entity': 'PANAMA', 'linked_entity': 'Panama'}, {'original_entity': 'QATAR', 'linked_entity': 'Qatar'}, {'original_entity': 'SINGAPORE', 'linked_entity': 'Singapore'}, {'original_entity': 'SOLOMON ISLANDS', 'linked_entity': 'Solomon Islands'}, {'original_entity': 'SRI LANKA', 'linked_entity': 'Sri Lanka'}, {'original_entity': 'STATE OF PALESTINE', 'linked_entity': 'State of Palestine'}, {'original_entity': 'TRINIDAD AND TOBAGO', 'linked_entity': 'Trinidad and Tobago'}], [{'original_entity': 'Pakistan', 'linked_entity': 'Pakistan'}, {'original_entity': 'Romania', 'linked_entity': 'Romania'}, {'original_entity': 'Papua New Guinea', 'linked_entity': 'Papua New Guinea'}, {'original_entity': 'Chile', 'linked_entity': 'Chile'}, {'original_entity': 'Congo', 'linked_entity': 'Atlantic–Congo languages'}, {'original_entity': 'Greece', 'linked_entity': 'Greece'}, {'original_entity': 'Uruguay', 'linked_entity': 'Uruguay'}, {'original_entity': 'Croatia', 'linked_entity': 'Croatia'}, {'original_entity': 'Malta', 'linked_entity': 'Malta'}, {'original_entity': 'Central African Republic', 'linked_entity': 'Central African Republic'}, {'original_entity': 'Nicaragua', 'linked_entity': 'Nicaragua'}, {'original_entity': 'Liberia', 'linked_entity': 'Liberia'}, {'original_entity': 'Kuwait', 'linked_entity': 'Kuwait'}, {'original_entity': 'Georgia', 'linked_entity': 'Georgia (U.S. state)'}, {'original_entity': 'Nepal', 'linked_entity': 'Nepal'}, {'original_entity': 'Suriname', 'linked_entity': 'Suriname'}, {'original_entity': 'Maldives', 'linked_entity': 'Maldives'}], [{'original_entity': 'Indonesia', 'linked_entity': 'Indonesia'}, {'original_entity': 'Ethiopia', 'linked_entity': 'Ethiopia'}, {'original_entity': 'Philippines', 'linked_entity': 'Philippines'}, {'original_entity': 'Egypt', 'linked_entity': 'Egypt'}, {'original_entity': 'Thailand', 'linked_entity': 'Thailand'}, {'original_entity': 'Peru', 'linked_entity': 'Peru'}, {'original_entity': 'Australia', 'linked_entity': 'Australia'}, {'original_entity': 'Mali', 'linked_entity': 'Mali'}, {'original_entity': 'Guinea', 'linked_entity': 'Papua New Guinea'}, {'original_entity': 'Austria', 'linked_entity': 'Austria'}, {'original_entity': 'Laos', 'linked_entity': 'Laos'}, {'original_entity': 'Slovakia', 'linked_entity': 'Slovakia'}, {'original_entity': 'Panama', 'linked_entity': 'Panama'}, {'original_entity': 'Croatia', 'linked_entity': 'Croatia'}, {'original_entity': 'Bosnia and Herzegovina', 'linked_entity': 'Bosnia and Herzegovina'}, {'original_entity': 'Guadeloupe', 'linked_entity': 'Guadeloupe'}, {'original_entity': 'Mayotte', 'linked_entity': 'Mayotte'}, {'original_entity': 'Dominica', 'linked_entity': 'Dominica'}, {'original_entity': 'Faeroe Islands', 'linked_entity': 'Faroe Islands'}, {'original_entity': 'Monaco', 'linked_entity': 'AS Monaco FC'}, {'original_entity': 'Palau', 'linked_entity': 'Palau'}, {'original_entity': 'Saint Barthelemy', 'linked_entity': 'Saint Barthélemy'}, {'original_entity': 'Saint Helena', 'linked_entity': 'Saint Helena'}, {'original_entity': 'Albania', 'linked_entity': 'Albania'}, {'original_entity': 'Belarus', 'linked_entity': 'Belarus'}, {'original_entity': 'Bolivia', 'linked_entity': 'Bolivia'}, {'original_entity': 'Brunei Darussalam', 'linked_entity': 'Brunei'}, {'original_entity': 'Cayman Islands', 'linked_entity': 'Cayman Islands'}, {'original_entity': 'Czech Republic', 'linked_entity': 'Czech Republic'}, {'original_entity': 'El Salvador', 'linked_entity': 'El Salvador'}, {'original_entity': 'Guyana', 'linked_entity': 'Guyana'}, {'original_entity': 'Iraq', 'linked_entity': 'Iraq'}, {'original_entity': 'Puerto Rico', 'linked_entity': 'Puerto Rico'}, {'original_entity': 'Reunion', 'linked_entity': 'Réunion'}, {'original_entity': 'Saudi Arabia', 'linked_entity': 'Saudi Arabia'}, {'original_entity': 'Sri Lanka', 'linked_entity': 'Sri Lanka'}, {'original_entity': 'Thailand', 'linked_entity': 'Thailand'}], [{'original_entity': 'Antigua and Barbuda', 'linked_entity': 'Antigua and Barbuda'}, {'original_entity': 'Argentina', 'linked_entity': 'Argentina'}, {'original_entity': 'Austria', 'linked_entity': 'Austria'}, {'original_entity': 'Azerbaijan', 'linked_entity': 'Azerbaijan'}, {'original_entity': 'Bhutan', 'linked_entity': 'Bhutan'}, {'original_entity': 'Czech Republic', 'linked_entity': 'Czech Republic'}, {'original_entity': 'Egypt', 'linked_entity': 'Egypt'}, {'original_entity': 'Ethiopia', 'linked_entity': 'Ethiopia'}, {'original_entity': 'Fiji', 'linked_entity': 'Fiji'}, {'original_entity': 'Hungary', 'linked_entity': 'Hungary'}, {'original_entity': 'Iceland', 'linked_entity': 'Iceland'}, {'original_entity': 'Federated States of Micronesia', 'linked_entity': 'Federated States of Micronesia'}, {'original_entity': 'Nauru', 'linked_entity': 'Nauru'}, {'original_entity': 'Nepal', 'linked_entity': 'Nepal'}, {'original_entity': 'Romania', 'linked_entity': 'Romania'}, {'original_entity': 'Russia', 'linked_entity': 'Russia'}, {'original_entity': 'Somalia', 'linked_entity': 'Somalia'}, {'original_entity': 'Tunisia', 'linked_entity': 'Tunisia'}, {'original_entity': 'Zambia', 'linked_entity': 'Zambia'}], []]\n",
      "Updated entities saved to /home/ec2-user/Kitana_e2e/Kitana-e2e/el_data/country_extend/seller/dbpedia/10/Cost_of_Living_Index_by_Country_2024.csv\n",
      "Updated entities saved to /home/ec2-user/Kitana_e2e/Kitana-e2e/el_data/country_extend/seller/dbpedia/10/countries of the world.csv\n",
      "Updated entities saved to /home/ec2-user/Kitana_e2e/Kitana-e2e/el_data/country_extend/seller/dbpedia/10/country-wise-average.csv\n",
      "Updated entities saved to /home/ec2-user/Kitana_e2e/Kitana-e2e/el_data/country_extend/seller/dbpedia/10/global air pollution dataset.csv\n",
      "Updated entities saved to /home/ec2-user/Kitana_e2e/Kitana-e2e/el_data/country_extend/seller/dbpedia/10/population_by_country_2020.csv\n",
      "Updated entities saved to /home/ec2-user/Kitana_e2e/Kitana-e2e/el_data/country_extend/seller/dbpedia/10/who_suicide_statistics.csv\n",
      "Updated entities saved to /home/ec2-user/Kitana_e2e/Kitana-e2e/el_data/country_extend/seller/dbpedia/10/world-data-2023.csv\n"
     ]
    }
   ],
   "source": [
    "from search_engine.experiment import ScaledExperiment\n",
    "from search_engine.config import get_config, Config, DataConfig, SearchConfig, ExperimentConfig, LoggingConfig\n",
    "from search_engine.entity_linking.el_test import DBpediaLinker, TURLExecuter, PredictionEntityConverter\n",
    "import os\n",
    "import json\n",
    "\n",
    "def build_input_data(folder_path: str, columns: list) -> dict:\n",
    "    input_data = {}\n",
    "    for file in os.listdir(folder_path):\n",
    "        if file.endswith(\".csv\"):\n",
    "            csv_path = os.path.join(folder_path, file)\n",
    "            input_data[csv_path] = columns\n",
    "    return input_data\n",
    "def print_json_length(json_file_path):\n",
    "    try:\n",
    "        with open(json_file_path, 'r', encoding='utf-8') as file:\n",
    "            data = json.load(file)\n",
    "        if isinstance(data, list):\n",
    "            print(\"Length of the list:\", len(data))\n",
    "\n",
    "    except FileNotFoundError:\n",
    "        print(\"File not found:\", json_file_path)\n",
    "    except json.JSONDecodeError:\n",
    "        print(\"Failed to decode JSON from the file.\")\n",
    "    except Exception as e:\n",
    "        print(\"An error occurred:\", str(e))\n",
    "\n",
    "def get_selected(json_file_path):\n",
    "    try:\n",
    "        with open(json_file_path, 'r', encoding='utf-8') as file:\n",
    "            data = json.load(file)\n",
    "        if isinstance(data, dict):\n",
    "            return data\n",
    "    except Exception as e:\n",
    "        print(\"An error occurred:\", str(e))\n",
    "def main():\n",
    "    config = get_config()\n",
    "    # Instantiate the DBpediaLinker class\n",
    "    linker = DBpediaLinker(output_dir_base=\"el_data/country_extend/buyer/dbpedia/10/\", auto_load_meta_data=True)\n",
    "    input_data = {\n",
    "        \"data/country_extend/buyer/master.csv\": [\"Country\"]\n",
    "    }\n",
    "    percentage_list = [10]\n",
    "    if not os.path.exists(linker.output_dir_base):\n",
    "        linker.batch_link(input_data=input_data, percentage_list=percentage_list)\n",
    "\n",
    "\n",
    "    executer = TURLExecuter(\n",
    "        input_data = \"/home/ec2-user/Kitana_e2e/Kitana-e2e/el_data/country_extend/buyer/dbpedia/10/structured_data.json\",\n",
    "        host_input_dir=\"/TURL/data/kitana/country_extend/buyer/dbpedia/10\",\n",
    "    )\n",
    "    executer.prepare_input_file()\n",
    "    executer.run_container_evaluation()\n",
    "    buyer_predictions = executer.read_predictions()\n",
    "    \n",
    "    converter = PredictionEntityConverter(buyer_predictions, linker, \"/home/ec2-user/Kitana_e2e/Kitana-e2e/el_data/country_extend/buyer/dbpedia/10/structured_data.json\")\n",
    "    print(\"converted seller: \", converter.get_converted(dbpedia_only=True))\n",
    "    print(\"selected: \",get_selected(\"el_data/country_extend/buyer/dbpedia/10/selected_input.json\"))\n",
    "    converter.apply_convertion(input_data=get_selected(\"el_data/country_extend/buyer/dbpedia/10/selected_input.json\"), output_dir=\"/home/ec2-user/Kitana_e2e/Kitana-e2e/el_data/country_extend/buyer/dbpedia/10\")\n",
    "\n",
    "    input_data = build_input_data(\"data/country_extend/seller\", [\"Country\"])\n",
    "    percentage_list = [10] * len(input_data)\n",
    "    linker.output_dir_base = \"el_data/country_extend/seller/dbpedia/10/\"\n",
    "    if not os.path.exists(linker.output_dir_base):\n",
    "        linker.batch_link(input_data=input_data, percentage_list=percentage_list)\n",
    "\n",
    "    executer = TURLExecuter(\n",
    "        input_data=\"/home/ec2-user/Kitana_e2e/Kitana-e2e/el_data/country_extend/seller/dbpedia/10/structured_data.json\",\n",
    "        host_input_dir=\"/TURL/data/kitana/country_extend/seller/dbpedia/10\"\n",
    "    )\n",
    "    executer.prepare_input_file()\n",
    "    executer.run_container_evaluation()\n",
    "    seller_predictions = executer.read_predictions()\n",
    "\n",
    "    converter = PredictionEntityConverter(seller_predictions, linker, \"/home/ec2-user/Kitana_e2e/Kitana-e2e/el_data/country_extend/seller/dbpedia/10/structured_data.json\")\n",
    "    print(\"converted seller: \", converter.get_converted(dbpedia_only=True))\n",
    "    print(\"selected: \",get_selected(\"el_data/country_extend/seller/dbpedia/10/selected_input.json\"))\n",
    "    converter.apply_convertion(input_data=get_selected(\"el_data/country_extend/seller/dbpedia/10/selected_input.json\"), output_dir=\"/home/ec2-user/Kitana_e2e/Kitana-e2e/el_data/country_extend/seller/dbpedia/10/\")\n",
    "\n",
    "\n",
    "if __name__ == \"__main__\":\n",
    "    main()"
   ]
  },
  {
   "cell_type": "code",
   "execution_count": 1,
   "metadata": {},
   "outputs": [
    {
     "ename": "SyntaxError",
     "evalue": "invalid syntax (3002387930.py, line 38)",
     "output_type": "error",
     "traceback": [
      "\u001b[0;36m  Cell \u001b[0;32mIn[1], line 38\u001b[0;36m\u001b[0m\n\u001b[0;31m    \"dbpedia_10_exp\": acc5_padded,\u001b[0m\n\u001b[0m    ^\u001b[0m\n\u001b[0;31mSyntaxError\u001b[0m\u001b[0;31m:\u001b[0m invalid syntax\n"
     ]
    }
   ],
   "source": [
    "import pandas as pd\n",
    "import numpy as np\n",
    "from search_engine.experiment import ScaledExperiment\n",
    "from search_engine.config import get_config, Config, DataConfig, SearchConfig, ExperimentConfig, LoggingConfig\n",
    "from search_engine.entity_linking.el_test import DBpediaLinker, TURLExecuter, PredictionEntityConverter\n",
    "import os\n",
    "def plot_two_experiments_results_max(\n",
    "    origin_result: dict, \n",
    "    dbpedia_result: dict, \n",
    "    turl_10_result: dict,\n",
    "    turl_100_top10_single_result: dict,\n",
    "    dbpedia_10_result: dict,\n",
    "    dbpedia_100_top10_single_result: dict,\n",
    "    output_fig=\"experiment_comparison.png\"\n",
    "):\n",
    "    acc1 = origin_result[\"accuracy\"]  # list\n",
    "    acc2 = dbpedia_result[\"accuracy\"]    # list\n",
    "    acc3 = turl_10_result[\"accuracy\"]\n",
    "    acc4 = turl_100_top10_single_result[\"accuracy\"]\n",
    "    acc5 = dbpedia_10_result[\"accuracy\"]\n",
    "    acc6 = dbpedia_100_top10_single_result[\"accuracy\"]\n",
    "\n",
    "    max_len = max(len(acc1), len(acc2), len(acc3), len(acc4), len(acc5), len(acc6))\n",
    "    acc1_padded = list(acc1) + [np.nan] * (max_len - len(acc1))\n",
    "    acc2_padded = list(acc2) + [np.nan] * (max_len - len(acc2))\n",
    "    acc3_padded = list(acc3) + [np.nan] * (max_len - len(acc3))\n",
    "    acc4_padded = list(acc4) + [np.nan] * (max_len - len(acc4))\n",
    "    acc5_padded = list(acc5) + [np.nan] * (max_len - len(acc5))\n",
    "    acc6_padded = list(acc6) + [np.nan] * (max_len - len(acc6))\n",
    "\n",
    "    iterations = range(1, max_len + 1)\n",
    "    df = pd.DataFrame({\n",
    "        \"iteration\": iterations,\n",
    "        \"origin_exp\": acc1_padded,\n",
    "        \"turl_top10_exp\": acc2_padded,\n",
    "        \"turl_10_exp\": acc3_padded,\n",
    "        \"turl_100_top10_single_exp\": acc4_padded,\n",
    "        \"dbpedia_10_exp\": acc5_padded,\n",
    "        \"dbpedia_100_top10_single_exp\": acc6_padded\n",
    "    })\n",
    "\n",
    "\n",
    "    from search_engine.utils.plot_utils import plot_whiskers\n",
    "    plot_whiskers(\n",
    "        df=df,\n",
    "        x_col=\"iteration\", \n",
    "        y_cols=[\"origin_exp\", \"turl_top10_exp\", \"turl_10_exp\", \"turl_100_top10_single_exp\", \"dbpedia_10_exp\", \"dbpedia_100_top10_single_exp\"],\n",
    "        labels=[\"Origin Exp\", \"turl top 10 exp\", \"TURL 10 Exp\", \"TURL 100 top 10 single Exp\", \"DBpedia 10 Exp\", \"DBpedia 100 top 10 single Exp\"],\n",
    "        colors=[\"blue\", \"red\", \"green\", \"yellow\", \"purple\", \"orange\"],\n",
    "        linestyles=[\"-\", \"-\", \"-\", \"-\", \"-\", \"-\"],\n",
    "        figsize=(8, 6),\n",
    "        resultname=output_fig,\n",
    "        xlabel=\"Iteration\",\n",
    "        ylabel=\"Accuracy\"\n",
    "    )\n",
    "\n",
    "    return df\n",
    "\n",
    "def run_multiple_experiment():\n",
    "    config1 = Config(\n",
    "        search=SearchConfig(iterations=12),\n",
    "        data=DataConfig(\n",
    "            directory_path='data/country_extend/seller',\n",
    "            buyer_csv='data/country_extend/buyer/master.csv',\n",
    "            join_keys=[['Country']],\n",
    "            target_feature='suicides/100k pop',\n",
    "            one_target_feature=False,\n",
    "            need_to_clean_data=True\n",
    "        ),\n",
    "        experiment=ExperimentConfig(\n",
    "            plot_results=True,\n",
    "            results_dir='results/'\n",
    "        ),\n",
    "        logging=LoggingConfig(\n",
    "            level='ERROR',\n",
    "            file='logs/experiment.log'\n",
    "        )\n",
    "    )\n",
    "\n",
    "    config2 = Config(\n",
    "        search=SearchConfig(iterations=12),\n",
    "        data=DataConfig(\n",
    "            directory_path='el_data/country_extend/seller/10_top10',\n",
    "            buyer_csv='el_data/country_extend/buyer/10_top10/master.csv',\n",
    "            join_keys=[['Country']],\n",
    "            target_feature='suicides/100k pop',\n",
    "            one_target_feature=False,\n",
    "            need_to_clean_data=True\n",
    "        ),\n",
    "        experiment=ExperimentConfig(\n",
    "            plot_results=True,\n",
    "            results_dir='results/'\n",
    "        ),\n",
    "        logging=LoggingConfig(\n",
    "            level='ERROR',\n",
    "            file='logs/experiment.log'\n",
    "        )\n",
    "    )\n",
    "    config3 = Config(\n",
    "        search=SearchConfig(iterations=12),\n",
    "        data=DataConfig(\n",
    "            directory_path='el_data/country_extend/seller/10',\n",
    "            buyer_csv='el_data/country_extend/buyer/10/master.csv',\n",
    "            join_keys=[['Country']],\n",
    "            target_feature='suicides/100k pop',\n",
    "            one_target_feature=False,\n",
    "            need_to_clean_data=True\n",
    "        ),\n",
    "        experiment=ExperimentConfig(\n",
    "            plot_results=True,\n",
    "            results_dir='results/'\n",
    "        ),\n",
    "        logging=LoggingConfig(\n",
    "            level='ERROR',\n",
    "            file='logs/experiment.log'\n",
    "        )\n",
    "    )\n",
    "    # 100_top10_single\n",
    "    config4 = Config(\n",
    "        search=SearchConfig(iterations=12),\n",
    "        data=DataConfig(\n",
    "            directory_path='el_data/country_extend/seller/100_top10_single',\n",
    "            buyer_csv='el_data/country_extend/buyer/100_top10_single/master.csv',\n",
    "            join_keys=[['Country']],\n",
    "            target_feature='suicides/100k pop',\n",
    "            one_target_feature=False,\n",
    "            need_to_clean_data=True\n",
    "        ),\n",
    "        experiment=ExperimentConfig(\n",
    "            plot_results=True,\n",
    "            results_dir='results/'\n",
    "        ),\n",
    "        logging=LoggingConfig(\n",
    "            level='ERROR',\n",
    "            file='logs/experiment.log'\n",
    "        )\n",
    "    )\n",
    "\n",
    "    config5 = Config(\n",
    "        search=SearchConfig(iterations=12),\n",
    "        data=DataConfig(\n",
    "            directory_path='el_data/country_extend/seller/dbpedia/10',\n",
    "            buyer_csv='el_data/country_extend/buyer/dbpedia/10/master.csv',\n",
    "            join_keys=[['Country']],\n",
    "            target_feature='suicides/100k pop',\n",
    "            one_target_feature=False,\n",
    "            need_to_clean_data=True\n",
    "        ),\n",
    "        experiment=ExperimentConfig(\n",
    "            plot_results=True,\n",
    "            results_dir='results/'\n",
    "        ),\n",
    "        logging=LoggingConfig(\n",
    "            level='ERROR',\n",
    "            file='logs/experiment.log'\n",
    "        )\n",
    "    )\n",
    "\n",
    "    config6 = Config(\n",
    "        search=SearchConfig(iterations=12),\n",
    "        data=DataConfig(\n",
    "            directory_path='el_data/country_extend/seller/100_top10_single_dbpedia',\n",
    "            buyer_csv='el_data/country_extend/buyer/100_top10_single_dbpedia/master.csv',\n",
    "            join_keys=[['Country']],\n",
    "            target_feature='suicides/100k pop',\n",
    "            one_target_feature=False,\n",
    "            need_to_clean_data=True\n",
    "        ),\n",
    "        experiment=ExperimentConfig(\n",
    "            plot_results=True,\n",
    "            results_dir='results/'\n",
    "        ),\n",
    "        logging=LoggingConfig(\n",
    "            level='ERROR',\n",
    "            file='logs/experiment.log'\n",
    "        )\n",
    "    )\n",
    "\n",
    "    # Run exps\n",
    "    origin_experiment = ScaledExperiment(config1)\n",
    "    dbpedia_experiment = ScaledExperiment(config2)\n",
    "    turl_10_experiment = ScaledExperiment(config3)\n",
    "    turl_100_top10_single_experiment = ScaledExperiment(config4)\n",
    "    dbpedia_10_experiment = ScaledExperiment(config5)\n",
    "    dbpedia_100_top10_single_experiment = ScaledExperiment(config6)\n",
    "    \n",
    "    origin_experiment_result = origin_experiment.run()\n",
    "    dbpedia_experiment_result = dbpedia_experiment.run()\n",
    "    turl_10_experiment_result = turl_10_experiment.run()\n",
    "    turl_100_top10_single_experiment_result = turl_100_top10_single_experiment.run()\n",
    "    dbpedia_10_experiment_result = dbpedia_10_experiment.run()\n",
    "    dbpedia_100_top10_single_experiment_result = dbpedia_100_top10_single_experiment.run()\n",
    "\n",
    "    # Return as list\n",
    "    results_list = [\n",
    "        origin_experiment_result, \n",
    "        dbpedia_experiment_result, \n",
    "        turl_10_experiment_result, \n",
    "        turl_100_top10_single_experiment_result,\n",
    "        dbpedia_10_experiment_result,\n",
    "        dbpedia_100_top10_single_experiment_result\n",
    "        ]\n",
    "\n",
    "    # plot\n",
    "    plot_two_experiments_results_max(\n",
    "        origin_result=origin_experiment_result,\n",
    "        dbpedia_result=dbpedia_experiment_result,\n",
    "        turl_10_result=turl_10_experiment_result,\n",
    "        turl_100_top10_single_result=turl_100_top10_single_experiment_result,\n",
    "        dbpedia_10_result=dbpedia_10_experiment_result,\n",
    "        dbpedia_100_top10_single_result=dbpedia_100_top10_single_experiment_result,\n",
    "        output_fig=\"comparison_whiskers.png\"\n",
    "    )\n",
    "\n",
    "    return results_list\n",
    "\n",
    "if __name__ == \"__main__\":\n",
    "    final_results = run_multiple_experiment()\n",
    "    print(final_results)"
   ]
  },
  {
   "cell_type": "code",
   "execution_count": 15,
   "metadata": {},
   "outputs": [],
   "source": [
    "import numpy as np\n",
    "import io\n",
    "\n",
    "data = [[ 1.7347e+01,  9.6548e+00,  9.1868e+00,  1.1384e+01,  2.6512e+00,\n",
    "          7.6461e+00,  5.6327e+00,  2.7829e+00, -1.5049e+01,  5.0605e+00,\n",
    "          1.1778e+01, -1.2660e+00,  8.7072e+00,  4.2758e-01,  8.4814e+00,\n",
    "         -1.4419e+00,  7.0221e+00,  5.7632e+00,  9.4944e+00,  1.0777e+01,\n",
    "          1.1793e+01,  6.3996e+00,  1.0436e+01,  1.6086e+01, -3.5465e+00,\n",
    "          2.3083e+00,  5.6446e+00,  1.1011e+01,  1.3027e+01, -7.0397e-01,\n",
    "          3.0255e+00,  6.5210e+00,  3.2287e-01,  8.1411e+00,  5.2202e+00,\n",
    "          4.8119e+00,  1.1400e+01,  9.1686e+00,  1.5539e+01,  4.8621e+00,\n",
    "          3.7866e+00,  1.6257e+01,  2.2873e+01,  1.3372e+01, -3.9988e+00,\n",
    "         -3.6248e+00, -5.0889e-01,  1.5068e+00,  1.3028e+01, -8.6956e+00,\n",
    "          5.0375e+00,  5.8994e+00, -1.7339e+00,  6.1659e+00,  3.7372e+00,\n",
    "          1.0319e+01,  8.7966e+00,  7.3364e-01,  6.7771e+00,  6.7141e+00,\n",
    "          1.1824e+00,  7.3982e+00,  6.5249e+00,  8.8990e+00,  6.4328e+00,\n",
    "          7.1967e+00,  1.7395e+01,  2.0805e+00,  3.4404e+00, -1.5089e+01,\n",
    "          1.3439e+01,  1.1640e+01,  1.1087e+01,  1.0510e+01,  8.5783e+00,\n",
    "         -3.5940e+00,  9.3857e+00,  7.0389e+00, -4.4702e+00,  9.8683e+00,\n",
    "          1.7776e+01,  2.4814e+00,  6.6364e+00,  4.2222e+00,  2.4771e+00,\n",
    "          4.9350e+00,  1.0073e+00,  1.3311e+01,  5.4184e+00, -1.1614e+00,\n",
    "          5.2250e+00, -9.8478e-01,  1.2900e+00,  4.9650e+00,  1.5776e+01,\n",
    "          4.0928e+00,  7.7472e+00, -1.0926e+00,  8.1433e+00,  1.0002e+01,\n",
    "         -1.9300e+01, -1.8163e+01, -2.6661e+01, -2.1616e+01, -8.6329e+00,\n",
    "         -3.1020e+01, -1.9640e+01, -1.4215e+01, -1.1269e+01, -8.9700e+00,\n",
    "         -2.8337e+01, -1.6845e+01, -4.1488e+01, -1.4067e+01, -1.3518e+01,\n",
    "         -1.0306e+01, -3.0945e+01, -2.3727e+01, -1.1648e+01, -7.4386e+00,\n",
    "         -8.6397e+00, -8.7323e+00, -1.0663e+01, -2.3333e+01, -6.9657e+00,\n",
    "         -1.9320e+01, -3.0863e+01, -2.7656e+01, -8.3146e+00, -3.5177e+00,\n",
    "         -2.8533e+01, -1.7450e+01, -3.5287e+01, -5.2506e+00, -9.5229e+00,\n",
    "         -2.5127e+01, -1.2671e+01, -1.9701e+01, -9.1669e+00, -1.5741e+01,\n",
    "         -1.2785e+01, -6.0126e+00, -1.3362e+01, -1.8719e+01, -1.4164e+01,\n",
    "         -1.6789e+01, -1.6123e+01, -2.3262e+01, -1.7198e+01, -1.2741e+01,\n",
    "         -9.2250e+00, -1.0485e+01, -2.8110e+01, -1.9520e+01, -1.6073e+01,\n",
    "         -9.5370e+00, -1.9675e+01, -2.8871e+01, -2.2370e+01, -2.2617e+01,\n",
    "         -1.0633e+01, -5.5125e+00, -2.0151e+01, -1.0389e+01, -1.5457e+01,\n",
    "         -1.0755e+01, -1.6844e+01, -1.7650e+01, -3.3065e+01, -4.0141e+01,\n",
    "         -7.8301e+00, -1.5253e+01, -2.5314e+01, -1.4548e+01, -1.0561e+01,\n",
    "         -9.9772e+00, -2.3891e+01, -1.0171e+01, -2.3303e+01, -1.0108e+01,\n",
    "         -1.6660e+01, -3.4790e+01, -7.9160e+00, -1.0168e+01, -4.7154e+00,\n",
    "         -1.2644e+01, -1.5678e+01, -8.6785e+00, -2.2417e+01,  6.3996e+00,\n",
    "         -8.4106e+00, -2.3431e+01, -5.3867e+00, -2.0690e+00, -1.0626e+01,\n",
    "         -1.2125e+01, -9.4951e+00, -6.7177e+00,  1.4369e+00, -6.4215e+00,\n",
    "         -2.0301e+01, -1.9800e+00, -2.6077e+00,  9.2411e-01, -1.9208e+01,\n",
    "         -1.8921e+01, -2.1283e+01, -1.1906e+01, -1.8847e+01, -3.7313e+00,\n",
    "         -1.2744e+01, -1.2041e+01, -3.1329e+00, -1.2817e+01, -1.8084e+01,\n",
    "         -1.3339e+00, -9.4606e+00, -1.1192e+01, -7.5781e+00, -1.7551e+01,\n",
    "         -2.7279e+01, -5.0325e+00, -1.0114e+01, -5.2946e+00, -5.1555e+00,\n",
    "         -3.3192e+00, -1.8696e+01, -1.7945e+01, -4.4075e+00, -2.6309e+00,\n",
    "         -1.8478e+01, -7.3794e+00, -7.3949e+00, -4.7910e+00, -1.4471e+01,\n",
    "         -1.7627e+00, -1.9786e+01, -2.3117e+00, -3.2661e+00, -1.3020e+01,\n",
    "         -1.5155e+01, -2.1260e+01, -1.1449e+01, -6.5482e+00, -1.3375e+01,\n",
    "         -5.0802e+00, -1.5225e+01, -1.4231e+01, -1.1004e+01, -9.4374e+00,\n",
    "         -8.4373e+00, -1.0281e+01, -1.3368e+00, -5.9164e+00, -7.4420e+00,\n",
    "         -7.1507e+00, -9.7354e+00, -8.9324e+00, -1.0347e+01, -7.1340e+00,\n",
    "         -2.0273e+00,  1.1920e+00, -1.2366e+01, -2.2638e+01, -8.0697e+00,\n",
    "         -1.0693e+01, -2.3025e+01, -6.3341e+00, -9.5036e+00, -2.5973e+00,\n",
    "         -6.0432e+00, -3.4720e+00, -1.1934e+01, -2.6592e+00, -6.9303e+00,\n",
    "         -8.5881e+00, -1.6119e+01, -5.0070e+00,  1.7268e+00, -4.3155e+01,\n",
    "         -8.6674e+00, -8.0205e+00, -1.3404e+01, -2.5958e+00, -5.3474e+00,\n",
    "         -1.3483e+01, -1.0413e+01, -8.2278e+00, -4.1261e+00, -5.9086e+00,\n",
    "         -8.7584e+00, -4.7971e+00, -1.3105e+01, -3.3402e+00, -8.8512e-01,\n",
    "         -1.3399e+01, -8.0659e+00, -1.9460e+01, -2.8099e+00, -2.1158e+00],\n",
    "        [-1.3827e+01, -1.7862e+01, -3.0335e+00, -3.0697e+00, -3.5435e+00,\n",
    "         -4.1458e+00, -1.3225e+01, -1.7189e+01, -2.4785e+01, -3.3484e+00,\n",
    "         -1.1720e+01, -1.3723e+01, -4.7888e+00, -1.8513e+01, -2.0459e+01,\n",
    "         -1.3938e+01, -1.8408e+01, -1.2415e+01, -8.3185e+00, -8.3391e+00,\n",
    "         -9.2109e+00,  1.0974e+01, -1.9809e+01, -8.6098e+00, -1.4542e+01,\n",
    "         -8.4794e+00, -9.9565e+00, -5.1913e+00, -2.0795e+01, -8.7334e+00,\n",
    "         -1.1473e+01, -4.1709e+00, -8.2826e+00, -8.0346e-01, -8.5398e+00,\n",
    "         -4.2253e+00, -1.0996e+01, -1.4845e+01, -5.3598e+00, -5.9879e+00,\n",
    "         -2.0958e+00, -2.1660e+01, -2.2920e+01, -1.6543e+01, -8.4869e+00,\n",
    "         -1.2115e+01, -7.6498e+00, -1.1324e+01, -6.1879e+00, -4.6133e+01,\n",
    "         -1.2254e+01, -8.4236e+00, -1.1546e+01, -1.9970e+01, -1.5330e+01,\n",
    "         -1.4183e+01, -1.5852e+01, -1.1580e+01, -9.2057e+00, -1.8534e+01,\n",
    "         -1.9991e+01, -1.1359e-01, -2.0615e+01, -9.5965e+00, -1.3050e+01,\n",
    "         -1.0555e+01, -9.1799e+00, -2.5158e+00, -1.3534e+01, -1.8624e+01,\n",
    "         -6.7942e+00, -7.8350e+00, -8.8135e-01, -1.8384e+01, -1.0549e+01,\n",
    "         -8.0078e+00, -1.5060e+01, -1.0428e+00, -1.1278e+01, -3.1665e+00,\n",
    "         -2.4277e+01, -8.2484e+00, -1.5834e+00, -5.8886e+00, -4.3102e+00,\n",
    "         -2.2440e+01, -5.3001e+00, -4.7243e+00, -7.7996e+00, -3.1582e+00,\n",
    "         -1.6326e+01, -1.0508e+01, -1.1693e+01, -1.1085e+01, -2.3945e+01,\n",
    "         -1.4853e+01, -4.9459e+00, -1.0103e+01, -1.2152e+01, -2.0473e+01,\n",
    "          9.2751e+00,  6.0524e+00, -3.3347e-01,  6.2875e+00,  1.1853e+01,\n",
    "          1.2693e+01, -4.8948e+00,  6.4351e+00,  1.0115e+01,  6.7893e+00,\n",
    "          2.7931e+00,  1.6426e+01,  2.4118e+01,  1.3775e+01,  4.3008e-01,\n",
    "          9.0023e+00,  7.0895e+00,  9.7682e-01,  1.8452e+01,  1.2543e+01,\n",
    "          3.4080e+00,  9.0952e+00,  5.7009e+00,  7.9419e+00,  1.0269e+01,\n",
    "          1.4257e+00,  4.6995e+00,  1.2329e+01,  1.4662e+01,  1.0973e+01,\n",
    "         -1.2603e+00, -2.1195e+00,  2.8192e-01,  1.3604e+01,  8.2518e+00,\n",
    "          1.0472e+01,  6.1093e+00,  4.0922e+00,  1.2246e+01,  6.9551e+00,\n",
    "          2.3765e+00, -9.5527e+00,  8.7333e+00, -3.0873e+00,  1.2993e+01,\n",
    "          3.9117e+00,  1.4656e+01,  1.0650e+01,  1.2893e+01,  1.4232e+01,\n",
    "          2.2467e+01,  8.8356e+00,  6.7983e+00,  5.0406e+00,  1.2143e+01,\n",
    "          1.1744e+01, -4.1018e+00,  1.4022e+01,  2.6510e+00,  1.1839e+01,\n",
    "          1.7324e+01,  1.7757e+01,  1.7774e+01,  8.4665e+00, -5.7194e+00,\n",
    "          8.8497e+00,  1.3186e+01, -1.9274e+00,  1.0011e+01, -5.4826e+00,\n",
    "          4.6777e+00,  7.8996e+00,  9.8624e+00,  5.6294e+00,  1.4835e+01,\n",
    "          1.2454e+01,  1.2685e+01,  9.1900e+00,  6.9990e+00,  1.3859e+01,\n",
    "          1.2332e+01,  7.8928e+00,  1.9851e+01,  7.6925e+00,  1.4589e+01,\n",
    "          1.1487e+01,  1.3451e+01,  1.0305e+01,  2.1577e+01,  1.0974e+01,\n",
    "          9.5252e+00, -7.2122e+00,  9.4732e+00,  8.6952e+00,  2.9691e+01,\n",
    "          1.6122e+01,  1.1388e+01,  1.0387e+01,  7.4193e+00,  1.0632e+01,\n",
    "         -7.2673e+00,  2.7285e+00, -1.1256e+01,  3.4900e+00, -5.5321e+00,\n",
    "         -7.6919e+00, -1.0709e+01, -1.2481e+01,  1.9627e+00, -4.6432e+00,\n",
    "         -1.0288e+01, -1.4915e+00, -7.1380e+00, -1.1188e+01, -9.9513e+00,\n",
    "         -3.3864e-01, -2.6307e+00, -1.1025e+01, -4.2006e+00, -8.2046e+00,\n",
    "         -1.5860e+01,  2.4877e-01, -3.4204e-01, -3.2105e+00, -2.1385e+00,\n",
    "         -9.0161e+00, -5.9999e+00, -6.9281e+00, -1.2215e+00, -7.1189e-01,\n",
    "         -1.3121e+01,  3.0194e+00, -5.7894e+00, -6.6653e+00, -6.3790e+00,\n",
    "          1.0339e+00, -5.1393e+00, -1.0350e-01, -4.6286e+00, -1.3733e+01,\n",
    "         -9.9172e+00, -7.6191e+00, -4.8580e+00,  5.7508e+00, -9.0819e+00,\n",
    "         -5.5614e+00, -1.2182e+01, -2.3971e+00, -1.3206e+01, -1.1604e+01,\n",
    "         -6.0007e+00, -8.9178e+00, -1.5824e+01, -1.0053e+01, -1.4234e+01,\n",
    "         -1.0873e+01, -7.3826e+00,  1.3281e+00, -3.8466e+00, -7.7819e+00,\n",
    "         -1.0210e+01, -1.1891e+01, -5.6679e+00, -9.5498e+00, -3.7594e+00,\n",
    "         -9.1550e+00, -1.7331e+01, -2.2615e-01, -2.1239e+01, -6.3632e+00,\n",
    "         -8.4512e+00,  7.4524e-01, -1.0021e+01, -6.0969e-01, -1.1850e+01,\n",
    "         -5.7248e-01, -1.4094e+01, -1.3718e+01, -1.1675e+00,  3.4635e+00,\n",
    "         -5.0735e-01, -3.4134e-02, -9.6851e+00, -5.2201e-01, -2.7792e-01,\n",
    "         -1.2723e+01, -1.6514e+01, -1.6482e+00, -1.6413e+00, -2.7876e+00,\n",
    "         -9.4043e+00,  5.7231e-02, -1.1546e+01,  1.9856e+00, -3.3905e+00,\n",
    "          5.5727e-01, -3.0328e+00, -9.8142e+00,  5.2304e+00,  1.2052e+00],\n",
    "        [-1.4570e+00, -1.0786e+01,  4.2852e-01, -4.8808e-01, -2.5398e+00,\n",
    "         -5.6468e+00, -1.0339e+01, -8.0555e+00, -2.1841e+01,  2.5015e+00,\n",
    "          4.0820e-01, -9.6016e-01, -2.6083e+00, -8.2566e+00, -6.1552e+00,\n",
    "         -3.8898e+00, -1.4373e+01, -6.3910e+00, -4.7379e+00, -1.5174e+01,\n",
    "         -2.5147e+00, -1.8597e+00, -9.9373e+00,  7.7914e-01, -6.5547e+00,\n",
    "         -3.4669e+00, -3.4100e+00, -1.3256e+00, -1.3443e+00, -1.1295e+01,\n",
    "         -5.1843e+00, -2.2990e+00, -2.0054e+01,  3.3031e+00, -3.5614e+00,\n",
    "         -9.2155e+00, -1.7041e+00, -6.4740e+00, -3.5525e+00, -3.1948e+00,\n",
    "         -2.3794e-01, -6.5550e+00, -3.6204e+00, -7.6355e+00, -6.1637e+00,\n",
    "          1.4915e+00, -8.1047e+00, -1.0406e+00, -1.3348e+01, -3.0988e+01,\n",
    "         -1.5130e+00, -5.1547e+00, -1.6168e-01, -8.4830e+00, -4.7659e+00,\n",
    "         -3.2966e+00, -5.4240e+00, -6.9164e+00, -3.6879e-01, -6.5539e+00,\n",
    "         -9.0878e+00,  7.9083e-01, -7.4810e+00, -1.5663e-02, -1.9124e+00,\n",
    "          1.2274e+00, -5.6031e+00, -5.3948e-01,  1.9491e+00,  1.1359e+00,\n",
    "         -9.9408e+00, -5.3626e+00, -7.2763e-02, -4.8114e+00, -9.7531e+00,\n",
    "         -1.8532e+00, -4.9652e+00, -1.4143e+00, -3.0030e+00, -9.0847e+00,\n",
    "         -1.3844e+01, -1.4676e+01, -2.2594e-01, -4.4649e+00,  3.3225e-01,\n",
    "         -4.8638e+00, -1.4882e+00, -5.9210e+00, -8.6613e-01,  2.7657e+00,\n",
    "         -7.3354e+00, -1.6059e+00, -9.3966e+00, -8.2555e+00, -1.1656e+01,\n",
    "         -4.8555e-01, -2.9460e+00, -5.5651e+00, -8.3142e+00, -1.3105e+01,\n",
    "         -4.7130e+00, -1.2178e+01, -2.0453e+01, -2.8530e+01, -1.2216e+00,\n",
    "         -7.1789e+00, -1.8921e+00, -1.0217e+01, -7.1872e+00, -6.4853e+00,\n",
    "         -6.7128e+00, -1.0470e+01, -3.5471e+01, -1.2250e+01, -1.9522e+00,\n",
    "         -3.9073e-01, -1.1989e+01, -9.0766e+00, -2.9299e+00, -1.5328e+00,\n",
    "         -1.8430e+00, -1.0110e-01, -2.5457e+00, -3.6566e+00, -5.6638e+00,\n",
    "         -6.2607e-01, -1.7422e+01, -1.5145e+01, -9.7024e+00, -2.0687e+00,\n",
    "         -1.0891e+01, -1.4383e+01, -7.7066e+00,  1.6368e-01, -3.4093e+00,\n",
    "         -2.8220e+01, -8.8267e+00, -1.2687e+01, -5.5125e+00, -4.1616e+00,\n",
    "         -9.2190e+00, -5.3791e+00, -6.8573e+00, -1.2756e+01, -6.2834e+00,\n",
    "         -9.8945e+00, -9.7543e+00, -1.7035e+01, -9.1511e+00, -1.8925e+01,\n",
    "          3.3017e+00, -4.8744e+00, -9.1113e+00, -6.8333e+00, -5.5174e+00,\n",
    "         -2.6186e+00, -1.1394e+01, -1.6690e+01, -3.2611e+00, -5.5069e+00,\n",
    "         -6.7934e+00, -3.4779e+00, -2.3235e+01, -1.6106e+00, -5.5347e+00,\n",
    "         -7.5925e+00, -3.1286e+00, -1.2312e+01, -1.4817e+01, -2.8069e+01,\n",
    "         -5.9361e+00,  9.7587e-01, -1.3551e+01, -5.5913e+00, -6.8282e+00,\n",
    "         -3.0183e+00, -4.5273e-01, -5.4368e+00, -7.6476e+00, -8.0382e+00,\n",
    "         -1.3742e+01, -5.8396e+00, -1.1649e+01, -2.9669e+00, -2.0139e+00,\n",
    "         -1.7852e+00, -8.9828e-01, -3.7864e+00, -1.5451e+01, -1.8597e+00,\n",
    "         -5.2389e+00, -5.2713e+00, -4.4279e+00, -8.2347e+00, -2.0625e+01,\n",
    "          1.6597e+00, -6.7914e+00,  2.5889e+00, -4.0355e+00, -8.5639e+00,\n",
    "          1.1256e+01, -8.0192e-01,  4.0692e+00,  9.9511e+00,  8.1612e+00,\n",
    "          3.8268e+00,  3.5693e+00,  1.2936e+01,  1.1264e+00,  7.5745e+00,\n",
    "          2.5935e+00,  8.9208e+00,  1.8364e+01, -6.8023e-02,  1.5047e+01,\n",
    "          9.0962e+00,  1.3345e+01,  6.9748e+00,  1.1678e+01, -3.4285e+00,\n",
    "         -1.6681e+01,  1.4796e+01,  7.4530e+00,  5.4952e+00,  8.9012e+00,\n",
    "          1.7573e+01,  1.8914e+00, -3.4084e+00,  1.3311e+01,  9.2523e+00,\n",
    "          3.0265e+00,  9.5734e+00,  8.6480e+00,  1.0567e+01,  8.5195e+00,\n",
    "          1.5636e+01,  9.4752e+00,  1.5513e+01,  1.0524e+01,  4.1396e+00,\n",
    "          7.1318e+00, -2.1806e+00,  2.0503e+00,  1.4610e+01, -1.3227e+01,\n",
    "          9.9402e+00,  1.2220e+00,  9.8041e+00,  1.1964e+01,  3.9095e+00,\n",
    "          1.2364e+01,  2.3938e+00,  1.5108e+01, -3.1999e+00,  1.6961e+00,\n",
    "          5.8418e+00, -1.1164e+01,  9.5520e+00,  7.6364e+00,  1.0538e+01,\n",
    "          1.1745e+01,  3.4534e+00,  5.7733e+00,  7.3160e+00,  9.4149e+00,\n",
    "          1.6578e+00,  1.3208e+00,  1.1767e+01,  1.0527e+01,  1.8844e+01,\n",
    "          1.7230e+00,  8.7449e+00,  1.2965e+01,  1.4236e+01, -7.0399e+00,\n",
    "          1.0249e+01, -1.2794e+01,  1.1854e+01,  9.4608e+00,  7.5246e+00,\n",
    "          3.7108e+00,  1.4369e+00,  7.9037e+00,  1.5563e+01,  9.0607e+00,\n",
    "          6.4100e+00,  1.5985e+01,  1.8317e+01,  1.2010e+01,  1.2205e+01,\n",
    "          5.6846e-01,  1.2523e+01,  6.6256e+00,  1.3731e+01,  1.3507e+01,\n",
    "          1.0344e+01, -4.1877e+00, -9.4265e+00,  1.1150e+01,  1.1630e+01]]\n",
    "\n"
   ]
  },
  {
   "cell_type": "code",
   "execution_count": 29,
   "metadata": {},
   "outputs": [],
   "source": [
    "import json\n",
    "\n",
    "def link_predictions_with_entities(predictions, entities):\n",
    "    linked_data = []\n",
    "    for index, prediction_set in enumerate(predictions):\n",
    "        for score, entity in zip(prediction_set, entities[index::3]):  # Adjust indexing to match entities correctly\n",
    "            linked_data.append((entity[0], score))  # Convert scores to list if needed\n",
    "    return linked_data\n",
    "\n",
    "# Save the linked data to a new file\n",
    "def save_linked_data(linked_data, output_file_path):\n",
    "    with open(output_file_path, 'w') as file:\n",
    "        json.dump(linked_data, file, indent=4)\n",
    "\n",
    "def load_entity_data(json_file_path):\n",
    "    with open(json_file_path, 'r') as file:\n",
    "        data = json.load(file)\n",
    "    return data"
   ]
  },
  {
   "cell_type": "code",
   "execution_count": null,
   "metadata": {},
   "outputs": [],
   "source": []
  },
  {
   "cell_type": "code",
   "execution_count": 30,
   "metadata": {},
   "outputs": [],
   "source": [
    "entities = load_entity_data(\"el_data/country/buyer/2/structured_data.json\")[0][6]\n",
    "linked = link_predictions_with_entities(data,  entities)\n",
    "save_linked_data(linked, \"tmp/res.json\")"
   ]
  },
  {
   "cell_type": "code",
   "execution_count": 23,
   "metadata": {},
   "outputs": [
    {
     "data": {
      "text/plain": [
       "[['Germany',\n",
       "  'Germany (German: Deutschland, German pronunciation: [ˈdɔʏtʃlant]), constitutionally the Federal Republic of Germany (German: Bundesrepublik Deutschland, ), is a country in Central and Western Europe. It borders Denmark to the north, Poland and the Czech Republic to the east, Austria and Switzerland to the south, France to the southwest, and Luxembourg, Belgium, and the Netherlands to the west.',\n",
       "  []],\n",
       " ['West Germany',\n",
       "  'West Germany was the informal name for the Federal Republic of Germany, a country in Western Europe, in the period between its formation on 23 May 1949 and German reunification on 3 October 1990. During this Cold War period, the western portion of Germany was part of the Western Bloc. The Federal Republic was created during the Allied occupation of Germany after World War II, established from eleven states formed in the three Allied zones of occupation held by the United States, the United Kingdom and France. Its (provisional) capital was the city of Bonn. The Cold War era West Germany is also retrospectively designated the Bonn Republic.',\n",
       "  []],\n",
       " ['Nazi Germany',\n",
       "  'Nazi Germany is the common English name for Germany between 1933 and 1945, when Adolf Hitler and his Nazi Party (NSDAP) controlled the country through a dictatorship. Under Hitler\\'s rule, Germany became a totalitarian state where nearly all aspects of life were controlled by the government. The official name of the state was Deutsches Reich (German Reich) until 1943 and Großdeutsches Reich (Greater German Reich) from 1943 to 1945. Nazi Germany is also known as the Third Reich (Drittes Reich), meaning \"Third Realm\" or \"Third Empire\", the first two being the Holy Roman Empire (800–1806) and the German Empire (1871–1918). The Nazi regime ended after the Allies defeated Germany in May 1945, ending World War II in Europe.',\n",
       "  []],\n",
       " ['East Germany',\n",
       "  'East Germany, officially the German Democratic Republic (GDR; German: Deutsche Demokratische Republik [ˈdɔʏtʃə demoˈkʁaːtɪʃə ʁepuˈbliːk], DDR), was a state that existed from 1949 to 1990, the period when the eastern portion of Germany was part of the Eastern Bloc during the Cold War. Commonly described as a communist state in English usage, it described itself as a socialist \"workers\\' and peasants\\' state\". It consisted of territory that was administered and occupied by Soviet forces following the end of World War II—the Soviet occupation zone of the Potsdam Agreement, bounded on the east by the Oder–Neisse line. The Soviet zone surrounded West Berlin but did not include it; as a result, West Berlin remained outside the jurisdiction of the GDR.',\n",
       "  []],\n",
       " ['Germany national football team',\n",
       "  'The Germany national football team (German: Deutsche Fußballnationalmannschaft or Die Mannschaft) has represented Germany in men\\'s international football since 1908. The team is governed by the German Football Association (Deutscher Fußball-Bund), founded in 1900. Ever since the DFB was reinaugurated in 1949 the team has represented the Federal Republic of Germany. Under Allied occupation and division, two other separate national teams were also recognised by FIFA: the Saarland team representing the Saarland (1950–1956) and the East German team representing the German Democratic Republic (1952–1990). Both have been absorbed along with their records by the current national team. The official name and code \"Germany FR (FRG)\" was shortened to \"Germany (GER)\" following the reunification in 199',\n",
       "  []],\n",
       " ['German Empire',\n",
       "  'The German Empire (German: Deutsches Kaiserreich, officially Deutsches Reich), sometimes referred to as Imperial Germany or the Second Reich, was the German nation state that existed from the unification of Germany in 1871 until the abdication of Emperor Wilhelm II in 1918.',\n",
       "  []],\n",
       " ['Germany national youth football team',\n",
       "  'This article includes current squads of Germany U-19, U-18, U-17, U-16 and U-15 national football teams.',\n",
       "  []],\n",
       " ['Germany national under-21 football team',\n",
       "  'The Germany national under-21 football team represents the under-21s of Germany in the UEFA European Under-21 Football Championship and is controlled by the German Football Association (DFB), the governing body of football in Germany. West Germany competed in the first two under-23 competitions, which finished in 1972 and 1974. The first under-21 competition finals were in 1978, and since the under-21 competition rules state that players must be 21 or under at the start of a two-year competition, technically it is an under-23 competition.',\n",
       "  []],\n",
       " ['Berlin',\n",
       "  \"Berlin (; German: [bɛʁˈliːn] ()) is the capital and largest city of Germany by both area and population. Its 3,748,148 (2018) inhabitants make it the  most populous city proper of the European Union. The city is one of Germany's 16 federal states. It is surrounded by the state of Brandenburg, and contiguous with Potsdam, Brandenburg's capital. The two cities are at the center of the Berlin-Brandenburg capital region, which is, with about six million inhabitants and an area of more than 30,000 km², Germany's third-largest metropolitan region after the Rhine-Ruhr and Rhine-Main regions.\",\n",
       "  []],\n",
       " ['Social Democratic Party of Germany',\n",
       "  'The Social Democratic Party of Germany (German: Sozialdemokratische Partei Deutschlands, SPD; [zoˈtsi̯aːldemoˌkʁaːtɪʃə paʁˌtaɪ ˈdɔʏtʃlants]) is a social-democratic political party in Germany. Led by Saskia Esken and Norbert Walter-Borjans since 2019, the party is one of the two major contemporary political parties in Germany along with the Christian Democratic Union (CDU). The Social Democrats have governed at the federal level in Germany as part of a grand coalition with the CDU and the Christian Social Union (CSU) since December 2013 following the results of the 2013 and 2017 federal elections. The party participates in 11 of 16 state governments and 7 of them are governed by SPD Minister-Presidents. The SPD is a member of the Party of European Socialists and initiated the founding of th',\n",
       "  []],\n",
       " ['Railway station types in Germany',\n",
       "  'The railways in Germany use several abbreviations to differentiate between various types of stops and stations.',\n",
       "  []],\n",
       " ['Christian Democratic Union of Germany',\n",
       "  'The Christian Democratic Union of Germany (German: Christlich Demokratische Union Deutschlands or CDU; German pronunciation: [ˈkʁɪstlɪç ˌdemoˈkʁaːtɪʃə ʔuˈni̯oːn ˈdɔʏtʃlants]) is a Christian-democratic, liberal-conservative political party in Germany. It is the major catch-all party of the centre-right in German politics. The CDU forms the CDU/CSU grouping, also known as the Union, in the Bundestag with its Bavarian counterpart the Christian Social Union in Bavaria (CSU). Founded in 1945 as an interdenominational Christian party, the CDU effectively replaced the pre-war Catholic Centre Party, but also included politicians of other backgrounds, liberal and conservative. The party therefore claims to represent \"Christian-social, liberal and conservative\" elements.',\n",
       "  []],\n",
       " ['Munich',\n",
       "  \"Munich ( MEW-nik; German: München [ˈmʏnçn̩] (); Austro-Bavarian: Minga [ˈmɪŋ(ː)ɐ]; Latin: Monachium) is the capital and most populous city of Bavaria, the second most populous German federal state. With a population of around 1.5 million, it is the third-largest city in Germany, after Berlin and Hamburg, and thus the largest which does not constitute its own state, as well as the 11th-largest city in the European Union. The city's metropolitan region is home to 6 million people. Straddling the banks of the River Isar (a tributary of the Danube) north of the Bavarian Alps, it is the seat of the Bavarian administrative region of Upper Bavaria, while being the most densely populated municipality in Germany (4,500 people per km²). Munich is the second-largest city in the Bavarian dialect area,\",\n",
       "  []],\n",
       " ['Hesse',\n",
       "  'Hesse (, also US: , Hessian dialect: [ˈhɛzə]) or Hessia (UK: , US: ; German: Hessen [ˈhɛsn̩] ()), officially the State of Hesse (German: Land Hessen), is a parliamentary republic in western Europe and, with just over six million inhabitants, a member state of the Federal Republic of Germany as of 1949. Its capital city is Wiesbaden, the largest metropolitan area is Frankfurt am Main. As a cultural region, Hesse also includes the area known as Rhenish Hesse (Rheinhessen) in the neighbouring state of Rhineland-Palatinate.',\n",
       "  []],\n",
       " ['Bavaria',\n",
       "  \"Bavaria (; German and Bavarian: Bayern [ˈbaɪɐn]), officially the Free State of Bavaria (German and Bavarian: Freistaat Bayern [ˈfʁaɪʃtaːt ˈbaɪɐn]), is a landlocked federal state of Germany, occupying its southeastern corner. With an area of 70,550.19 square kilometres (27,200 sq mi), Bavaria is the largest German state by land area comprising roughly a fifth of the total land area of Germany. With 13 million inhabitants, it is Germany's second-most-populous state after North Rhine-Westphalia. Bavaria's main cities are Munich (its capital and largest city and also the third largest city in Germany), Nuremberg and Augsburg.\",\n",
       "  []],\n",
       " ['East Germany national football team',\n",
       "  'The East Germany national football team, recognized as Germany DR by FIFA, was from 1952 to 1990 the football team of East Germany, playing as one of three post-war German teams, along with Saarland and West Germany. After German reunification in 1990, the Deutscher Fußball Verband der DDR (DFV, English: German Football Association of the GDR), and with it the East German team, joined the Deutscher Fußball Bund (DFB) and the West German national football team that had just won the World Cup.',\n",
       "  []],\n",
       " ['Hamburg',\n",
       "  'Hamburg (English: , German: [ˈhambʊʁk] (), locally also [ˈhambʊɪ̯ç] () [ˈhambɔːχ]; Low Saxon: Hamborg), officially the Free and Hanseatic City of Hamburg (German: Freie und Hansestadt Hamburg; Low Saxon: Friee un Hansestadt Hamborg), is the second-largest city in Germany after Berlin and 7th largest city in the European Union with a population of over 1.84 million. The city is a major international and domestic . It ranked 18th in the world for livability in 2016. The Speicherstadt and Kontorhausviertel were declared World Heritage Sites by UNESCO in 2015.',\n",
       "  []],\n",
       " ['Germany national football B team',\n",
       "  \"Germany B (or Germany A2) is a secondary team of the Germany national football team, used to try out and develop players for potential inclusion in the first team. The team - which has not been active since 2006 - can play against other nations' B-teams, or against full national teams, but its matches are not considered full internationals. In its last incarnation the team was named Team 2006, as a development team for the 2006 FIFA World Cup, which was to be hosted in Germany.\",\n",
       "  []],\n",
       " [\"Germany women's national football team\",\n",
       "  \"The Germany women's national football team (German: Deutsche Fußballnationalmannschaft der Frauen) is governed by the German Football Association (DFB). The German national team is one of the most successful in women's football. They are two-time world champions, having won the 2003 and 2007 tournaments. Germany is also the only nation to have won both the women's and men's tournament. The team has won eight of the twelve UEFA European Championships, claiming six consecutive titles between 1995 and 2013. Germany is one of the two nations to win both the women's and men's European tournament, along with the Netherlands. Germany has won Olympic gold in 2016, after three consecutive bronze medals at the Women's Olympic Football Tournament, finishing third in 2000, 2004 and 2008. Birgit Prinz \",\n",
       "  []],\n",
       " ['Cinema of Germany',\n",
       "  'The film industry in Germany can be traced back to the late 19th century. German cinema made major technical and artistic contributions to early film, broadcasting and television technology. Babelsberg became a household synonym for the early 20th century film industry in Europe, similar to Hollywood later. Germany witnessed major changes to its identity during the 20th and 21st century. Those changes determined the periodisation of national cinema into a succession of distinct eras and movements.',\n",
       "  []],\n",
       " ['Allied-occupied Germany',\n",
       "  \"Upon defeat of Nazi Germany in World War II, the victorious Allies asserted joint authority and sovereignty over 'Germany as a whole', defined as all territories of the former German Reich west of the Oder–Neisse line, having declared the destruction of Nazi Germany at the death of Adolf Hitler (see 1945 Berlin Declaration). The four powers divided 'Germany as a whole' into four occupation zones for administrative purposes, under the United States, United Kingdom, France and the Soviet Union respectively; creating what became collectively known as Allied-occupied Germany (German: [Deutschland in der] Besatzungszeit, literally: [Germany in the] occupation period). This division was ratified at the Potsdam Conference (17 July to 2 August 1945). The four zones were as agreed in February 1945 \",\n",
       "  []],\n",
       " ['Germany national under-20 football team',\n",
       "  \"Germany national under-20 football team, also known as Germany Under-20s or Germany U20(s), represents Germany in association football at an under-20 age level and is controlled by German Football Association, the governing body for football in Germany. Because there is no under-20 competition at UEFA level, Germany's under-20 side has generally only played competitive matches when it has qualified for the FIFA U-20 World Cup, which is held every 2 years.\",\n",
       "  []],\n",
       " ['Schleswig-Holstein',\n",
       "  'Schleswig-Holstein (German: [ˈʃleːsvɪç ˈhɔlʃtaɪn]) is the northernmost of the 16 states of Germany, comprising most of the historical duchy of Holstein and the southern part of the former Duchy of Schleswig. Its capital city is Kiel; other notable cities are Lübeck and Flensburg.',\n",
       "  []],\n",
       " ['Socialist Unity Party of Germany',\n",
       "  \"The Socialist Unity Party of Germany (German: Sozialistische Einheitspartei Deutschlands, SED), often known in English as the East German Communist Party, was the governing Marxist–Leninist political party of the German Democratic Republic (GDR; East Germany) from the country's foundation in October 1949 until its dissolution after the Peaceful Revolution in 1989. The party was established in April 1946.\",\n",
       "  []],\n",
       " ['Germany Olympic football team',\n",
       "  'The Germany Olympic football team represents Germany in international football competitions in Olympic Games. It has been active since 1908, and first competed in 1912. Olympic football was originally an amateur sport, and as the pre-World War II German national team was also amateur, it was able to send a full national team to the games. After the war, Germany was divided, but until 1964 East and West competed under the name of \"United Team of Germany\", although without a combined squad. From 1968 West Germany began to compete on its own, but were still forced to send an amateur team, who were not able to match the success of their professional counterparts in the World Cup and European Championship. The rules on amateurism were relaxed in the 1980s, which allowed West Germany some succes',\n",
       "  []],\n",
       " ['Communist Party of Germany',\n",
       "  'The Communist Party of Germany (German: Kommunistische Partei Deutschlands, KPD) was a major political party in Germany between 1918 and 1933, and a minor party in West Germany in the postwar period until it was banned in 1956.',\n",
       "  []],\n",
       " ['Düsseldorf',\n",
       "  'Düsseldorf (often Dusseldorf in English sources; UK: , US: , German: [ˈdʏsl̩dɔʁf] (); Low Franconian and Ripuarian: Düsseldörp ([ˈdʏsl̩dœɐ̯p]); archaic Dutch: Dusseldorp) is the capital and second-largest city of the most populous German state of North Rhine-Westphalia after Cologne, and the seventh-largest city in Germany, with a population of 617,280. At the confluence of the Rhine and its tributary Düssel, the city lies in the centre of both the Rhine-Ruhr and the Rhineland Metropolitan Regions with the Cologne Bonn Region to its south and the Ruhr to its north. Most of the city lies on the right bank of the Rhine (as opposed to Cologne, whose city centre lies on the river\\'s left bank). The city is the largest in the German Low Franconian dialect area (closely related to Dutch). \"Dorf\" ',\n",
       "  []],\n",
       " ['Baden-Württemberg',\n",
       "  'Baden-Württemberg (, German: [ˌbaːdn̩ ˈvʏʁtəmbɛʁk] ()) is a state in southwest Germany, east of the Rhine, which forms the border with France. It is Germany’s third-largest state, with an area of 35,751 km2 (13,804 sq mi) and 11 million inhabitants. Baden-Württemberg is a parliamentary republic and partly sovereign, federated state which was formed in 1952 by a merger of the states of Württemberg-Baden, Baden and Württemberg-Hohenzollern. The largest city in Baden-Württemberg is the state capital of Stuttgart, followed by Karlsruhe and Mannheim. Other cities are Freiburg im Breisgau, Heidelberg, Heilbronn, Pforzheim, Reutlingen and Ulm.',\n",
       "  []],\n",
       " ['The Left (Germany)',\n",
       "  'The Left (German: Die Linke, stylised as DIE LiNKE.), also commonly referred to as the Left Party (German: die Linkspartei, pronounced [diː ˈlɪŋkspaʁˌtaɪ̯] ()), is a democratic socialist political party in Germany. It is considered to be left-wing populist by some researchers. The party was founded in 2007 as the result of the merger of the Party of Democratic Socialism (PDS) and the Electoral Alternative for Labour and Social Justice (WASG). Through the PDS, the party is the direct descendant of the ruling party of the former East Germany (GDR), the Marxist-Leninist Socialist Unity Party of Germany (SED).',\n",
       "  []],\n",
       " ['Electoral system of Germany',\n",
       "  'The German federal election system regulates the election of the members of the national parliament, called Bundestag. According to the principles governing the elections laws, set down in Art. 38 of German Basic Law, elections are to be universal, direct, free, equal, and secret. Furthermore, the German Basic Law stipulates that Bundestag elections are to take place every four years and that one can vote, and be elected, upon reaching the age of 18. All other stipulations for the federal elections are regulated by the Federal Electoral Act. Elections always take place on a Sunday. Mail votes are possible upon application.',\n",
       "  []],\n",
       " ['Germans',\n",
       "  'Germans (German: Deutsche) are a Germanic ethnic group native to Central Europe, who share a common German ancestry, culture and history. German is the shared mother tongue of a substantial majority of ethnic Germans. The English term Germans has historically referred to the German-speaking population of the Holy Roman Empire since the Late Middle Ages. Ever since the outbreak of the Protestant Reformation within the Holy Roman Empire, German society has been characterized by a Catholic-Protestant divide.',\n",
       "  []],\n",
       " ['British Army',\n",
       "  'The British Army is the principal land warfare force of the United Kingdom, a part of British Armed Forces. As of 2019, the British Army comprises just over 79,300 trained regular (full-time) personnel and just over 27,200 trained reserve (part-time) personnel.',\n",
       "  []],\n",
       " ['Free Democratic Party (Germany)',\n",
       "  \"The Free Democratic Party (German: Freie Demokratische Partei, FDP) is a liberal and classical liberal political party in Germany. The FDP is led by Christian Lindner. The FDP was founded in 1948 by members of former liberal political parties which existed in Germany before World War II, namely the German Democratic Party and the German People's Party. For most of the German Federal Republic's history, it has held the balance of power in the Bundestag. It was a junior coalition partner to the CDU/CSU (1949–1956, 1961–1966, 1982–1998 and 2009–2013) and the Social Democratic Party of Germany (1969–1982). In the 2013 federal election, the FDP failed to win any directly elected seats in the Bundestag and came up short of the 5 percent threshold to qualify for list representation, being left wi\",\n",
       "  []],\n",
       " ['Kiel',\n",
       "  \"Kiel (German: [kiːl] ()) is the capital and most populous city in the northern German state of Schleswig-Holstein, with a population of 249,023 (2016). Kiel lies approximately 90 kilometres (56 mi) north of Hamburg. Due to its geographic location in the north of Germany, the southeast of the Jutland peninsula and the southwestern shore of the Baltic Sea, Kiel has become one of the major maritime centres of Germany. For instance, the city is known for a variety of international sailing events, including the annual Kiel Week, which is the biggest sailing event in the world. Kiel is also known within modern history for the Kiel Mutiny, where German sailors refused to board Navy vessels in protest against Germany's continued fighting in World War I which led to the abdication of the Kaiser and\",\n",
       "  []],\n",
       " ['Cologne',\n",
       "  \"Cologne (English:  kə-LOHN; German: Köln [kœln] (); Kölsch: Kölle [ˈkœlə] ()) is the largest city of Germany's most populous federal state of North Rhine-Westphalia and the fourth-most populous city in Germany. With slightly over a million inhabitants (1.08 million) within its city boundaries, Cologne is the largest city on the Rhine and also the most populous city both of the Rhine-Ruhr Metropolitan Region, which is Germany's largest and one of Europe's major metropolitan areas, and of the Rhineland. Centered on the left bank of the Rhine, Cologne is about 45 kilometres (28 mi) southeast of North Rhine-Westphalia's capital of Düsseldorf and 25 kilometres (16 mi) northwest of Bonn. It is the largest city in the Central Franconian and Ripuarian dialect areas.\",\n",
       "  []],\n",
       " ['Polydor Records',\n",
       "  \"Polydor Records Ltd. is a German-British record label and company that operates as part of Universal Music Group. It has a close relationship with Universal's Interscope Geffen A&M Records label, which distributes Polydor's releases in the United States. In turn, Polydor distributes Interscope releases in the United Kingdom. Polydor Records Ltd. was established in London in 1954 as a British subsidiary of German company Deutsche Grammophon GmbH. It was renamed Polydor Ltd. in 1972.\",\n",
       "  []],\n",
       " ['Mecklenburg-Vorpommern',\n",
       "  \"Mecklenburg-Vorpommern (German: [ˈmeːklənbʊʁk ˈfoːɐ̯pɔmɐn], abbreviated MV), also known by its anglicized name Mecklenburg-Western Pomerania, is a state of Germany. Of the country's 16 states, Mecklenburg-Vorpommern ranks 14th in population, 6th in area, and 16th in population density. Schwerin is the state capital and Rostock is the largest city. Other major cities include Neubrandenburg, Stralsund, Greifswald, Wismar and Güstrow.\",\n",
       "  []],\n",
       " ['North Rhine-Westphalia',\n",
       "  'North Rhine-Westphalia (German: Nordrhein-Westfalen, pronounced [ˌnɔʁtʁaɪ̯n vɛstˈfaːlən] (); Low Franconian: Noordrien-Wesfale; Low German: Noordrhien-Westfalen; Kölsch: Noodrhing-Wäßßfaale, commonly shortened to NRW in both written and spoken language) is a state of Germany.',\n",
       "  []],\n",
       " ['Lower Saxony',\n",
       "  'Lower Saxony (German: Niedersachsen [ˈniːdɐzaksn̩] (); Low German: Neddersassen) is a German state (Land) situated in northwestern Germany. It is the second-largest state by land area, with 47,624 km2 (18,388 sq mi), and fourth-largest in population (7.9 million) among the 16 Länder federated as the Federal Republic of Germany. In rural areas, Northern Low Saxon (a dialect of Low German) and Saterland Frisian (a variety of the Frisian language) are still spoken, but the number of speakers is declining.',\n",
       "  []],\n",
       " ['German language',\n",
       "  'German (Deutsch, pronounced [dɔʏtʃ] ()) is a West Germanic language that is mainly spoken in Central Europe. It is the most widely spoken and official or co-official language in Germany, Austria, Switzerland, South Tyrol in Italy, the German-speaking Community of Belgium and Liechtenstein. It is one of the three official languages of Luxembourg and a co-official language in the Opole Voivodeship in Poland. The languages that are most similar to German are the other members of the West Germanic language branch, including Afrikaans, Dutch, English, the Frisian languages, Low German/Low Saxon, Luxembourgish, and Yiddish. There are strong similarities in vocabulary with Danish, Norwegian and Swedish, although those belong to the North Germanic group. German is the second most widely spoken Ger',\n",
       "  []],\n",
       " ['Western Allied invasion of Germany',\n",
       "  'The Western Allied invasion of Germany was coordinated by the Western Allies during the final months of hostilities in the European theatre of World War II. In preparation for the Allied invasion of Germany, a series of offensive operations were designed to seize and capture the east and west bank of the Rhine River: Operation Veritable and Operation Grenade in February 1945, and Operation Lumberjack and Operation Undertone in March 1945. The Allied invasion of Germany started with the Western Allies crossing the Rhine on 22 March 1945 before fanning out and overrunning all of western Germany from the Baltic in the north to the Alpine passes in the south, where they linked up with troops of the U.S. Fifth Army in Italy. Combined with the capture of Berchtesgaden, any hope of Nazi leadershi',\n",
       "  []],\n",
       " ['States of Germany',\n",
       "  'The Federal Republic of Germany (informally often simply referred to as “Germany”) is a federal republic consisting of sixteen partly-sovereign states (German: Land (“Country”), plural Länder (“Countries”) commonly informally Bundesland (“Federal Country”) and Bundesländer (“Federal Countries”)). Since the German nation state was formed from an earlier collection of several states, it has a federal constitution, and the constituent states retain a measure of sovereignty.With an emphasis on geographical conditions, Berlin and Hamburg are frequently called Stadtstaaten (“City-states”), as is the Free Hanseatic City of Bremen, which in fact includes the cities of Bremen and Bremerhaven. The remaining 13 states are called Flächenländer (literally roughly: \"Area states\").',\n",
       "  []],\n",
       " ['Saxony',\n",
       "  'Saxony (German: Sachsen [ˌzaksn̩] (); Upper Sorbian: Sakska; Czech: Sasko; Polish: Saksonia), officially the Free State of Saxony (German: Freistaat Sachsen [ˈfʁaɪ̯ʃtaːt ˈzaksn̩], Upper Sorbian: Swobodny stat Sakska), is a landlocked federal state of Germany, bordering the federal states of Brandenburg, Saxony Anhalt, Thuringia, and Bavaria, as well as the countries of Poland (Lower Silesian and Lubusz Voivodeships) and the Czech Republic (Karlovy Vary, Liberec, and Ústí nad Labem Regions). Its capital is Dresden, and its largest city is Leipzig.',\n",
       "  []],\n",
       " ['Germany (European Parliament constituency)',\n",
       "  'For elections in the European Union, Germany is a European Parliament constituency, covering the entire country of Germany. It is currently represented by ninety-six members, the most of any European Parliament constituency.',\n",
       "  []],\n",
       " ['Holy Roman Empire',\n",
       "  'The Holy Roman Empire (Latin: Sacrum Imperium Romanum; German: Heiliges Römisches Reich), also known as Holy Roman Empire of the German Nation, was a multi-ethnic complex of territories in Western and Central Europe that developed during the Early Middle Ages and continued until its dissolution in 1806 during the Napoleonic Wars. The largest territory of the empire after 962 was the Kingdom of Germany, though it also included the neighboring Kingdom of Bohemia and Kingdom of Italy, plus numerous other territories, and soon after the Kingdom of Burgundy was added. Its size gradually diminished over time, particularly from 1648 onward, and by the time of its dissolution, it largely contained only German-speaking territories (although Switzerland and East Prussia were not included), plus the ',\n",
       "  []],\n",
       " ['Nuremberg',\n",
       "  'Nuremberg ( NEWR-əm-burg; German: Nürnberg [ˈnʏ:n bɛ:k] (); East Franconian: Närrnberch or Nämberch, locally Närmberch) is the second-largest city of the German federal state of Bavaria after its capital Munich, and its 511,628 (2016) inhabitants make it the 14th largest city in Germany. On the Pegnitz River (from its confluence with the Rednitz in Fürth onwards: Regnitz, a tributary of the River Main) and the Rhine–Main–Danube Canal, it lies in the Bavarian administrative region of Middle Franconia, and is the largest city and the unofficial capital of Franconia. Nuremberg forms a continuous conurbation with the neighbouring cities of Fürth, Erlangen and Schwabach with a total population of 787,976 (2016), while the larger Nuremberg Metropolitan Region has approximately 3.5 million inhabi',\n",
       "  []],\n",
       " ['List of cities and towns in Germany',\n",
       "  \"This is a complete list of the 2,054 cities and towns in Germany (as of January 1st, 2020). There is no distinction between town and city in Germany; a Stadt is an independent municipality (see Municipalities of Germany) that has been given the right to use that title. In contrast, the generally smaller German municipalities that don't use this title, and are thus not included here, are usually just called Gemeinden. Historically, the title Stadt was associated with town privileges, but today it is a mere honorific title. The title can be bestowed to a municipality by its respective state government and is generally given to such municipalities that have either had historic town rights or have attained considerable size and importance more recently. Towns with over 100,000 inhabitants are \",\n",
       "  []],\n",
       " ['Order of Merit of the Federal Republic of Germany',\n",
       "  'The Order of Merit of the Federal Republic of Germany (German: Verdienstorden der Bundesrepublik Deutschland, or Bundesverdienstorden, BVO) is the only federal decoration of Germany. It was created by the first President of the Federal Republic of Germany, Theodor Heuss, on 7 September 1951, and has been awarded to over 200,000 individuals in total, both Germans and foreigners. Since the 1990s, the number of annual awards has declined from over 4,000, first to around 2,300–2,500 per year, and now under 2,000, with a low of 1752 in 2011. In recent years, women have made up a steady 30–31% of recipients. Colloquially, the decorations of the different classes of the Order are also known as the Federal Cross of Merit (Bundesverdienstkreuz).',\n",
       "  []],\n",
       " ['Göttingen',\n",
       "  'Göttingen (, also US: , German: [ˈɡœtɪŋən] (); Low German: Chöttingen) is a university city in Lower Saxony, Germany, the capital of the eponymous district. It is run through by River Leine. At the start of 2017, the population was 134,212.',\n",
       "  []],\n",
       " ['Stuttgart',\n",
       "  'Stuttgart ( SHTUUT-gart, also US:  STU(U)T-, STOOT-, SHTOOT-; German: [ˈʃtʊtɡaʁt] (); Swabian: Schduagert [ˈʒ̊d̥ua̯ɡ̊ɛʕd̥]; names in other languages) is the capital and largest city of the German state of Baden-Württemberg. Stuttgart is located on the Neckar river in a fertile valley known locally as the \"Stuttgart Cauldron\". It lies an hour from the Swabian Jura and the Black Forest. Its urban area has a population of 634,830, making it the sixth largest city in Germany. 2.8 million people live in the city\\'s administrative region and 5.3 million people in its metropolitan area, making it the fourth largest metropolitan area in Germany. The city and metropolitan area are consistently ranked among the top 20 European metropolitan areas by GDP; Mercer listed Stuttgart as 21st on its 2015 lis',\n",
       "  []],\n",
       " ['Weimar Republic',\n",
       "  'The Weimar Republic (German: Weimarer Republik [ˈvaɪmaʁɐ ʁepuˈbliːk] ()) is an unofficial historical designation for the German state from 1918 to 1933. The name derives from the city of Weimar, where its constitutional assembly first took place. The official name of the republic remained Deutsches Reich (\"German Reich\") unchanged from 1871, because of the German tradition of substates. Although commonly translated as \"German Empire\", the word Reich here better translates as \"realm\", in that the term does not necessarily have monarchical connotations in itself. The Reich was changed from a constitutional monarchy into a republic. In English, the country was usually known simply as Germany.',\n",
       "  []],\n",
       " ['Tübingen',\n",
       "  'Tübingen (German: [ˈtyːbɪŋən], ) is a traditional university town in central Baden-Württemberg, Germany. It is situated 30 km (19 mi) south of the state capital, Stuttgart, on a ridge between the Neckar and Ammer rivers. As of 2014 about one in three of the 90,000 people living in Tübingen is a student. As of the 2018/2019 winter semester, 27,665 students attend the Eberhard Karls University of Tübingen. The city has the lowest median age in Germany, in part due to its status as a university town; as of December 31, 2015, the average age of a citizen of Tübingen is 39.1 years.',\n",
       "  []],\n",
       " ['West Berlin',\n",
       "  'West Berlin (German: Berlin (West) or colloquially West-Berlin) was a political enclave which comprised the western part of Berlin during the years of the Cold War. There was no specific date on which the sectors of Berlin occupied by the Western Allies became \"West Berlin\", but 1949 is widely accepted as the year in which the name was adopted. West Berlin aligned itself politically with the Federal Republic of Germany (called the \"Bonn Republic\" by historians) and was directly or indirectly represented in its federal institutions.',\n",
       "  []],\n",
       " ['Worms, Germany',\n",
       "  'Worms (German: [vɔɐ̯ms]) is a city in Rhineland-Palatinate, Germany, situated on the Upper Rhine about 60 kilometres (40 mi) south-southwest of Frankfurt-am-Main. It had approximately 82,000 inhabitants as of 2015.',\n",
       "  []],\n",
       " ['Kassel',\n",
       "  'Kassel (German pronunciation: [ˈkasl̩] (); in Germany, spelled Cassel until 1928) is a city located on the Fulda River in northern Hesse, Germany. It is the administrative seat of the Regierungsbezirk Kassel and the district of the same name and had 200,507 inhabitants in December 2015. The former capital of the state of Hesse-Kassel has many palaces and parks, including the Bergpark Wilhelmshöhe, which is a UNESCO World Heritage Site. Kassel is also known for the documenta exhibitions of contemporary art. Kassel has a public university with 25,000 students (2018) and a multicultural population (39% of the citizens in 2017 had a migration background).',\n",
       "  []],\n",
       " ['Braunschweig',\n",
       "  'Braunschweig (German pronunciation: [ˈbʁaʊnʃvaɪk] (); Low German: Brunswiek [ˈbrɔˑnsviːk]), also called Brunswick () in English, is a city in Lower Saxony, Germany, north of the Harz mountains at the farthest navigable point of the Oker River which connects it to the North Sea via the Aller and Weser Rivers. In 2016, it had a population of 250,704. Today, Braunschweig is the second-largest city in Lower Saxony and a major centre of scientific research and development.',\n",
       "  []],\n",
       " ['Mannheim',\n",
       "  \"Mannheim (German pronunciation: [ˈmanhaɪm] (); Palatine German: Monnem or Mannem) is a city in the southwestern part of Germany, the third-largest in the German state of Baden-Württemberg after Stuttgart and Karlsruhe with a 2015 population of approximately 310,000 inhabitants. The city is at the centre of the larger densely populated Rhine-Neckar Metropolitan Region which has a population of 2,400,000 and is Germany's eighth-largest metropolitan region.\",\n",
       "  []],\n",
       " ['Hanover',\n",
       "  'Hanover or Hannover (; German: Hannover [haˈnoːfɐ] (); Low German: Hannober) is the capital and largest city of the German state of Lower Saxony. Its 535,061 (2017) inhabitants make it the thirteenth-largest city in Germany as well as the third-largest city in Northern Germany after Hamburg and Bremen. The city lies at the confluence of the River Leine (progression: Aller→ Weser→ North Sea) and its tributary Ihme, in the south of the North German Plain, and is the largest city in the Hannover–Braunschweig–Göttingen–Wolfsburg Metropolitan Region. It is the fifth-largest city in the Low German dialect area after Hamburg, Dortmund, Essen and Bremen.',\n",
       "  []],\n",
       " ['Germany–United Kingdom relations',\n",
       "  'Germany–United Kingdom relations, or Anglo–German relations, are the bilateral relations between Germany and the United Kingdom. Relations were very strong in the Late Middle Ages, when the German cities of the Hanseatic League traded with England and Scotland. Before the Unification of Germany in 1871, Britain was often allied in wartime with its dominant Prussia. The royal families often intermarried. Also, the House of Hanover (1714–1837) ruled the small Electorate of Hanover, later the Kingdom of Hanover, as well as Britain.',\n",
       "  []],\n",
       " ['East Germany national under-21 football team',\n",
       "  \"The East Germany national football team was the national football team of the German Democratic Republic. Following the realignment of UEFA's youth competitions in 1976, East Germany's Under-21 team was formed. The team played until 1990, until East Germany ceased to be a separate country after the reunification of Germany.\",\n",
       "  []],\n",
       " ['Germany–United States relations',\n",
       "  'Germany–United States relations, also referred to as German–American relations, refers to the bilateral relations between Germany and the United States. German–American relations are the historic relations between Germany and the United States at the official level, including diplomacy, alliances and warfare. The topic also includes economic relations such as trade and investments, demography and migration, and cultural and intellectual interchanges since the 1680s.',\n",
       "  []],\n",
       " ['History of Germany',\n",
       "  \"The concept of Germany as a distinct region in central Europe can be traced to Roman commander Julius Caesar, who referred to the unconquered area east of the Rhine as Germania, thus distinguishing it from Gaul (France), which he had conquered. The victory of the Germanic tribes in the Battle of the Teutoburg Forest (AD 9) prevented annexation by the Roman Empire, although the Roman provinces of Germania Superior and Germania Inferior were established along the Rhine. Following the Fall of the Western Roman Empire, the Franks conquered the other West Germanic tribes. When the Frankish Empire was divided among Charles the Great's heirs in 843, the eastern part became East Francia. In 962, Otto I became the first Holy Roman Emperor of the Holy Roman Empire, the medieval German state.\",\n",
       "  []],\n",
       " ['Bonn',\n",
       "  \"The Federal City of Bonn (German pronunciation: [bɔn] ()) is a city on the banks of the Rhine in the German state of North Rhine-Westphalia, with a population of over 300,000. About 24 km (15 mi) south-southeast of Cologne, Bonn is in the southernmost part of the Rhine-Ruhr region, Germany's largest metropolitan area, with over 11 million inhabitants. It is famously known as the birthplace of Ludwig van Beethoven in 1770. He spent his childhood and teenage years in Bonn.\",\n",
       "  []],\n",
       " ['Argentina national football team',\n",
       "  \"The Argentina national football team (Spanish: Selección de fútbol de Argentina) represents Argentina in international football, and is administered by the Argentine Football Association. Argentina's home stadium is Estadio Monumental Antonio Vespucio Liberti in Buenos Aires. Argentina has been very successful in the Copa América, winning it 14 times, being second only to Uruguay in Copa América victories. The team also won the 1992 FIFA Confederations Cup and the 1993 Artemio Franchi Trophy. The Argentine olympic team won the Olympics football tournaments in Athens 2004 and Beijing 2008.\",\n",
       "  []],\n",
       " ['Karlsruhe',\n",
       "  'Karlsruhe (, also US: , German: [ˈkaʁlsˌʁuːə] (); formerly spelled Carlsruhe) is the second-largest city of the German federal state of Baden-Württemberg after its capital of Stuttgart, and its 309,999 (2016) inhabitants make it the 21st largest city of Germany. On the right bank of the Rhine, the city lies near the French-German border, between the Mannheim/Ludwigshafen conurbation to the north, and the Strasbourg/Kehl conurbation to the south. It is the largest city of Baden, a region named after Hohenbaden Castle in the city of Baden-Baden. Karlsruhe is also the largest city in the South Franconian dialect area (transitional dialects between Central and Upper German), the only other larger city in that area being Heilbronn. The city is the seat of the Federal Constitutional Court (Bunde',\n",
       "  []],\n",
       " ['Brandenburg',\n",
       "  'Brandenburg (, also US: , German: [ˈbʁandn̩bʊʁk] (); Low German: Brannenborg; Lower Sorbian: Bramborska; Upper Sorbian: Braniborsko; Polish: Brandenburgia) is a state of Germany. Brandenburg is located in the northeast of Germany covering an area of 29,478 square kilometres (11,382 sq mi) and has a population of 2.5 million residents, the fifth-largest German state by area and tenth-most populous. Potsdam is the state capital and largest city, while other major cities include Brandenburg an der Havel, Cottbus, and Frankfurt (Oder). Brandenburg surrounds the national capital and city-state of Berlin, which together form the Berlin/Brandenburg Metropolitan Region, the third-largest metropolitan area in Germany. Brandenburg borders the states of Mecklenburg-Vorpommern, Lower Saxony, Saxony-An',\n",
       "  []],\n",
       " ['Essen',\n",
       "  'Essen (German pronunciation: [ˈɛsn̩] (); Latin: Assindia) is the central and second largest city of the Ruhr, the largest urban area in Germany. Its population of 583,109 makes it the ninth largest city of Germany, as well as the fourth largest city of the federal state of North Rhine-Westphalia. On the Ruhr and Emscher rivers, Essen geographically is part of the Rhineland and the larger Rhine-Ruhr Metropolitan Region. The Ruhrdeutsch regiolect spoken in the region has strong influences of both Low German (Westphalian) and Low Franconian (East Bergish).',\n",
       "  []],\n",
       " ['Chancellor of Germany',\n",
       "  'The Chancellor of the Federal Republic of Germany (German: Bundeskanzler(in) der Bundesrepublik Deutschland) is the head of government and chief executive of Germany. The chancellor is elected by the Bundestag. The eighth and current holder of the office is Angela Merkel, who was elected in 2005 and re-elected in 2009, 2013 and 2017. She is the first woman to be elected chancellor, and the first chancellor since the fall of the Berlin Wall to have been raised in the former East Germany (GDR).',\n",
       "  []],\n",
       " ['Frankfurt',\n",
       "  'Frankfurt (officially: Frankfurt am Main (German: [ˈfʁaŋkfʊʁt ʔam ˈmaɪn] (); Hessian: Frangford am Maa; lit. \"Frank ford on the Main\")) is a metropolis and the largest city of the German federal state of Hesse, and its 746,878 (2017) inhabitants make it the fifth-largest city in Germany. On the River Main (a tributary of the Rhine), it forms a continuous conurbation with the neighbouring city of Offenbach am Main, and its urban area has a population of 2.3 million. The city is at the centre of the larger Rhine-Main Metropolitan Region, which has a population of 5.5 million and is Germany\\'s second-largest metropolitan region after the Rhine-Ruhr Region. Since the enlargement of the European Union in 2013, the geographic centre of the EU is about 40 km (25 mi) to the east of Frankfurt\\'s cent',\n",
       "  []],\n",
       " ['Leipzig',\n",
       "  \"Leipzig (, also , , German: [ˈlaɪptsɪç] (); Upper and Lower Sorbian: Lipsk; Upper Saxon: Leibzsch) is the most populous city in the German federal state of Saxony. With a population of 600,000 inhabitants as of 2019 (1.1 million residents in the larger urban zone), it is Germany's eighth most populous city as well as the second most populous city in the area of former East Germany after (East) Berlin. Together with Halle (Saale), the largest city of the neighbouring state of Saxony-Anhalt, the city forms the polycentric conurbation of Leipzig-Halle. Between the two cities (in Schkeuditz) lies Leipzig/Halle International Airport.\",\n",
       "  []],\n",
       " ['Duisburg',\n",
       "  \"Duisburg (, also US: , German: [ˈdyːsbʊʁk] (); Kölsch: Duisbursh) is a city in the Ruhr metropolitan area of the western German state North Rhine-Westphalia. Lying on the confluence of the Rhine and the Ruhr rivers, Duisburg is one of the largest cities in Ruhr and 15th largest city in Germany. In the Middle Ages, it was city-state and a member of the Hanseatic League, and later became a major centre of iron, steel, and chemicals industries. For this reason, it was heavily bombed in World War II. Today it boasts the world's largest inland port, with 21 docks and 40 kilometres of wharf.\",\n",
       "  []],\n",
       " ['Alternative for Germany',\n",
       "  'Alternative for Germany (German: Alternative für Deutschland, AfD) is a right-wing to far-right political party in Germany. Founded in April 2013, the AfD narrowly missed the 5% electoral threshold to sit in the Bundestag during the 2013 federal election. In 2014, the party won seven seats in the European election as a member of the European Conservatives and Reformists. After securing representation in 14 of the 16 German state parliaments by October 2017, in the 2017 federal election the AfD became the third-largest party in Germany after winning 94 seats in the Bundestag. It was the first time they had been represented there. The party is chaired by Jörg Meuthen and Tino Chrupalla; its lead candidates in the 2017 elections were AfD Co-Vice Chairman Alexander Gauland and Alice Weidel, wh',\n",
       "  []],\n",
       " ['Prussia',\n",
       "  'Prussia (; German: Preußen, pronounced [ˈpʁɔʏsn̩] (), Old Prussian: Prūsa or Prūsija) was a historically prominent German state that originated in 1525 with a duchy centered on the region of Prussia on the southeast coast of the Baltic Sea. It was de facto dissolved by an emergency decree transferring powers of the Prussian government to German Chancellor Franz von Papen in 1932 and de jure by an Allied decree in 1947. For centuries, the House of Hohenzollern ruled Prussia, successfully expanding its size by way of an unusually well-organised and effective army. Prussia, with its capital first in Königsberg and then, in 1701, in Berlin, decisively shaped the history of Germany.',\n",
       "  []],\n",
       " ['Bremen',\n",
       "  'The City Municipality of Bremen (, also US: ; German: Stadtgemeinde Bremen, IPA: [ˈʃtatɡəˌmaɪndə ˈbʁeːmən] (); Low German also: Breem or Bräm) is the capital of the German federal state Free Hanseatic City of Bremen (also called just \"Bremen\" for short), a two-city-state consisting of the cities of Bremen and Bremerhaven. With around 570,000 inhabitants, the Hanseatic city is the 11th largest city of Germany as well as the second largest city in Northern Germany after Hamburg.',\n",
       "  []],\n",
       " ['Centre Party (Germany)',\n",
       "  'The German Centre Party (German: Deutsche Zentrumspartei or just Zentrum) is a lay Catholic political party in Germany, primarily influential during the Kaiserreich and the Weimar Republic. In English it is often called the Catholic Centre Party. Formed in 1870, it successfully battled the Kulturkampf which Chancellor Otto von Bismarck launched in Prussia to reduce the power of the Catholic Church. It soon won a quarter of the seats in the Reichstag (Imperial Parliament), and its middle position on most issues allowed it to play a decisive role in the formation of majorities.',\n",
       "  []],\n",
       " ['Heidelberg',\n",
       "  'Heidelberg ( HY-dəl-burg, German: [ˈhaɪdl̩bɛʁk] ()) is a university town in the German state of Baden-Württemberg, situated on the river Neckar in south-west Germany. In the 2016 census, its population was 159,914, of which roughly a quarter consisted of students. Located about 78 km (48 mi) south of Frankfurt, Heidelberg is the fifth-largest city in Baden-Württemberg. Heidelberg is part of the densely populated Rhine-Neckar Metropolitan Region.',\n",
       "  []],\n",
       " ['Magdeburg',\n",
       "  \"Magdeburg (German pronunciation: [ˈmakdəbʊɐ̯k] (); Low Saxon: Meideborg, [ˈmaˑɪdebɔɐ̯x]) is the capital city and the second largest city of the state of Saxony-Anhalt, Germany. It is situated on the Elbe River. Otto I, the first Holy Roman Emperor and founder of the archbishopric of Magdeburg, was buried in the town's cathedral after his death. Magdeburg's version of German town law, known as Magdeburg rights, spread throughout Central and Eastern Europe. Until 1631, Magdeburg was one of the largest and most prosperous German cities and a notable member of the Hanseatic League.\",\n",
       "  []],\n",
       " ['Germany–Turkey relations',\n",
       "  \"German–Turkish relations have their beginnings in the times of the Ottoman Empire and have culminated in the development of strong bonds with many facets that include economic, military, cultural and social relations. With Turkey as a candidate for the European Union, of which Germany is the biggest member, and the existence of a huge Turkish diaspora in Germany, these relations have become more and more intertwined over the decades. Relations with Turkey significantly deteriorated after the 2016–17 Turkish purges  including the arrest of journalists such as Die Welt's Deniz Yücel.\",\n",
       "  []],\n",
       " ['Osnabrück',\n",
       "  'Osnabrück (German pronunciation: [ɔsnaˈbʁʏk] (); Westphalian: Ossenbrügge; archaic English: Osnaburg) is a city in the federal state of Lower Saxony in north-west Germany. It is situated in a valley penned between the Wiehen Hills and the northern tip of the Teutoburg Forest. With a population of 168,145  Osnabrück is one of the four largest cities in Lower Saxony. The city is the centrepoint of the Osnabrück Land region as well as the District of Osnabrück.',\n",
       "  []],\n",
       " [\"Germany women's national volleyball team\",\n",
       "  \"The Germany women's national volleyball team is the national volleyball team of Germany. It is governed by the  (DVV).\",\n",
       "  []],\n",
       " ['Germany national under-16 football team', None, []],\n",
       " ['Saarbrücken',\n",
       "  \"Saarbrücken (, also US: , German: [zaːɐ̯ˈbʁʏkn̩] (); French: Sarrebruck [saʁbʁyk]; Rhine Franconian: Saarbrigge [zaːˈbʁɪɡə]) is the capital and largest city of the state of Saarland, Germany. Saarbrücken is Saarland's administrative, commercial and cultural centre and is next to the French border. Saarbrücken was created in 1909 by the merger of three towns, Saarbrücken, St. Johann, and Malstatt-Burbach. It was the industrial and transport centre of the Saar coal basin. Products included iron and steel, sugar, beer, pottery, optical instruments, machinery, and construction materials.\",\n",
       "  []],\n",
       " ['Demographics of Germany',\n",
       "  \"The demography of Germany is monitored by the Statistisches Bundesamt (Federal Statistical Office of Germany). According to the first census since reunification, Germany's population was 82,790,700 (9 May 2011), making it the sixteenth-most populous country in the world and the most populous in the European Union. The total fertility rate was rated at 1.57 in 2018. In 2008, fertility was related to educational achievement (women with lower levels of education were having more children than women who had completed higher education). In 2011, this was no longer true for Eastern Germany, where more highly educated women now had a somewhat higher fertility rate than the rest of the population. Persons who said they had no religion tend to have fewer children than those who identify as Christia\",\n",
       "  []],\n",
       " ['Darmstadt',\n",
       "  'Darmstadt (, also UK: , US: , German: [ˈdaʁmʃtat] ()) is a city in the state of Hesse in Germany, located in the southern part of the Rhine-Main-Area (Frankfurt Metropolitan Region). Darmstadt had a population of around 157,437 at the end of 2016. The Darmstadt Larger Urban Zone has 430,993 inhabitants.',\n",
       "  []],\n",
       " ['France–Germany relations',\n",
       "  \"The relations between France and Germany, since 1871, according to Ulrich Krotz, has three grand periods: 'hereditary enmity' (down to 1945), 'reconciliation' (1945–63) and since 1963 the 'special relationship' embodied in a cooperation called Franco-German Friendship (French: Amitié franco-allemande; German: Deutsch-Französische Freundschaft).\",\n",
       "  []],\n",
       " ['German Confederation',\n",
       "  'The German Confederation (German: Deutscher Bund) was an association of 39 German-speaking states in Central Europe (adding the mainly non-German speaking Kingdom of Bohemia and Duchy of Carniola), created by the Congress of Vienna in 1815 to coordinate the economies of separate German-speaking countries and to replace the former Holy Roman Empire, which had been dissolved in 1806. The German Confederation excluded German-speaking lands in the eastern portion of the Kingdom of Prussia (East Prussia, West Prussia and Posen), the German cantons of Switzerland, and the French region of Alsace, which was predominantly German speaking.',\n",
       "  []],\n",
       " ['Dresden',\n",
       "  'Dresden (, German: [ˈdʁeːsdn̩] (); Upper and Lower Sorbian: Drježdźany; Czech: Drážďany; Polish: Drezno) is the capital city of the German state of Saxony and its second most populous city, following only Leipzig. It is the 12th most populous city of Germany, the third largest by area (following only Berlin, Hamburg and Cologne), and the third most populous city in the area of former East Germany, following only (East) Berlin and Leipzig. Dresden is contiguous with Freital, Pirna, Radebeul, Meissen and Coswig, and its urban area has around 780,000 inhabitants, making it the largest in Saxony.',\n",
       "  []],\n",
       " ['Thuringia',\n",
       "  'Thuringia (English: ; German: Thüringen [ˈtyːʁɪŋən] ()), officially the Free State of Thuringia (Freistaat Thüringen [ˈfʁaɪʃtaːt ˈtyːʁɪŋən]), is a state of Germany. Thuringia is located in central Germany covering an area of 16,171 square kilometres (6,244 sq mi) and a population of 2.15 million inhabitants, making it the sixth smallest German state by area and the fifth smallest by population. Erfurt is the state capital and largest city, while other major cities include Jena, Gera, and Weimar. Thuringia is surrounded by the states of Bavaria, Hesse, Lower Saxony, Saxony-Anhalt, and Saxony.',\n",
       "  []],\n",
       " ['Usa (Germany)',\n",
       "  'The Usa is a river that is 34 km (21 miles) long in Hesse, Germany. It is right tributary of the Wetter, which it joins at the outskirts of Friedberg. Its source is in the Taunus mountains, near the town Neu-Anspach. The principal towns along the river are Usingen, Bad Nauheim and Friedberg.',\n",
       "  []],\n",
       " ['Flag of Germany',\n",
       "  'The flag of Germany or German flag (German: Flagge Deutschlands) is a tricolour consisting of three equal horizontal bands displaying the national colours of Germany: black, red, and gold (German: Schwarz-Rot-Gold). The flag was first adopted as the national flag of modern Germany in 1919, during the Weimar Republic, until 1933. Black-red-gold is the official flag of the Federal Republic of Germany. As an official symbol of the constitutional order, it is protected against defamation. According to §90 of the German penal code, the consequences are a fine or imprisonment up to five years.',\n",
       "  []],\n",
       " ['China–Germany relations',\n",
       "  'Sino–German relations were formally established in 1861, when Prussia and the Qing Empire concluded the first Sino-German treaty during the Eulenburg Expedition. Ten years later, the German Empire was founded and the new state inherited the old Prussian treaty. The relations were, on the whole, frosty, with Germany joining imperialist powers like Great Britain and France in carving out spheres of influence in the Chinese empire.',\n",
       "  []],\n",
       " ['Soest, Germany',\n",
       "  \"Soest (German pronunciation: [ˈzoːst] (), as if it were 'Sohst'; Westphalian: Saust) is a city in North Rhine-Westphalia, Germany. It is the capital of the Soest district.\",\n",
       "  []],\n",
       " ['Immigration to Germany',\n",
       "  'Germany is the second most popular migration destination in the world, after the United States of America. By UN estimates, as of 2017, 12,165,083 people living in Germany are immigrants, or about 14.8% of the German population. The majority of immigrants in Germany are from Eastern Europe, Southern Europe and Middle East. The German Government has been keen to encourage immigration over the past 50 years, to address the low birth rate in the country.',\n",
       "  []],\n",
       " ['Rostock',\n",
       "  'Rostock ( ROST-ok, German: [ˈʁɔstɔk] ()), officially the Hanseatic City of Rostock (German: Hansestadt Rostock), is the largest city in the German federal state of Mecklenburg-Western Pomerania and lies in the Mecklenburgian part of the state, close to the border with Pomerania. With around 208,000 inhabitants, it is the third largest city on the German Baltic coast after Kiel and Lübeck, the eighth largest city in the area of former East Germany, as well as the 39th largest city of Germany. Rostock was the largest coastal and most important port city in East Germany.',\n",
       "  []],\n",
       " ['Foreign relations of Germany',\n",
       "  \"The Federal Republic of Germany (FRG) is a Central European country and member of the European Union, G4, G8, the G20, the Organisation for Economic Co-operation and Development and the North Atlantic Treaty Organization (NATO). It maintains a network of 229 diplomatic missions abroad and holds relations with more than 190 countries. As one of the world's leading industrialized countries it is recognized as a major power in European and global affairs.\",\n",
       "  []],\n",
       " ['Würzburg',\n",
       "  \"Würzburg (UK: , US: , German: [ˈvʏʁtsbʊʁk] (); Main-Franconian: Wörtzburch) is a city in the region of Franconia, northern Bavaria, Germany. Located on the Main River, it is the capital of the Regierungsbezirk of Lower Franconia. The regional dialect is East Franconian. Würzburg lies about equidistant from Frankfurt am Main and Nuremberg (each about 120 kilometers or 75 miles away). Although the city of Würzburg is not part of the Landkreis Würzburg, (i.e., district of Würzburg), it is the seat of the district's administration. The city has a population of around 130,000 people.\",\n",
       "  []],\n",
       " ['History of the Jews in Germany',\n",
       "  'The history of the Jews in Germany goes back to the Early Middle Ages (5th to 10th centuries CE) and High Middle Ages (circa 1000–1299 CE) when Jewish settlers founded the Ashkenazi Jewish community. The community survived under Charlemagne, but suffered during the Crusades. Accusations of well poisoning during the Black Death (1346–53) led to mass slaughter of German Jews and they fled in large numbers to Poland. The Jewish communities of the cities of Mainz, Speyer and Worms became the center of Jewish life during Medieval times. \"This was a golden age as area bishops protected the Jews resulting in increased trade and prosperity.\" The First Crusade began an era of persecution of Jews in Germany. Entire communities, like those of Trier, Worms, Mainz and Cologne, were slaughtered. The war',\n",
       "  []],\n",
       " [\"East Germany women's national football team\",\n",
       "  \"The East Germany women's national football team was in 1990 the women's football team of East Germany.\",\n",
       "  []],\n",
       " ['Gymnasium (Germany)',\n",
       "  'Gymnasium (German pronunciation: [ɡʏmˈnaːzi̯ʊm]; German plural: Gymnasien), in the German education system, is the most advanced of the three types of German secondary schools, the others being Realschule and Hauptschule. Gymnasium strongly emphasizes academic learning, comparable to the British grammar school system or with prep schools in the United States. A student attending Gymnasium is called a Gymnasiast (German plural: Gymnasiasten). In 2009/10 there were 3,094 gymnasia in Germany, with c.\\u20092,475,000 students (about 28 percent of all precollegiate students during that period), resulting in an average student number of 800 students per school.',\n",
       "  []],\n",
       " ['Germany–Japan relations',\n",
       "  'The relations between Germany and Japan (Japanese: 日独関係, romanized: Nichidokukankei, German: Deutsch-japanische Beziehungen) were officially established in 1861 with the first ambassadorial visit to Japan from Prussia (which predated the formation of the German Empire in 1866/1870). Japan modernized rapidly after the Meiji Restoration of 1867, often using German models through intense intellectual and cultural exchange. After 1900 Japan aligned itself with Britain, and Germany and Japan were enemies in World War I. Japan declared war on the German Empire in 1914 and seized key German possessions in China and the Pacific.',\n",
       "  []],\n",
       " ['Italy',\n",
       "  'Italy (Italian: Italia [iˈtaːlja] ()), officially the Italian Republic (Italian: Repubblica Italiana [reˈpubblika itaˈljaːna]), is a European country consisting of a peninsula delimited by the Alps and surrounded by several islands. Italy is located in south-central Europe, and it is also considered a part of Western Europe. The country covers a total area of 301,340 km2 (116,350 sq mi) and shares land borders with France, Switzerland, Austria, Slovenia, and the enclaved microstates of Vatican City and San Marino. Italy has a territorial exclave in Switzerland (Campione) and a maritime exclave in the Tunisian Sea (Lampedusa). With around 60 million inhabitants, Italy is the third-most populous member state of the European Union. The capital and largest city is Rome; other major cities are ',\n",
       "  []],\n",
       " ['Kingdom of Italy',\n",
       "  \"The Kingdom of Italy (Italian: Regno d'Italia) was a state which existed from 1861—when King Victor Emmanuel II of Sardinia was proclaimed King of Italy—until 1946—when civil discontent led an institutional referendum to abandon the monarchy and form the modern Italian Republic. The state was founded as a result of the unification of Italy under the influence of the Kingdom of Sardinia, which can be considered its legal predecessor state.\",\n",
       "  []],\n",
       " ['Italy national football team',\n",
       "  \"The Italy national football team (Italian: Nazionale di calcio dell'Italia) has officially represented Italy in international football since their first match in 1910. The squad is under the global jurisdiction of FIFA and is governed in Europe by UEFA—the latter of which was co-founded by the Italian team's supervising body, the Italian Football Federation (FIGC). Italy's home matches are played at various stadiums throughout Italy, and their primary training ground, Centro Tecnico Federale di Coverciano, is located at the FIGC technical headquarters in Coverciano, Florence.\",\n",
       "  []],\n",
       " ['Rome',\n",
       "  \"Rome (Latin and Italian: Roma [ˈroːma] ()), is the capital city and a special comune of Italy (named Comune di Roma Capitale). Rome also serves as the capital of the Lazio region. With 2,879,728 residents in 1,285 km2 (496.1 sq mi), it is also the country's most populated comune. It is the third most populous city in the European Union by population within city limits. It is the centre of the Metropolitan City of Rome, which has a population of 4,355,725 residents, thus making it the second or third most populous metropolitan city in Italy depending on definition. Rome is located in the central-western portion of the Italian Peninsula, within Lazio (Latium), along the shores of the Tiber. Vatican City (the smallest country in the world) is an independent country inside the city boundaries \",\n",
       "  []],\n",
       " ['Italy national under-21 football team',\n",
       "  'The Italy national under-21 football team is the national under-21 football team of Italy and is controlled by the Italian Football Federation. The team competes in the UEFA European Under-21 Championship, held every two years. Italy (along with Spain) is the most successful nation in the history of the competition, with five Championships won (1992, 1994, 1996, 2000 and 2004). Italy has also been twice runner-up of the competition, in 1986 and 2013. From 1990 to 2004 the team established near-total dominance of European Under-21 football, winning five of the seven tournaments.',\n",
       "  []],\n",
       " ['Cinema of Italy',\n",
       "  \"The Cinema of Italy comprises the films made within Italy or by Italian directors. The first Italian director is considered to be , a collaborator of the Lumière Brothers, who filmed Pope Leo XIII in 1896. Since its beginning, Italian cinema has influenced film movements worldwide. As of 2018, Italian films have won 14 Academy Awards for Best Foreign Language Film (the most of any country) as well as 12 Palmes d'Or (the second-most of any country), one Academy Award for Best Picture and many Golden Lions and Golden Bears.\",\n",
       "  []],\n",
       " ['Italy national under-20 football team',\n",
       "  'Italy national under-20 football team is the national under-20 football team of Italy and is controlled by the Italian Football Federation. The team competes for the FIFA U-20 World Cup, which is held every two years.',\n",
       "  []],\n",
       " ['Italy national under-16 football team',\n",
       "  'The Italy national U-16 football team is the national under-16 football team of Italy and is controlled by the Italian Football Federation. The team was known as Italy national under-15 football team prior 2001, to reflect the age limit at the start of season instead of currently end of season. The Italy under-16 football team is a feeder team of the Italy under-17 team.',\n",
       "  []],\n",
       " ['Piedmont',\n",
       "  'Piedmont ( PEED-mont; Italian: Piemonte, pronounced [pjeˈmonte]; Piedmontese, Occitan and Arpitan: Piemont, Piedmontese pronunciation: [pjeˈmʊŋt]) is a region in northwest Italy, one of the 20 regions of the country. It borders the Liguria region to the south, the Lombardy and Emilia-Romagna regions to the east and the Aosta Valley region to the northwest; it also borders Switzerland to the northeast and France to the west. It has an area of 25,402 square kilometres (9,808 sq mi) and a population of 4,377,941 as of 30 November 2017. The capital of Piedmont is Turin.',\n",
       "  []],\n",
       " ['Lombardy',\n",
       "  \"Lombardy ( LOM-bər-dee, LUM-; Italian: Lombardia [lombarˈdiːa]; Lombard: Lombardia, Western Lombard: [lũbarˈdiːa], or Lombardéa, Eastern Lombard: [lombarˈde.a]) is one of the twenty administrative regions of Italy, in the northwest of the country, with an area of 23,844 square kilometres (9,206 sq mi). About 10 million people, forming one-sixth of Italy's population, live in Lombardy and about a fifth of Italy's GDP is produced in the region, making it the most populous and richest region in the country and one of the richest regions in Europe. Milan, Lombardy's capital, is the second-largest city and the largest metropolitan area in Italy.\",\n",
       "  []],\n",
       " ['Democratic Party (Italy)',\n",
       "  \"The Democratic Party (Italian: Partito Democratico, PD) is a social-democratic political party in Italy. The party's secretary is Nicola Zingaretti, who was elected in March 2019, while its president is Valentina Cuppi.\",\n",
       "  []],\n",
       " [\"Italy women's national football team\",\n",
       "  \"The Italy women's national football team (Italian: Nazionale di calcio femminile dell'Italia) has represented Italy in international women's football since their inception in 1968. The team is controlled by the Italian Football Federation (FIGC), the governing body for football in Italy.\",\n",
       "  []],\n",
       " ['Milan',\n",
       "  'Milan (, US also , Italian: Milano [miˈlaːno] (), Milanese: [miˈlãː] ()) is a city in northern Italy, capital of Lombardy, and the second-most populous city in Italy after Rome. Milan served as the capital of the Western Roman Empire, the Duchy of Milan and the Kingdom of Lombardy–Venetia. The city proper has a population of about 1.4 million while its metropolitan city has 3.23 million inhabitants. Its continuously built-up urban area, that stretches well beyond the boundaries of its administrative metropolitan city, is the fourth largest in the EU with 5.27 million inhabitants. The population within the wider Milan metropolitan area, also known as Greater Milan, is estimated at 8.2 million, making it by far the largest metropolitan area in Italy and the 4th largest in the EU.',\n",
       "  []],\n",
       " ['Naples',\n",
       "  \"Naples (; Italian: Napoli [ˈnaːpoli] (); Neapolitan: Napule [ˈnɑːpələ, ˈnɑːpulə]; Ancient Greek: Νεάπολις, romanized: Neápolis) is the regional capital of Campania and the third-largest city of Italy after Rome and Milan. In 2017, around 967,069 people lived within the city's administrative limits while its province-level municipality has a population of 3,115,320 residents. Its continuously built-up metropolitan area (that stretches beyond the boundaries of the Metropolitan City of Naples) is the second or third largest metropolitan area in Italy and one of the most densely populated cities in Europe.\",\n",
       "  []],\n",
       " ['Bologna',\n",
       "  'Bologna (, UK also , Italian: [boˈloɲɲa] (); Bolognese: Bulåggna [buˈlʌɲːa]; Latin: Bononia) is the capital and largest city of the Emilia-Romagna region in Northern Italy. It is the seventh most populous city in Italy, at the heart of a metropolitan area of about 800.000 people.',\n",
       "  []],\n",
       " ['Tuscany',\n",
       "  'Tuscany ( TUSK-ə-nee; Italian: Toscana [toˈskaːna]) is a region in central Italy with an area of about 23,000 square kilometres (8,900 square miles) and a population of about 3.8 million inhabitants (2013). The regional capital is Florence (Firenze).',\n",
       "  []],\n",
       " ['Provinces of Italy',\n",
       "  'The provinces of Italy (Italian: province d\\'Italia) are administrative divisions of Italy of intermediate level between a municipality (comune) and a region (regione). From 2015, the provinces were reorganized into \"institutional bodies of second level\", with the birth of 10 special Metropolitan cities. A further 4 such cities were added later.',\n",
       "  []],\n",
       " ['Italy national under-17 football team',\n",
       "  'The Italy national U-17 football team is the national under-17 football team of Italy and is controlled by the Italian Football Federation. The team competes in the UEFA European Under-17 Championship, held every year. The team, if qualified, also competes in the FIFA U-17 World Cup, which is held every two years.',\n",
       "  []],\n",
       " ['Italy national under-19 football team',\n",
       "  'The Italy national under-19 football team is the national under-19 football team of Italy and is controlled by the Italian Football Federation. The team competes in the UEFA European Under-19 Championship, held every year.',\n",
       "  []],\n",
       " ['Campania',\n",
       "  'Campania (, also UK: , US: , Italian: [kamˈpaːnja], Neapolitan: [kamˈbɑːnjə]) is a region in Southern Italy. As of 2018, the region has a population of around 5,820,000 people, making it the third-most-populous region of Italy; its total area of 13,590 km2 (5,247 sq mi) makes it the most densely populated region in the country. Located on the south-western portion of the Italian Peninsula, with the Tyrrhenian Sea to the west, it includes the small Phlegraean Islands and Capri for administration as part of the region.',\n",
       "  []],\n",
       " ['Christian Democracy (Italy)',\n",
       "  \"Christian Democracy (Italian: Democrazia Cristiana, DC) was a Christian democratic political party in Italy. The DC was founded in 1943 (in Nazi-occupied Italy) as the ideal successor of the Italian People's Party, which had the same symbol, a crossed shield (scudo crociato). A Catholic-inspired, centrist, catch-all party comprising both right- and left-leaning political factions, the DC played a dominant role in the politics of Italy for fifty years, from its inception in 1944 until its final demise in 1994 amid the Tangentopoli scandals. The party was nicknamed the White Whale (Balena bianca), due to party's huge organization and to its official color.\",\n",
       "  []],\n",
       " ['Italy national under-18 football team',\n",
       "  'The Italian national under-18 football team represents Italy in international football at an under-18 age level and is controlled by the Italian Football Federation (Federazione Italiana Giuoco Calcio), the governing body for football in Italy. The team was known as Italy national under-17 football team prior 2001. The current coach is Daniele Franceschini.',\n",
       "  []],\n",
       " ['Lazio',\n",
       "  \"Lazio (UK: , US: , Italian: [ˈlattsjo]; Latin: Latium) is one of the 20 administrative regions of Italy. Situated in the central peninsular section of the country, it has almost 5.9 million inhabitants – making it the second most populated region of Italy (after Lombardy and just a little ahead of Campania) – and its GDP of more than 170 billion euros per annum means that it has the nation's second largest regional economy. The capital of Lazio is Rome, which is also Italy's capital and the country's largest city.\",\n",
       "  []],\n",
       " ['Sardinia',\n",
       "  'Sardinia ( sar-DIN-ee-ə; Italian: Sardegna [sarˈdeɲɲa]; Sardinian: Sardìgna [saɾˈdiɲɲa] or Sardìnnia [saɾˈdinja]; Sassarese: Sardhigna; Gallurese: Saldigna; Algherese: Sardenya; Tabarchino: Sardegna) is an island in the Mediterranean Sea and politically one of the 20 regions of Italy. It is the second-largest island in the Mediterranean Sea after Sicily, and is located west of the Italian Peninsula, north of Tunisia, and to the immediate south of the French island of Corsica.',\n",
       "  []],\n",
       " ['Turin',\n",
       "  'Turin ( tewr-IN, TEWR-in, Piedmontese: [tyˈriŋ] (); Italian: Torino [toˈriːno] (); Latin: Augusta Taurinorum, then Taurinum) is a city and an important business and cultural centre in northern Italy. It is the capital city of Piedmont and of the Metropolitan City of Turin, and was the first Italian capital from 1861 to 1865. The city is located mainly on the western bank of the Po River, in front of Susa Valley, and is surrounded by the western Alpine arch and Superga Hill. The population of the city proper is 875,698 (31 December 2018) while the population of the urban area is estimated by Eurostat to be 1.7 million inhabitants. The Turin metropolitan area is estimated by the OECD to have a population of 2.2 million.',\n",
       "  []],\n",
       " ['Liguria',\n",
       "  \"Liguria (, Italian: [liˈɡuːrja]; Ligurian: Ligûria [liˈɡyːɾja]) is a region of north-western Italy; its capital is Genoa. Its territory is crossed by the Alps and the Apennines mountains chains. Liguria is bordered by France (Provence-Alpes-Côte d'Azur) to the west, Piedmont to the north, and Emilia-Romagna and Tuscany to the east. It lies on the Ligurian Sea. The region is part of the Alps-Mediterranean Euroregion.\",\n",
       "  []],\n",
       " ['Sicily',\n",
       "  'Sicily (Italian: Sicilia [siˈtʃiːlja]; Sicilian: Sicilia [sɪˈʃiːlja]) is the largest island in the Mediterranean Sea and one of the 20 regions of Italy. It is one of the five Italian autonomous regions and is officially referred to as Regione Siciliana. Sicily has a rich and unique culture, especially with regard to the arts, music, literature, cuisine, and architecture. It is also home to important archaeological and ancient sites, such as the Necropolis of Pantalica, the Valley of the Temples, Erice and Selinunte.',\n",
       "  []],\n",
       " ['Genoa',\n",
       "  \"Genoa ( JEN-oh-ə; Italian: Genova [ˈdʒɛːnova] (); Ligurian: Zêna [ˈzeːna]; English, historically, and Latin: Genua) is the capital of the Italian region of Liguria and the sixth-largest city in Italy. In 2015, 594,733 people lived within the city's administrative limits. As of the 2011 Italian census, the Province of Genoa, which in 2015 became the Metropolitan City of Genoa, counted 855,834 resident persons. Over 1.5 million people live in the wider metropolitan area stretching along the Italian Riviera.\",\n",
       "  []],\n",
       " ['Umbria',\n",
       "  'Umbria ( UM-bree-ə, Italian: [ˈumbrja]) is a  region of central Italy. It includes Lake Trasimeno and Marmore Falls, and is crossed by the River Tiber. The regional capital is Perugia. Umbria is known for its landscapes, traditions, history, culinary delights, artistic legacy, and influence on culture.',\n",
       "  []],\n",
       " ['Apulia',\n",
       "  'Apulia ( ə-POO-lee-ə; Italian: Puglia [ˈpuʎːa]; Neapolitan: Pùglia [ˈpuʝːə]; Albanian: Pulia; Ancient Greek: Ἀπουλία, romanized: Apoulía) is a region of Italy, located in the southern peninsular section of the country, bordering the Adriatic Sea to the east, the Ionian Sea to the southeast, and the Strait of Otranto and Gulf of Taranto to the south. The region comprises 19,345 square kilometers (7,469 sq mi), and its population is about four million.',\n",
       "  []],\n",
       " ['Forza Italia (2013)',\n",
       "  'Forza Italia (translated to \"Forward Italy\" or \"Let\\'s Go Italy\", known also by its acronym FI) is a centre-right political party in Italy whose ideology includes elements of liberal conservatism, Christian democracy, and liberalism. Its leader is Silvio Berlusconi, former Prime Minister of Italy (1994–1995, 2001–2006, 2008–2011). On 11 September 2014 FI was admitted into the European People\\'s Party (EPP), inheriting the PdL\\'s membership.',\n",
       "  []],\n",
       " ['Italians',\n",
       "  'Italians (Italian: italiani [itaˈljaːni]) are a Romance ethnic group and nation native to the Italian geographical region and its neighbouring insular territories. Italians share a common culture, history, ancestry and language. Italians have influenced and contributed to fields like arts and music, science, technology, fashion, cinema, cuisine, sports, jurisprudence, banking and business. Furthermore, Italian people are generally known for their attachment to their locale, expressed in the form of either regionalism or municipalism.',\n",
       "  []],\n",
       " ['Marche',\n",
       "  'Marche ( MAR-kay, Italian: [ˈmarke] ()) or the Marches ( MAR-chiz) is one of the twenty regions of Italy. The name of the region derives from the plural name of marca, originally referring to the medieval March of Ancona and nearby marches of Camerino and Fermo. Marche is well known for its shoemaking tradition, with the finest and most luxurious Italian footwear being manufactured in this region.',\n",
       "  []],\n",
       " ['Roman Italy',\n",
       "  \"Italia (the Latin and Italian name for the Italian Peninsula) was the homeland of the Romans and metropole of Rome's empire in classical antiquity. According to Roman mythology, Italy was the ancestral home promised by Jupiter to Aeneas of Troy and his descendants, whose descendants were the founders of Rome. Aside from the legendary accounts, Rome was an Italian city-state that changed its form of government from kingdom to republic and then grew within the context of a peninsula dominated by the Celts in the North, the Etruscans and Umbrians in the Centre, and the Messapians (Illyrian Colonies) and Greeks colonies in the south.\",\n",
       "  []],\n",
       " ['Parma',\n",
       "  \"Parma (Italian pronunciation: [ˈparma] (); Emilian: Pärma) is a city in the northern Italian region of Emilia-Romagna famous for its architecture, music, art, prosciutto (ham), cheese and surrounding countryside. It is home to the University of Parma, one of the oldest universities in the world.Parma is divided into two parts by the stream of the same name. The district on the far side of the river is Oltretorrente. Parma's Etruscan name was adapted by Romans to describe the round shield called Parma.\",\n",
       "  []],\n",
       " ['Livorno',\n",
       "  'Livorno (Italian: [liˈvorno] ()) is a port city on the Ligurian Sea on the western coast of Tuscany, Italy. It is the capital of the Province of Livorno, having a population of 158,493 residents in December 2017. It is traditionally known in English as Leghorn (pronounced  leg-ORN,  LEG-horn or  LEG-ərn).',\n",
       "  []],\n",
       " ['Veneto',\n",
       "  \"Veneto (US: , Italian: [ˈvɛːneto]; Venetian: Vèneto [ˈvɛneto] or Venetia is one of the 20 regions of Italy. Its population is about five million, ranking fifth in Italy. The region's capital is Venice. Besides Italian, most inhabitants also speak Venetian which is divided into five varieties.\",\n",
       "  []],\n",
       " ['Emilia-Romagna',\n",
       "  'Emilia-Romagna (UK: , US: , both also ; Italian: [eˈmiːlja roˈmaɲɲa]; Emilian and Romagnol: Emélia-Rumâgna) is one of the 20 administrative regions of Italy, situated in the northeast section of the country, comprising the historical regions of Emilia and Romagna. Its capital is Bologna. It has an area of 22,446 km2 (8,666 sq mi), and about 4.4 million inhabitants.',\n",
       "  []],\n",
       " ['Brothers of Italy',\n",
       "  \"Brothers of Italy (Italian: Fratelli d'Italia, FdI) is a national-conservative political party in Italy. Its leader is Giorgia Meloni, a member of the Chamber of Deputies and a former minister in Silvio Berlusconi's fourth cabinet. The party, created from a split of The People of Freedom (PdL) in December 2012, is the main heir of the Italian post-fascist conservative movement that had the Italian Social Movement (MSI, 1946–1995) and National Alliance (AN, 1995–2009) as its main political representatives. AN was merged into the PdL in 2009, but its bulk is now with the FdI.\",\n",
       "  []],\n",
       " ['Latium',\n",
       "  'Latium ( LAY-shee-əm, US also  -\\u2060shəm, Latin: [ˈlatɪ.ũː]) is the region of central western Italy and the entirety of Vatican City in which the city of Rome was founded and grew to be the capital city of the Roman Empire. Latium was originally a small triangle of fertile, volcanic soil on which resided the tribe of the Latins or Latians. It was located on the left bank (east and south) of the River Tiber, extending northward to the River Anio (a left-bank tributary of the Tiber) and southeastward to the Pomptina Palus (Pontine Marshes, now the Pontine Fields) as far south as the Circeian promontory. The right bank of the Tiber was occupied by the Etruscan city of Veii, and the other borders were occupied by Italic tribes. Subsequently, Rome defeated Veii and then its Italic neighbours, expa',\n",
       "  []],\n",
       " ['Allied invasion of Italy',\n",
       "  \"The Allied invasion of Italy was the Allied amphibious landing on mainland Italy that took place on 3 September 1943 during the early stages of the Italian Campaign of World War II. The operation was undertaken by General Sir Harold Alexander's 15th Army Group (comprising General Mark W. Clark's Fifth Army and General Bernard Montgomery's British Eighth Army) and followed the successful invasion of Sicily. The main invasion force landed around Salerno on 9 September on the western coast in Operation Avalanche, while two supporting operations took place in Calabria (Operation Baytown) and Taranto (Operation Slapstick).\",\n",
       "  []],\n",
       " ['Padua',\n",
       "  \"Padua (; Italian: Padova [ˈpaːdova] (); Venetian: Pàdova) is a city and comune in Veneto, northern Italy. Padua is on the river Bacchiglione, west of Venice. It is the capital of the province of Padua. It is also the economic and communications hub of the area. Padua's population is 214,000 (as of 2011). The city is sometimes included, with Venice (Italian Venezia) and Treviso, in the Padua-Treviso-Venice Metropolitan Area (PATREVE) which has a population of around 2,600,000. It hosts the University of Padua, founded in 1222, where later Galileo Galilei was a lecturer between 1592 and 1610.\",\n",
       "  []],\n",
       " ['Italy–United Kingdom relations',\n",
       "  'Italy–United Kingdom relations, also known as Anglo–Italian relations or Italo–British relations, are the international relations between the Italian Republic and the United Kingdom of Great Britain and Northern Ireland. The Italian ambassador to the United Kingdom is Raffaele Trombetta who took up his post in January 2018  and the British ambassador to Italy is Jill Morris who took up the post in 2016.',\n",
       "  []],\n",
       " [\"Italy women's national volleyball team\",\n",
       "  \"The Italy women's national volleyball team is governed by the Federazione Italiana Pallavolo (FIPAV). The team's biggest victories were the Gold Medal at the 2002 FIVB Women's World Championship, being the first team to break the domination of Russia, Cuba, China and Japan, and the 2007 and the 2011 World Cup, winning 21 out of the 22 matches in both tournaments.\",\n",
       "  []],\n",
       " ['Trieste',\n",
       "  'Trieste ( tree-EST, Italian: [triˈɛste] (); Slovene: Trst [tə́ɾst]) is a city and a seaport in northeastern Italy. It is situated towards the end of a narrow strip of Italian territory lying between the Adriatic Sea and Slovenia, which lies approximately 10–15 km (6.2–9.3 mi) south and east of the city. Croatia is some 30 km (19 mi) to the south.',\n",
       "  []],\n",
       " ['Calabria',\n",
       "  'Calabria (UK: , US: , Italian: [kaˈlaːbrja]; Calabrian: Calàbbria; Calabrian Greek: Calavría; Greek: Καλαβρία; Arbëreshë Albanian: Kalavrì), known in antiquity as Bruttium (US: ), is a region in Southern Italy. In antiquity the name Calabria referred, not as in modern times to the toe, but to the heel tip of Italy, from Tarentum southwards, a region nowadays known as Salento.',\n",
       "  []],\n",
       " ['Southern Italy',\n",
       "  'Southern Italy (Italian: Sud Italia; Neapolitan: \\'o Sudde; Sicilian: Italia dû Sud) or Mezzogiorno (Italian pronunciation: [ˌmɛddzoˈdʒorno], literally \"Midday\" or \"Noon\"; in Neapolitan: \\'o Miezojuorno; in Sicilian: Mezzujornu) is a macroregion of Italy meant to broadly denote the southern half of the Italian state.',\n",
       "  []],\n",
       " ['Order of the Crown of Italy',\n",
       "  \"The Order of the Crown of Italy, Italian: Ordine della Corona d'Italia, was founded as a national order in 1868 by King Vittorio Emanuele II, to commemorate the unification of Italy in 1861. It was awarded in five degrees for civilian and military merit.\",\n",
       "  []],\n",
       " ['Modena',\n",
       "  'Modena (UK: , US: , Italian: [ˈmɔːdena] (); Modenese: Mòdna [ˈmɔdnɐ]; Etruscan: Mutna; Latin: Mutina) is a city and comune (municipality) on the south side of the Po Valley, in the Province of Modena in the Emilia-Romagna region of northern Italy. Modena is also known in culinary circles for its production of balsamic vinegar.',\n",
       "  []],\n",
       " ['Northern Italy',\n",
       "  'Northern Italy (Italian: Italia settentrionale or just Nord) is a geographical and cultural region in the northern part of Italy. Non-administrative, it consists of eight administrative Regions in northern Italy: Aosta Valley, Piedmont, Liguria, Lombardy, Emilia-Romagna, Veneto, Friuli-Venezia Giulia and Trentino-Alto Adige/Südtirol. As of 2014, its population was 27,801,460. Rhaeto-Romance and Gallo-Italic languages are spoken in the region, as opposed to the Italo-Dalmatian languages spoken in the rest of Italy (the Venetian language is generally considered one of the Italo-Dalmatian languages; however, some publications define it as Gallo-Italic).',\n",
       "  []],\n",
       " ['Italian Communist Party',\n",
       "  'The Italian Communist Party (Italian: Partito Comunista Italiano, PCI) was a communist political party in Italy. The PCI was founded as Communist Party of Italy on 21 January 1921 in Livorno by seceding from the Italian Socialist Party (PSI). Amadeo Bordiga and Antonio Gramsci led the split. Outlawed during the Fascist regime, the party played a major role in the Italian resistance movement. It changed its name in 1943 to PCI and became the second largest political party of Italy after World War II, attracting the support of about a third of the vote share during the 1970s. At the time, it was the largest communist party in the West, with peak support reaching 2.3 million members, in 1947, and peak share being 34.4% of the vote, in 1976.',\n",
       "  []],\n",
       " ['Siena',\n",
       "  \"Siena ( see-EN-ə, Italian: [ˈsjɛːna] (); in English sometimes spelled Sienna; Latin: Sena Iulia) is a city in Tuscany, Italy. It is the capital of the province of Siena. The historic centre of Siena has been declared by UNESCO a World Heritage Site. It is one of the nation's most visited tourist attractions, with over 163,000 international arrivals in 2008. Siena is famous for its cuisine, art, museums, medieval cityscape and the Palio, a horse race held twice a year.\",\n",
       "  []],\n",
       " ['Italy–United States relations',\n",
       "  'Italy–United States relations are the bilateral relations between the Italian Republic and the United States of America. Italy and the United States enjoy warm and friendly relations. The United States has had diplomatic representation in the nation of Italy and its predecessor nation, the Kingdom of Italy, since 1840. However, in 1891 the Italian government severed diplomatic relations and briefly contemplated war against the US as a response to the unresolved case of the lynching of eleven Italians in New Orleans, Louisiana, and there was a break in relations from 1941 to 1943, while Italy and the United States were at war.',\n",
       "  []],\n",
       " ['Monza',\n",
       "  'Monza (US: , Italian: [ˈmontsa] (); Monzese: Monscia [ˈmũːʃa]; Latin: Modoetia) is a city and comune on the River Lambro, a tributary of the Po in the Lombardy region of Italy, about 15 kilometres (9 miles) north-northeast of Milan. It is the capital of the Province of Monza and Brianza. Monza is best known for its Grand Prix motor racing circuit, the Autodromo Nazionale Monza, which hosts the Formula One Italian Grand Prix with a massive Italian support tifosi for the Ferrari team.',\n",
       "  []],\n",
       " ['Florence',\n",
       "  'Florence ( FLORR-ənss; Italian: Firenze [fiˈrɛntse] ()) is a city in central Italy and the capital city of the Tuscany region. It is the most populated city in Tuscany, with 383,084 inhabitants in 2013, and over 1,520,000 in its metropolitan area. Florence plays an important role in Italian fashion, and is ranked in the top 15 fashion capitals of the world by Global Language Monitor; furthermore, it is a major national economic centre, as well as a tourist and industrial hub. In 2008 the city had the 17th-highest average income in Italy.',\n",
       "  []],\n",
       " ['Varese',\n",
       "  'Varese (UK:  və-RAY-zay, -\\u2060zee, US:  var-AY-say, Italian: [vaˈreːze] () or [vaˈreːse]; Varesino: Varés [ʋaˈreːs]; Latin: Baretium; archaic German: Väris) is a city and comune in north-western Lombardy, northern Italy, 55 kilometres (34 mi) north-west of Milan. The population of Varese in 2018 has reached 80,559. It is the capital of the Province of Varese. The hinterland or exurban part of the city is called Varesotto.',\n",
       "  []],\n",
       " ['Foreign relations of Italy',\n",
       "  \"Foreign relations of the Italian Republic are the Italian government's external relations with the outside world. Located in Europe, Italy has been considered a major Western power since its unification in 1861. Its main allies are the NATO countries and the EU states, two entities of which Italy is a founding member.\",\n",
       "  []],\n",
       " ['Perugia',\n",
       "  'Perugia (, also US: , Italian: [peˈruːdʒa] (); Latin: Perusia) is the capital city of both the region of Umbria in central Italy, crossed by the river Tiber, and of the province of Perugia. The city is located about 164 kilometres (102 miles) north of Rome and 148 km (92 miles) southeast of Florence. It covers a high hilltop and part of the valleys around the area. The region of Umbria is bordered by Tuscany, Lazio, and Marche. The history of Perugia goes back to the Etruscan period; Perugia was one of the main Etruscan cities.',\n",
       "  []],\n",
       " [\"Cortina d'Ampezzo\",\n",
       "  \"Cortina d'Ampezzo (pronounced [korˈtiːna damˈpɛttso; -ettso]; Ladin: Anpezo, Ampëz), commonly referred to as Cortina, is a town and comune in the heart of the southern (Dolomitic) Alps in the Veneto region of Northern Italy. Situated on the Boite river, in an alpine valley, it is a winter sport resort known for its skiing trails, scenery, accommodation, shops and après-ski scene, and for its jet set and Italian aristocratic crowd.\",\n",
       "  []],\n",
       " ['Piacenza',\n",
       "  'Piacenza (Italian pronunciation: [pjaˈtʃɛntsa] (); Piacentino: Piaṡëinsa [pi.aˈzəi̯sɐ]; Latin: Placentia) is a city and comune in the Emilia-Romagna region of northern Italy, the capital of the eponymous province. The etymology is long-standing, tracing an origin from the Latin verb placēre, \"to please.\" In French, and occasionally in English, it is called Plaisance. The name means a \"pleasant abode\", or as James Boswell reported some of the etymologists of his time to have translated it, \"comely\". This was a name \"of good omen.\"',\n",
       "  []],\n",
       " ['Trento',\n",
       "  'Trento (Italian pronunciation: [ˈtrento] (); also anglicized as Trent; Ladin: Trènt; German: Trient; Cimbrian: Tria) is a city on the Adige River in Trentino-Alto Adige/Südtirol in Italy. It is the capital of the autonomous province of Trento. In the 16th century, the city was the location of the Council of Trent. Formerly part of Austria and Austria-Hungary, it was annexed by Italy in 1919. With almost 120,000 inhabitants, Trento is the third largest city in the Alps and second largest in the Tyrol. Trento was awarded the title of Alpine Town of the Year 2004.',\n",
       "  []],\n",
       " ['Brescia',\n",
       "  'Brescia (, also US: , Italian: [ˈbreʃːa] (); Lombard: Brèsa [ˈbrɛsɔ, -hɔ, -sa]; Latin: Brixia; Venetian: Bressa) is a city and comune in the region of Lombardy in northern Italy. It is situated at the foot of the Alps, a few kilometres from the lakes Garda and Iseo. With a population of more than 200,000, it is the second largest city in the region and the fourth of northwest Italy. The urban area of Brescia extends beyond the administrative city limits and has a population of 672,822, while over 1.5 million people live in its metropolitan area. The city is the administrative capital of the Province of Brescia, one of the largest in Italy, with over 1,200,000 inhabitants.',\n",
       "  []],\n",
       " ['Rimini',\n",
       "  \"Rimini ( RIM-in-ee, Italian: [ˈriːmini] (); Romagnol: Rémin; Latin: Ariminum) is a city in the Emilia-Romagna region of northern Italy and capital city of the Province of Rimini. It sprawls along the Adriatic Sea, on the coast between the rivers Marecchia (the ancient Ariminus) and Ausa (ancient Aprusa). It is one of the most notable seaside resorts in Europe with revenue from both internal and international tourism forming a significant portion of the city's economy. The first bathing establishment opened in 1843. An art city with ancient Roman and Renaissance monuments, Rimini is also the birthplace of the famous film director Federico Fellini.\",\n",
       "  []],\n",
       " ['Ferrara',\n",
       "  'Ferrara (, Italian: [ferˈraːra] (); Emilian: Fràra [ˈfraːra]) is a city and comune in Emilia-Romagna, northern Italy, capital of the Province of Ferrara. As of 2016 it had 132,009 inhabitants. It is situated 44 kilometres (27 miles) northeast of Bologna, on the Po di Volano, a branch channel of the main stream of the Po River, located 5 km (3 miles) north. The town has broad streets and numerous palaces dating from the Renaissance, when it hosted the court of the House of Este. For its beauty and cultural importance, it has been designated by UNESCO as a World Heritage Site.',\n",
       "  []],\n",
       " ['Autostrade of Italy',\n",
       "  'The Autostrade (Italian: [autoˈstraːde]; singular autostrada [autoˈstraːda]) are roads forming the Italian national system of motorways. The total length of the system is about 6,758 kilometres (4,199 mi). In North and Central Italy, the Autostrade mainly consists of tollways managed by Atlantia S.p.A. (formerly Autostrade S.p.A.), a holding company controlled by the Benetton family. Other operators include ASTM, ATP, and Autostrade Lombarde in the north-west; Autostrada del Brennero, A4 Holding, , and  in the north-east; , SALT, SAT, and Autocisa in the center; and CAS in the south.',\n",
       "  []],\n",
       " ['COVID-19 pandemic in Italy', None, []],\n",
       " ['Ravenna',\n",
       "  'Ravenna ( rə-VEN-ə, Italian: [raˈvenna], also locally [raˈvɛnna] (); Romagnol: Ravèna) is the capital city of the Province of Ravenna, in the Emilia-Romagna region of Northern Italy. It was the capital city of the Western Roman Empire from 402 until that empire collapsed in 476. It then served as the capital of the Ostrogothic Kingdom until it was re-conquered in 540 by the Byzantine Empire. Afterwards, the city formed the centre of the Byzantine Exarchate of Ravenna until the invasion of the Lombards in 751, after which it became the seat of the Kingdom of the Lombards.',\n",
       "  []],\n",
       " ['Treviso',\n",
       "  'Treviso (US:  tray-VEE-zoh, Italian: [treˈviːzo] (); Venetian: Trevixo) is a city and comune in the Veneto region of northern Italy. It is the capital of the province of Treviso and the municipality has 84,669 inhabitants (as of September 2017): some 3,000 live within the Venetian walls (le Mura) or in the historical and monumental center, some 80,000 live in the urban center proper while the city hinterland has a population of approximately 170,000..',\n",
       "  []],\n",
       " ['Cremona',\n",
       "  'Cremona (, also UK: , Italian: [kreˈmoːna] (); Cremunés: Cremùna; Emilian: Carmona) is a city and comune in northern Italy, situated in Lombardy, on the left bank of the Po River in the middle of the Pianura Padana (Po Valley). It is the capital of the province of Cremona and the seat of the local city and province governments. The city of Cremona is especially noted for its musical history and traditions, including some of the earliest and most renowned luthiers, such as Giuseppe Guarneri, Antonio Stradivari, Francesco Rugeri, Vincenzo Rugeri, and several members of the Amati family.',\n",
       "  []],\n",
       " ['Kingdom of Italy (Holy Roman Empire)',\n",
       "  \"The Kingdom of Italy (Latin: Regnum Italiae or Regnum Italicum, Italian: Regno d'Italia, German: Königreich Italien), also called Imperial Italy (German: Reichsitalien), was one of the constituent kingdoms of the Holy Roman Empire, along with the kingdoms of Germany, Bohemia, and Burgundy. It comprised northern and central Italy, but excluded the Republic of Venice and the Papal States. Its original capital was Pavia until the 11th century.\",\n",
       "  []],\n",
       " ['Government of Italy',\n",
       "  'The Government of Italy is in the form of a democratic republic, and was established by a constitution in 1946. It consists of legislative, executive, and judicial subdivisions, as well as a Head of State, or President. Article 1 of the Italian Constitution states: Italy is a democratic Republic founded on labour. Sovereignty belongs to the people and is exercised by the people in the forms and within the limits of the Constitution.',\n",
       "  []],\n",
       " ['Kingdom of Italy (Napoleonic)',\n",
       "  \"The Kingdom of Italy (Italian: Regno d'Italia; French: Royaume d'Italie) was a kingdom in Northern Italy (formerly the Italian Republic) in personal union with France under Napoleon I. It was fully influenced by revolutionary France and ended with his defeat and fall. Its governance was conducted by Napoleon and his step-son and viceroy Eugène de Beauharnais. It covered the modern provinces of Lombardy, Veneto, Emilia-Romagna, Friuli Venezia Giulia, Trentino, South Tyrol, and Marche. Napoleon I also ruled the rest of northern and central Italy in the form of Aosta, Piedmont, Liguria, Tuscany, Umbria, and Lazio, but directly as part of the French Empire, rather than as part of a client state.\",\n",
       "  []],\n",
       " ['The People of Freedom',\n",
       "  'The People of Freedom (Italian: Il Popolo della Libertà, PdL) was a centre-right political party in Italy. The PdL, launched by Silvio Berlusconi on 18 November 2007, was initially a federation of political parties, notably including Forza Italia and National Alliance, which participated as a joint election list in the 2008 general election. The federation was later transformed into a party during a party congress on 27–29 March 2009.',\n",
       "  []],\n",
       " ['Universal Music Group',\n",
       "  'Universal Music Group (also known in the United States as UMG Recordings, Inc. and abbreviated as UMG) is an American global music corporation that is majority owned by the French media conglomerate Vivendi, with Chinese tech company Tencent owning a minority stake. UMG\\'s global corporate headquarters are located in Santa Monica, California. The biggest music company in the world, it is one of the \"Big Three\" record labels, along with Sony Music and Warner Music Group. Ten percent of Universal Music Group was acquired by Tencent in January 2020 for US$3 billion.',\n",
       "  []],\n",
       " ['Pisa',\n",
       "  \"Pisa ( PEE-zə, Italian: [ˈpiːza] () or [ˈpiːsa]) is a city and comune in Tuscany, central Italy, straddling the Arno just before it empties into the Ligurian Sea. It is the capital city of the Province of Pisa. Although Pisa is known worldwide for its leaning tower (the bell tower of the city's cathedral), the city of over 91,104 residents (around 200,000 with the metropolitan area) contains more than 20 other historic churches, several medieval palaces, and various bridges across the Arno. Much of the city's architecture was financed from its history as one of the Italian maritime republics.\",\n",
       "  []],\n",
       " ['Languages of Italy',\n",
       "  \"There are approximately thirty-four native living spoken languages and related dialects in Italy, most of which are Romance languages. Although they are sometimes colloquially referred to as dialects or regional languages, they are almost all distributed in a continuum across the regions' administrative boundaries, and speakers from one locale within a single region are typically aware of the features distinguishing their own variety from one of the other places nearby.\",\n",
       "  []],\n",
       " ['Udine',\n",
       "  'Udine (US:  OO-dee-nay, Italian: [ˈuːdine] (); Friulian: Udin; German: Weiden in Friaul; Slovene: Videm; Latin: Utinum) is a city and comune in north-eastern Italy, in the middle of the Friuli-Venezia Giulia region, between the Adriatic Sea and the Alps (Alpi Carniche). Its population was 100,514 in 2012, 176,000 with the urban area.',\n",
       "  []],\n",
       " ['Arezzo',\n",
       "  'Arezzo (UK: , US: , Italian: [aˈrettso]) is a city and comune in Italy and the capital of the province of the same name located in Tuscany. Arezzo is about 80 kilometres (50 miles) southeast of Florence at an elevation of 296 metres (971 ft) above sea level. It is also 30 km west of Città di Castello. In 2013 the population was about 99,000.',\n",
       "  []],\n",
       " ['Monfalcone',\n",
       "  \"Monfalcone (Italian pronunciation: [moɱfalˈkoːne]; Bisiacco: Mofalcòn; Friulian: Monfalcon; Slovene: Tržič; archaic German: Falkenberg) is a town and comune of the province of Gorizia in Friuli-Venezia Giulia, northern Italy, located on the Gulf of Trieste. Monfalcone means 'falcon mountain' in Italian. It is a major industrial centre for manufacturing ships, airplanes, textiles, chemicals, and refined oil. It is the home of the Fincantieri cruise ship building company.\",\n",
       "  []],\n",
       " ['Taranto',\n",
       "  'Taranto (, also US: , Italian: [ˈtaːranto] (); Tarantino: Tarde) is a coastal city in Apulia, Southern Italy. It is the capital of the Province of Taranto and is an important commercial port as well as the main Italian naval base. It is considered one of the oldest cities in Italy and in the world. During the Norman period, it became the capital of the Principality of Taranto, which covered almost all of the heel of Apulia. Around 500 BC the city was one of the largest in the world with population estimates up to 300,000 people.',\n",
       "  []],\n",
       " ['Victor Emmanuel III of Italy',\n",
       "  'Victor Emmanuel III (Vittorio Emanuele Ferdinando Maria Gennaro di Savoia; Italian: Vittorio Emanuele III, Albanian: Viktor Emanueli III, Amharic: ቪክቶር ኢማንዌል, romanized: vīkitori īmawēli; 11 November 1869 – 28 December 1947) was the King of Italy from 29 July 1900 until his abdication on 9 May 1946. In addition, he held the thrones of Ethiopia and Albania as Emperor of Ethiopia (1936–1943) and King of the Albanians (1939–1943). During his reign of nearly 46 years, which began after the assassination of his father Umberto I, the Kingdom of Italy became involved in two world wars. His reign also encompassed the birth, rise, and fall of Italian Fascism and its regime.',\n",
       "  []],\n",
       " ['Economy of Italy',\n",
       "  'The economy of Italy is the 3rd-largest national economy in the eurozone, the 8th-largest by nominal GDP in the world, and the 12th-largest by GDP (PPP). Italy has a major advanced economy, and  is a founding member of the European Union, the Eurozone, the OECD, the G7 and the G20. Italy is the eighth largest exporter in the world with $514 billion exported in 2016. Its closest trade ties are with the other countries of the European Union, with whom it conducts about 59% of its total trade. The largest trading partners, in order of market share, are Germany (12.6%), France (11.1%), the United States (6.8%), Switzerland (5.7%), the United Kingdom (4.7%), and Spain (4.4%).',\n",
       "  []],\n",
       " ['Alessandria',\n",
       "  'Alessandria (Italian pronunciation: [alesˈsandrja] (); Piedmontese: Lissandria [liˈsɑŋdrja]) is a city and comune in Piedmont, Italy, and the capital of the Province of Alessandria. The city is sited on the alluvial plain between the Tanaro and the Bormida rivers, about 90 kilometres (56 miles) southeast of Turin. Alessandria is also a major railway hub.',\n",
       "  []],\n",
       " ['Mantua',\n",
       "  'Mantua (; Italian: Mantova [ˈmantova] (); Lombard and Latin: Mantua) is a city and comune in Lombardy, Italy, and capital of the province of the same name. In 2016, Mantua became Italian Capital of Culture. In 2017, Mantua was the European Capital of Gastronomy, included in the Eastern Lombardy District (together with the cities of Bergamo, Brescia, and Cremona). In 2017, Legambiente ranked Mantua as the best Italian city for the quality of the life and environment.',\n",
       "  []],\n",
       " ['Novara',\n",
       "  'Novara (Italian pronunciation: [noˈvaːra] (); Nuàra [nuˈ(ʋ)ɑːra] in the local Lombard dialect) is the capital city of the province of Novara in the Piedmont region in northwest Italy, to the west of Milan. With 104,268 inhabitants (as of 30 April 2019), it is the second most populous city in Piedmont after Turin. It is an important crossroads for commercial traffic along the routes from Milan to Turin and from Genoa to Switzerland. Novara lies between the rivers Agogna and Terdoppio in northeastern Piedmont, 50 kilometres (31 mi) from Milan and 95 kilometres (59 mi) from Turin.',\n",
       "  []],\n",
       " ['Como',\n",
       "  'Como (Italian pronunciation: [ˈkɔːmo] (), locally [ˈkoːmo]; Comasco: Còmm [ˈkɔm], Cómm [ˈkom] or Cùmm [ˈkum]; Latin: Novum Comum; Romansh: Com) is a city and comune in Lombardy, Italy. It is the administrative capital of the Province of Como. With 215,320 overnight guests, in 2013 Como was the fourth most visited city in Lombardy after Milan, Bergamo and Brescia. In 2018, Como surpassed Bergamo becoming the third most visited city in Lombardy with 1.4 million arrivals.',\n",
       "  []],\n",
       " ['Italy national under-15 football team',\n",
       "  'The Italy national U-15 football team is the national under-15 football team of Italy and is controlled by the Italian Football Federation. The Italy U15 football team is a feeder team of Italy U16.',\n",
       "  []],\n",
       " ['Prime Minister of Italy',\n",
       "  'The President of the Council of Ministers of the Italian Republic (Italian: Presidente del Consiglio dei ministri della Repubblica Italiana), commonly referred to in Italy as Presidente del Consiglio, or informally as Premier and known in English as the Prime Minister of Italy, is the head of government of the Italian Republic. The office of Prime Minister is established by Articles 92 through to 96 of the Constitution of Italy. The Prime Minister is appointed by the President of the Republic after each general election and must have the confidence of the Italian Parliament to stay in office.',\n",
       "  []],\n",
       " ['Forza Italia',\n",
       "  'Forza Italia (FI; translated to \"Forward Italy\" or \"Let\\'s Go Italy\",) was a centre-right political party in Italy with liberal-conservative, Christian-democratic, liberal, social-democratic and populist tendencies. Its leader was Silvio Berlusconi, four times Prime Minister of Italy. In November 2008 the national council of the party, presided by Alfredo Biondi, voted to merge Forza Italia into The People of Freedom (PdL), Berlusconi\\'s new political vehicle, whose official foundation took place in March 2009.',\n",
       "  []],\n",
       " ['Messina',\n",
       "  'Messina (, also US: , Italian: [mesˈsiːna] (); Sicilian: Missina [mɪsˈsiːna]; Latin: Messana; Ancient Greek: Μεσσήνη, romanized: Messḗnē) is the capital of the Italian Metropolitan City of Messina. It is the third largest city on the island of Sicily, and the 13th largest city in Italy, with a population of more than 231,000 inhabitants in the city proper and about 650,000 in the Metropolitan City. It is located near the northeast corner of Sicily, at the Strait of Messina, opposite Villa San Giovanni on the mainland, and has close ties with Reggio Calabria. According to Eurostat the FUA of the metropolitan area of Messina has, in 2014, 277,584 inhabitants.',\n",
       "  []],\n",
       " [\"Italy men's national volleyball team\",\n",
       "  \"The Italy men's national volleyball team represents the country in international competitions and friendly matches. It dominated international volleyball competitions in the 1990s and early 2000s, by winning three World Championships in a row (1990, 1994 and 1998), six European Championships, one World Cup (1995) and eight World League (1990, 1991, 1992, 1994, 1995, 1997, 1999 and 2000).\",\n",
       "  []],\n",
       " ['Pesaro',\n",
       "  'Pesaro (Italian pronunciation: [ˈpeːzaro] ()) is a city and comune in the Italian region of Marche, capital of the Province of Pesaro e Urbino, on the Adriatic Sea. According to the 2011 census, its population was 95,011, making it the second most populous city in the Marche, after Ancona. Pesaro was dubbed \"Cycling City\" (Città della Bicicletta) by Italian environmentalist association Legambiente in recognition of its extensive network of bicycle paths and promotion of cycling. It is also known as \"City of Music\" as it is the birthplace of the composer Gioacchino Rossini. In 2015 the Italian Government applied for Pesaro to be declared a \"Creative City\" in UNESCO\\'s World Heritage sites. In 2017 Pesaro received the European City of Sport award together with Aosta, Cagliari and Vicenza.',\n",
       "  []],\n",
       " ['Vicenza',\n",
       "  'Vicenza ( vih-CHENT-sə, Italian: [viˈtʃɛntsa] (); Venetian: Vicensa [viˈtʃeŋsa]) is a city in northeastern Italy. It is in the Veneto region at the northern base of the Monte Berico, where it straddles the Bacchiglione River. Vicenza is approximately 60 kilometres (37 mi) west of Venice and 200 kilometres (120 mi) east of Milan.',\n",
       "  []],\n",
       " ['Ancona',\n",
       "  'Ancona (, also US: , Italian: [aŋˈkoːna] (); Ancient Greek: Ἀγκών, romanized: Ankṓn) is a city and a seaport in the Marche region in central Italy, with a population of around 101,997 as of 2015. Ancona is the capital of the province of Ancona and of the region. The city is located 280 km (170 mi) northeast of Rome, on the Adriatic Sea, between the slopes of the two extremities of the promontory of Monte Conero, Monte Astagno and Monte Guasco. Ancona is one of the main ports on the Adriatic Sea, especially for passenger traffic, and is the main economic and demographic centre of the region.',\n",
       "  []],\n",
       " ['Italian campaign (World War II)',\n",
       "  'The Italian campaign of World War II consisted of Allied and Axis operations in and around Italy, from 1943 to 1945. The Joint Allied Forces Headquarters (AFHQ) was operationally responsible for all Allied land forces in the Mediterranean theatre and it planned and led the invasion of Sicily in July 1943, followed in September by the invasion of the Italian mainland and the campaign in Italy until the surrender of the German Armed Forces in Italy in May 1945.',\n",
       "  []],\n",
       " ['Metropolitan cities of Italy',\n",
       "  \"The metropolitan cities of Italy (Italian: città metropolitane d'Italia) are administrative divisions of Italy, operative since 2015, which are a special type of province. The metropolitan city, as defined by law, includes a large core city and the smaller surrounding towns that are closely related to it with regard to economic activities and essential public services, as well as to cultural relations and to territorial features.\",\n",
       "  []],\n",
       " [\"L'Aquila\",\n",
       "  'L\\'Aquila ( LAK-wil-ə, Italian: [ˈlaːkwila] (); meaning \"The Eagle\") is a city and comune in Central Italy, both the capital city of the Abruzzo region and of the Province of L\\'Aquila. As of 2013, it has a population of 70,967 inhabitants. Laid out within medieval walls on a hill in the wide valley of the Aterno river, it is surrounded by the Apennine Mountains, with the Gran Sasso d\\'Italia to the north-east.',\n",
       "  []],\n",
       " ['Syracuse, Sicily',\n",
       "  'Syracuse  is a historic city on the island of Sicily, the capital of the Italian province of Syracuse. The city is notable for its rich Greek and Roman history, culture, amphitheatres, architecture, and as the birthplace of the preeminent mathematician and engineer Archimedes. This 2,700-year-old city played a key role in ancient times, when it was one of the major powers of the Mediterranean world. Syracuse is located in the southeast corner of the island of Sicily, next to the Gulf of Syracuse beside the Ionian Sea.',\n",
       "  []],\n",
       " ['Avellino',\n",
       "  'Avellino (Italian: [avelˈliːno] ()) is a town and comune, capital of the province of Avellino in the Campania region of southern Italy. It is situated in a plain surrounded by mountains 47 kilometres (29 mi) east of Naples and is an important hub on the road from Salerno to Benevento.',\n",
       "  []],\n",
       " ['Holy See–Italy relations',\n",
       "  'Holy See–Italy relations refers to the special relationship between the Holy See, which is sovereign over the Vatican City, and the Italian Republic.',\n",
       "  []],\n",
       " ['Switzerland',\n",
       "  'Switzerland, officially the Swiss Confederation, is a country situated in the confluence of western, central, and southern Europe. It is a federal republic composed of 26 cantons, with federal authorities seated in Bern. Switzerland is a landlocked country bordered by Italy to the south, France to the west, Germany to the north, and Austria and Liechtenstein to the east. It is geographically divided among the Swiss Plateau, the Alps, and the Jura, spanning a total area of 41,285 km2 (15,940 sq mi), and land area of 39,997 km2 (15,443 sq mi). While the Alps occupy the greater part of the territory, the Swiss population of approximately 8.5 million is concentrated mostly on the plateau, where the largest cities are located, among them the two global cities and economic centres of Zürich and ',\n",
       "  []],\n",
       " ['Municipalities of Switzerland',\n",
       "  'Municipalities (German: Gemeinden, Einwohnergemeinden or politische Gemeinden; French: communes; Italian: comuni; Romansh: vischnancas) are the lowest level of administrative division in Switzerland. Each municipality is part of one of the Swiss cantons, which form the Swiss Confederation. In most cantons municipalities are also part of districts or other sub-cantonal administrative divisions.',\n",
       "  []],\n",
       " ['Switzerland national football team',\n",
       "  \"The Switzerland national football team (French: Equipe nationale de football de Suisse: German Schweizer Fußballnationalmannschaft: Italian: Nazionale di calcio della Svizzera, Romansh: Squadra naziunala da ballape da la Svizra) represents Switzerland in men's international football competitions, The national team it's controlled by the Swiss Football Association, The team's nickname is A team, The team made 11 apperences in the FIFA World Cup finals and made 5 apperences at the UEFA European Championship.\",\n",
       "  []],\n",
       " [\"Switzerland women's national football team\",\n",
       "  \"The Switzerland women's national football team represents Switzerland in international women's football. The team played its first match in 1972. Switzerland qualified for the 2015 FIFA Women's World Cup in Canada by winning their qualifying group. It was the first time that Switzerland participated in a women's World Cup, and the first time both the men's team and women's team qualified for a World Cup simultaneously. Switzerland has never qualified for the Olympic games.\",\n",
       "  []],\n",
       " ['Geneva',\n",
       "  'Geneva ( jin-EE-və; French: Genève [ʒənɛv] (); Arpitan: Genèva [dzəˈnɛva] (); German: Genf [ɡɛnf] (); Italian: Ginevra [dʒiˈneːvra]; Romansh: Genevra) is the second-most populous city in Switzerland (after Zürich) and the most populous city of Romandy, the French-speaking part of Switzerland. Situated where the Rhône exits Lake Geneva, it is the capital of the Republic and Canton of Geneva.',\n",
       "  []],\n",
       " ['Bern',\n",
       "  'Bern or Berne (German: Bern [bɛrn] (); Alemannic German: Bärn [b̥æːrn]; French: Berne [bɛʁn] (); Italian: Berna [ˈbɛrna]; Romansh: Berna [ˈbɛrnɐ] ()) is the de facto capital of Switzerland, referred to by the Swiss as their \"federal city\", in German Bundesstadt, French ville fédérale, and Italian città federale. With a population of about 140,000 (as of 2019), Bern is the fifth-most populous city in Switzerland. The Bern agglomeration, which includes 36 municipalities, had a population of 406,900 in 2014. The metropolitan area had a population of 660,000 in 2000. Bern is also the capital of the canton of Bern, the second-most populous of Switzerland\\'s cantons.',\n",
       "  []],\n",
       " ['Sion, Switzerland',\n",
       "  'Sion (French: [sjɔ̃]; German: Sitten [ˈzɪtn̩]; Italian: Seduno; Latin: Sedunum) is a Swiss town, a municipality, and the capital of the canton of Valais and of the district of Sion. As of December 2018 it had a population of 34,708 (known as Sédunois(es)). On 17 January 1968, the former municipality of Bramois merged into the municipality of Sion. On 1 January 2013, the former municipality of Salins merged into the municipality of Sion, and on 1 January 2017, Les Agettes did the same.',\n",
       "  []],\n",
       " ['Baden, Switzerland',\n",
       "  'Baden (German for \"Baths\"), sometimes unofficially, to distinguish it from other Badens, called Baden bei Zürich (\"Baden near Zürich\") or Baden im Aargau (\"Baden in Aargau\"), is a municipality in Switzerland. It is the seat of the district of Baden in the canton of Aargau. Located 25 km (16 mi) northwest of Zürich in the Limmat Valley (Limmattal) mainly on the western side of the Limmat, its mineral hot springs have been famed since at least the Roman era. Its official language is (the Swiss variety of Standard) German, but the main spoken language is the local Alemannic Swiss German dialect. Its population in 2010 was over 18,000.',\n",
       "  []],\n",
       " ['Switzerland national under-21 football team',\n",
       "  'The Switzerland national under-21 football team is the national under-21 football team of Switzerland and is controlled by the Swiss Football Association. The team competes in the UEFA European Under-21 Football Championship, held every two years.',\n",
       "  []],\n",
       " ['Switzerland–European Union relations',\n",
       "  \"Switzerland is not a member state of the European Union (EU). It is associated with the Union through a series of bilateral treaties in which Switzerland has adopted various provisions of European Union law in order to participate in the Union's single market, without joining as a member state. All but one (the microstate Liechtenstein) of Switzerland's neighbouring countries are EU member states.\",\n",
       "  []],\n",
       " ['Cantons of Switzerland',\n",
       "  'The 26 cantons of Switzerland (German: Kanton, French: canton, Italian: cantone, Romansh: chantun) are the member states of the Swiss Confederation. The nucleus of the Swiss Confederacy in the form of the first three confederate allies used to be referred to as the Waldstätte. Two further major steps in the development of the Swiss cantonal system are referred to by the terms Acht Orte (\"Eight Cantons\"; between 1353 and 1481) and Dreizehn Orte (\"Thirteen Cantons\", during 1513–1798); they were important intermediate periods of the Ancient Swiss Confederacy.',\n",
       "  []],\n",
       " ['Zürich',\n",
       "  'Zürich (German: Zürich; French: Zurich; Italian: Zurigo; Romansh: Turitg) is the largest city in Switzerland and the capital of the canton of Zürich. It is located in north-central Switzerland at the northwestern tip of Lake Zürich. The municipality has approximately 430,000 inhabitants, the urban area (agglomeration) 1.315 million and the Zürich metropolitan area 1.83 million. Zürich is a hub for railways, roads, and air traffic. Both Zurich Airport and railway station are the largest and busiest in the country.',\n",
       "  []],\n",
       " ['Basel',\n",
       "  \"Basel ( BAH-zəl, German: [ˈbaːzl̩] ()) or Basle ( BAHL; French: Bâle [bɑl]; Italian: Basilea [baziˈlɛːa]; Romansh: Basilea [baziˈleːa] ()) is a city in northwestern Switzerland on the river Rhine. Basel is Switzerland's third-most-populous city (after Zürich and Geneva) with about 180,000 inhabitants. The official language of Basel is (the Swiss variety of Standard) German, but the main spoken language is the local Basel German dialect. In 2019 Basel, was ranked among the ten most liveable cities in the world by Mercer together with Zürich and Geneva.\",\n",
       "  []],\n",
       " ['Switzerland County, Indiana',\n",
       "  'Switzerland County is a county located in the U.S. state of Indiana. As of 2010, the population was 10,613. The county seat is Vevay.',\n",
       "  []],\n",
       " ['Free Democratic Party of Switzerland',\n",
       "  'The Free Democratic Party or Radical Democratic Party (German: Freisinnig-Demokratische Partei, FDP; French: Parti radical-démocratique, PRD; Italian: Partito liberale-radicale svizzero, PLR; Romansh: Partida liberaldemocrata svizra, PLD) was a liberal political party in Switzerland. Formerly one of the major parties in Switzerland, on 1 January 2009 it merged with the Liberal Party of Switzerland to form FDP.The Liberals.',\n",
       "  []],\n",
       " ['Social Democratic Party of Switzerland',\n",
       "  'The Social Democratic Party of Switzerland (also rendered as Swiss Socialist Party; German: Sozialdemokratische Partei der Schweiz, SP; French: Parti socialiste suisse, PS; Italian: Partito Socialista Svizzero; Romansh: Partida Socialdemocrata de la Svizra) is a political party in Switzerland. It has had two representatives on the Swiss Federal Council since 1960 and received the second highest total number of votes in the 2015 national elections.',\n",
       "  []],\n",
       " ['Switzerland national under-17 football team',\n",
       "  'The Switzerland national under-17 football team is the national under-17 football team of Switzerland and is controlled by the Swiss Football Association. The team competes in the UEFA European Under-17 Championship and in the FIFA U-17 World Cup. The biggest success was the win of the World Cup in 2009 in Nigeria.',\n",
       "  []],\n",
       " ['Switzerland–United Kingdom relations',\n",
       "  'Swiss-United Kingdom relations refers to the current and historical bilateral relations between Switzerland and the United Kingdom.',\n",
       "  []],\n",
       " ['Burgdorf, Switzerland',\n",
       "  'Burgdorf (French: Berthoud) is the largest city in the Emmental in the canton of Bern in Switzerland. It was the capital of the district of the same name until 2010, when it became part of the new Emmental district.',\n",
       "  []],\n",
       " ['Switzerland–United States relations',\n",
       "  'Switzerland–United States relations are bilateral relations between Switzerland and the United States.',\n",
       "  []],\n",
       " ['Baar, Switzerland',\n",
       "  'Baar is a municipality in the canton of Zug in Switzerland.',\n",
       "  []],\n",
       " ['Switzerland national under-19 football team',\n",
       "  'The Swiss national under-19 football team is the national under-19 football team of Switzerland controlled by Swiss Football Association.',\n",
       "  []],\n",
       " ['Cham, Switzerland',\n",
       "  'Cham is a municipality in the canton of Zug in Switzerland.',\n",
       "  []],\n",
       " ['Districts of Switzerland',\n",
       "  'In contrast to centrally organised states, in the federally constituted Switzerland each canton iscompletely free to decide its own internal organisation. Therefore, there exists a variety of structures and terminology for the subnational entities between canton and municipality, loosely termed districts. For further updated about this districts, see: Population size and population composition – Data, indicators: Cantons, communes  or Permanent resident population by age, canton, district and commune 2010–2013.',\n",
       "  []],\n",
       " ['Saint-Léonard, Switzerland',\n",
       "  'Saint-Léonard is a municipality in the district of Sierre in the canton of Valais in Switzerland. The Saint-Léonard underground lake situated there is a tourist attraction.',\n",
       "  []],\n",
       " ['Canton of Uri',\n",
       "  \"The canton of Uri (German: Kanton Uri [ˈuːʁi] ()) is one of the 26 cantons of Switzerland and a founding member of the Swiss Confederation. It is located in Central Switzerland. The canton's territory covers the valley of the Reuss between the St. Gotthard Pass and Lake Lucerne. The official language of Uri is (the Swiss variety of Standard) German, but the main spoken dialect is the Alemannic Swiss German called . The legendary William Tell is said to have hailed from Uri. The historical landmark Rütli lies within the canton of Uri.\",\n",
       "  []],\n",
       " ['Motorways of Switzerland',\n",
       "  'Switzerland has a two-class highway system: motorways with separated roads for oncoming traffic and a standard maximal speed limit of 120 kilometres per hour (75 mph), and expressways often with oncoming traffic and a standard maximal speed limit of 100 kilometres per hour (62 mph). Autostrassen in German, semi-autoroutes in French, semiautostrade in Italian, autovias in Romansch are the local names of the national expressways. Motorways and expressways are restricted to motorized vehicles that can obtain a speed of at least 80 km/h (50 mph) (VRV/ORC/ONC Art. 35 1).',\n",
       "  []],\n",
       " ['Languages of Switzerland',\n",
       "  'The four national languages of Switzerland are German, French, Italian and Romansh. All but Romansh maintain equal status as official languages at the national level within the Federal Administration of the Swiss Confederation. In some situations, Latin is used, particularly as a single language to denote the country.',\n",
       "  []],\n",
       " ['Switzerland national under-16 football team',\n",
       "  'The Switzerland national under-16 football team is the national under-16 football team of Switzerland and is controlled by the Swiss Football Association.',\n",
       "  []],\n",
       " ['Lachen, Switzerland',\n",
       "  'Lachen is a municipality in March District in the canton of Schwyz in Switzerland.',\n",
       "  []],\n",
       " ['Saint-Barthélemy, Switzerland',\n",
       "  'Saint-Barthélemy is a municipality in the district of Gros-de-Vaud in the canton of Vaud in Switzerland.',\n",
       "  []],\n",
       " [\"Christian Democratic People's Party of Switzerland\",\n",
       "  \"The Christian Democratic People's Party of Switzerland (German: Christlichdemokratische Volkspartei der Schweiz, CVP; French: Parti Démocrate-Chrétien, PDC; Italian: Partito Popolare Democratico, PPD; Romansh: , PCD) is a Christian-democratic political party in Switzerland. It is the fifth-largest party in the National Council, with 28 seats, and the largest in the Council of States, with 13 seats. It has one seat, that of Viola Amherd, on the Swiss Federal Council.\",\n",
       "  []],\n",
       " ['Fürstenau, Switzerland',\n",
       "  'Fürstenau (Romansh: Farschno) is a municipality in the Viamala Region in the Swiss canton of Graubünden and the smallest town to hold city rights with a market right received from Charles IV, Holy Roman Emperor in 1354.',\n",
       "  []],\n",
       " ['Banking in Switzerland',\n",
       "  \"Banking in Switzerland began in the early 18th century through Switzerland's merchant trade and has, over the centuries, grown into a complex, regulated, and international industry. Along with the Swiss Alps, Swiss chocolate, watchmaking and mountaineering, banking is seen as emblematic of Switzerland. Switzerland has a long, kindred history of banking secrecy and client confidentiality reaching back to the early 1700s. Started as a way to protect wealthy European banking interests, Swiss banking secrecy was codified in 1934 with the passage of the landmark federal law, the Federal Act on Banks and Savings Banks.\",\n",
       "  []],\n",
       " ['Geography of Switzerland',\n",
       "  'The geography of Switzerland encompasses the geographical features of Switzerland, a mountainous and landlocked country located in Western and Central Europe. Switzerland is world-famous for the beauty and uniqueness of its landscapes. It is surrounded by 5 countries: Austria and Liechtenstein to the east, France to the west, Italy to the south and Germany to the north. Switzerland has a maximum north–south length of 220 kilometres (140 mi) and an east–west length of about 350 kilometres (220 mi).',\n",
       "  []],\n",
       " ['Emmen, Switzerland',\n",
       "  'Emmen is a village and municipality in the district of Hochdorf in the canton of Lucerne in Switzerland. The municipality Emmen consists of the village Emmen, the town Emmenbrücke, and several hamlets. The official language of Emmen is (the Swiss variety of Standard) German, but the main spoken language is the local variant of the Alemannic Swiss German dialect.',\n",
       "  []],\n",
       " ['Lucerne',\n",
       "  \"Lucerne ( loo-SURN, French: [lysɛʁn]; German: Luzern [luˈtsɛrn] (); Lucerne German: Lozärn; Italian: Lucerna [luˈtʃɛrna]; Romansh: Lucerna [luˈtsɛrnɐ] ()) is a city in central Switzerland, in the German-speaking portion of the country. Lucerne is the capital of the canton of Lucerne and part of the district of the same name. With a population of about 81,057 people (as of 2013), Lucerne is the most populous town in Central Switzerland, and a nexus of economics, transportation, culture, and media of this region. The city's urban area consists of 17 municipalities and towns located in three different cantons with an overall population of about 250,000 people (as of 2007).\",\n",
       "  []],\n",
       " ['Switzerland national under-18 football team',\n",
       "  'The Swiss national under-18 football team is the national under-18 football team of Switzerland controlled by Swiss Football Association.',\n",
       "  []],\n",
       " ['Switzerland national under-20 football team',\n",
       "  'The Swiss national under-20 football team is the national under-20 football team of Switzerland controlled by Swiss Football Association.',\n",
       "  []],\n",
       " ['Binningen, Switzerland',\n",
       "  'Binningen (Swiss German: Binnige) is a municipality in the district of Arlesheim in the canton of Basel-Country in Switzerland. It is nestled in a valley, on a plateau, and on two hills overlooking the city of Basel.',\n",
       "  []],\n",
       " ['Switzerland in the Eurovision Song Contest',\n",
       "  'Switzerland has participated in the Eurovision Song Contest 60 times since making its debut at the first contest in 1956, missing only four contests, in 1995, 1999, 2001 and 2003. Switzerland hosted the first contest in 1956 in Lugano, and won it. Switzerland won the contest again in 1988, with the 1989 contest being held in Lausanne.',\n",
       "  []],\n",
       " ['Grandson, Switzerland',\n",
       "  'Grandson (French: [ɡʀɑ̃sɔ̃]) is a municipality in the district of Jura-Nord Vaudois in the canton of Vaud in Switzerland. It is situated on the south-west tip of Lake Neuchâtel, about 25 km (15 miles) north of Lausanne.It was part of the Kingdom of Upper Burgundy until the death of Rudolph III of Burgundy (993-1032), also King of Lower Burgundy, the last in the male line, when it was united with the Holy Roman Empire. On 2 March 1476, during the Burgundian Wars, Charles the Bold was defeated here in the Battle of Grandson.',\n",
       "  []],\n",
       " ['Switzerland during the World Wars',\n",
       "  'During World War I and World War II, Switzerland maintained armed neutrality. Consequently, it was of considerable interest to belligerent states as the scene for diplomacy, espionage, and commerce. Additionally, it was a safe haven for refugees.',\n",
       "  []],\n",
       " ['Vaud',\n",
       "  'The canton of Vaud ( VOH, French: [vo]; German: Waadt, pronounced [vat] () or [vaːt]) is the third largest of the Swiss cantons by population and fourth by size. It is located in Romandy, the French-speaking western part of the country; and borders the canton of Neuchâtel to the north, the cantons of Fribourg and Bern to the east, Valais and Lake Geneva to the south, the canton of Geneva to the south-west and France (Auvergne-Rhône-Alpes and Bourgogne-Franche-Comté) to the west.',\n",
       "  []],\n",
       " ['Lausanne',\n",
       "  'Lausanne (, also US: , French: [lozan], German: [loˈzan]; Arpitan: Losena [lɔˈzəna] (); Italian: Losanna; Romansh: Losanna) is the capital city and biggest town of the canton of Vaud in Romandy, Switzerland. A municipality, it is situated on the shores of Lake Léman (French: Le/Lac Léman). It faces the French town of Évian-les-Bains, with the Jura Mountains to its north-west. Lausanne is located 62 kilometres (38.5 miles) northeast of Geneva.',\n",
       "  []],\n",
       " ['Vernier, Switzerland',\n",
       "  'Vernier (French pronunciation: \\u200b[vɛʁnje]) is a municipality in the Canton of Geneva, Switzerland. It is divided into different sections: Vernier Village, Le Lignon, Aïre, Les Avanchets, Cointrin and Châtelaine.',\n",
       "  []],\n",
       " ['Ticino', None, []],\n",
       " ['Vals, Switzerland',\n",
       "  'Vals (locally pronounced [ˈvals]) is a village and a municipality in the Surselva Region in the canton of Graubünden in Switzerland. On 1 January 2015 the former municipality of St. Martin merged into the municipality of Vals.',\n",
       "  []],\n",
       " ['Fribourg',\n",
       "  'Fribourg (French pronunciation: \\u200b[fʁibuʁ]; Arpitan: Fribôrg or Friboua [fʁiˈbwa] ()) or Freiburg (also called Freiburg im Üechtland [ˈfraɪbʊrɡ ɪm ˈyːɛçtland] or [ˈyəxtland] for disambiguation from Freiburg im Breisgau; Swiss German: Frybùrg [ˈfrib̥ʊrɡ̊]; Italian: Friburgo or Friborgo; Romansh: Friburg) is the capital of the Swiss canton of Fribourg and the district La Sarine. It is located on both sides of the river Saane/Sarine, on the Swiss Plateau, and is a major economic, administrative and educational center on the cultural border between German and French Switzerland (Romandy). Its Old City, one of the best-maintained in Switzerland, sits on a small rocky hill above the valley of the Sarine.',\n",
       "  []],\n",
       " ['Hütten, Switzerland',\n",
       "  'Hütten is a former municipality in the district of Horgen in the canton of Zürich in Switzerland. On 1 January 2019 the former municipalities of Hütten and Schönenberg merged into the municipality of Wädenswil.',\n",
       "  []],\n",
       " ['Saint-Maurice, Switzerland',\n",
       "  \"Saint-Maurice, or Saint-Maurice d'Agaune, is a small city located in the canton of Valais in Switzerland. It is also the capital of the district and of the municipality of Saint-Maurice. The district of Saint-Maurice (district) is composed with 9 municipalities (commune, Gemeinde): Collonges, Dorénaz, Evionnaz, Finhaut, Massongex, Salvan, St-Maurice, Vernayaz and Vérossaz. On 1 January 2013, the former municipality of Mex merged into the municipality of Saint-Maurice.\",\n",
       "  []],\n",
       " ['Rue, Switzerland',\n",
       "  'Rue is a municipality in the district of Glâne in the canton of Fribourg in Switzerland. On 1 January 1993 the former municipality of Blessens merged into Rue, followed by Promasens and Gillarens in 2001.',\n",
       "  []],\n",
       " ['Liechtenstein–Switzerland relations',\n",
       "  'Diplomatic and economic relations between Switzerland and Liechtenstein have been close, with Switzerland accepting the role of safeguarding the interests of its smaller neighbour, Liechtenstein. Liechtenstein has an embassy in Bern. Switzerland is accredited to Liechtenstein from its Federal Department of Foreign Affairs in Bern and maintains an honorary consulate in Vaduz.',\n",
       "  []],\n",
       " ['Onex, Switzerland',\n",
       "  'Onex (French pronunciation: \\u200b[ɔne]) is a municipality in the canton of Geneva in Switzerland.',\n",
       "  []],\n",
       " ['Inn District, Switzerland',\n",
       "  'Inn District (Romansh: ) is a former administrative district in the canton of Graubünden, Switzerland. It had an area of 1,196.77 km2 (462.08 sq mi) and had a population of 9,476 in 2015. It was replaced with the Engiadina Bassa/Val Müstair Region on 1 January 2017 as part of a reorganization of the Canton. It consisted of four Kreise (sub-districts) and seven municipalities:',\n",
       "  []],\n",
       " ['Portuguese people',\n",
       "  \"Portuguese people are a Romance ethnic group indigenous to Portugal who share a common Portuguese culture, ancestry and language. Their predominant religion is Christianity, mainly Roman Catholicism, though large segments of the population, especially the younger generations, have no religious affiliation. The Portuguese people's heritage largely derives from the pre-Celts (Lusitanians, Conii) and Celts (Gallaecians, Turduli and Celtici), who were Romanized after the conquest of the region by the ancient Romans. A number of Portuguese can also trace minor descent from Germanic tribes who arrived after the Roman period as ruling elites, namely the Suebi, Vandals and Visigoths, who ruled for circa three hundred years. Finally, the Moorish occupation left a genetic contribution in the Iberian\",\n",
       "  []],\n",
       " ['Mayor',\n",
       "  'In many countries, a mayor is the highest-ranking official in a municipal government such as that of a city or a town. Worldwide, there is a wide variance in local laws and customs regarding the powers and responsibilities of a mayor as well as the means by which a mayor is elected or otherwise mandated. Depending on the system chosen, a mayor may be the chief executive officer of the municipal government, may simply chair a multi-member governing body with little or no independent power, or may play a solely ceremonial role. Options for selection of a mayor include direct election by the public, or selection by an elected governing council or board.',\n",
       "  []],\n",
       " ['Iran–Switzerland relations',\n",
       "  'Iranian-Swiss relations are foreign relations between the Islamic Republic of Iran and the Swiss Confederation. Switzerland has had a consulate in Tehran since 1919 which was raised to the status of embassy in 1936 and also represents the interests of the United States in the Iranian capital Tehran. Switzerland also represents Iran in Saudi Arabia.',\n",
       "  []],\n",
       " ['Hüttlingen, Switzerland',\n",
       "  'Hüttlingen is a municipality in the district of Frauenfeld, in the canton of Thurgau in Switzerland.',\n",
       "  []],\n",
       " ['Savigny, Switzerland',\n",
       "  'Savigny is a municipality in Switzerland in the canton of Vaud, located in the district of Lavaux-Oron.',\n",
       "  []],\n",
       " ['Sainte-Croix, Switzerland',\n",
       "  'Sainte-Croix is a municipality in the district of Jura-Nord Vaudois in the canton of Vaud in Switzerland.',\n",
       "  []],\n",
       " ['COVID-19 pandemic in Switzerland', None, []],\n",
       " ['Provence, Switzerland',\n",
       "  'Provence is a municipality in the district of Jura-Nord Vaudois in the canton of Vaud in Switzerland.',\n",
       "  []],\n",
       " ['Assens, Switzerland',\n",
       "  'Assens is a municipality in the district of Gros-de-Vaud in the canton of Vaud in Switzerland.',\n",
       "  []],\n",
       " ['Erlach, Switzerland',\n",
       "  'Erlach (French: Cerlier) is the capital municipality of the Seeland administrative district in the canton of Berne in Switzerland.',\n",
       "  []],\n",
       " ['Rorschach, Switzerland',\n",
       "  'Rorschach is a municipality, in the District of Rorschach in the canton of St. Gallen in Switzerland. It is on the south side of Lake Constance (Bodensee).',\n",
       "  []],\n",
       " ['Gland, Switzerland',\n",
       "  'Gland is a municipality in the district of Nyon in the canton of Vaud in Switzerland. The city also is home to the IUCN and WWF headquarters.',\n",
       "  []],\n",
       " ['Russia–Switzerland relations',\n",
       "  'Russia–Switzerland relations are foreign relations between Russia and Switzerland. Switzerland opened a consulate in Saint Petersburg in 1816, upgrading it to a legation 90 years later. The two countries broke off diplomatic relations in 1923, when Russia was going through a period of revolutionary turmoil – and they were not resumed until 1946.',\n",
       "  []],\n",
       " ['France–Switzerland relations',\n",
       "  \"Diplomatic relations between France and Switzerland have traditionally been close, notably through important economic and cultural exchanges. Switzerland and France, which is part of the European Union, share about 600 km of border (prompting strong cross-border cooperation) and a language (French is one of Switzerland's four official languages).\",\n",
       "  []],\n",
       " ['PostBus Switzerland',\n",
       "  'PostBus Switzerland (known as PostAuto Schweiz in Swiss Standard German, CarPostal Suisse in Swiss French, AutoPostale Svizzera in Swiss Italian, and AutoDaPosta Svizra in Romansh) is a subsidiary company of the Swiss Post, which provides regional and rural bus services throughout Switzerland, and also in France, Germany, and Liechtenstein.',\n",
       "  []],\n",
       " ['Höchstetten, Switzerland',\n",
       "  'Höchstetten is a municipality in the administrative district of Emmental in the canton of Bern in Switzerland.',\n",
       "  []],\n",
       " ['Canada–Switzerland relations',\n",
       "  'Canada-Swiss relations are foreign relations between Canada and Switzerland. Both countries are members of the Francophonie and the United Nations.',\n",
       "  []],\n",
       " ['Federal Council (Switzerland)',\n",
       "  'The Federal Council (German: Bundesrat, French: Conseil fédéral, Italian: Consiglio federale, Romansh: Cussegl federal) is the seven-member executive council that constitutes the federal government of the Swiss Confederation and serves as the collective head of state and of government of Switzerland.',\n",
       "  []],\n",
       " ['Germany–Switzerland relations',\n",
       "  \"Diplomatic relations between Germany and Switzerland are Switzerland's closest. Between Switzerland and Germany; and between Switzerland and the European Union (EU), of which Germany is a member, there are over 200 agreements. Switzerland is also part of the EU's Schengen Area which abolishes international borders between Schengen states.\",\n",
       "  []],\n",
       " ['Saxon Switzerland',\n",
       "  'Saxon Switzerland (German: Sächsische Schweiz) is a hilly climbing area and national park around the Elbe valley south-east of Dresden in Saxony, Germany. Together with the Bohemian Switzerland in the Czech Republic it forms the Elbe Sandstone Mountains. Saxon Switzerland alone has some 1,000 climbing peaks, as well as several hollows. The area is popular with local and international climbers. The administrative district for the area is Sächsische Schweiz-Osterzgebirge. The fortress of Königstein is a well-known landmark.',\n",
       "  []],\n",
       " ['Egg, Switzerland',\n",
       "  'Egg is a municipality in the district of Uster in the canton of Zürich in Switzerland.',\n",
       "  []],\n",
       " ['Fey, Switzerland',\n",
       "  'Fey is a municipality in the district of Gros-de-Vaud in the canton of Vaud in Switzerland.',\n",
       "  []],\n",
       " ['Müllheim, Switzerland',\n",
       "  'Müllheim is a municipality in Frauenfeld District in the canton of Thurgau in Switzerland.',\n",
       "  []],\n",
       " ['Gimel, Switzerland',\n",
       "  'Gimel is a municipality in the Swiss the canton Vaud, located in the district of Morges.',\n",
       "  []],\n",
       " ['Swat District',\n",
       "  'Swat District (Pashto: سوات ولسوالۍ\\u200e, Urdu: ضِلع سوات\\u200e) pronounced [ˈswaːt̪]) is a district in Malakand Division of Khyber Pakhtunkhwa province in Pakistan. Swat is renowned for its outstanding natural beauty. Centred upon the upper portions of the Swat River, Swat was a major centre of early Buddhist thought as part of the Gandhara kingdom, and today is littered with ruins from that era. Swat was home to the last isolated pockets of Gandharan Buddhism, which lasted until the 11th century, well after most of the area had converted to Islam. Until 1969, Swat was part of the Yusafzai State of Swat, a self-governing princely state. The region was seized by the Pakistani Taliban in late 2007, and its tourist industry decimated until Pakistani control over Swat was re-established in mid 2009.',\n",
       "  []],\n",
       " ['Laufen, Switzerland',\n",
       "  'Laufen (French: Laufon) is a municipality and the capital of the district of Laufen in the canton of Basel-Country in Switzerland. Laufen is a principal train station for the surrounding area, connecting it to Basel.',\n",
       "  []],\n",
       " ['A1 motorway (Switzerland)',\n",
       "  \"The A1 is a motorway in Switzerland. It follows Switzerland's main east–west axis, from St. Margrethen in northeastern Switzerland's canton of St. Gallen through to Geneva in southwestern Switzerland. The motorway spans 383 km (240 mi). Besides the motorway's main route, it has several branches that are variously numbered A1a, A1h, A1l and A1.1. It was opened for the Swiss national exhibition of 1964.\",\n",
       "  []],\n",
       " ['List of lakes of Switzerland',\n",
       "  'This page contains a sortable table listing all major lakes of Switzerland. The table includes all still water bodies, natural or artificial, that have a surface area of at least 0.30 square kilometres (0.12 sq mi), regardless of water volume, maximum depth or other merit. These lakes are ranked by area, the table including also the elevation above sea level and maximum depth. They are either natural (type N), natural but used as reservoirs (NR) or fully artificial (A). For a list of artificial lakes only, see List of dams and reservoirs in Switzerland. For a list of lakes above 800 metres that includes smaller water bodies, see List of mountain lakes of Switzerland.',\n",
       "  []],\n",
       " ['Green Party of Switzerland',\n",
       "  'The Green Party of Switzerland (German: Grüne Partei der Schweiz; French: Les verts – Parti écologiste suisse; Italian: I Verdi – Partito ecologista svizzero; Romansh: La Verda – Partida ecologica svizra; \"The Greens – Swiss ecologist party\") is the fourth-largest party in the National Council of Switzerland and the largest party that is not represented on the Federal Council.',\n",
       "  []],\n",
       " ['St. Peter, Switzerland',\n",
       "  'St. Peter (Romansh: Son Peder) is a village in the district of Plessur in the canton of Graubünden, Switzerland. An independent municipality before, it merged on 1 January 2008 with neighboring Pagig to form the municipality of St. Peter-Pagig.',\n",
       "  []],\n",
       " ['Austria–Switzerland relations',\n",
       "  'Austrian–Swiss relations refer to the foreign relations between Austria and Switzerland. Both countries have had diplomatic relations since the Middle Ages. The Habsburgs, who ruled Austria for more than six centuries, are originally from Aargau, Switzerland. The two countries are predominantly German-speaking. Austria has an embassy in Bern, a general consulate in Zürich and seven honorary consulates (in Basel, Chur, Geneva, Lausanne, Lugano, Lucerne and St. Gallen). Switzerland has an embassy in Vienna and six honorary consulates (in Bregenz, Graz, Innsbruck, Klagenfurt, Linz, and Salzburg). Together, both countries organized the Euro Cup 2008.',\n",
       "  []],\n",
       " ['Conservative Democratic Party of Switzerland',\n",
       "  'The Conservative Democratic Party of Switzerland (German: Bürgerlich-Demokratische Partei Schweiz, BDP; French: Parti bourgeois démocratique suisse, PBD; Italian: Partito Borghese Democratico Svizzero, PBD; Romansh: , PBD; all translations mean literally Swiss Democratic Bourgeois Party) is a conservative political party in Switzerland. Since the 2019 General election, the BDP has had three members in the National Council and one in the Council of States. The party\\'s name in German, French, Italian and Romansh comes from \"bourgeois\", the traditional European term for a centre-right party.',\n",
       "  []],\n",
       " ['St. Gallen',\n",
       "  'St. Gallen or traditionally St Gall, in German sometimes Sankt Gallen (; English: St Gall; French: Saint-Gall; Italian: San Gallo; Romansh: Son Gagl) is a Swiss town and the capital of the canton of St. Gallen. It evolved from the hermitage of Saint Gall, founded in the 7th century. Today, it is a large urban agglomeration (with around 167,000 inhabitants in 2019) and represents the center of eastern Switzerland. Its economy consists mainly of the service sector. The town is home of the University of St. Gallen, one of the best business schools in Europe.',\n",
       "  []],\n",
       " ['Cully, Switzerland',\n",
       "  'Cully is a former municipality in the Swiss canton of Vaud. It was the capital of the district of Lavaux until 2006 when it became part of the district of Lavaux-Oron. It lies on Lake Geneva. The municipalities of Cully, Epesses, Grandvaux, Riex and Villette (Lavaux) merged on 1 July 2011 into the new municipality of Bourg-en-Lavaux.',\n",
       "  []],\n",
       " ['Saint-Gingolph, Switzerland',\n",
       "  'Saint-Gingolph is a municipality in the district of Monthey in the canton of Valais in Switzerland. The municipality is the Swiss portion of the town of Saint-Gingolph, which straddles the Swiss-French border provided by the Morge river. The French (western) side of the town is known as Saint-Gingolph, Haute-Savoie.',\n",
       "  []],\n",
       " ['Romania–Switzerland relations', None, []],\n",
       " ['Restoration and Regeneration in Switzerland',\n",
       "  'The periods of Restoration and Regeneration in Swiss history last from 1814 to 1847. \"Restoration\" refers to the period of 1814 to 1830, the restoration of the Ancien Régime (federalism), reverting the changes imposed by Napoleon Bonaparte on the centralist Helvetic Republic from 1798 and the partial reversion to the old system with the Act of Mediation of 1803. \"Regeneration\" refers to the period of 1830 to 1848, when in the wake of the July Revolution the \"restored\" Ancien Régime was countered by the liberal movement. In the Protestant cantons, the rural population enforced liberal cantonal constitutions, partly in armed marches on the cities.This resulted in a conservative backlash in the Catholic cantons in the 1830s, raising the conflict to the point of civil war by 1847.',\n",
       "  []],\n",
       " ['Pomy, Switzerland',\n",
       "  'Pomy is a municipality in the district of Jura-Nord Vaudois of the canton of Vaud in Switzerland.',\n",
       "  []],\n",
       " ['Firearms regulation in Switzerland',\n",
       "  'Firearms regulation in Switzerland allows the free acquisition of semi-automatic, and—with a permit—fully automatic firearms, by Swiss citizens and some foreigners with permanent residence. The laws pertaining to the acquisition of firearms in Switzerland are in many respects more liberal than most nations. A reason is not required to own a gun unless the reason is other than sport-shooting, hunting, or collecting. Permits for concealed carrying in public are issued sparingly. The acquisition of fully automatic weapons, suppressors and target lasers requires special permits issued by the cantonal firearms office. Use of hollow-point and soft-point ammunition is limited to hunting.',\n",
       "  []],\n",
       " ['Denmark–Switzerland relations',\n",
       "  'Denmark–Switzerland relations refers to the current and historical relations between Denmark and Switzerland. Denmark has an embassy in Bern. Switzerland has an embassy in Copenhagen, but only offers consular services from the Nordic Regional Consular Centre in Stockholm. Diplomatic relations between Denmark and Switzerland were established in 1945.',\n",
       "  []],\n",
       " ['Armenia–Switzerland relations',\n",
       "  'Armenian-Swiss relations are foreign relations between Armenia and Switzerland. Switzerland recognized Armenia as an independent state on December 23, 1991. The two countries have maintained diplomatic relations ever since. The Armenian ambassador to Switzerland and the Swiss ambassador to Armenia (based in Tbilisi, Georgia) were both accredited in 2002. In 2011 the first resident Ambassador of Switzerland started his mission in Yerevan. The Armenian ambassador to Switzerland is based in Geneva, in the Armenian representation to the United Nations. Switzerland has recognized the Armenian Genocide and its denial is punishable with monetary penalty there . There are around 5,000 people of Armenian descent living in Switzerland.',\n",
       "  []],\n",
       " ['Azerbaijan–Switzerland relations',\n",
       "  'Azerbaijani–Swiss relations are foreign relations between Azerbaijan and Switzerland. Azerbaijan has an embassy in Bern as does Switzerland in Baku. Both countries are full members of the Council of Europe and the Organization for Security and Co-operation in Europe (OSCE).',\n",
       "  []],\n",
       " ['Australia–Switzerland relations',\n",
       "  'Australian–Swiss relations are foreign relations between Australia and Switzerland. Switzerland opened a consulate in Sydney in 1855 and one in Melbourne in 1856. Both countries established diplomatic relations in 1961. Australia is represented to Switzerland through its embassy in Berlin (Germany) and Australia also has a consulate-general in Geneva. Switzerland has an embassy in Canberra, a consulate-general in Sydney and 6 honorary consulates in Adelaide, Brisbane, Darwin, Hobart, Melbourne and Perth.',\n",
       "  []],\n",
       " ['Rail transport in Switzerland',\n",
       "  'The Swiss rail network is noteworthy for its density, its coordination between services, its integration with other modes of transport, timeliness and a thriving domestic and trans-alp freight system. This is made necessary by strong regulations on truck transport, and is enabled by properly coordinated intermodal logistics. Switzerland is a member of the International Union of Railways (UIC). The UIC Country Code for Switzerland is 85.',\n",
       "  []],\n",
       " ['Egypt–Switzerland relations',\n",
       "  'Egyptian-Swiss relations are the bilateral relations between Egypt and Switzerland. Official diplomatic relation between both countries date back from 1909, with the opening of a Swiss trade mission in Egypt. Egypt has an embassy in Berne and a general consulate in Geneva. Switzerland has an embassy in Cairo.',\n",
       "  []]]"
      ]
     },
     "execution_count": 23,
     "metadata": {},
     "output_type": "execute_result"
    }
   ],
   "source": [
    "    config1 = Config(\n",
    "        search=SearchConfig(iterations=10),\n",
    "        data=DataConfig(\n",
    "            directory_path='data/country/seller',\n",
    "            buyer_csv='data/country/buyer/buyer_gini.csv',\n",
    "            join_keys=[['country']],\n",
    "            target_feature='value',\n",
    "            one_target_feature=False,\n",
    "            need_to_clean_data=True\n",
    "        ),\n",
    "        experiment=ExperimentConfig(\n",
    "            plot_results=False,   # 这里先不单独画，再统一画\n",
    "            results_dir='results/'\n",
    "        ),\n",
    "        logging=LoggingConfig(\n",
    "            level='ERROR',\n",
    "            file='logs/experiment.log'\n",
    "        )\n",
    "    )\n",
    "\n",
    "    config2 = Config(\n",
    "        search=SearchConfig(iterations=12),\n",
    "        data=DataConfig(\n",
    "            directory_path='data/country/seller',\n",
    "            buyer_csv='data/country/buyer/buyer_happiness.csv',\n",
    "            join_keys=[['country']],\n",
    "            target_feature='score',\n",
    "            one_target_feature=False,\n",
    "            need_to_clean_data=True\n",
    "        ),\n",
    "        experiment=ExperimentConfig(\n",
    "            plot_results=False,\n",
    "            results_dir='results/'\n",
    "        ),\n",
    "        logging=LoggingConfig(\n",
    "            level='ERROR',\n",
    "            file='logs/experiment.log'\n",
    "        )\n",
    "    )"
   ]
  },
  {
   "cell_type": "code",
   "execution_count": 2,
   "metadata": {},
   "outputs": [
    {
     "name": "stderr",
     "output_type": "stream",
     "text": [
      "Loading sellers:   0%|          | 4/8379 [00:00<07:53, 17.70it/s]"
     ]
    },
    {
     "name": "stdout",
     "output_type": "stream",
     "text": [
      "Seller: ^AORD_data does not have the corresponding join keys\n",
      "Seller: ^AXJO_data does not have the corresponding join keys\n",
      "Seller: ^BFX_data does not have the corresponding join keys\n",
      "Seller: ^BSESN_data does not have the corresponding join keys\n",
      "Seller: ^BUK100P_data does not have the corresponding join keys\n"
     ]
    },
    {
     "name": "stderr",
     "output_type": "stream",
     "text": [
      "2025-02-20 05:48:31,452 - ERROR - Error in get_num_cols: single positional indexer is out-of-bounds\n",
      "2025-02-20 05:48:31,453 - ERROR - Error processing data/stock_ticker_datasets/seller/^CASE30_data.csv: 'NoneType' object is not iterable\n",
      "Loading sellers:   0%|          | 8/8379 [00:00<06:04, 22.98it/s]"
     ]
    },
    {
     "name": "stdout",
     "output_type": "stream",
     "text": [
      "Seller: ^BVSP_data does not have the corresponding join keys\n",
      "Seller: ^DJI_data does not have the corresponding join keys\n",
      "Seller: ^FCHI_data does not have the corresponding join keys\n",
      "Seller: ^FTSE_data does not have the corresponding join keys\n"
     ]
    },
    {
     "name": "stderr",
     "output_type": "stream",
     "text": [
      "Loading sellers:   0%|          | 11/8379 [00:00<07:12, 19.33it/s]"
     ]
    },
    {
     "name": "stdout",
     "output_type": "stream",
     "text": [
      "Seller: ^GDAXI_data does not have the corresponding join keys\n",
      "Seller: ^GSPC_data does not have the corresponding join keys\n"
     ]
    },
    {
     "name": "stderr",
     "output_type": "stream",
     "text": [
      "Loading sellers:   0%|          | 16/8379 [00:00<09:23, 14.85it/s]"
     ]
    },
    {
     "name": "stdout",
     "output_type": "stream",
     "text": [
      "Seller: ^GSPTSE_data does not have the corresponding join keys\n",
      "Seller: ^HSI_data does not have the corresponding join keys\n",
      "Seller: ^IPSA_data does not have the corresponding join keys\n",
      "Seller: ^IXIC_data does not have the corresponding join keys\n"
     ]
    },
    {
     "name": "stderr",
     "output_type": "stream",
     "text": [
      "Loading sellers:   0%|          | 21/8379 [00:01<07:54, 17.61it/s]"
     ]
    },
    {
     "name": "stdout",
     "output_type": "stream",
     "text": [
      "Seller: ^JKSE_data does not have the corresponding join keys\n",
      "Seller: ^JN0U.JO_data does not have the corresponding join keys\n",
      "Seller: ^KLSE_data does not have the corresponding join keys\n",
      "Seller: ^KS11_data does not have the corresponding join keys\n",
      "Seller: ^MERV_data does not have the corresponding join keys\n"
     ]
    },
    {
     "name": "stderr",
     "output_type": "stream",
     "text": [
      "Loading sellers:   0%|          | 23/8379 [00:01<08:02, 17.31it/s]"
     ]
    },
    {
     "name": "stdout",
     "output_type": "stream",
     "text": [
      "Seller: ^MXX_data does not have the corresponding join keys\n",
      "Seller: ^N100_data does not have the corresponding join keys\n",
      "Seller: ^N225_data does not have the corresponding join keys\n"
     ]
    },
    {
     "name": "stderr",
     "output_type": "stream",
     "text": [
      "Loading sellers:   0%|          | 27/8379 [00:01<09:07, 15.26it/s]"
     ]
    },
    {
     "name": "stdout",
     "output_type": "stream",
     "text": [
      "Seller: ^NYA_data does not have the corresponding join keys\n",
      "Seller: ^NZ50_data does not have the corresponding join keys\n",
      "Seller: ^RUT_data does not have the corresponding join keys\n",
      "Seller: ^STI_data does not have the corresponding join keys\n",
      "Seller: ^STOXX50E_data does not have the corresponding join keys\n"
     ]
    },
    {
     "name": "stderr",
     "output_type": "stream",
     "text": [
      "Loading sellers:   0%|          | 32/8379 [00:01<08:13, 16.93it/s]"
     ]
    },
    {
     "name": "stdout",
     "output_type": "stream",
     "text": [
      "Seller: ^TA125.TA_data does not have the corresponding join keys\n",
      "Seller: ^TWII_data does not have the corresponding join keys\n",
      "Seller: ^VIX_data does not have the corresponding join keys\n",
      "Seller: ^XAX_data does not have the corresponding join keys\n",
      "Seller: 1_1 does not have the corresponding join keys\n",
      "Seller: 1 does not have the corresponding join keys\n"
     ]
    },
    {
     "name": "stderr",
     "output_type": "stream",
     "text": [
      "Loading sellers:   1%|          | 42/8379 [00:02<05:15, 26.44it/s]"
     ]
    },
    {
     "name": "stdout",
     "output_type": "stream",
     "text": [
      "Seller: 000001.SS_data does not have the corresponding join keys\n",
      "Seller: 2_1 does not have the corresponding join keys\n",
      "Seller: 2 does not have the corresponding join keys\n",
      "Seller: 3_1 does not have the corresponding join keys\n",
      "Seller: 3 does not have the corresponding join keys\n",
      "Seller: 3IINFOTECH does not have the corresponding join keys\n",
      "Seller: 3MINDIA does not have the corresponding join keys\n"
     ]
    },
    {
     "name": "stderr",
     "output_type": "stream",
     "text": [
      "Loading sellers:   1%|          | 65/8379 [00:02<02:05, 66.44it/s]"
     ]
    },
    {
     "name": "stdout",
     "output_type": "stream",
     "text": [
      "Seller: 3PLAND does not have the corresponding join keys\n",
      "Seller: 4_1 does not have the corresponding join keys\n",
      "Seller: 4 does not have the corresponding join keys\n",
      "Seller: 5_1 does not have the corresponding join keys\n",
      "Seller: 5 does not have the corresponding join keys\n",
      "Seller: 5PAISA does not have the corresponding join keys\n",
      "Seller: 6_1 does not have the corresponding join keys\n",
      "Seller: 6 does not have the corresponding join keys\n",
      "Seller: 7_1 does not have the corresponding join keys\n",
      "Seller: 7 does not have the corresponding join keys\n",
      "Seller: 8_1 does not have the corresponding join keys\n",
      "Seller: 8 does not have the corresponding join keys\n",
      "Seller: 8KMILES does not have the corresponding join keys\n",
      "Seller: 9_1 does not have the corresponding join keys\n",
      "Seller: 9 does not have the corresponding join keys\n",
      "Seller: 10_1 does not have the corresponding join keys\n",
      "Seller: 10 does not have the corresponding join keys\n",
      "Seller: 11_1 does not have the corresponding join keys\n",
      "Seller: 11 does not have the corresponding join keys\n",
      "Seller: 12_1 does not have the corresponding join keys\n",
      "Seller: 12 does not have the corresponding join keys\n",
      "Seller: 13_1 does not have the corresponding join keys\n",
      "Seller: 13 does not have the corresponding join keys\n",
      "Seller: 14_1 does not have the corresponding join keys\n",
      "Seller: 14 does not have the corresponding join keys\n",
      "Seller: 15_1 does not have the corresponding join keys\n",
      "Seller: 15 does not have the corresponding join keys\n",
      "Seller: 16_1 does not have the corresponding join keys\n",
      "Seller: 16 does not have the corresponding join keys\n"
     ]
    },
    {
     "name": "stderr",
     "output_type": "stream",
     "text": [
      "Loading sellers:   1%|          | 73/8379 [00:02<02:05, 66.35it/s]"
     ]
    },
    {
     "name": "stdout",
     "output_type": "stream",
     "text": [
      "Seller: 000020 does not have the corresponding join keys\n",
      "Seller: 20MICRONS does not have the corresponding join keys\n",
      "Seller: 21STCENMGM does not have the corresponding join keys\n",
      "Seller: 000030 does not have the corresponding join keys\n",
      "Seller: 000040 does not have the corresponding join keys\n",
      "Seller: 000050 does not have the corresponding join keys\n",
      "Seller: 000060 does not have the corresponding join keys\n"
     ]
    },
    {
     "name": "stderr",
     "output_type": "stream",
     "text": [
      "Loading sellers:   1%|          | 81/8379 [00:02<02:55, 47.23it/s]"
     ]
    },
    {
     "name": "stdout",
     "output_type": "stream",
     "text": [
      "Seller: 63MOONS does not have the corresponding join keys\n",
      "Seller: 000070 does not have the corresponding join keys\n",
      "Seller: 000080 does not have the corresponding join keys\n",
      "Seller: 000100 does not have the corresponding join keys\n",
      "Seller: 000120 does not have the corresponding join keys\n",
      "Seller: 000140 does not have the corresponding join keys\n",
      "Seller: 000150 does not have the corresponding join keys\n"
     ]
    },
    {
     "name": "stderr",
     "output_type": "stream",
     "text": [
      "Loading sellers:   1%|          | 87/8379 [00:03<03:16, 42.13it/s]"
     ]
    },
    {
     "name": "stdout",
     "output_type": "stream",
     "text": [
      "Seller: 000180 does not have the corresponding join keys\n",
      "Seller: 200_Crypto_tickers's join key: Ticker does not have any intersection with the buyer's join key\n",
      "Seller: 200_Crypto_tickers does not have the corresponding join keys\n",
      "Seller: 000210 does not have the corresponding join keys\n",
      "Seller: 000220 does not have the corresponding join keys\n",
      "Seller: 000230 does not have the corresponding join keys\n",
      "Seller: 000240 does not have the corresponding join keys\n",
      "Seller: 000270 does not have the corresponding join keys\n"
     ]
    },
    {
     "name": "stderr",
     "output_type": "stream",
     "text": [
      "Loading sellers:   1%|          | 98/8379 [00:03<03:54, 35.25it/s]"
     ]
    },
    {
     "name": "stdout",
     "output_type": "stream",
     "text": [
      "Seller: 000300 does not have the corresponding join keys\n",
      "Seller: 000320 does not have the corresponding join keys\n",
      "Seller: 000370 does not have the corresponding join keys\n",
      "Seller: 000390 does not have the corresponding join keys\n",
      "Seller: 000400 does not have the corresponding join keys\n",
      "Seller: 000430 does not have the corresponding join keys\n",
      "Seller: 000480 does not have the corresponding join keys\n"
     ]
    },
    {
     "name": "stderr",
     "output_type": "stream",
     "text": [
      "Loading sellers:   1%|▏         | 106/8379 [00:03<04:07, 33.43it/s]"
     ]
    },
    {
     "name": "stdout",
     "output_type": "stream",
     "text": [
      "Seller: 000490 does not have the corresponding join keys\n",
      "Seller: 000500 does not have the corresponding join keys\n",
      "Seller: 000520 does not have the corresponding join keys\n",
      "Seller: 000540 does not have the corresponding join keys\n",
      "Seller: 000590 does not have the corresponding join keys\n",
      "Seller: 000640 does not have the corresponding join keys\n",
      "Seller: 000650 does not have the corresponding join keys\n"
     ]
    },
    {
     "name": "stderr",
     "output_type": "stream",
     "text": [
      "Loading sellers:   1%|▏         | 110/8379 [00:03<04:18, 31.95it/s]"
     ]
    },
    {
     "name": "stdout",
     "output_type": "stream",
     "text": [
      "Seller: 000660 does not have the corresponding join keys\n",
      "Seller: 000670 does not have the corresponding join keys\n",
      "Seller: 000680 does not have the corresponding join keys\n",
      "Seller: 000700 does not have the corresponding join keys\n",
      "Seller: 000720 does not have the corresponding join keys\n",
      "Seller: 000760 does not have the corresponding join keys\n"
     ]
    },
    {
     "name": "stderr",
     "output_type": "stream",
     "text": [
      "Loading sellers:   1%|▏         | 118/8379 [00:04<04:38, 29.71it/s]"
     ]
    },
    {
     "name": "stdout",
     "output_type": "stream",
     "text": [
      "Seller: 000810 does not have the corresponding join keys\n",
      "Seller: 000850 does not have the corresponding join keys\n",
      "Seller: 000860 does not have the corresponding join keys\n",
      "Seller: 000880 does not have the corresponding join keys\n",
      "Seller: 000890 does not have the corresponding join keys\n",
      "Seller: 000910 does not have the corresponding join keys\n"
     ]
    },
    {
     "name": "stderr",
     "output_type": "stream",
     "text": [
      "Loading sellers:   1%|▏         | 122/8379 [00:04<04:43, 29.10it/s]"
     ]
    },
    {
     "name": "stdout",
     "output_type": "stream",
     "text": [
      "Seller: 000950 does not have the corresponding join keys\n",
      "Seller: 000970 does not have the corresponding join keys\n",
      "Seller: 000990 does not have the corresponding join keys\n",
      "Seller: 001020 does not have the corresponding join keys\n",
      "Seller: 001040 does not have the corresponding join keys\n",
      "Seller: 001060 does not have the corresponding join keys\n"
     ]
    },
    {
     "name": "stderr",
     "output_type": "stream",
     "text": [
      "Loading sellers:   2%|▏         | 128/8379 [00:04<04:47, 28.71it/s]"
     ]
    },
    {
     "name": "stdout",
     "output_type": "stream",
     "text": [
      "Seller: 001070 does not have the corresponding join keys\n",
      "Seller: 001080 does not have the corresponding join keys\n",
      "Seller: 001120 does not have the corresponding join keys\n",
      "Seller: 001130 does not have the corresponding join keys\n",
      "Seller: 001140 does not have the corresponding join keys\n",
      "Seller: 001200 does not have the corresponding join keys\n"
     ]
    },
    {
     "name": "stderr",
     "output_type": "stream",
     "text": [
      "Loading sellers:   2%|▏         | 134/8379 [00:04<04:52, 28.15it/s]"
     ]
    },
    {
     "name": "stdout",
     "output_type": "stream",
     "text": [
      "Seller: 001210 does not have the corresponding join keys\n",
      "Seller: 001230 does not have the corresponding join keys\n",
      "Seller: 001250 does not have the corresponding join keys\n",
      "Seller: 001260 does not have the corresponding join keys\n",
      "Seller: 001270 does not have the corresponding join keys\n",
      "Seller: 001290 does not have the corresponding join keys\n"
     ]
    },
    {
     "name": "stderr",
     "output_type": "stream",
     "text": [
      "Loading sellers:   2%|▏         | 140/8379 [00:04<04:59, 27.52it/s]"
     ]
    },
    {
     "name": "stdout",
     "output_type": "stream",
     "text": [
      "Seller: 001340 does not have the corresponding join keys\n",
      "Seller: 001360 does not have the corresponding join keys\n",
      "Seller: 001380 does not have the corresponding join keys\n",
      "Seller: 001390 does not have the corresponding join keys\n",
      "Seller: 001420 does not have the corresponding join keys\n",
      "Seller: 001430 does not have the corresponding join keys\n"
     ]
    },
    {
     "name": "stderr",
     "output_type": "stream",
     "text": [
      "Loading sellers:   2%|▏         | 147/8379 [00:05<04:50, 28.29it/s]"
     ]
    },
    {
     "name": "stdout",
     "output_type": "stream",
     "text": [
      "Seller: 001440 does not have the corresponding join keys\n",
      "Seller: 001450 does not have the corresponding join keys\n",
      "Seller: 001460 does not have the corresponding join keys\n",
      "Seller: 001470 does not have the corresponding join keys\n",
      "Seller: 001500 does not have the corresponding join keys\n",
      "Seller: 001510 does not have the corresponding join keys\n",
      "Seller: 001520 does not have the corresponding join keys\n"
     ]
    },
    {
     "name": "stderr",
     "output_type": "stream",
     "text": [
      "Loading sellers:   2%|▏         | 155/8379 [00:05<04:43, 29.06it/s]"
     ]
    },
    {
     "name": "stdout",
     "output_type": "stream",
     "text": [
      "Seller: 001530 does not have the corresponding join keys\n",
      "Seller: 001550 does not have the corresponding join keys\n",
      "Seller: 001560 does not have the corresponding join keys\n",
      "Seller: 001570 does not have the corresponding join keys\n",
      "Seller: 001620 does not have the corresponding join keys\n",
      "Seller: 001630 does not have the corresponding join keys\n",
      "Seller: 001680 does not have the corresponding join keys\n"
     ]
    },
    {
     "name": "stderr",
     "output_type": "stream",
     "text": [
      "Loading sellers:   2%|▏         | 162/8379 [00:05<04:40, 29.29it/s]"
     ]
    },
    {
     "name": "stdout",
     "output_type": "stream",
     "text": [
      "Seller: 001720 does not have the corresponding join keys\n",
      "Seller: 001740 does not have the corresponding join keys\n",
      "Seller: 001750 does not have the corresponding join keys\n",
      "Seller: 001770 does not have the corresponding join keys\n",
      "Seller: 001780 does not have the corresponding join keys\n",
      "Seller: 001790 does not have the corresponding join keys\n",
      "Seller: 001800 does not have the corresponding join keys\n"
     ]
    },
    {
     "name": "stderr",
     "output_type": "stream",
     "text": [
      "Loading sellers:   2%|▏         | 169/8379 [00:05<04:32, 30.15it/s]"
     ]
    },
    {
     "name": "stdout",
     "output_type": "stream",
     "text": [
      "Seller: 001820 does not have the corresponding join keys\n",
      "Seller: 001880 does not have the corresponding join keys\n",
      "Seller: 001940 does not have the corresponding join keys\n",
      "Seller: 002000 does not have the corresponding join keys\n",
      "Seller: 2008_Globla_Markets_Data's join key: Ticker does not have any intersection with the buyer's join key\n",
      "Seller: 2008_Globla_Markets_Data does not have the corresponding join keys\n",
      "Seller: 2009_Globla_Markets_Data's join key: Ticker does not have any intersection with the buyer's join key\n",
      "Seller: 2009_Globla_Markets_Data does not have the corresponding join keys\n",
      "Seller: 2010_Global_Markets_Data's join key: Ticker does not have any intersection with the buyer's join key\n",
      "Seller: 2010_Global_Markets_Data does not have the corresponding join keys\n"
     ]
    },
    {
     "name": "stderr",
     "output_type": "stream",
     "text": [
      "Loading sellers:   2%|▏         | 177/8379 [00:06<04:27, 30.68it/s]"
     ]
    },
    {
     "name": "stdout",
     "output_type": "stream",
     "text": [
      "Seller: 2011_Global_Markets_Data's join key: Ticker does not have any intersection with the buyer's join key\n",
      "Seller: 2011_Global_Markets_Data does not have the corresponding join keys\n",
      "Seller: 2012_Global_Markets_Data's join key: Ticker does not have any intersection with the buyer's join key\n",
      "Seller: 2012_Global_Markets_Data does not have the corresponding join keys\n",
      "Seller: 2013_Global_Markets_Data's join key: Ticker does not have any intersection with the buyer's join key\n",
      "Seller: 2013_Global_Markets_Data does not have the corresponding join keys\n",
      "Seller: 2014_Global_Markets_Data's join key: Ticker does not have any intersection with the buyer's join key\n",
      "Seller: 2014_Global_Markets_Data does not have the corresponding join keys\n",
      "Seller: 2015_Global_Markets_Data's join key: Ticker does not have any intersection with the buyer's join key\n",
      "Seller: 2015_Global_Markets_Data does not have the corresponding join keys\n",
      "Seller: 2016_Global_Markets_Data's join key: Ticker does not have any intersection with the buyer's join key\n",
      "Seller: 2016_Global_Markets_Data does not have the corresponding join keys\n",
      "Seller: 2017_Global_Markets_Data's join key: Ticker does not have any intersection with the buyer's join key\n",
      "Seller: 2017_Global_Markets_Data does not have the corresponding join keys\n"
     ]
    },
    {
     "name": "stderr",
     "output_type": "stream",
     "text": [
      "Loading sellers:   2%|▏         | 181/8379 [00:06<04:21, 31.32it/s]"
     ]
    },
    {
     "name": "stdout",
     "output_type": "stream",
     "text": [
      "Seller: 2018_Global_Markets_Data's join key: Ticker does not have any intersection with the buyer's join key\n",
      "Seller: 2018_Global_Markets_Data does not have the corresponding join keys\n",
      "Seller: 2019_Global_Markets_Data's join key: Ticker does not have any intersection with the buyer's join key\n",
      "Seller: 2019_Global_Markets_Data does not have the corresponding join keys\n",
      "Seller: 2020_Global_Markets_Data's join key: Ticker does not have any intersection with the buyer's join key\n",
      "Seller: 2020_Global_Markets_Data does not have the corresponding join keys\n",
      "Seller: 002020 does not have the corresponding join keys\n",
      "Seller: 2021_Global_Markets_Data's join key: Ticker does not have any intersection with the buyer's join key\n",
      "Seller: 2021_Global_Markets_Data does not have the corresponding join keys\n",
      "Seller: 2022_Global_Markets_Data's join key: Ticker does not have any intersection with the buyer's join key\n",
      "Seller: 2022_Global_Markets_Data does not have the corresponding join keys\n",
      "Seller: 2023_Global_Markets_Data's join key: Ticker does not have any intersection with the buyer's join key\n",
      "Seller: 2023_Global_Markets_Data does not have the corresponding join keys\n"
     ]
    },
    {
     "name": "stderr",
     "output_type": "stream",
     "text": [
      "Loading sellers:   2%|▏         | 189/8379 [00:06<04:22, 31.21it/s]"
     ]
    },
    {
     "name": "stdout",
     "output_type": "stream",
     "text": [
      "Seller: 002030 does not have the corresponding join keys\n",
      "Seller: 002070 does not have the corresponding join keys\n",
      "Seller: 002100 does not have the corresponding join keys\n",
      "Seller: 002140 does not have the corresponding join keys\n",
      "Seller: 002150 does not have the corresponding join keys\n",
      "Seller: 002170 does not have the corresponding join keys\n",
      "Seller: 002200 does not have the corresponding join keys\n"
     ]
    },
    {
     "name": "stderr",
     "output_type": "stream",
     "text": [
      "Loading sellers:   2%|▏         | 197/8379 [00:06<04:35, 29.75it/s]"
     ]
    },
    {
     "name": "stdout",
     "output_type": "stream",
     "text": [
      "Seller: 002210 does not have the corresponding join keys\n",
      "Seller: 002220 does not have the corresponding join keys\n",
      "Seller: 002240 does not have the corresponding join keys\n",
      "Seller: 002250 does not have the corresponding join keys\n",
      "Seller: 002270 does not have the corresponding join keys\n",
      "Seller: 002300 does not have the corresponding join keys\n"
     ]
    },
    {
     "name": "stderr",
     "output_type": "stream",
     "text": [
      "Loading sellers:   2%|▏         | 203/8379 [00:07<04:52, 27.94it/s]"
     ]
    },
    {
     "name": "stdout",
     "output_type": "stream",
     "text": [
      "Seller: 002310 does not have the corresponding join keys\n",
      "Seller: 002320 does not have the corresponding join keys\n",
      "Seller: 002350 does not have the corresponding join keys\n",
      "Seller: 002360 does not have the corresponding join keys\n",
      "Seller: 002380 does not have the corresponding join keys\n",
      "Seller: 002390 does not have the corresponding join keys\n"
     ]
    },
    {
     "name": "stderr",
     "output_type": "stream",
     "text": [
      "Loading sellers:   2%|▏         | 209/8379 [00:07<04:54, 27.71it/s]"
     ]
    },
    {
     "name": "stdout",
     "output_type": "stream",
     "text": [
      "Seller: 002410 does not have the corresponding join keys\n",
      "Seller: 002420 does not have the corresponding join keys\n",
      "Seller: 002450 does not have the corresponding join keys\n",
      "Seller: 002460 does not have the corresponding join keys\n",
      "Seller: 002550 does not have the corresponding join keys\n",
      "Seller: 002600 does not have the corresponding join keys\n"
     ]
    },
    {
     "name": "stderr",
     "output_type": "stream",
     "text": [
      "Loading sellers:   3%|▎         | 216/8379 [00:07<04:37, 29.47it/s]"
     ]
    },
    {
     "name": "stdout",
     "output_type": "stream",
     "text": [
      "Seller: 002620 does not have the corresponding join keys\n",
      "Seller: 002630 does not have the corresponding join keys\n",
      "Seller: 002690 does not have the corresponding join keys\n",
      "Seller: 002700 does not have the corresponding join keys\n",
      "Seller: 002710 does not have the corresponding join keys\n",
      "Seller: 002720 does not have the corresponding join keys\n",
      "Seller: 002760 does not have the corresponding join keys\n",
      "Seller: 002780 does not have the corresponding join keys\n"
     ]
    },
    {
     "name": "stderr",
     "output_type": "stream",
     "text": [
      "Loading sellers:   3%|▎         | 220/8379 [00:07<04:23, 30.99it/s]"
     ]
    },
    {
     "name": "stdout",
     "output_type": "stream",
     "text": [
      "Seller: 002790 does not have the corresponding join keys\n",
      "Seller: 002810 does not have the corresponding join keys\n",
      "Seller: 002820 does not have the corresponding join keys\n",
      "Seller: 002840 does not have the corresponding join keys\n",
      "Seller: 002870 does not have the corresponding join keys\n",
      "Seller: 002880 does not have the corresponding join keys\n"
     ]
    },
    {
     "name": "stderr",
     "output_type": "stream",
     "text": [
      "Loading sellers:   3%|▎         | 227/8379 [00:07<04:38, 29.24it/s]"
     ]
    },
    {
     "name": "stdout",
     "output_type": "stream",
     "text": [
      "Seller: 002900 does not have the corresponding join keys\n",
      "Seller: 002920 does not have the corresponding join keys\n",
      "Seller: 002960 does not have the corresponding join keys\n",
      "Seller: 002990 does not have the corresponding join keys\n",
      "Seller: 003000 does not have the corresponding join keys\n",
      "Seller: 003010 does not have the corresponding join keys\n",
      "Seller: 003030 does not have the corresponding join keys\n"
     ]
    },
    {
     "name": "stderr",
     "output_type": "stream",
     "text": [
      "Loading sellers:   3%|▎         | 235/8379 [00:08<04:38, 29.26it/s]"
     ]
    },
    {
     "name": "stdout",
     "output_type": "stream",
     "text": [
      "Seller: 003060 does not have the corresponding join keys\n",
      "Seller: 003070 does not have the corresponding join keys\n",
      "Seller: 003080 does not have the corresponding join keys\n",
      "Seller: 003090 does not have the corresponding join keys\n",
      "Seller: 003120 does not have the corresponding join keys\n",
      "Seller: 003160 does not have the corresponding join keys\n",
      "Seller: 003200 does not have the corresponding join keys\n"
     ]
    },
    {
     "name": "stderr",
     "output_type": "stream",
     "text": [
      "Loading sellers:   3%|▎         | 242/8379 [00:08<04:42, 28.80it/s]"
     ]
    },
    {
     "name": "stdout",
     "output_type": "stream",
     "text": [
      "Seller: 003220 does not have the corresponding join keys\n",
      "Seller: 003230 does not have the corresponding join keys\n",
      "Seller: 003240 does not have the corresponding join keys\n",
      "Seller: 003280 does not have the corresponding join keys\n",
      "Seller: 003300 does not have the corresponding join keys\n",
      "Seller: 003350 does not have the corresponding join keys\n"
     ]
    },
    {
     "name": "stderr",
     "output_type": "stream",
     "text": [
      "Loading sellers:   3%|▎         | 249/8379 [00:08<04:42, 28.73it/s]"
     ]
    },
    {
     "name": "stdout",
     "output_type": "stream",
     "text": [
      "Seller: 003410 does not have the corresponding join keys\n",
      "Seller: 003460 does not have the corresponding join keys\n",
      "Seller: 003470 does not have the corresponding join keys\n",
      "Seller: 003480 does not have the corresponding join keys\n",
      "Seller: 003490 does not have the corresponding join keys\n",
      "Seller: 003520 does not have the corresponding join keys\n",
      "Seller: 003530 does not have the corresponding join keys\n"
     ]
    },
    {
     "name": "stderr",
     "output_type": "stream",
     "text": [
      "Loading sellers:   3%|▎         | 255/8379 [00:08<04:44, 28.55it/s]"
     ]
    },
    {
     "name": "stdout",
     "output_type": "stream",
     "text": [
      "Seller: 003540 does not have the corresponding join keys\n",
      "Seller: 003550 does not have the corresponding join keys\n",
      "Seller: 003560 does not have the corresponding join keys\n",
      "Seller: 003570 does not have the corresponding join keys\n",
      "Seller: 003580 does not have the corresponding join keys\n",
      "Seller: 003610 does not have the corresponding join keys\n",
      "Seller: 003620 does not have the corresponding join keys\n"
     ]
    },
    {
     "name": "stderr",
     "output_type": "stream",
     "text": [
      "Loading sellers:   3%|▎         | 261/8379 [00:08<04:46, 28.34it/s]"
     ]
    },
    {
     "name": "stdout",
     "output_type": "stream",
     "text": [
      "Seller: 003650 does not have the corresponding join keys\n",
      "Seller: 003680 does not have the corresponding join keys\n",
      "Seller: 003690 does not have the corresponding join keys\n",
      "Seller: 003720 does not have the corresponding join keys\n",
      "Seller: 003780 does not have the corresponding join keys\n",
      "Seller: 003830 does not have the corresponding join keys\n"
     ]
    },
    {
     "name": "stderr",
     "output_type": "stream",
     "text": [
      "Loading sellers:   3%|▎         | 267/8379 [00:09<04:53, 27.66it/s]"
     ]
    },
    {
     "name": "stdout",
     "output_type": "stream",
     "text": [
      "Seller: 003850 does not have the corresponding join keys\n",
      "Seller: 003920 does not have the corresponding join keys\n",
      "Seller: 003960 does not have the corresponding join keys\n",
      "Seller: 004000 does not have the corresponding join keys\n",
      "Seller: 004020 does not have the corresponding join keys\n",
      "Seller: 004060 does not have the corresponding join keys\n"
     ]
    },
    {
     "name": "stderr",
     "output_type": "stream",
     "text": [
      "Loading sellers:   3%|▎         | 273/8379 [00:09<04:53, 27.60it/s]"
     ]
    },
    {
     "name": "stdout",
     "output_type": "stream",
     "text": [
      "Seller: 004080 does not have the corresponding join keys\n",
      "Seller: 004090 does not have the corresponding join keys\n",
      "Seller: 004100 does not have the corresponding join keys\n",
      "Seller: 004130 does not have the corresponding join keys\n",
      "Seller: 004140 does not have the corresponding join keys\n",
      "Seller: 004150 does not have the corresponding join keys\n",
      "Seller: 004170 does not have the corresponding join keys\n"
     ]
    },
    {
     "name": "stderr",
     "output_type": "stream",
     "text": [
      "Loading sellers:   3%|▎         | 281/8379 [00:09<04:42, 28.72it/s]"
     ]
    },
    {
     "name": "stdout",
     "output_type": "stream",
     "text": [
      "Seller: 004200 does not have the corresponding join keys\n",
      "Seller: 004250 does not have the corresponding join keys\n",
      "Seller: 004270 does not have the corresponding join keys\n",
      "Seller: 004310 does not have the corresponding join keys\n",
      "Seller: 004360 does not have the corresponding join keys\n",
      "Seller: 004370 does not have the corresponding join keys\n",
      "Seller: 004380 does not have the corresponding join keys\n"
     ]
    },
    {
     "name": "stderr",
     "output_type": "stream",
     "text": [
      "Loading sellers:   3%|▎         | 288/8379 [00:09<04:26, 30.30it/s]"
     ]
    },
    {
     "name": "stdout",
     "output_type": "stream",
     "text": [
      "Seller: 004410 does not have the corresponding join keys\n",
      "Seller: 004430 does not have the corresponding join keys\n",
      "Seller: 004440 does not have the corresponding join keys\n",
      "Seller: 004450 does not have the corresponding join keys\n",
      "Seller: 004490 does not have the corresponding join keys\n",
      "Seller: 004540 does not have the corresponding join keys\n",
      "Seller: 004560 does not have the corresponding join keys\n"
     ]
    },
    {
     "name": "stderr",
     "output_type": "stream",
     "text": [
      "Loading sellers:   4%|▎         | 295/8379 [00:10<04:34, 29.47it/s]"
     ]
    },
    {
     "name": "stdout",
     "output_type": "stream",
     "text": [
      "Seller: 004690 does not have the corresponding join keys\n",
      "Seller: 004700 does not have the corresponding join keys\n",
      "Seller: 004710 does not have the corresponding join keys\n",
      "Seller: 004720 does not have the corresponding join keys\n",
      "Seller: 004770 does not have the corresponding join keys\n",
      "Seller: 004800 does not have the corresponding join keys\n"
     ]
    },
    {
     "name": "stderr",
     "output_type": "stream",
     "text": [
      "Loading sellers:   4%|▎         | 302/8379 [00:10<04:36, 29.18it/s]"
     ]
    },
    {
     "name": "stdout",
     "output_type": "stream",
     "text": [
      "Seller: 004830 does not have the corresponding join keys\n",
      "Seller: 004840 does not have the corresponding join keys\n",
      "Seller: 004870 does not have the corresponding join keys\n",
      "Seller: 004890 does not have the corresponding join keys\n",
      "Seller: 004910 does not have the corresponding join keys\n",
      "Seller: 004920 does not have the corresponding join keys\n"
     ]
    },
    {
     "name": "stderr",
     "output_type": "stream",
     "text": [
      "Loading sellers:   4%|▎         | 309/8379 [00:10<04:30, 29.81it/s]"
     ]
    },
    {
     "name": "stdout",
     "output_type": "stream",
     "text": [
      "Seller: 004960 does not have the corresponding join keys\n",
      "Seller: 004970 does not have the corresponding join keys\n",
      "Seller: 004980 does not have the corresponding join keys\n",
      "Seller: 004990 does not have the corresponding join keys\n",
      "Seller: 005010 does not have the corresponding join keys\n",
      "Seller: 005030 does not have the corresponding join keys\n",
      "Seller: 005070 does not have the corresponding join keys\n"
     ]
    },
    {
     "name": "stderr",
     "output_type": "stream",
     "text": [
      "Loading sellers:   4%|▍         | 315/8379 [00:10<04:42, 28.56it/s]"
     ]
    },
    {
     "name": "stdout",
     "output_type": "stream",
     "text": [
      "Seller: 005090 does not have the corresponding join keys\n",
      "Seller: 005110 does not have the corresponding join keys\n",
      "Seller: 005180 does not have the corresponding join keys\n",
      "Seller: 005190 does not have the corresponding join keys\n",
      "Seller: 005250 does not have the corresponding join keys\n",
      "Seller: 005300 does not have the corresponding join keys\n"
     ]
    },
    {
     "name": "stderr",
     "output_type": "stream",
     "text": [
      "Loading sellers:   4%|▍         | 321/8379 [00:11<04:49, 27.85it/s]"
     ]
    },
    {
     "name": "stdout",
     "output_type": "stream",
     "text": [
      "Seller: 005320 does not have the corresponding join keys\n",
      "Seller: 005360 does not have the corresponding join keys\n",
      "Seller: 005380 does not have the corresponding join keys\n",
      "Seller: 005390 does not have the corresponding join keys\n",
      "Seller: 005420 does not have the corresponding join keys\n",
      "Seller: 005430 does not have the corresponding join keys\n"
     ]
    },
    {
     "name": "stderr",
     "output_type": "stream",
     "text": [
      "Loading sellers:   4%|▍         | 324/8379 [00:11<04:52, 27.54it/s]"
     ]
    },
    {
     "name": "stdout",
     "output_type": "stream",
     "text": [
      "Seller: 005440 does not have the corresponding join keys\n",
      "Seller: 005450 does not have the corresponding join keys\n",
      "Seller: 005490 does not have the corresponding join keys\n",
      "Seller: 005500 does not have the corresponding join keys\n",
      "Seller: 005610 does not have the corresponding join keys\n",
      "Seller: 005620 does not have the corresponding join keys\n"
     ]
    },
    {
     "name": "stderr",
     "output_type": "stream",
     "text": [
      "Loading sellers:   4%|▍         | 331/8379 [00:11<04:44, 28.24it/s]"
     ]
    },
    {
     "name": "stdout",
     "output_type": "stream",
     "text": [
      "Seller: 005680 does not have the corresponding join keys\n",
      "Seller: 005690 does not have the corresponding join keys\n",
      "Seller: 005720 does not have the corresponding join keys\n",
      "Seller: 005740 does not have the corresponding join keys\n",
      "Seller: 005750 does not have the corresponding join keys\n",
      "Seller: 005800 does not have the corresponding join keys\n"
     ]
    },
    {
     "name": "stderr",
     "output_type": "stream",
     "text": [
      "Loading sellers:   4%|▍         | 337/8379 [00:11<04:50, 27.70it/s]"
     ]
    },
    {
     "name": "stdout",
     "output_type": "stream",
     "text": [
      "Seller: 005810 does not have the corresponding join keys\n",
      "Seller: 005820 does not have the corresponding join keys\n",
      "Seller: 005830 does not have the corresponding join keys\n",
      "Seller: 005850 does not have the corresponding join keys\n",
      "Seller: 005870 does not have the corresponding join keys\n",
      "Seller: 005880 does not have the corresponding join keys\n"
     ]
    },
    {
     "name": "stderr",
     "output_type": "stream",
     "text": [
      "Loading sellers:   4%|▍         | 343/8379 [00:11<04:54, 27.32it/s]"
     ]
    },
    {
     "name": "stdout",
     "output_type": "stream",
     "text": [
      "Seller: 005930 does not have the corresponding join keys\n",
      "Seller: 005940 does not have the corresponding join keys\n",
      "Seller: 005950 does not have the corresponding join keys\n",
      "Seller: 005960 does not have the corresponding join keys\n",
      "Seller: 005980 does not have the corresponding join keys\n",
      "Seller: 006040 does not have the corresponding join keys\n",
      "Seller: 006060 does not have the corresponding join keys\n"
     ]
    },
    {
     "name": "stderr",
     "output_type": "stream",
     "text": [
      "Loading sellers:   4%|▍         | 352/8379 [00:12<04:57, 27.00it/s]"
     ]
    },
    {
     "name": "stdout",
     "output_type": "stream",
     "text": [
      "Seller: 006090 does not have the corresponding join keys\n",
      "Seller: 006110 does not have the corresponding join keys\n",
      "Seller: 006120 does not have the corresponding join keys\n",
      "Seller: 006200 does not have the corresponding join keys\n",
      "Seller: 006220 does not have the corresponding join keys\n",
      "Seller: 006260 does not have the corresponding join keys\n"
     ]
    },
    {
     "name": "stderr",
     "output_type": "stream",
     "text": [
      "Loading sellers:   4%|▍         | 358/8379 [00:12<04:54, 27.24it/s]"
     ]
    },
    {
     "name": "stdout",
     "output_type": "stream",
     "text": [
      "Seller: 006280 does not have the corresponding join keys\n",
      "Seller: 006340 does not have the corresponding join keys\n",
      "Seller: 006360 does not have the corresponding join keys\n",
      "Seller: 006370 does not have the corresponding join keys\n",
      "Seller: 006380 does not have the corresponding join keys\n",
      "Seller: 006390 does not have the corresponding join keys\n",
      "Seller: 006400 does not have the corresponding join keys\n"
     ]
    },
    {
     "name": "stderr",
     "output_type": "stream",
     "text": [
      "Loading sellers:   4%|▍         | 364/8379 [00:12<04:53, 27.31it/s]"
     ]
    },
    {
     "name": "stdout",
     "output_type": "stream",
     "text": [
      "Seller: 006490 does not have the corresponding join keys\n",
      "Seller: 006570 does not have the corresponding join keys\n",
      "Seller: 006650 does not have the corresponding join keys\n",
      "Seller: 006660 does not have the corresponding join keys\n",
      "Seller: 006740 does not have the corresponding join keys\n",
      "Seller: 006800 does not have the corresponding join keys\n",
      "Seller: 006840 does not have the corresponding join keys\n"
     ]
    },
    {
     "name": "stderr",
     "output_type": "stream",
     "text": [
      "Loading sellers:   4%|▍         | 372/8379 [00:12<04:21, 30.66it/s]"
     ]
    },
    {
     "name": "stdout",
     "output_type": "stream",
     "text": [
      "Seller: 006880 does not have the corresponding join keys\n",
      "Seller: 006890 does not have the corresponding join keys\n",
      "Seller: 006980 does not have the corresponding join keys\n",
      "Seller: 007070 does not have the corresponding join keys\n",
      "Seller: 007110 does not have the corresponding join keys\n",
      "Seller: 007120 does not have the corresponding join keys\n",
      "Seller: 007160 does not have the corresponding join keys\n"
     ]
    },
    {
     "name": "stderr",
     "output_type": "stream",
     "text": [
      "Loading sellers:   5%|▍         | 379/8379 [00:13<04:37, 28.82it/s]"
     ]
    },
    {
     "name": "stdout",
     "output_type": "stream",
     "text": [
      "Seller: 007210 does not have the corresponding join keys\n",
      "Seller: 007280 does not have the corresponding join keys\n",
      "Seller: 007310 does not have the corresponding join keys\n",
      "Seller: 007340 does not have the corresponding join keys\n",
      "Seller: 007460 does not have the corresponding join keys\n",
      "Seller: 007540 does not have the corresponding join keys\n"
     ]
    },
    {
     "name": "stderr",
     "output_type": "stream",
     "text": [
      "Loading sellers:   5%|▍         | 385/8379 [00:13<04:42, 28.31it/s]"
     ]
    },
    {
     "name": "stdout",
     "output_type": "stream",
     "text": [
      "Seller: 007570 does not have the corresponding join keys\n",
      "Seller: 007590 does not have the corresponding join keys\n",
      "Seller: 007610 does not have the corresponding join keys\n",
      "Seller: 007630 does not have the corresponding join keys\n",
      "Seller: 007660 does not have the corresponding join keys\n",
      "Seller: 007690 does not have the corresponding join keys\n"
     ]
    },
    {
     "name": "stderr",
     "output_type": "stream",
     "text": [
      "Loading sellers:   5%|▍         | 391/8379 [00:13<04:45, 28.00it/s]"
     ]
    },
    {
     "name": "stdout",
     "output_type": "stream",
     "text": [
      "Seller: 007700 does not have the corresponding join keys\n",
      "Seller: 007810 does not have the corresponding join keys\n",
      "Seller: 007860 does not have the corresponding join keys\n",
      "Seller: 007980 does not have the corresponding join keys\n",
      "Seller: 008000 does not have the corresponding join keys\n",
      "Seller: 008040 does not have the corresponding join keys\n"
     ]
    },
    {
     "name": "stderr",
     "output_type": "stream",
     "text": [
      "Loading sellers:   5%|▍         | 397/8379 [00:13<04:53, 27.18it/s]"
     ]
    },
    {
     "name": "stdout",
     "output_type": "stream",
     "text": [
      "Seller: 008060 does not have the corresponding join keys\n",
      "Seller: 008110 does not have the corresponding join keys\n",
      "Seller: 008250 does not have the corresponding join keys\n",
      "Seller: 008260 does not have the corresponding join keys\n",
      "Seller: 008350 does not have the corresponding join keys\n",
      "Seller: 008420 does not have the corresponding join keys\n"
     ]
    },
    {
     "name": "stderr",
     "output_type": "stream",
     "text": [
      "Loading sellers:   5%|▍         | 403/8379 [00:14<04:50, 27.44it/s]"
     ]
    },
    {
     "name": "stdout",
     "output_type": "stream",
     "text": [
      "Seller: 008490 does not have the corresponding join keys\n",
      "Seller: 008500 does not have the corresponding join keys\n",
      "Seller: 008560 does not have the corresponding join keys\n",
      "Seller: 008600 does not have the corresponding join keys\n",
      "Seller: 008700 does not have the corresponding join keys\n",
      "Seller: 008730 does not have the corresponding join keys\n"
     ]
    },
    {
     "name": "stderr",
     "output_type": "stream",
     "text": [
      "Loading sellers:   5%|▍         | 409/8379 [00:14<04:46, 27.77it/s]"
     ]
    },
    {
     "name": "stdout",
     "output_type": "stream",
     "text": [
      "Seller: 008770 does not have the corresponding join keys\n",
      "Seller: 008870 does not have the corresponding join keys\n",
      "Seller: 008930 does not have the corresponding join keys\n",
      "Seller: 008970 does not have the corresponding join keys\n",
      "Seller: 009070 does not have the corresponding join keys\n",
      "Seller: 009140 does not have the corresponding join keys\n"
     ]
    },
    {
     "name": "stderr",
     "output_type": "stream",
     "text": [
      "Loading sellers:   5%|▍         | 415/8379 [00:14<04:45, 27.93it/s]"
     ]
    },
    {
     "name": "stdout",
     "output_type": "stream",
     "text": [
      "Seller: 009150 does not have the corresponding join keys\n",
      "Seller: 009160 does not have the corresponding join keys\n",
      "Seller: 009180 does not have the corresponding join keys\n",
      "Seller: 009190 does not have the corresponding join keys\n",
      "Seller: 009200 does not have the corresponding join keys\n",
      "Seller: 009240 does not have the corresponding join keys\n"
     ]
    },
    {
     "name": "stderr",
     "output_type": "stream",
     "text": [
      "Loading sellers:   5%|▌         | 422/8379 [00:14<04:35, 28.88it/s]"
     ]
    },
    {
     "name": "stdout",
     "output_type": "stream",
     "text": [
      "Seller: 009270 does not have the corresponding join keys\n",
      "Seller: 009290 does not have the corresponding join keys\n",
      "Seller: 009310 does not have the corresponding join keys\n",
      "Seller: 009320 does not have the corresponding join keys\n",
      "Seller: 009410 does not have the corresponding join keys\n",
      "Seller: 009420 does not have the corresponding join keys\n",
      "Seller: 009440 does not have the corresponding join keys\n"
     ]
    },
    {
     "name": "stderr",
     "output_type": "stream",
     "text": [
      "Loading sellers:   5%|▌         | 428/8379 [00:14<04:39, 28.48it/s]"
     ]
    },
    {
     "name": "stdout",
     "output_type": "stream",
     "text": [
      "Seller: 009450 does not have the corresponding join keys\n",
      "Seller: 009460 does not have the corresponding join keys\n",
      "Seller: 009470 does not have the corresponding join keys\n",
      "Seller: 009540 does not have the corresponding join keys\n",
      "Seller: 009580 does not have the corresponding join keys\n",
      "Seller: 009680 does not have the corresponding join keys\n"
     ]
    },
    {
     "name": "stderr",
     "output_type": "stream",
     "text": [
      "Loading sellers:   5%|▌         | 432/8379 [00:15<04:36, 28.75it/s]"
     ]
    },
    {
     "name": "stdout",
     "output_type": "stream",
     "text": [
      "Seller: 009770 does not have the corresponding join keys\n",
      "Seller: 009810 does not have the corresponding join keys\n",
      "Seller: 009830 does not have the corresponding join keys\n",
      "Seller: 009970 does not have the corresponding join keys\n",
      "Seller: 010040 does not have the corresponding join keys\n",
      "Seller: 010050 does not have the corresponding join keys\n"
     ]
    },
    {
     "name": "stderr",
     "output_type": "stream",
     "text": [
      "Loading sellers:   5%|▌         | 438/8379 [00:15<04:38, 28.55it/s]"
     ]
    },
    {
     "name": "stdout",
     "output_type": "stream",
     "text": [
      "Seller: 010060 does not have the corresponding join keys\n",
      "Seller: 010100 does not have the corresponding join keys\n",
      "Seller: 010120 does not have the corresponding join keys\n",
      "Seller: 010130 does not have the corresponding join keys\n",
      "Seller: 010140 does not have the corresponding join keys\n",
      "Seller: 010420 does not have the corresponding join keys\n"
     ]
    },
    {
     "name": "stderr",
     "output_type": "stream",
     "text": [
      "Loading sellers:   5%|▌         | 445/8379 [00:15<04:30, 29.35it/s]"
     ]
    },
    {
     "name": "stdout",
     "output_type": "stream",
     "text": [
      "Seller: 010580 does not have the corresponding join keys\n",
      "Seller: 010600 does not have the corresponding join keys\n",
      "Seller: 010620 does not have the corresponding join keys\n",
      "Seller: 010640 does not have the corresponding join keys\n",
      "Seller: 010660 does not have the corresponding join keys\n",
      "Seller: 010690 does not have the corresponding join keys\n",
      "Seller: 010770 does not have the corresponding join keys\n"
     ]
    },
    {
     "name": "stderr",
     "output_type": "stream",
     "text": [
      "Loading sellers:   5%|▌         | 451/8379 [00:15<04:34, 28.86it/s]"
     ]
    },
    {
     "name": "stdout",
     "output_type": "stream",
     "text": [
      "Seller: 010780 does not have the corresponding join keys\n",
      "Seller: 010820 does not have the corresponding join keys\n",
      "Seller: 010950 does not have the corresponding join keys\n",
      "Seller: 010960 does not have the corresponding join keys\n",
      "Seller: 011000 does not have the corresponding join keys\n",
      "Seller: 011070 does not have the corresponding join keys\n",
      "Seller: 011090 does not have the corresponding join keys\n"
     ]
    },
    {
     "name": "stderr",
     "output_type": "stream",
     "text": [
      "Loading sellers:   5%|▌         | 459/8379 [00:15<04:18, 30.64it/s]"
     ]
    },
    {
     "name": "stdout",
     "output_type": "stream",
     "text": [
      "Seller: 011150 does not have the corresponding join keys\n",
      "Seller: 011160 does not have the corresponding join keys\n",
      "Seller: 011170 does not have the corresponding join keys\n",
      "Seller: 011200 does not have the corresponding join keys\n",
      "Seller: 011210 does not have the corresponding join keys\n",
      "Seller: 011230 does not have the corresponding join keys\n",
      "Seller: 011280 does not have the corresponding join keys\n"
     ]
    },
    {
     "name": "stderr",
     "output_type": "stream",
     "text": [
      "Loading sellers:   6%|▌         | 466/8379 [00:16<04:30, 29.30it/s]"
     ]
    },
    {
     "name": "stdout",
     "output_type": "stream",
     "text": [
      "Seller: 011300 does not have the corresponding join keys\n",
      "Seller: 011330 does not have the corresponding join keys\n",
      "Seller: 011390 does not have the corresponding join keys\n",
      "Seller: 011420 does not have the corresponding join keys\n",
      "Seller: 011500 does not have the corresponding join keys\n",
      "Seller: 011690 does not have the corresponding join keys\n",
      "Seller: 011700 does not have the corresponding join keys\n"
     ]
    },
    {
     "name": "stderr",
     "output_type": "stream",
     "text": [
      "Loading sellers:   6%|▌         | 473/8379 [00:16<04:18, 30.62it/s]"
     ]
    },
    {
     "name": "stdout",
     "output_type": "stream",
     "text": [
      "Seller: 011760 does not have the corresponding join keys\n",
      "Seller: 011780 does not have the corresponding join keys\n",
      "Seller: 011790 does not have the corresponding join keys\n",
      "Seller: 011810 does not have the corresponding join keys\n",
      "Seller: 011930 does not have the corresponding join keys\n",
      "Seller: 012030 does not have the corresponding join keys\n",
      "Seller: 012160 does not have the corresponding join keys\n"
     ]
    },
    {
     "name": "stderr",
     "output_type": "stream",
     "text": [
      "Loading sellers:   6%|▌         | 481/8379 [00:16<04:26, 29.68it/s]"
     ]
    },
    {
     "name": "stdout",
     "output_type": "stream",
     "text": [
      "Seller: 012170 does not have the corresponding join keys\n",
      "Seller: 012200 does not have the corresponding join keys\n",
      "Seller: 012280 does not have the corresponding join keys\n",
      "Seller: 012320 does not have the corresponding join keys\n",
      "Seller: 012330 does not have the corresponding join keys\n",
      "Seller: 012450 does not have the corresponding join keys\n"
     ]
    },
    {
     "name": "stderr",
     "output_type": "stream",
     "text": [
      "Loading sellers:   6%|▌         | 487/8379 [00:16<04:38, 28.35it/s]"
     ]
    },
    {
     "name": "stdout",
     "output_type": "stream",
     "text": [
      "Seller: 012510 does not have the corresponding join keys\n",
      "Seller: 012600 does not have the corresponding join keys\n",
      "Seller: 012610 does not have the corresponding join keys\n",
      "Seller: 012630 does not have the corresponding join keys\n",
      "Seller: 012690 does not have the corresponding join keys\n",
      "Seller: 012750 does not have the corresponding join keys\n"
     ]
    },
    {
     "name": "stderr",
     "output_type": "stream",
     "text": [
      "Loading sellers:   6%|▌         | 493/8379 [00:17<04:46, 27.52it/s]"
     ]
    },
    {
     "name": "stdout",
     "output_type": "stream",
     "text": [
      "Seller: 012800 does not have the corresponding join keys\n",
      "Seller: 013000 does not have the corresponding join keys\n",
      "Seller: 013360 does not have the corresponding join keys\n",
      "Seller: 013520 does not have the corresponding join keys\n",
      "Seller: 013570 does not have the corresponding join keys\n",
      "Seller: 013580 does not have the corresponding join keys\n",
      "Seller: 013700 does not have the corresponding join keys\n"
     ]
    },
    {
     "name": "stderr",
     "output_type": "stream",
     "text": [
      "Loading sellers:   6%|▌         | 500/8379 [00:17<04:34, 28.69it/s]"
     ]
    },
    {
     "name": "stdout",
     "output_type": "stream",
     "text": [
      "Seller: 013870 does not have the corresponding join keys\n",
      "Seller: 014130 does not have the corresponding join keys\n",
      "Seller: 014160 does not have the corresponding join keys\n",
      "Seller: 014280 does not have the corresponding join keys\n",
      "Seller: 014440 does not have the corresponding join keys\n",
      "Seller: 014530 does not have the corresponding join keys\n"
     ]
    },
    {
     "name": "stderr",
     "output_type": "stream",
     "text": [
      "Loading sellers:   6%|▌         | 507/8379 [00:17<04:25, 29.65it/s]"
     ]
    },
    {
     "name": "stdout",
     "output_type": "stream",
     "text": [
      "Seller: 014580 does not have the corresponding join keys\n",
      "Seller: 014680 does not have the corresponding join keys\n",
      "Seller: 014710 does not have the corresponding join keys\n",
      "Seller: 014790 does not have the corresponding join keys\n",
      "Seller: 014820 does not have the corresponding join keys\n",
      "Seller: 014830 does not have the corresponding join keys\n",
      "Seller: 014910 does not have the corresponding join keys\n"
     ]
    },
    {
     "name": "stderr",
     "output_type": "stream",
     "text": [
      "Loading sellers:   6%|▌         | 513/8379 [00:17<04:35, 28.53it/s]"
     ]
    },
    {
     "name": "stdout",
     "output_type": "stream",
     "text": [
      "Seller: 014990 does not have the corresponding join keys\n",
      "Seller: 015020 does not have the corresponding join keys\n",
      "Seller: 015230 does not have the corresponding join keys\n",
      "Seller: 015260 does not have the corresponding join keys\n",
      "Seller: 015350 does not have the corresponding join keys\n",
      "Seller: 015360 does not have the corresponding join keys\n"
     ]
    },
    {
     "name": "stderr",
     "output_type": "stream",
     "text": [
      "Loading sellers:   6%|▌         | 519/8379 [00:18<04:44, 27.59it/s]"
     ]
    },
    {
     "name": "stdout",
     "output_type": "stream",
     "text": [
      "Seller: 015540 does not have the corresponding join keys\n",
      "Seller: 015590 does not have the corresponding join keys\n",
      "Seller: 015760 does not have the corresponding join keys\n",
      "Seller: 015860 does not have the corresponding join keys\n",
      "Seller: 015890 does not have the corresponding join keys\n",
      "Seller: 016090 does not have the corresponding join keys\n"
     ]
    },
    {
     "name": "stderr",
     "output_type": "stream",
     "text": [
      "Loading sellers:   6%|▋         | 525/8379 [00:18<04:45, 27.48it/s]"
     ]
    },
    {
     "name": "stdout",
     "output_type": "stream",
     "text": [
      "Seller: 016360 does not have the corresponding join keys\n",
      "Seller: 016380 does not have the corresponding join keys\n",
      "Seller: 016450 does not have the corresponding join keys\n",
      "Seller: 016580 does not have the corresponding join keys\n",
      "Seller: 016590 does not have the corresponding join keys\n",
      "Seller: 016610 does not have the corresponding join keys\n"
     ]
    },
    {
     "name": "stderr",
     "output_type": "stream",
     "text": [
      "Loading sellers:   6%|▋         | 533/8379 [00:18<04:16, 30.63it/s]"
     ]
    },
    {
     "name": "stdout",
     "output_type": "stream",
     "text": [
      "Seller: 016710 does not have the corresponding join keys\n",
      "Seller: 016740 does not have the corresponding join keys\n",
      "Seller: 016800 does not have the corresponding join keys\n",
      "Seller: 016880 does not have the corresponding join keys\n",
      "Seller: 017040 does not have the corresponding join keys\n",
      "Seller: 017180 does not have the corresponding join keys\n",
      "Seller: 017370 does not have the corresponding join keys\n",
      "Seller: 017390 does not have the corresponding join keys\n"
     ]
    },
    {
     "name": "stderr",
     "output_type": "stream",
     "text": [
      "Loading sellers:   6%|▋         | 537/8379 [00:18<04:25, 29.50it/s]"
     ]
    },
    {
     "name": "stdout",
     "output_type": "stream",
     "text": [
      "Seller: 017550 does not have the corresponding join keys\n",
      "Seller: 017670 does not have the corresponding join keys\n",
      "Seller: 017800 does not have the corresponding join keys\n",
      "Seller: 017810 does not have the corresponding join keys\n",
      "Seller: 017900 does not have the corresponding join keys\n",
      "Seller: 017940 does not have the corresponding join keys\n",
      "Seller: 017960 does not have the corresponding join keys\n"
     ]
    },
    {
     "name": "stderr",
     "output_type": "stream",
     "text": [
      "Loading sellers:   7%|▋         | 545/8379 [00:18<04:19, 30.21it/s]"
     ]
    },
    {
     "name": "stdout",
     "output_type": "stream",
     "text": [
      "Seller: 018260 does not have the corresponding join keys\n",
      "Seller: 018470 does not have the corresponding join keys\n",
      "Seller: 018500 does not have the corresponding join keys\n",
      "Seller: 018670 does not have the corresponding join keys\n",
      "Seller: 018880 does not have the corresponding join keys\n",
      "Seller: 019170 does not have the corresponding join keys\n",
      "Seller: 019180 does not have the corresponding join keys\n"
     ]
    },
    {
     "name": "stderr",
     "output_type": "stream",
     "text": [
      "Loading sellers:   7%|▋         | 553/8379 [00:19<04:16, 30.52it/s]"
     ]
    },
    {
     "name": "stdout",
     "output_type": "stream",
     "text": [
      "Seller: 019440 does not have the corresponding join keys\n",
      "Seller: 019490 does not have the corresponding join keys\n",
      "Seller: 019680 does not have the corresponding join keys\n",
      "Seller: 020000 does not have the corresponding join keys\n",
      "Seller: 020120 does not have the corresponding join keys\n",
      "Seller: 020150 does not have the corresponding join keys\n"
     ]
    },
    {
     "name": "stderr",
     "output_type": "stream",
     "text": [
      "Loading sellers:   7%|▋         | 557/8379 [00:19<04:23, 29.69it/s]"
     ]
    },
    {
     "name": "stdout",
     "output_type": "stream",
     "text": [
      "Seller: 020560 does not have the corresponding join keys\n",
      "Seller: 020760 does not have the corresponding join keys\n",
      "Seller: 021050 does not have the corresponding join keys\n",
      "Seller: 021240 does not have the corresponding join keys\n",
      "Seller: 021820 does not have the corresponding join keys\n",
      "Seller: 021960 does not have the corresponding join keys\n",
      "Seller: 023000 does not have the corresponding join keys\n"
     ]
    },
    {
     "name": "stderr",
     "output_type": "stream",
     "text": [
      "Loading sellers:   7%|▋         | 565/8379 [00:19<04:01, 32.34it/s]"
     ]
    },
    {
     "name": "stdout",
     "output_type": "stream",
     "text": [
      "Seller: 023150 does not have the corresponding join keys\n",
      "Seller: 023350 does not have the corresponding join keys\n",
      "Seller: 023450 does not have the corresponding join keys\n",
      "Seller: 023530 does not have the corresponding join keys\n",
      "Seller: 023590 does not have the corresponding join keys\n",
      "Seller: 023800 does not have the corresponding join keys\n",
      "Seller: 023810 does not have the corresponding join keys\n"
     ]
    },
    {
     "name": "stderr",
     "output_type": "stream",
     "text": [
      "Loading sellers:   7%|▋         | 573/8379 [00:19<04:23, 29.60it/s]"
     ]
    },
    {
     "name": "stdout",
     "output_type": "stream",
     "text": [
      "Seller: 023960 does not have the corresponding join keys\n",
      "Seller: 024070 does not have the corresponding join keys\n",
      "Seller: 024090 does not have the corresponding join keys\n",
      "Seller: 024110 does not have the corresponding join keys\n",
      "Seller: 024720 does not have the corresponding join keys\n",
      "Seller: 024890 does not have the corresponding join keys\n"
     ]
    },
    {
     "name": "stderr",
     "output_type": "stream",
     "text": [
      "Loading sellers:   7%|▋         | 577/8379 [00:19<04:24, 29.47it/s]"
     ]
    },
    {
     "name": "stdout",
     "output_type": "stream",
     "text": [
      "Seller: 024900 does not have the corresponding join keys\n",
      "Seller: 025000 does not have the corresponding join keys\n",
      "Seller: 025530 does not have the corresponding join keys\n",
      "Seller: 025540 does not have the corresponding join keys\n",
      "Seller: 025560 does not have the corresponding join keys\n",
      "Seller: 025620 does not have the corresponding join keys\n",
      "Seller: 025750 does not have the corresponding join keys\n"
     ]
    },
    {
     "name": "stderr",
     "output_type": "stream",
     "text": [
      "Loading sellers:   7%|▋         | 584/8379 [00:20<04:26, 29.23it/s]"
     ]
    },
    {
     "name": "stdout",
     "output_type": "stream",
     "text": [
      "Seller: 025820 does not have the corresponding join keys\n",
      "Seller: 025860 does not have the corresponding join keys\n",
      "Seller: 025890 does not have the corresponding join keys\n",
      "Seller: 026890 does not have the corresponding join keys\n",
      "Seller: 026940 does not have the corresponding join keys\n",
      "Seller: 026960 does not have the corresponding join keys\n",
      "Seller: 027390 does not have the corresponding join keys\n"
     ]
    },
    {
     "name": "stderr",
     "output_type": "stream",
     "text": [
      "Loading sellers:   7%|▋         | 591/8379 [00:20<04:18, 30.07it/s]"
     ]
    },
    {
     "name": "stdout",
     "output_type": "stream",
     "text": [
      "Seller: 027410 does not have the corresponding join keys\n",
      "Seller: 027740 does not have the corresponding join keys\n",
      "Seller: 027970 does not have the corresponding join keys\n",
      "Seller: 028050 does not have the corresponding join keys\n",
      "Seller: 028100 does not have the corresponding join keys\n",
      "Seller: 028260 does not have the corresponding join keys\n",
      "Seller: 028670 does not have the corresponding join keys\n",
      "Seller: 029460 does not have the corresponding join keys\n",
      "Seller: 029530 does not have the corresponding join keys\n"
     ]
    },
    {
     "name": "stderr",
     "output_type": "stream",
     "text": [
      "Loading sellers:   7%|▋         | 600/8379 [00:20<03:57, 32.79it/s]"
     ]
    },
    {
     "name": "stdout",
     "output_type": "stream",
     "text": [
      "Seller: 029780 does not have the corresponding join keys\n",
      "Seller: 030000 does not have the corresponding join keys\n",
      "Seller: 030200 does not have the corresponding join keys\n",
      "Seller: 030210 does not have the corresponding join keys\n",
      "Seller: 030610 does not have the corresponding join keys\n",
      "Seller: 030720 does not have the corresponding join keys\n"
     ]
    },
    {
     "name": "stderr",
     "output_type": "stream",
     "text": [
      "Loading sellers:   7%|▋         | 608/8379 [00:20<04:03, 31.92it/s]"
     ]
    },
    {
     "name": "stdout",
     "output_type": "stream",
     "text": [
      "Seller: 030790 does not have the corresponding join keys\n",
      "Seller: 031430 does not have the corresponding join keys\n",
      "Seller: 031440 does not have the corresponding join keys\n",
      "Seller: 031820 does not have the corresponding join keys\n",
      "Seller: 032350 does not have the corresponding join keys\n",
      "Seller: 032560 does not have the corresponding join keys\n",
      "Seller: 032640 does not have the corresponding join keys\n",
      "Seller: 032830 does not have the corresponding join keys\n"
     ]
    },
    {
     "name": "stderr",
     "output_type": "stream",
     "text": [
      "Loading sellers:   7%|▋         | 616/8379 [00:21<04:14, 30.54it/s]"
     ]
    },
    {
     "name": "stdout",
     "output_type": "stream",
     "text": [
      "Seller: 033180 does not have the corresponding join keys\n",
      "Seller: 033240 does not have the corresponding join keys\n",
      "Seller: 033250 does not have the corresponding join keys\n",
      "Seller: 033270 does not have the corresponding join keys\n",
      "Seller: 033530 does not have the corresponding join keys\n",
      "Seller: 033660 does not have the corresponding join keys\n",
      "Seller: 033780 does not have the corresponding join keys\n"
     ]
    },
    {
     "name": "stderr",
     "output_type": "stream",
     "text": [
      "Loading sellers:   7%|▋         | 624/8379 [00:21<04:08, 31.22it/s]"
     ]
    },
    {
     "name": "stdout",
     "output_type": "stream",
     "text": [
      "Seller: 033920 does not have the corresponding join keys\n",
      "Seller: 034020 does not have the corresponding join keys\n",
      "Seller: 034120 does not have the corresponding join keys\n",
      "Seller: 034220 does not have the corresponding join keys\n",
      "Seller: 034300 does not have the corresponding join keys\n",
      "Seller: 034310 does not have the corresponding join keys\n",
      "Seller: 034590 does not have the corresponding join keys\n",
      "Seller: 034730 does not have the corresponding join keys\n"
     ]
    },
    {
     "name": "stderr",
     "output_type": "stream",
     "text": [
      "Loading sellers:   7%|▋         | 628/8379 [00:21<03:59, 32.35it/s]"
     ]
    },
    {
     "name": "stdout",
     "output_type": "stream",
     "text": [
      "Seller: 034830 does not have the corresponding join keys\n",
      "Seller: 035000 does not have the corresponding join keys\n",
      "Seller: 035150 does not have the corresponding join keys\n",
      "Seller: 035250 does not have the corresponding join keys\n",
      "Seller: 035420 does not have the corresponding join keys\n",
      "Seller: 035510 does not have the corresponding join keys\n"
     ]
    },
    {
     "name": "stderr",
     "output_type": "stream",
     "text": [
      "Loading sellers:   8%|▊         | 636/8379 [00:21<04:11, 30.73it/s]"
     ]
    },
    {
     "name": "stdout",
     "output_type": "stream",
     "text": [
      "Seller: 036460 does not have the corresponding join keys\n",
      "Seller: 036530 does not have the corresponding join keys\n",
      "Seller: 036570 does not have the corresponding join keys\n",
      "Seller: 036580 does not have the corresponding join keys\n",
      "Seller: 037270 does not have the corresponding join keys\n",
      "Seller: 037560 does not have the corresponding join keys\n",
      "Seller: 037710 does not have the corresponding join keys\n",
      "Seller: 039130 does not have the corresponding join keys\n"
     ]
    },
    {
     "name": "stderr",
     "output_type": "stream",
     "text": [
      "Loading sellers:   8%|▊         | 646/8379 [00:22<03:30, 36.74it/s]"
     ]
    },
    {
     "name": "stdout",
     "output_type": "stream",
     "text": [
      "Seller: 039490 does not have the corresponding join keys\n",
      "Seller: 039570 does not have the corresponding join keys\n",
      "Seller: 041650 does not have the corresponding join keys\n",
      "Seller: 042660 does not have the corresponding join keys\n",
      "Seller: 042670 does not have the corresponding join keys\n",
      "Seller: 042700 does not have the corresponding join keys\n",
      "Seller: 044380 does not have the corresponding join keys\n",
      "Seller: 044450 does not have the corresponding join keys\n",
      "Seller: 044820 does not have the corresponding join keys\n"
     ]
    },
    {
     "name": "stderr",
     "output_type": "stream",
     "text": [
      "Loading sellers:   8%|▊         | 654/8379 [00:22<03:34, 36.05it/s]"
     ]
    },
    {
     "name": "stdout",
     "output_type": "stream",
     "text": [
      "Seller: 047040 does not have the corresponding join keys\n",
      "Seller: 047050 does not have the corresponding join keys\n",
      "Seller: 047400 does not have the corresponding join keys\n",
      "Seller: 047810 does not have the corresponding join keys\n",
      "Seller: 049770 does not have the corresponding join keys\n",
      "Seller: 049800 does not have the corresponding join keys\n",
      "Seller: 051600 does not have the corresponding join keys\n",
      "Seller: 051630 does not have the corresponding join keys\n"
     ]
    },
    {
     "name": "stderr",
     "output_type": "stream",
     "text": [
      "Loading sellers:   8%|▊         | 663/8379 [00:22<03:25, 37.64it/s]"
     ]
    },
    {
     "name": "stdout",
     "output_type": "stream",
     "text": [
      "Seller: 051900 does not have the corresponding join keys\n",
      "Seller: 051910 does not have the corresponding join keys\n",
      "Seller: 052690 does not have the corresponding join keys\n",
      "Seller: 053210 does not have the corresponding join keys\n",
      "Seller: 053690 does not have the corresponding join keys\n",
      "Seller: 055550 does not have the corresponding join keys\n",
      "Seller: 057050 does not have the corresponding join keys\n",
      "Seller: 058430 does not have the corresponding join keys\n"
     ]
    },
    {
     "name": "stderr",
     "output_type": "stream",
     "text": [
      "Loading sellers:   8%|▊         | 672/8379 [00:22<03:22, 38.10it/s]"
     ]
    },
    {
     "name": "stdout",
     "output_type": "stream",
     "text": [
      "Seller: 058650 does not have the corresponding join keys\n",
      "Seller: 058730 does not have the corresponding join keys\n",
      "Seller: 058850 does not have the corresponding join keys\n",
      "Seller: 058860 does not have the corresponding join keys\n",
      "Seller: 060980 does not have the corresponding join keys\n",
      "Seller: 063160 does not have the corresponding join keys\n",
      "Seller: 064350 does not have the corresponding join keys\n",
      "Seller: 064960 does not have the corresponding join keys\n",
      "Seller: 066570 does not have the corresponding join keys\n"
     ]
    },
    {
     "name": "stderr",
     "output_type": "stream",
     "text": [
      "Loading sellers:   8%|▊         | 680/8379 [00:23<03:27, 37.17it/s]"
     ]
    },
    {
     "name": "stdout",
     "output_type": "stream",
     "text": [
      "Seller: 067830 does not have the corresponding join keys\n",
      "Seller: 068290 does not have the corresponding join keys\n",
      "Seller: 068400 does not have the corresponding join keys\n",
      "Seller: 069260 does not have the corresponding join keys\n",
      "Seller: 069460 does not have the corresponding join keys\n",
      "Seller: 069620 does not have the corresponding join keys\n",
      "Seller: 069640 does not have the corresponding join keys\n",
      "Seller: 069730 does not have the corresponding join keys\n",
      "Seller: 069960 does not have the corresponding join keys\n"
     ]
    },
    {
     "name": "stderr",
     "output_type": "stream",
     "text": [
      "Loading sellers:   8%|▊         | 690/8379 [00:23<03:11, 40.17it/s]"
     ]
    },
    {
     "name": "stdout",
     "output_type": "stream",
     "text": [
      "Seller: 070960 does not have the corresponding join keys\n",
      "Seller: 071050 does not have the corresponding join keys\n",
      "Seller: 071090 does not have the corresponding join keys\n",
      "Seller: 071320 does not have the corresponding join keys\n",
      "Seller: 071840 does not have the corresponding join keys\n",
      "Seller: 071950 does not have the corresponding join keys\n",
      "Seller: 071970 does not have the corresponding join keys\n",
      "Seller: 072130 does not have the corresponding join keys\n",
      "Seller: 072710 does not have the corresponding join keys\n"
     ]
    },
    {
     "name": "stderr",
     "output_type": "stream",
     "text": [
      "Loading sellers:   8%|▊         | 699/8379 [00:23<03:16, 39.09it/s]"
     ]
    },
    {
     "name": "stdout",
     "output_type": "stream",
     "text": [
      "Seller: 073240 does not have the corresponding join keys\n",
      "Seller: 074610 does not have the corresponding join keys\n",
      "Seller: 075180 does not have the corresponding join keys\n",
      "Seller: 075580 does not have the corresponding join keys\n",
      "Seller: 077500 does not have the corresponding join keys\n",
      "Seller: 077970 does not have the corresponding join keys\n",
      "Seller: 078000 does not have the corresponding join keys\n",
      "Seller: 078520 does not have the corresponding join keys\n",
      "Seller: 078930 does not have the corresponding join keys\n"
     ]
    },
    {
     "name": "stderr",
     "output_type": "stream",
     "text": [
      "Loading sellers:   8%|▊         | 711/8379 [00:23<02:49, 45.35it/s]"
     ]
    },
    {
     "name": "stdout",
     "output_type": "stream",
     "text": [
      "Seller: 079160 does not have the corresponding join keys\n",
      "Seller: 079430 does not have the corresponding join keys\n",
      "Seller: 079440 does not have the corresponding join keys\n",
      "Seller: 079550 does not have the corresponding join keys\n",
      "Seller: 079660 does not have the corresponding join keys\n",
      "Seller: 079980 does not have the corresponding join keys\n",
      "Seller: 081000 does not have the corresponding join keys\n",
      "Seller: 081660 does not have the corresponding join keys\n",
      "Seller: 082640 does not have the corresponding join keys\n",
      "Seller: 082740 does not have the corresponding join keys\n",
      "Seller: 083370 does not have the corresponding join keys\n",
      "Seller: 083380 does not have the corresponding join keys\n"
     ]
    },
    {
     "name": "stderr",
     "output_type": "stream",
     "text": [
      "Loading sellers:   9%|▊         | 721/8379 [00:23<02:48, 45.47it/s]"
     ]
    },
    {
     "name": "stdout",
     "output_type": "stream",
     "text": [
      "Seller: 083420 does not have the corresponding join keys\n",
      "Seller: 083620 does not have the corresponding join keys\n",
      "Seller: 084010 does not have the corresponding join keys\n",
      "Seller: 084670 does not have the corresponding join keys\n",
      "Seller: 084680 does not have the corresponding join keys\n",
      "Seller: 084690 does not have the corresponding join keys\n",
      "Seller: 084870 does not have the corresponding join keys\n",
      "Seller: 085310 does not have the corresponding join keys\n",
      "Seller: 085620 does not have the corresponding join keys\n",
      "Seller: 086280 does not have the corresponding join keys\n"
     ]
    },
    {
     "name": "stderr",
     "output_type": "stream",
     "text": [
      "Loading sellers:   9%|▊         | 731/8379 [00:24<02:43, 46.73it/s]"
     ]
    },
    {
     "name": "stdout",
     "output_type": "stream",
     "text": [
      "Seller: 086790 does not have the corresponding join keys\n",
      "Seller: 088350 does not have the corresponding join keys\n",
      "Seller: 088790 does not have the corresponding join keys\n",
      "Seller: 088980 does not have the corresponding join keys\n",
      "Seller: 089470 does not have the corresponding join keys\n",
      "Seller: 089590 does not have the corresponding join keys\n",
      "Seller: 090080 does not have the corresponding join keys\n",
      "Seller: 090350 does not have the corresponding join keys\n",
      "Seller: 090370 does not have the corresponding join keys\n",
      "Seller: 090430 does not have the corresponding join keys\n",
      "Seller: 091090 does not have the corresponding join keys\n"
     ]
    },
    {
     "name": "stderr",
     "output_type": "stream",
     "text": [
      "Loading sellers:   9%|▉         | 741/8379 [00:24<02:48, 45.30it/s]"
     ]
    },
    {
     "name": "stdout",
     "output_type": "stream",
     "text": [
      "Seller: 092200 does not have the corresponding join keys\n",
      "Seller: 092220 does not have the corresponding join keys\n",
      "Seller: 092230 does not have the corresponding join keys\n",
      "Seller: 092440 does not have the corresponding join keys\n",
      "Seller: 093050 does not have the corresponding join keys\n",
      "Seller: 093230 does not have the corresponding join keys\n",
      "Seller: 093240 does not have the corresponding join keys\n",
      "Seller: 093370 does not have the corresponding join keys\n",
      "Seller: 094280 does not have the corresponding join keys\n",
      "Seller: 094800 does not have the corresponding join keys\n",
      "Seller: 095570 does not have the corresponding join keys\n"
     ]
    },
    {
     "name": "stderr",
     "output_type": "stream",
     "text": [
      "2025-02-20 05:48:55,591 - ERROR - Error in get_num_cols: single positional indexer is out-of-bounds\n",
      "2025-02-20 05:48:55,592 - ERROR - Error processing data/stock_ticker_datasets/seller/096300.csv: 'NoneType' object is not iterable\n",
      "Loading sellers:   9%|▉         | 747/8379 [00:24<02:34, 49.36it/s]2025-02-20 05:48:55,688 - ERROR - Error in get_num_cols: single positional indexer is out-of-bounds\n",
      "2025-02-20 05:48:55,689 - ERROR - Error processing data/stock_ticker_datasets/seller/099340.csv: 'NoneType' object is not iterable\n",
      "2025-02-20 05:48:55,692 - ERROR - Error in get_num_cols: single positional indexer is out-of-bounds\n",
      "2025-02-20 05:48:55,692 - ERROR - Error processing data/stock_ticker_datasets/seller/099350.csv: 'NoneType' object is not iterable\n",
      "Loading sellers:   9%|▉         | 754/8379 [00:24<02:25, 52.24it/s]"
     ]
    },
    {
     "name": "stdout",
     "output_type": "stream",
     "text": [
      "Seller: 095720 does not have the corresponding join keys\n",
      "Seller: 096760 does not have the corresponding join keys\n",
      "Seller: 096770 does not have the corresponding join keys\n",
      "Seller: 097230 does not have the corresponding join keys\n",
      "Seller: 097950 does not have the corresponding join keys\n",
      "Seller: 100220 does not have the corresponding join keys\n",
      "Seller: 100250 does not have the corresponding join keys\n",
      "Seller: 100840 does not have the corresponding join keys\n",
      "Seller: 101060 does not have the corresponding join keys\n",
      "Seller: 101140 does not have the corresponding join keys\n"
     ]
    },
    {
     "name": "stderr",
     "output_type": "stream",
     "text": [
      "Loading sellers:   9%|▉         | 766/8379 [00:24<02:28, 51.31it/s]"
     ]
    },
    {
     "name": "stdout",
     "output_type": "stream",
     "text": [
      "Seller: 101530 does not have the corresponding join keys\n",
      "Seller: 102260 does not have the corresponding join keys\n",
      "Seller: 102280 does not have the corresponding join keys\n",
      "Seller: 102460 does not have the corresponding join keys\n",
      "Seller: 103130 does not have the corresponding join keys\n",
      "Seller: 103140 does not have the corresponding join keys\n",
      "Seller: 103590 does not have the corresponding join keys\n",
      "Seller: 104700 does not have the corresponding join keys\n",
      "Seller: 105560 does not have the corresponding join keys\n",
      "Seller: 105630 does not have the corresponding join keys\n",
      "Seller: 105840 does not have the corresponding join keys\n"
     ]
    },
    {
     "name": "stderr",
     "output_type": "stream",
     "text": [
      "Loading sellers:   9%|▉         | 779/8379 [00:25<02:18, 55.05it/s]"
     ]
    },
    {
     "name": "stdout",
     "output_type": "stream",
     "text": [
      "Seller: 107590 does not have the corresponding join keys\n",
      "Seller: 108670 does not have the corresponding join keys\n",
      "Seller: 109070 does not have the corresponding join keys\n",
      "Seller: 111110 does not have the corresponding join keys\n",
      "Seller: 111770 does not have the corresponding join keys\n",
      "Seller: 112610 does not have the corresponding join keys\n",
      "Seller: 114090 does not have the corresponding join keys\n",
      "Seller: 115390 does not have the corresponding join keys\n",
      "Seller: 117580 does not have the corresponding join keys\n",
      "Seller: 118000 does not have the corresponding join keys\n",
      "Seller: 119650 does not have the corresponding join keys\n",
      "Seller: 120030 does not have the corresponding join keys\n",
      "Seller: 120110 does not have the corresponding join keys\n"
     ]
    },
    {
     "name": "stderr",
     "output_type": "stream",
     "text": [
      "Loading sellers:   9%|▉         | 793/8379 [00:25<02:08, 58.92it/s]"
     ]
    },
    {
     "name": "stdout",
     "output_type": "stream",
     "text": [
      "Seller: 122900 does not have the corresponding join keys\n",
      "Seller: 123690 does not have the corresponding join keys\n",
      "Seller: 123700 does not have the corresponding join keys\n",
      "Seller: 123890 does not have the corresponding join keys\n",
      "Seller: 126560 does not have the corresponding join keys\n",
      "Seller: 128820 does not have the corresponding join keys\n",
      "Seller: 128940 does not have the corresponding join keys\n",
      "Seller: 129260 does not have the corresponding join keys\n",
      "Seller: 130660 does not have the corresponding join keys\n",
      "Seller: 133820 does not have the corresponding join keys\n",
      "Seller: 134380 does not have the corresponding join keys\n",
      "Seller: 134790 does not have the corresponding join keys\n",
      "Seller: 136490 does not have the corresponding join keys\n",
      "Seller: 138040 does not have the corresponding join keys\n"
     ]
    },
    {
     "name": "stderr",
     "output_type": "stream",
     "text": [
      "Loading sellers:  10%|▉         | 808/8379 [00:25<02:01, 62.11it/s]"
     ]
    },
    {
     "name": "stdout",
     "output_type": "stream",
     "text": [
      "Seller: 138250 does not have the corresponding join keys\n",
      "Seller: 138490 does not have the corresponding join keys\n",
      "Seller: 138930 does not have the corresponding join keys\n",
      "Seller: 139130 does not have the corresponding join keys\n",
      "Seller: 139480 does not have the corresponding join keys\n",
      "Seller: 140890 does not have the corresponding join keys\n",
      "Seller: 140910 does not have the corresponding join keys\n",
      "Seller: 143210 does not have the corresponding join keys\n",
      "Seller: 144620 does not have the corresponding join keys\n",
      "Seller: 145210 does not have the corresponding join keys\n",
      "Seller: 145270 does not have the corresponding join keys\n",
      "Seller: 145720 does not have the corresponding join keys\n",
      "Seller: 145990 does not have the corresponding join keys\n",
      "Seller: 152330 does not have the corresponding join keys\n",
      "Seller: 152550 does not have the corresponding join keys\n",
      "Seller: 153360 does not have the corresponding join keys\n"
     ]
    },
    {
     "name": "stderr",
     "output_type": "stream",
     "text": [
      "Loading sellers:  10%|▉         | 822/8379 [00:25<02:01, 62.29it/s]"
     ]
    },
    {
     "name": "stdout",
     "output_type": "stream",
     "text": [
      "Seller: 155660 does not have the corresponding join keys\n",
      "Seller: 155900 does not have the corresponding join keys\n",
      "Seller: 159650 does not have the corresponding join keys\n",
      "Seller: 161000 does not have the corresponding join keys\n",
      "Seller: 161390 does not have the corresponding join keys\n",
      "Seller: 161890 does not have the corresponding join keys\n",
      "Seller: 163560 does not have the corresponding join keys\n",
      "Seller: 168490 does not have the corresponding join keys\n",
      "Seller: 170900 does not have the corresponding join keys\n",
      "Seller: 172580 does not have the corresponding join keys\n",
      "Seller: 175330 does not have the corresponding join keys\n",
      "Seller: 180640 does not have the corresponding join keys\n",
      "Seller: 181710 does not have the corresponding join keys\n"
     ]
    },
    {
     "name": "stderr",
     "output_type": "stream",
     "text": [
      "Loading sellers:  10%|█         | 845/8379 [00:25<01:25, 87.73it/s]"
     ]
    },
    {
     "name": "stdout",
     "output_type": "stream",
     "text": [
      "Seller: 183190 does not have the corresponding join keys\n",
      "Seller: 185750 does not have the corresponding join keys\n",
      "Seller: 192400 does not have the corresponding join keys\n",
      "Seller: 192530 does not have the corresponding join keys\n",
      "Seller: 192820 does not have the corresponding join keys\n",
      "Seller: 194370 does not have the corresponding join keys\n",
      "Seller: 195870 does not have the corresponding join keys\n",
      "Seller: 200880 does not have the corresponding join keys\n",
      "Seller: 204210 does not have the corresponding join keys\n",
      "Seller: 204320 does not have the corresponding join keys\n",
      "Seller: 207940 does not have the corresponding join keys\n",
      "Seller: 210540 does not have the corresponding join keys\n",
      "Seller: 210980 does not have the corresponding join keys\n",
      "Seller: 213500 does not have the corresponding join keys\n",
      "Seller: 214320 does not have the corresponding join keys\n",
      "Seller: 214330 does not have the corresponding join keys\n",
      "Seller: 214390 does not have the corresponding join keys\n",
      "Seller: 214420 does not have the corresponding join keys\n",
      "Seller: 226320 does not have the corresponding join keys\n",
      "Seller: 227840 does not have the corresponding join keys\n",
      "Seller: 229640 does not have the corresponding join keys\n",
      "Seller: 234080 does not have the corresponding join keys\n",
      "Seller: 241560 does not have the corresponding join keys\n",
      "Seller: 241590 does not have the corresponding join keys\n",
      "Seller: 248170 does not have the corresponding join keys\n",
      "Seller: 249420 does not have the corresponding join keys\n",
      "Seller: 251270 does not have the corresponding join keys\n"
     ]
    },
    {
     "name": "stderr",
     "output_type": "stream",
     "text": [
      "Loading sellers:  10%|█         | 858/8379 [00:26<01:17, 97.58it/s]"
     ]
    },
    {
     "name": "stdout",
     "output_type": "stream",
     "text": [
      "Seller: 264900 does not have the corresponding join keys\n",
      "Seller: 267250 does not have the corresponding join keys\n",
      "Seller: 267260 does not have the corresponding join keys\n",
      "Seller: 267270 does not have the corresponding join keys\n",
      "Seller: 267290 does not have the corresponding join keys\n",
      "Seller: 268280 does not have the corresponding join keys\n",
      "Seller: 399001.SZ_data does not have the corresponding join keys\n",
      "Seller: 900050 does not have the corresponding join keys\n",
      "Seller: 900140 does not have the corresponding join keys\n",
      "Seller: 06082024_1y does not have the corresponding join keys\n",
      "Seller: 06082024_5y does not have the corresponding join keys\n"
     ]
    },
    {
     "name": "stderr",
     "output_type": "stream",
     "text": [
      "Loading sellers:  10%|█         | 868/8379 [00:28<11:07, 11.25it/s]"
     ]
    },
    {
     "name": "stdout",
     "output_type": "stream",
     "text": [
      "Seller: 06082024_10y does not have the corresponding join keys\n",
      "Seller: a does not have the corresponding join keys\n",
      "Seller: A2ZINFRA does not have the corresponding join keys\n",
      "Seller: AACG does not have the corresponding join keys\n",
      "Seller: AADI does not have the corresponding join keys\n",
      "Seller: AAKASH does not have the corresponding join keys\n",
      "Seller: aal does not have the corresponding join keys\n",
      "Seller: AAL does not have the corresponding join keys\n",
      "Seller: AAME does not have the corresponding join keys\n",
      "Seller: AAOI does not have the corresponding join keys\n",
      "Seller: AAON does not have the corresponding join keys\n",
      "Seller: aap does not have the corresponding join keys\n",
      "Seller: AAPL_1 does not have the corresponding join keys\n"
     ]
    },
    {
     "name": "stderr",
     "output_type": "stream",
     "text": [
      "Loading sellers:  10%|█         | 876/8379 [00:29<09:44, 12.84it/s]"
     ]
    },
    {
     "name": "stdout",
     "output_type": "stream",
     "text": [
      "Seller: AAPL_2 does not have the corresponding join keys\n",
      "Seller: AAPL_3 does not have the corresponding join keys\n",
      "Seller: AAPL_fundamentals_test does not have the corresponding join keys\n",
      "Seller: AAPL_fundamentals_train does not have the corresponding join keys\n",
      "Seller: AAPL_technicals_test does not have the corresponding join keys\n",
      "Seller: AAPL_technicals_train does not have the corresponding join keys\n"
     ]
    },
    {
     "name": "stderr",
     "output_type": "stream",
     "text": [
      "Loading sellers:  11%|█         | 882/8379 [00:29<09:54, 12.60it/s]"
     ]
    },
    {
     "name": "stdout",
     "output_type": "stream",
     "text": [
      "Seller: aapl does not have the corresponding join keys\n",
      "Seller: AAPL does not have the corresponding join keys\n",
      "Seller: AARON does not have the corresponding join keys\n",
      "Seller: AARTIDRUGS does not have the corresponding join keys\n",
      "Seller: AARTIIND does not have the corresponding join keys\n"
     ]
    },
    {
     "name": "stderr",
     "output_type": "stream",
     "text": [
      "Loading sellers:  11%|█         | 891/8379 [00:30<08:00, 15.58it/s]"
     ]
    },
    {
     "name": "stdout",
     "output_type": "stream",
     "text": [
      "Seller: AARTISURF does not have the corresponding join keys\n",
      "Seller: AARVEEDEN does not have the corresponding join keys\n",
      "Seller: AARVI does not have the corresponding join keys\n",
      "Seller: AAVAS does not have the corresponding join keys\n",
      "Seller: AB's join key: Ticker does not have any intersection with the buyer's join key\n",
      "Seller: AB does not have the corresponding join keys\n",
      "Seller: ABAN does not have the corresponding join keys\n"
     ]
    },
    {
     "name": "stderr",
     "output_type": "stream",
     "text": [
      "Loading sellers:  11%|█         | 895/8379 [00:30<07:53, 15.82it/s]"
     ]
    },
    {
     "name": "stdout",
     "output_type": "stream",
     "text": [
      "Seller: ABAT does not have the corresponding join keys\n",
      "Seller: ABB does not have the corresponding join keys\n",
      "Seller: ABBOTINDIA does not have the corresponding join keys\n",
      "Seller: ABBV_fundamentals_test does not have the corresponding join keys\n"
     ]
    },
    {
     "name": "stderr",
     "output_type": "stream",
     "text": [
      "Loading sellers:  11%|█         | 899/8379 [00:30<07:56, 15.69it/s]"
     ]
    },
    {
     "name": "stdout",
     "output_type": "stream",
     "text": [
      "Seller: ABBV_fundamentals_train does not have the corresponding join keys\n",
      "Seller: ABBV_technicals_test does not have the corresponding join keys\n",
      "Seller: ABBV_technicals_train does not have the corresponding join keys\n",
      "Seller: abbv does not have the corresponding join keys\n"
     ]
    },
    {
     "name": "stderr",
     "output_type": "stream",
     "text": [
      "Loading sellers:  11%|█         | 906/8379 [00:30<06:28, 19.22it/s]"
     ]
    },
    {
     "name": "stdout",
     "output_type": "stream",
     "text": [
      "Seller: abc does not have the corresponding join keys\n",
      "Seller: ABCAPITAL does not have the corresponding join keys\n",
      "Seller: ABCL does not have the corresponding join keys\n",
      "Seller: ABEO does not have the corresponding join keys\n",
      "Seller: ABFRL does not have the corresponding join keys\n",
      "Seller: ABL does not have the corresponding join keys\n",
      "Seller: ABLV does not have the corresponding join keys\n"
     ]
    },
    {
     "name": "stderr",
     "output_type": "stream",
     "text": [
      "Loading sellers:  11%|█         | 916/8379 [00:31<04:43, 26.32it/s]"
     ]
    },
    {
     "name": "stdout",
     "output_type": "stream",
     "text": [
      "Seller: abmd does not have the corresponding join keys\n",
      "Seller: ABMINTLTD does not have the corresponding join keys\n",
      "Seller: ABNB_1 does not have the corresponding join keys\n",
      "Seller: ABNB does not have the corresponding join keys\n",
      "Seller: ABOS does not have the corresponding join keys\n",
      "Seller: ABP does not have the corresponding join keys\n",
      "Seller: ABSI does not have the corresponding join keys\n",
      "Seller: ABT_fundamentals_test does not have the corresponding join keys\n",
      "Seller: ABT_fundamentals_train does not have the corresponding join keys\n",
      "Seller: ABT_technicals_test does not have the corresponding join keys\n",
      "Seller: ABT_technicals_train does not have the corresponding join keys\n"
     ]
    },
    {
     "name": "stderr",
     "output_type": "stream",
     "text": [
      "Loading sellers:  11%|█         | 926/8379 [00:31<04:44, 26.18it/s]"
     ]
    },
    {
     "name": "stdout",
     "output_type": "stream",
     "text": [
      "Seller: abt does not have the corresponding join keys\n",
      "Seller: ABTS does not have the corresponding join keys\n",
      "Seller: ABUS does not have the corresponding join keys\n",
      "Seller: ABVC does not have the corresponding join keys\n",
      "Seller: ABVE does not have the corresponding join keys\n",
      "Seller: ABVX does not have the corresponding join keys\n",
      "Seller: ACAB does not have the corresponding join keys\n",
      "Seller: ACAD does not have the corresponding join keys\n",
      "Seller: ACB does not have the corresponding join keys\n"
     ]
    },
    {
     "name": "stderr",
     "output_type": "stream",
     "text": [
      "Loading sellers:  11%|█         | 930/8379 [00:31<05:08, 24.15it/s]"
     ]
    },
    {
     "name": "stdout",
     "output_type": "stream",
     "text": [
      "Seller: ACC does not have the corresponding join keys\n",
      "Seller: ACCD does not have the corresponding join keys\n",
      "Seller: ACCELYA does not have the corresponding join keys\n",
      "Seller: ACCURACY does not have the corresponding join keys\n",
      "Seller: ACDC does not have the corresponding join keys\n",
      "Seller: ACE does not have the corresponding join keys\n",
      "Seller: ACET does not have the corresponding join keys\n"
     ]
    },
    {
     "name": "stderr",
     "output_type": "stream",
     "text": [
      "Loading sellers:  11%|█         | 939/8379 [00:31<04:30, 27.50it/s]"
     ]
    },
    {
     "name": "stdout",
     "output_type": "stream",
     "text": [
      "Seller: ACGL does not have the corresponding join keys\n",
      "Seller: ACHC does not have the corresponding join keys\n",
      "Seller: ACHL does not have the corresponding join keys\n",
      "Seller: ACHV does not have the corresponding join keys\n",
      "Seller: ACIC does not have the corresponding join keys\n",
      "Seller: ACIU does not have the corresponding join keys\n",
      "Seller: ACIW does not have the corresponding join keys\n"
     ]
    },
    {
     "name": "stderr",
     "output_type": "stream",
     "text": [
      "Loading sellers:  11%|█▏        | 943/8379 [00:32<04:16, 29.02it/s]"
     ]
    },
    {
     "name": "stdout",
     "output_type": "stream",
     "text": [
      "Seller: ACLS does not have the corresponding join keys\n",
      "Seller: ACLX does not have the corresponding join keys\n",
      "Seller: ACMR does not have the corresponding join keys\n",
      "Seller: ACN_fundamentals_test does not have the corresponding join keys\n",
      "Seller: ACN_fundamentals_train does not have the corresponding join keys\n"
     ]
    },
    {
     "name": "stderr",
     "output_type": "stream",
     "text": [
      "Loading sellers:  11%|█▏        | 947/8379 [00:32<04:57, 25.01it/s]"
     ]
    },
    {
     "name": "stdout",
     "output_type": "stream",
     "text": [
      "Seller: ACN_technicals_test does not have the corresponding join keys\n",
      "Seller: ACN_technicals_train does not have the corresponding join keys\n",
      "Seller: acn does not have the corresponding join keys\n",
      "Seller: ACN does not have the corresponding join keys\n"
     ]
    },
    {
     "name": "stderr",
     "output_type": "stream",
     "text": [
      "Loading sellers:  11%|█▏        | 961/8379 [00:32<03:46, 32.72it/s]"
     ]
    },
    {
     "name": "stdout",
     "output_type": "stream",
     "text": [
      "Seller: ACNB does not have the corresponding join keys\n",
      "Seller: ACNT does not have the corresponding join keys\n",
      "Seller: ACOG does not have the corresponding join keys\n",
      "Seller: ACON does not have the corresponding join keys\n",
      "Seller: ACRS does not have the corresponding join keys\n",
      "Seller: ACRV does not have the corresponding join keys\n",
      "Seller: ACRYSIL does not have the corresponding join keys\n",
      "Seller: ACT does not have the corresponding join keys\n",
      "Seller: ACTG does not have the corresponding join keys\n",
      "Seller: ACTU does not have the corresponding join keys\n",
      "Seller: ACVA does not have the corresponding join keys\n",
      "Seller: ACXP does not have the corresponding join keys\n"
     ]
    },
    {
     "name": "stderr",
     "output_type": "stream",
     "text": [
      "Loading sellers:  12%|█▏        | 965/8379 [00:32<03:50, 32.11it/s]"
     ]
    },
    {
     "name": "stdout",
     "output_type": "stream",
     "text": [
      "Seller: ADAG does not have the corresponding join keys\n",
      "Seller: ADANIENT does not have the corresponding join keys\n",
      "Seller: ADANIGAS does not have the corresponding join keys\n",
      "Seller: ADANIGREEN does not have the corresponding join keys\n",
      "Seller: ADANIPORTS does not have the corresponding join keys\n"
     ]
    },
    {
     "name": "stderr",
     "output_type": "stream",
     "text": [
      "Loading sellers:  12%|█▏        | 969/8379 [00:33<04:07, 29.88it/s]"
     ]
    },
    {
     "name": "stdout",
     "output_type": "stream",
     "text": [
      "Seller: ADANIPOWER does not have the corresponding join keys\n",
      "Seller: ADANITRANS does not have the corresponding join keys\n",
      "Seller: ADAP does not have the corresponding join keys\n",
      "Seller: ADBE_1 does not have the corresponding join keys\n",
      "Seller: ADBE_2 does not have the corresponding join keys\n"
     ]
    },
    {
     "name": "stderr",
     "output_type": "stream",
     "text": [
      "Loading sellers:  12%|█▏        | 976/8379 [00:33<04:49, 25.56it/s]"
     ]
    },
    {
     "name": "stdout",
     "output_type": "stream",
     "text": [
      "Seller: adbe does not have the corresponding join keys\n",
      "Seller: ADBE does not have the corresponding join keys\n",
      "Seller: ADD does not have the corresponding join keys\n",
      "Seller: ADEA does not have the corresponding join keys\n",
      "Seller: ADFFOODS does not have the corresponding join keys\n",
      "Seller: ADGM does not have the corresponding join keys\n",
      "Seller: ADHUNIKIND does not have the corresponding join keys\n"
     ]
    },
    {
     "name": "stderr",
     "output_type": "stream",
     "text": [
      "Loading sellers:  12%|█▏        | 983/8379 [00:33<04:54, 25.15it/s]2025-02-20 05:49:04,813 - ERROR - Error in get_num_cols: single positional indexer is out-of-bounds\n",
      "2025-02-20 05:49:04,814 - ERROR - Error processing data/stock_ticker_datasets/seller/ADL.csv: 'NoneType' object is not iterable\n"
     ]
    },
    {
     "name": "stdout",
     "output_type": "stream",
     "text": [
      "Seller: ADI_1 does not have the corresponding join keys\n",
      "Seller: adi does not have the corresponding join keys\n",
      "Seller: ADI does not have the corresponding join keys\n",
      "Seller: ADIL does not have the corresponding join keys\n"
     ]
    },
    {
     "name": "stderr",
     "output_type": "stream",
     "text": [
      "Loading sellers:  12%|█▏        | 989/8379 [00:33<05:25, 22.73it/s]"
     ]
    },
    {
     "name": "stdout",
     "output_type": "stream",
     "text": [
      "Seller: adm does not have the corresponding join keys\n",
      "Seller: ADMA does not have the corresponding join keys\n",
      "Seller: ADN does not have the corresponding join keys\n",
      "Seller: Adobe_Data does not have the corresponding join keys\n",
      "Seller: ADORWELD does not have the corresponding join keys\n"
     ]
    },
    {
     "name": "stderr",
     "output_type": "stream",
     "text": [
      "Loading sellers:  12%|█▏        | 995/8379 [00:34<05:29, 22.43it/s]"
     ]
    },
    {
     "name": "stdout",
     "output_type": "stream",
     "text": [
      "Seller: adp does not have the corresponding join keys\n",
      "Seller: ADP does not have the corresponding join keys\n",
      "Seller: ADPT does not have the corresponding join keys\n",
      "Seller: ADRO_2006-01-01_to_2022-03-16 does not have the corresponding join keys\n",
      "Seller: ADROITINFO does not have the corresponding join keys\n",
      "Seller: ads does not have the corresponding join keys\n"
     ]
    },
    {
     "name": "stderr",
     "output_type": "stream",
     "text": [
      "Loading sellers:  12%|█▏        | 998/8379 [00:34<05:35, 21.98it/s]"
     ]
    },
    {
     "name": "stdout",
     "output_type": "stream",
     "text": [
      "Seller: ADSE does not have the corresponding join keys\n",
      "Seller: ADSK_1 does not have the corresponding join keys\n",
      "Seller: adsk does not have the corresponding join keys\n",
      "Seller: ADSK does not have the corresponding join keys\n"
     ]
    },
    {
     "name": "stderr",
     "output_type": "stream",
     "text": [
      "Loading sellers:  12%|█▏        | 1006/8379 [00:34<04:31, 27.14it/s]"
     ]
    },
    {
     "name": "stdout",
     "output_type": "stream",
     "text": [
      "Seller: ADSL does not have the corresponding join keys\n",
      "Seller: ADTN does not have the corresponding join keys\n",
      "Seller: ADTX does not have the corresponding join keys\n",
      "Seller: ADUR does not have the corresponding join keys\n",
      "Seller: ADUS does not have the corresponding join keys\n",
      "Seller: ADV does not have the corresponding join keys\n",
      "Seller: ADVANIHOTR does not have the corresponding join keys\n",
      "Seller: ADVENZYMES does not have the corresponding join keys\n"
     ]
    },
    {
     "name": "stderr",
     "output_type": "stream",
     "text": [
      "Loading sellers:  12%|█▏        | 1011/8379 [00:34<04:03, 30.25it/s]"
     ]
    },
    {
     "name": "stdout",
     "output_type": "stream",
     "text": [
      "Seller: ADVM does not have the corresponding join keys\n",
      "Seller: ADWYA's join key: Ticker does not have any intersection with the buyer's join key\n",
      "Seller: ADWYA does not have the corresponding join keys\n",
      "Seller: ADXN does not have the corresponding join keys\n",
      "Seller: aee does not have the corresponding join keys\n",
      "Seller: AEGISCHEM does not have the corresponding join keys\n"
     ]
    },
    {
     "name": "stderr",
     "output_type": "stream",
     "text": [
      "Loading sellers:  12%|█▏        | 1018/8379 [00:35<04:22, 28.01it/s]"
     ]
    },
    {
     "name": "stdout",
     "output_type": "stream",
     "text": [
      "Seller: AEHL does not have the corresponding join keys\n",
      "Seller: AEHR does not have the corresponding join keys\n",
      "Seller: AEI does not have the corresponding join keys\n",
      "Seller: AEIS does not have the corresponding join keys\n",
      "Seller: AEMD does not have the corresponding join keys\n",
      "Seller: AENT does not have the corresponding join keys\n"
     ]
    },
    {
     "name": "stderr",
     "output_type": "stream",
     "text": [
      "Loading sellers:  12%|█▏        | 1021/8379 [00:35<05:23, 22.71it/s]"
     ]
    },
    {
     "name": "stdout",
     "output_type": "stream",
     "text": [
      "Seller: aep does not have the corresponding join keys\n",
      "Seller: AEP does not have the corresponding join keys\n",
      "Seller: AERT does not have the corresponding join keys\n",
      "Seller: aes does not have the corresponding join keys\n",
      "Seller: AETEC's join key: Ticker does not have any intersection with the buyer's join key\n",
      "Seller: AETEC does not have the corresponding join keys\n",
      "Seller: AEYE does not have the corresponding join keys\n"
     ]
    },
    {
     "name": "stderr",
     "output_type": "stream",
     "text": [
      "Loading sellers:  12%|█▏        | 1030/8379 [00:35<04:04, 30.00it/s]"
     ]
    },
    {
     "name": "stdout",
     "output_type": "stream",
     "text": [
      "Seller: AFAR does not have the corresponding join keys\n",
      "Seller: AFBI does not have the corresponding join keys\n",
      "Seller: AFCG does not have the corresponding join keys\n",
      "Seller: AFFLE does not have the corresponding join keys\n",
      "Seller: AFJK does not have the corresponding join keys\n",
      "Seller: afl does not have the corresponding join keys\n",
      "Seller: AFMD does not have the corresponding join keys\n",
      "Seller: AFRI does not have the corresponding join keys\n",
      "Seller: AFRM does not have the corresponding join keys\n",
      "Seller: AFYA does not have the corresponding join keys\n",
      "Seller: AGAE does not have the corresponding join keys\n"
     ]
    },
    {
     "name": "stderr",
     "output_type": "stream",
     "text": [
      "Loading sellers:  12%|█▏        | 1040/8379 [00:35<03:48, 32.10it/s]"
     ]
    },
    {
     "name": "stdout",
     "output_type": "stream",
     "text": [
      "Seller: AGARIND does not have the corresponding join keys\n",
      "Seller: AGCNET does not have the corresponding join keys\n",
      "Seller: AGEN does not have the corresponding join keys\n",
      "Seller: AGFY does not have the corresponding join keys\n",
      "Seller: AGIO does not have the corresponding join keys\n",
      "Seller: AGMH does not have the corresponding join keys\n"
     ]
    },
    {
     "name": "stderr",
     "output_type": "stream",
     "text": [
      "Loading sellers:  12%|█▏        | 1046/8379 [00:35<03:39, 33.40it/s]"
     ]
    },
    {
     "name": "stdout",
     "output_type": "stream",
     "text": [
      "Seller: AGNC does not have the corresponding join keys\n",
      "Seller: AGRI does not have the corresponding join keys\n",
      "Seller: AGRITECH does not have the corresponding join keys\n",
      "Seller: AGROPHOS does not have the corresponding join keys\n",
      "Seller: AGYS does not have the corresponding join keys\n",
      "Seller: AHCO does not have the corresponding join keys\n",
      "Seller: AHG does not have the corresponding join keys\n",
      "Seller: AHLADA does not have the corresponding join keys\n"
     ]
    },
    {
     "name": "stderr",
     "output_type": "stream",
     "text": [
      "Loading sellers:  13%|█▎        | 1055/8379 [00:36<03:32, 34.42it/s]"
     ]
    },
    {
     "name": "stdout",
     "output_type": "stream",
     "text": [
      "Seller: AHLEAST does not have the corresponding join keys\n",
      "Seller: AHLUCONT does not have the corresponding join keys\n",
      "Seller: AHLWEST does not have the corresponding join keys\n",
      "Seller: AIAENG does not have the corresponding join keys\n",
      "Seller: AIEV does not have the corresponding join keys\n",
      "Seller: AIFF does not have the corresponding join keys\n",
      "Seller: AIFU does not have the corresponding join keys\n"
     ]
    },
    {
     "name": "stderr",
     "output_type": "stream",
     "text": [
      "Loading sellers:  13%|█▎        | 1059/8379 [00:36<03:41, 33.00it/s]"
     ]
    },
    {
     "name": "stdout",
     "output_type": "stream",
     "text": [
      "Seller: aig does not have the corresponding join keys\n",
      "Seller: AIHS does not have the corresponding join keys\n",
      "Seller: AIICO Historical Data does not have the corresponding join keys\n",
      "Seller: AILE does not have the corresponding join keys\n",
      "Seller: AIMAU does not have the corresponding join keys\n",
      "Seller: AIMD does not have the corresponding join keys\n",
      "Seller: AIOT does not have the corresponding join keys\n",
      "Seller: AIP does not have the corresponding join keys\n",
      "Seller: AIRAN does not have the corresponding join keys\n",
      "Seller: AIRE does not have the corresponding join keys\n",
      "Seller: AIRG does not have the corresponding join keys\n",
      "Seller: AIRJ does not have the corresponding join keys\n",
      "Seller: AIRS does not have the corresponding join keys\n"
     ]
    },
    {
     "name": "stderr",
     "output_type": "stream",
     "text": [
      "Loading sellers:  13%|█▎        | 1075/8379 [00:36<02:42, 44.89it/s]"
     ]
    },
    {
     "name": "stdout",
     "output_type": "stream",
     "text": [
      "Seller: AIRT does not have the corresponding join keys\n",
      "Seller: AISP does not have the corresponding join keys\n",
      "Seller: AITR does not have the corresponding join keys\n",
      "Seller: aiv does not have the corresponding join keys\n",
      "Seller: AIXI does not have the corresponding join keys\n",
      "Seller: aiz does not have the corresponding join keys\n",
      "Seller: AJANTPHARM does not have the corresponding join keys\n"
     ]
    },
    {
     "name": "stderr",
     "output_type": "stream",
     "text": [
      "Loading sellers:  13%|█▎        | 1080/8379 [00:36<03:35, 33.92it/s]"
     ]
    },
    {
     "name": "stdout",
     "output_type": "stream",
     "text": [
      "Seller: ajg does not have the corresponding join keys\n",
      "Seller: AJMERA does not have the corresponding join keys\n",
      "Seller: AJOONI does not have the corresponding join keys\n",
      "Seller: AKAM_1 does not have the corresponding join keys\n",
      "Seller: akam does not have the corresponding join keys\n",
      "Seller: AKAM does not have the corresponding join keys\n",
      "Seller: AKAN does not have the corresponding join keys\n",
      "Seller: AKASH does not have the corresponding join keys\n"
     ]
    },
    {
     "name": "stderr",
     "output_type": "stream",
     "text": [
      "Loading sellers:  13%|█▎        | 1090/8379 [00:37<03:18, 36.71it/s]"
     ]
    },
    {
     "name": "stdout",
     "output_type": "stream",
     "text": [
      "Seller: AKBA does not have the corresponding join keys\n",
      "Seller: AKG does not have the corresponding join keys\n",
      "Seller: AKLI does not have the corresponding join keys\n",
      "Seller: AKRO does not have the corresponding join keys\n",
      "Seller: AKSHARCHEM does not have the corresponding join keys\n",
      "Seller: AKSHOPTFBR does not have the corresponding join keys\n",
      "Seller: AKTS does not have the corresponding join keys\n",
      "Seller: AKTX does not have the corresponding join keys\n",
      "Seller: AKYA does not have the corresponding join keys\n"
     ]
    },
    {
     "name": "stderr",
     "output_type": "stream",
     "text": [
      "Loading sellers:  13%|█▎        | 1099/8379 [00:37<03:25, 35.47it/s]"
     ]
    },
    {
     "name": "stdout",
     "output_type": "stream",
     "text": [
      "Seller: AKZOINDIA does not have the corresponding join keys\n",
      "Seller: AL's join key: Ticker does not have any intersection with the buyer's join key\n",
      "Seller: AL does not have the corresponding join keys\n",
      "Seller: ALAB does not have the corresponding join keys\n",
      "Seller: ALANKIT does not have the corresponding join keys\n",
      "Seller: ALAR does not have the corresponding join keys\n",
      "Seller: alb does not have the corresponding join keys\n",
      "Seller: ALBERTDAVD does not have the corresponding join keys\n",
      "Seller: ALBT does not have the corresponding join keys\n",
      "Seller: ALCE does not have the corresponding join keys\n"
     ]
    },
    {
     "name": "stderr",
     "output_type": "stream",
     "text": [
      "Loading sellers:  13%|█▎        | 1104/8379 [00:37<03:40, 32.93it/s]"
     ]
    },
    {
     "name": "stdout",
     "output_type": "stream",
     "text": [
      "Seller: ALCHEM does not have the corresponding join keys\n",
      "Seller: ALCO does not have the corresponding join keys\n",
      "Seller: ALCY does not have the corresponding join keys\n",
      "Seller: ALDX does not have the corresponding join keys\n",
      "Seller: ALEC does not have the corresponding join keys\n"
     ]
    },
    {
     "name": "stderr",
     "output_type": "stream",
     "text": [
      "Loading sellers:  13%|█▎        | 1113/8379 [00:37<03:29, 34.73it/s]"
     ]
    },
    {
     "name": "stdout",
     "output_type": "stream",
     "text": [
      "Seller: ALEMBICLTD does not have the corresponding join keys\n",
      "Seller: ALF does not have the corresponding join keys\n",
      "Seller: ALGM does not have the corresponding join keys\n",
      "Seller: algn does not have the corresponding join keys\n",
      "Seller: ALGN does not have the corresponding join keys\n",
      "Seller: ALGS does not have the corresponding join keys\n",
      "Seller: ALGT does not have the corresponding join keys\n",
      "Seller: ALHC does not have the corresponding join keys\n"
     ]
    },
    {
     "name": "stderr",
     "output_type": "stream",
     "text": [
      "Loading sellers:  13%|█▎        | 1117/8379 [00:37<03:56, 30.66it/s]"
     ]
    },
    {
     "name": "stdout",
     "output_type": "stream",
     "text": [
      "Seller: ALICON does not have the corresponding join keys\n",
      "Seller: alk does not have the corresponding join keys\n",
      "Seller: ALKALI does not have the corresponding join keys\n",
      "Seller: ALKEM does not have the corresponding join keys\n",
      "Seller: ALKIM's join key: Ticker does not have any intersection with the buyer's join key\n",
      "Seller: ALKIM does not have the corresponding join keys\n"
     ]
    },
    {
     "name": "stderr",
     "output_type": "stream",
     "text": [
      "Loading sellers:  13%|█▎        | 1121/8379 [00:38<04:04, 29.63it/s]"
     ]
    },
    {
     "name": "stdout",
     "output_type": "stream",
     "text": [
      "Seller: ALKS does not have the corresponding join keys\n",
      "Seller: ALKT does not have the corresponding join keys\n",
      "Seller: ALKYLAMINE does not have the corresponding join keys\n",
      "Seller: All Stock Prices does not have the corresponding join keys\n"
     ]
    },
    {
     "name": "stderr",
     "output_type": "stream",
     "text": [
      "Loading sellers:  13%|█▎        | 1125/8379 [00:39<19:06,  6.33it/s]"
     ]
    },
    {
     "name": "stdout",
     "output_type": "stream",
     "text": [
      "Seller: all_indices_data does not have the corresponding join keys\n",
      "Seller: all_stock_AdjClose_price does not have the corresponding join keys\n"
     ]
    },
    {
     "name": "stderr",
     "output_type": "stream",
     "text": [
      "Loading sellers:  13%|█▎        | 1128/8379 [00:48<1:30:21,  1.34it/s]"
     ]
    },
    {
     "name": "stdout",
     "output_type": "stream",
     "text": [
      "Seller: all_stock_closing_price does not have the corresponding join keys\n",
      "Seller: all_stock_High_price does not have the corresponding join keys\n"
     ]
    },
    {
     "name": "stderr",
     "output_type": "stream",
     "text": [
      "Loading sellers:  13%|█▎        | 1130/8379 [00:54<2:22:18,  1.18s/it]"
     ]
    },
    {
     "name": "stdout",
     "output_type": "stream",
     "text": [
      "Seller: all_stock_Low_price does not have the corresponding join keys\n",
      "Seller: all_stock_Open_price does not have the corresponding join keys\n"
     ]
    },
    {
     "name": "stderr",
     "output_type": "stream",
     "text": [
      "Loading sellers:  14%|█▎        | 1134/8379 [01:00<2:25:27,  1.20s/it]"
     ]
    },
    {
     "name": "stdout",
     "output_type": "stream",
     "text": [
      "Seller: all_stock_Volume does not have the corresponding join keys\n",
      "Seller: all does not have the corresponding join keys\n",
      "Seller: ALLCARGO does not have the corresponding join keys\n",
      "Seller: alle does not have the corresponding join keys\n",
      "Seller: ALLK does not have the corresponding join keys\n",
      "Seller: ALLO does not have the corresponding join keys\n",
      "Seller: ALLR does not have the corresponding join keys\n"
     ]
    },
    {
     "name": "stderr",
     "output_type": "stream",
     "text": [
      "Loading sellers:  14%|█▎        | 1143/8379 [01:00<55:12,  2.18it/s]  "
     ]
    },
    {
     "name": "stdout",
     "output_type": "stream",
     "text": [
      "Seller: ALLSEC does not have the corresponding join keys\n",
      "Seller: ALLT does not have the corresponding join keys\n",
      "Seller: ALMONDZ does not have the corresponding join keys\n",
      "Seller: ALMS does not have the corresponding join keys\n",
      "Seller: ALNT does not have the corresponding join keys\n",
      "Seller: ALNY does not have the corresponding join keys\n",
      "Seller: ALOKINDS does not have the corresponding join keys\n"
     ]
    },
    {
     "name": "stderr",
     "output_type": "stream",
     "text": [
      "Loading sellers:  14%|█▎        | 1149/8379 [01:00<32:04,  3.76it/s]"
     ]
    },
    {
     "name": "stdout",
     "output_type": "stream",
     "text": [
      "Seller: ALOT does not have the corresponding join keys\n",
      "Seller: ALPA does not have the corresponding join keys\n",
      "Seller: ALPHAGEO does not have the corresponding join keys\n",
      "Seller: ALPSINDUS does not have the corresponding join keys\n",
      "Seller: ALRM does not have the corresponding join keys\n",
      "Seller: ALRN does not have the corresponding join keys\n"
     ]
    },
    {
     "name": "stderr",
     "output_type": "stream",
     "text": [
      "Loading sellers:  14%|█▍        | 1160/8379 [01:01<13:17,  9.05it/s]"
     ]
    },
    {
     "name": "stdout",
     "output_type": "stream",
     "text": [
      "Seller: ALRS does not have the corresponding join keys\n",
      "Seller: ALSA does not have the corresponding join keys\n",
      "Seller: ALT does not have the corresponding join keys\n",
      "Seller: ALTI does not have the corresponding join keys\n",
      "Seller: ALTO does not have the corresponding join keys\n",
      "Seller: ALTR does not have the corresponding join keys\n",
      "Seller: ALVO does not have the corresponding join keys\n",
      "Seller: ALVR does not have the corresponding join keys\n",
      "Seller: alxn does not have the corresponding join keys\n",
      "Seller: ALXO does not have the corresponding join keys\n",
      "Seller: ALZN does not have the corresponding join keys\n"
     ]
    },
    {
     "name": "stderr",
     "output_type": "stream",
     "text": [
      "Loading sellers:  14%|█▍        | 1164/8379 [01:01<10:39, 11.29it/s]"
     ]
    },
    {
     "name": "stdout",
     "output_type": "stream",
     "text": [
      "Seller: AMAL does not have the corresponding join keys\n",
      "Seller: AMARAJABAT does not have the corresponding join keys\n",
      "Seller: AMAT_1 does not have the corresponding join keys\n"
     ]
    },
    {
     "name": "stderr",
     "output_type": "stream",
     "text": [
      "Loading sellers:  14%|█▍        | 1172/8379 [01:01<07:42, 15.59it/s]"
     ]
    },
    {
     "name": "stdout",
     "output_type": "stream",
     "text": [
      "Seller: amat does not have the corresponding join keys\n",
      "Seller: AMAT does not have the corresponding join keys\n",
      "Seller: Amazon_Stock_Data does not have the corresponding join keys\n",
      "Seller: AMBA does not have the corresponding join keys\n",
      "Seller: AMBER does not have the corresponding join keys\n",
      "Seller: AMBICAAGAR does not have the corresponding join keys\n",
      "Seller: AMBIKCO does not have the corresponding join keys\n"
     ]
    },
    {
     "name": "stderr",
     "output_type": "stream",
     "text": [
      "Loading sellers:  14%|█▍        | 1176/8379 [01:01<07:35, 15.83it/s]"
     ]
    },
    {
     "name": "stdout",
     "output_type": "stream",
     "text": [
      "Seller: AMBUJACEM does not have the corresponding join keys\n",
      "Seller: amcr does not have the corresponding join keys\n",
      "Seller: AMCX does not have the corresponding join keys\n",
      "Seller: AMD_1 does not have the corresponding join keys\n",
      "Seller: amd does not have the corresponding join keys\n"
     ]
    },
    {
     "name": "stderr",
     "output_type": "stream",
     "text": [
      "Loading sellers:  14%|█▍        | 1179/8379 [01:02<07:25, 16.15it/s]"
     ]
    },
    {
     "name": "stdout",
     "output_type": "stream",
     "text": [
      "Seller: AMD does not have the corresponding join keys\n",
      "Seller: AMDIND does not have the corresponding join keys\n",
      "Seller: ame does not have the corresponding join keys\n",
      "Seller: AMED does not have the corresponding join keys\n"
     ]
    },
    {
     "name": "stderr",
     "output_type": "stream",
     "text": [
      "Loading sellers:  14%|█▍        | 1186/8379 [01:02<06:46, 17.69it/s]"
     ]
    },
    {
     "name": "stdout",
     "output_type": "stream",
     "text": [
      "Seller: amgn does not have the corresponding join keys\n",
      "Seller: AMGN does not have the corresponding join keys\n",
      "Seller: AMI's join key: Ticker does not have any intersection with the buyer's join key\n",
      "Seller: AMI does not have the corresponding join keys\n",
      "Seller: AMIX does not have the corresponding join keys\n",
      "Seller: AMJLAND does not have the corresponding join keys\n"
     ]
    },
    {
     "name": "stderr",
     "output_type": "stream",
     "text": [
      "Loading sellers:  14%|█▍        | 1195/8379 [01:02<04:39, 25.66it/s]"
     ]
    },
    {
     "name": "stdout",
     "output_type": "stream",
     "text": [
      "Seller: AMKR does not have the corresponding join keys\n",
      "Seller: AMLI does not have the corresponding join keys\n",
      "Seller: AMLX does not have the corresponding join keys\n",
      "Seller: amp does not have the corresponding join keys\n",
      "Seller: AMPG does not have the corresponding join keys\n",
      "Seller: AMPH does not have the corresponding join keys\n",
      "Seller: AMPL does not have the corresponding join keys\n",
      "Seller: AMRK does not have the corresponding join keys\n",
      "Seller: AMRN does not have the corresponding join keys\n"
     ]
    },
    {
     "name": "stderr",
     "output_type": "stream",
     "text": [
      "Loading sellers:  14%|█▍        | 1199/8379 [01:02<04:45, 25.18it/s]"
     ]
    },
    {
     "name": "stdout",
     "output_type": "stream",
     "text": [
      "Seller: AMRUTANJAN does not have the corresponding join keys\n",
      "Seller: AMRX does not have the corresponding join keys\n",
      "Seller: AMS's join key: Ticker does not have any intersection with the buyer's join key\n",
      "Seller: AMS does not have the corresponding join keys\n",
      "Seller: AMSC does not have the corresponding join keys\n",
      "Seller: AMSF does not have the corresponding join keys\n",
      "Seller: AMST does not have the corresponding join keys\n"
     ]
    },
    {
     "name": "stderr",
     "output_type": "stream",
     "text": [
      "Loading sellers:  14%|█▍        | 1206/8379 [01:03<04:35, 26.07it/s]"
     ]
    },
    {
     "name": "stdout",
     "output_type": "stream",
     "text": [
      "Seller: amt does not have the corresponding join keys\n",
      "Seller: AMTX does not have the corresponding join keys\n",
      "Seller: AMV's join key: Ticker does not have any intersection with the buyer's join key\n",
      "Seller: AMV does not have the corresponding join keys\n",
      "Seller: AMWD does not have the corresponding join keys\n",
      "Seller: AMZN_1 does not have the corresponding join keys\n",
      "Seller: AMZN_fundamentals_test does not have the corresponding join keys\n"
     ]
    },
    {
     "name": "stderr",
     "output_type": "stream",
     "text": [
      "Loading sellers:  14%|█▍        | 1209/8379 [01:03<05:22, 22.26it/s]"
     ]
    },
    {
     "name": "stdout",
     "output_type": "stream",
     "text": [
      "Seller: AMZN_fundamentals_train does not have the corresponding join keys\n",
      "Seller: AMZN_technicals_test does not have the corresponding join keys\n",
      "Seller: AMZN_technicals_train does not have the corresponding join keys\n"
     ]
    },
    {
     "name": "stderr",
     "output_type": "stream",
     "text": [
      "Loading sellers:  14%|█▍        | 1212/8379 [01:03<06:19, 18.88it/s]"
     ]
    },
    {
     "name": "stdout",
     "output_type": "stream",
     "text": [
      "Seller: amzn does not have the corresponding join keys\n",
      "Seller: AMZN does not have the corresponding join keys\n",
      "Seller: ANAB does not have the corresponding join keys\n"
     ]
    },
    {
     "name": "stderr",
     "output_type": "stream",
     "text": [
      "Loading sellers:  15%|█▍        | 1215/8379 [01:12<1:44:31,  1.14it/s]"
     ]
    },
    {
     "name": "stdout",
     "output_type": "stream",
     "text": [
      "Seller: analyst_ratings_processed does not have the corresponding join keys\n",
      "Seller: ANANTRAJ does not have the corresponding join keys\n",
      "Seller: ANDE does not have the corresponding join keys\n",
      "Seller: ANDHRACEMT does not have the corresponding join keys\n"
     ]
    },
    {
     "name": "stderr",
     "output_type": "stream",
     "text": [
      "Loading sellers:  15%|█▍        | 1220/8379 [01:12<1:01:46,  1.93it/s]"
     ]
    },
    {
     "name": "stdout",
     "output_type": "stream",
     "text": [
      "Seller: ANDHRAPAP does not have the corresponding join keys\n",
      "Seller: ANDHRSUGAR does not have the corresponding join keys\n",
      "Seller: ANEB does not have the corresponding join keys\n",
      "Seller: anet does not have the corresponding join keys\n",
      "Seller: ANET does not have the corresponding join keys\n",
      "Seller: ANGELBRKG does not have the corresponding join keys\n",
      "Seller: ANGH does not have the corresponding join keys\n",
      "Seller: ANGI does not have the corresponding join keys\n"
     ]
    },
    {
     "name": "stderr",
     "output_type": "stream",
     "text": [
      "Loading sellers:  15%|█▍        | 1229/8379 [01:13<26:25,  4.51it/s]  "
     ]
    },
    {
     "name": "stdout",
     "output_type": "stream",
     "text": [
      "Seller: ANGO does not have the corresponding join keys\n",
      "Seller: ANIK does not have the corresponding join keys\n",
      "Seller: ANIKINDS does not have the corresponding join keys\n",
      "Seller: ANIP does not have the corresponding join keys\n"
     ]
    },
    {
     "name": "stderr",
     "output_type": "stream",
     "text": [
      "Loading sellers:  15%|█▍        | 1236/8379 [01:13<15:03,  7.90it/s]"
     ]
    },
    {
     "name": "stdout",
     "output_type": "stream",
     "text": [
      "Seller: ANIX does not have the corresponding join keys\n",
      "Seller: ANKITMETAL does not have the corresponding join keys\n",
      "Seller: ANL does not have the corresponding join keys\n",
      "Seller: ANMOL does not have the corresponding join keys\n",
      "Seller: ANNX does not have the corresponding join keys\n",
      "Seller: ANSALAPI does not have the corresponding join keys\n",
      "Seller: ANSALHSG does not have the corresponding join keys\n",
      "Seller: ANSC does not have the corresponding join keys\n"
     ]
    },
    {
     "name": "stderr",
     "output_type": "stream",
     "text": [
      "Loading sellers:  15%|█▍        | 1243/8379 [01:13<09:28, 12.56it/s]"
     ]
    },
    {
     "name": "stdout",
     "output_type": "stream",
     "text": [
      "Seller: ANSS_1 does not have the corresponding join keys\n",
      "Seller: anss does not have the corresponding join keys\n",
      "Seller: ANSS does not have the corresponding join keys\n",
      "Seller: ANTE does not have the corresponding join keys\n",
      "Seller: ANTM_2006-01-01_to_2022-03-16 does not have the corresponding join keys\n",
      "Seller: antm does not have the corresponding join keys\n",
      "Seller: ANTX does not have the corresponding join keys\n"
     ]
    },
    {
     "name": "stderr",
     "output_type": "stream",
     "text": [
      "Loading sellers:  15%|█▍        | 1248/8379 [01:13<07:09, 16.62it/s]"
     ]
    },
    {
     "name": "stdout",
     "output_type": "stream",
     "text": [
      "Seller: ANUP does not have the corresponding join keys\n",
      "Seller: ANURAS does not have the corresponding join keys\n",
      "Seller: ANY does not have the corresponding join keys\n",
      "Seller: aon does not have the corresponding join keys\n",
      "Seller: aos does not have the corresponding join keys\n"
     ]
    },
    {
     "name": "stderr",
     "output_type": "stream",
     "text": [
      "Loading sellers:  15%|█▍        | 1252/8379 [01:13<06:44, 17.63it/s]"
     ]
    },
    {
     "name": "stdout",
     "output_type": "stream",
     "text": [
      "Seller: AOSL does not have the corresponding join keys\n",
      "Seller: AOUT does not have the corresponding join keys\n",
      "Seller: apa does not have the corresponding join keys\n",
      "Seller: APA does not have the corresponding join keys\n"
     ]
    },
    {
     "name": "stderr",
     "output_type": "stream",
     "text": [
      "Loading sellers:  15%|█▍        | 1255/8379 [01:14<06:42, 17.68it/s]"
     ]
    },
    {
     "name": "stdout",
     "output_type": "stream",
     "text": [
      "Seller: APARINDS does not have the corresponding join keys\n",
      "Seller: APCL does not have the corresponding join keys\n",
      "Seller: APCOTEXIND does not have the corresponding join keys\n",
      "Seller: APCX does not have the corresponding join keys\n"
     ]
    },
    {
     "name": "stderr",
     "output_type": "stream",
     "text": [
      "Loading sellers:  15%|█▌        | 1263/8379 [01:14<05:47, 20.50it/s]"
     ]
    },
    {
     "name": "stdout",
     "output_type": "stream",
     "text": [
      "Seller: apd does not have the corresponding join keys\n",
      "Seller: APDN does not have the corresponding join keys\n",
      "Seller: APEI does not have the corresponding join keys\n",
      "Seller: APEX does not have the corresponding join keys\n",
      "Seller: APGE does not have the corresponding join keys\n",
      "Seller: aph does not have the corresponding join keys\n",
      "Seller: APH does not have the corresponding join keys\n"
     ]
    },
    {
     "name": "stderr",
     "output_type": "stream",
     "text": [
      "Loading sellers:  15%|█▌        | 1267/8379 [01:14<04:57, 23.93it/s]"
     ]
    },
    {
     "name": "stdout",
     "output_type": "stream",
     "text": [
      "Seller: API does not have the corresponding join keys\n",
      "Seller: APLAPOLLO does not have the corresponding join keys\n",
      "Seller: APLD does not have the corresponding join keys\n",
      "Seller: APLLTD does not have the corresponding join keys\n",
      "Seller: APLM does not have the corresponding join keys\n",
      "Seller: APLS does not have the corresponding join keys\n",
      "Seller: APLT does not have the corresponding join keys\n",
      "Seller: APM does not have the corresponding join keys\n"
     ]
    },
    {
     "name": "stderr",
     "output_type": "stream",
     "text": [
      "Loading sellers:  15%|█▌        | 1276/8379 [01:14<04:35, 25.74it/s]"
     ]
    },
    {
     "name": "stdout",
     "output_type": "stream",
     "text": [
      "Seller: APOG does not have the corresponding join keys\n",
      "Seller: APOLLO does not have the corresponding join keys\n",
      "Seller: APOLLOHOSP does not have the corresponding join keys\n",
      "Seller: APOLLOPIPE does not have the corresponding join keys\n"
     ]
    },
    {
     "name": "stderr",
     "output_type": "stream",
     "text": [
      "Loading sellers:  15%|█▌        | 1279/8379 [01:14<04:47, 24.71it/s]"
     ]
    },
    {
     "name": "stdout",
     "output_type": "stream",
     "text": [
      "Seller: APOLLOTYRE does not have the corresponding join keys\n",
      "Seller: APOLSINHOT does not have the corresponding join keys\n",
      "Seller: APP does not have the corresponding join keys\n",
      "Seller: APPF does not have the corresponding join keys\n",
      "Seller: APPN does not have the corresponding join keys\n",
      "Seller: APPS does not have the corresponding join keys\n",
      "Seller: APRE does not have the corresponding join keys\n",
      "Seller: APRN does not have the corresponding join keys\n",
      "Seller: APTECHT does not have the corresponding join keys\n"
     ]
    },
    {
     "name": "stderr",
     "output_type": "stream",
     "text": [
      "Loading sellers:  15%|█▌        | 1295/8379 [01:15<03:18, 35.71it/s]"
     ]
    },
    {
     "name": "stdout",
     "output_type": "stream",
     "text": [
      "Seller: APTO does not have the corresponding join keys\n",
      "Seller: aptv does not have the corresponding join keys\n",
      "Seller: APVO does not have the corresponding join keys\n",
      "Seller: APWC does not have the corresponding join keys\n",
      "Seller: APXI does not have the corresponding join keys\n",
      "Seller: APYX does not have the corresponding join keys\n",
      "Seller: AQB does not have the corresponding join keys\n",
      "Seller: AQMS does not have the corresponding join keys\n",
      "Seller: AQST does not have the corresponding join keys\n",
      "Seller: AQU does not have the corresponding join keys\n"
     ]
    },
    {
     "name": "stderr",
     "output_type": "stream",
     "text": [
      "Loading sellers:  16%|█▌        | 1300/8379 [01:15<03:08, 37.52it/s]"
     ]
    },
    {
     "name": "stdout",
     "output_type": "stream",
     "text": [
      "Seller: ARAY does not have the corresponding join keys\n",
      "Seller: ARBB does not have the corresponding join keys\n",
      "Seller: ARBE does not have the corresponding join keys\n",
      "Seller: ARBK does not have the corresponding join keys\n",
      "Seller: ARCB does not have the corresponding join keys\n",
      "Seller: ARCC does not have the corresponding join keys\n",
      "Seller: ARCHIDPLY does not have the corresponding join keys\n"
     ]
    },
    {
     "name": "stderr",
     "output_type": "stream",
     "text": [
      "Loading sellers:  16%|█▌        | 1308/8379 [01:15<03:36, 32.67it/s]"
     ]
    },
    {
     "name": "stdout",
     "output_type": "stream",
     "text": [
      "Seller: ARCHIES does not have the corresponding join keys\n",
      "Seller: ARCOTECH does not have the corresponding join keys\n",
      "Seller: ARCT does not have the corresponding join keys\n",
      "Seller: ARDX does not have the corresponding join keys\n",
      "Seller: are does not have the corresponding join keys\n",
      "Seller: AREB does not have the corresponding join keys\n",
      "Seller: AREC does not have the corresponding join keys\n",
      "Seller: ARENTERP does not have the corresponding join keys\n"
     ]
    },
    {
     "name": "stderr",
     "output_type": "stream",
     "text": [
      "Loading sellers:  16%|█▌        | 1312/8379 [01:15<03:48, 30.99it/s]"
     ]
    },
    {
     "name": "stdout",
     "output_type": "stream",
     "text": [
      "Seller: ARGX does not have the corresponding join keys\n",
      "Seller: ARHS does not have the corresponding join keys\n",
      "Seller: ARIES does not have the corresponding join keys\n"
     ]
    },
    {
     "name": "stderr",
     "output_type": "stream",
     "text": [
      "Loading sellers:  16%|█▌        | 1316/8379 [01:16<05:00, 23.54it/s]"
     ]
    },
    {
     "name": "stdout",
     "output_type": "stream",
     "text": [
      "Seller: ARIHANT does not have the corresponding join keys\n",
      "Seller: ARIHANTCAP does not have the corresponding join keys\n",
      "Seller: ARIHANTSUP does not have the corresponding join keys\n",
      "Seller: ARKO does not have the corresponding join keys\n"
     ]
    },
    {
     "name": "stderr",
     "output_type": "stream",
     "text": [
      "Loading sellers:  16%|█▌        | 1319/8379 [01:16<07:18, 16.10it/s]"
     ]
    },
    {
     "name": "stdout",
     "output_type": "stream",
     "text": [
      "Seller: ARKR does not have the corresponding join keys\n",
      "Seller: ARLP does not have the corresponding join keys\n",
      "Seller: ARM does not have the corresponding join keys\n",
      "Seller: ARMANFIN does not have the corresponding join keys\n"
     ]
    },
    {
     "name": "stderr",
     "output_type": "stream",
     "text": [
      "Loading sellers:  16%|█▌        | 1325/8379 [01:16<07:10, 16.39it/s]"
     ]
    },
    {
     "name": "stdout",
     "output_type": "stream",
     "text": [
      "Seller: AROGRANITE does not have the corresponding join keys\n",
      "Seller: AROW does not have the corresponding join keys\n",
      "Seller: ARQ does not have the corresponding join keys\n",
      "Seller: ARQQ does not have the corresponding join keys\n"
     ]
    },
    {
     "name": "stderr",
     "output_type": "stream",
     "text": [
      "Loading sellers:  16%|█▌        | 1330/8379 [01:17<05:40, 20.72it/s]"
     ]
    },
    {
     "name": "stdout",
     "output_type": "stream",
     "text": [
      "Seller: ARQT does not have the corresponding join keys\n",
      "Seller: ARROWGREEN does not have the corresponding join keys\n",
      "Seller: ARRY does not have the corresponding join keys\n",
      "Seller: ARSHIYA does not have the corresponding join keys\n",
      "Seller: ARSSINFRA does not have the corresponding join keys\n",
      "Seller: ARTEMISMED does not have the corresponding join keys\n",
      "Seller: ARTES's join key: Ticker does not have any intersection with the buyer's join key\n",
      "Seller: ARTES does not have the corresponding join keys\n",
      "Seller: ARTL does not have the corresponding join keys\n"
     ]
    },
    {
     "name": "stderr",
     "output_type": "stream",
     "text": [
      "Loading sellers:  16%|█▌        | 1337/8379 [01:17<04:55, 23.80it/s]"
     ]
    },
    {
     "name": "stdout",
     "output_type": "stream",
     "text": [
      "Seller: ARTNA does not have the corresponding join keys\n",
      "Seller: ARTV does not have the corresponding join keys\n",
      "Seller: ARTW does not have the corresponding join keys\n",
      "Seller: ARVEE does not have the corresponding join keys\n"
     ]
    },
    {
     "name": "stderr",
     "output_type": "stream",
     "text": [
      "Loading sellers:  16%|█▌        | 1340/8379 [01:17<06:39, 17.63it/s]"
     ]
    },
    {
     "name": "stdout",
     "output_type": "stream",
     "text": [
      "Seller: ARVIND does not have the corresponding join keys\n",
      "Seller: ARVINDFASN does not have the corresponding join keys\n",
      "Seller: ARVN does not have the corresponding join keys\n",
      "Seller: ARVSMART does not have the corresponding join keys\n"
     ]
    },
    {
     "name": "stderr",
     "output_type": "stream",
     "text": [
      "Loading sellers:  16%|█▌        | 1343/8379 [01:18<09:19, 12.59it/s]"
     ]
    },
    {
     "name": "stdout",
     "output_type": "stream",
     "text": [
      "Seller: ARWR does not have the corresponding join keys\n",
      "Seller: ASAHIINDIA does not have the corresponding join keys\n"
     ]
    },
    {
     "name": "stderr",
     "output_type": "stream",
     "text": [
      "Loading sellers:  16%|█▌        | 1345/8379 [01:18<10:45, 10.90it/s]"
     ]
    },
    {
     "name": "stdout",
     "output_type": "stream",
     "text": [
      "Seller: ASAHISONG does not have the corresponding join keys\n",
      "Seller: ASAL does not have the corresponding join keys\n",
      "Seller: ASALCBR does not have the corresponding join keys\n"
     ]
    },
    {
     "name": "stderr",
     "output_type": "stream",
     "text": [
      "Loading sellers:  16%|█▌        | 1350/8379 [01:18<08:56, 13.11it/s]"
     ]
    },
    {
     "name": "stdout",
     "output_type": "stream",
     "text": [
      "Seller: ASHAPURMIN does not have the corresponding join keys\n",
      "Seller: ASHIANA does not have the corresponding join keys\n",
      "Seller: ASHIMASYN does not have the corresponding join keys\n",
      "Seller: ASHOKA does not have the corresponding join keys\n"
     ]
    },
    {
     "name": "stderr",
     "output_type": "stream",
     "text": [
      "Loading sellers:  16%|█▌        | 1352/8379 [01:18<10:22, 11.28it/s]"
     ]
    },
    {
     "name": "stdout",
     "output_type": "stream",
     "text": [
      "Seller: ASHOKLEY does not have the corresponding join keys\n",
      "Seller: ASIANHOTNR does not have the corresponding join keys\n"
     ]
    },
    {
     "name": "stderr",
     "output_type": "stream",
     "text": [
      "Loading sellers:  16%|█▌        | 1354/8379 [01:19<13:22,  8.75it/s]"
     ]
    },
    {
     "name": "stdout",
     "output_type": "stream",
     "text": [
      "Seller: ASIANPAINT does not have the corresponding join keys\n",
      "Seller: ASIANTILES does not have the corresponding join keys\n"
     ]
    },
    {
     "name": "stderr",
     "output_type": "stream",
     "text": [
      "Loading sellers:  16%|█▌        | 1359/8379 [01:19<09:52, 11.85it/s]"
     ]
    },
    {
     "name": "stdout",
     "output_type": "stream",
     "text": [
      "Seller: ASII_2006-01-01_to_2022-03-16 does not have the corresponding join keys\n",
      "Seller: ASLE does not have the corresponding join keys\n",
      "Seller: ASLN does not have the corresponding join keys\n",
      "Seller: ASMB does not have the corresponding join keys\n",
      "Seller: ASML_1 does not have the corresponding join keys\n"
     ]
    },
    {
     "name": "stderr",
     "output_type": "stream",
     "text": [
      "Loading sellers:  16%|█▋        | 1367/8379 [01:19<05:46, 20.23it/s]"
     ]
    },
    {
     "name": "stdout",
     "output_type": "stream",
     "text": [
      "Seller: ASML does not have the corresponding join keys\n",
      "Seller: ASND does not have the corresponding join keys\n",
      "Seller: ASNS does not have the corresponding join keys\n",
      "Seller: ASO does not have the corresponding join keys\n",
      "Seller: ASPI does not have the corresponding join keys\n",
      "Seller: ASPINWALL does not have the corresponding join keys\n",
      "Seller: ASPS does not have the corresponding join keys\n",
      "Seller: ASRT does not have the corresponding join keys\n"
     ]
    },
    {
     "name": "stderr",
     "output_type": "stream",
     "text": [
      "Loading sellers:  17%|█▋        | 1390/8379 [01:20<01:53, 61.79it/s]"
     ]
    },
    {
     "name": "stdout",
     "output_type": "stream",
     "text": [
      "Seller: ASRV does not have the corresponding join keys\n",
      "Seller: ASSAD's join key: Ticker does not have any intersection with the buyer's join key\n",
      "Seller: ASSAD does not have the corresponding join keys\n",
      "Seller: assets_liabilities_1 does not have the corresponding join keys\n",
      "Seller: assets_liabilities_2 does not have the corresponding join keys\n",
      "Seller: assets_liabilities_3 does not have the corresponding join keys\n",
      "Seller: assets_liabilities_4 does not have the corresponding join keys\n",
      "Seller: assets_liabilities_5 does not have the corresponding join keys\n",
      "Seller: assets_liabilities_6 does not have the corresponding join keys\n",
      "Seller: assets_liabilities_7 does not have the corresponding join keys\n",
      "Seller: assets_liabilities_8 does not have the corresponding join keys\n",
      "Seller: assets_liabilities_9 does not have the corresponding join keys\n",
      "Seller: assets_liabilities_10 does not have the corresponding join keys\n",
      "Seller: assets_liabilities_11 does not have the corresponding join keys\n",
      "Seller: assets_liabilities_12 does not have the corresponding join keys\n",
      "Seller: assets_liabilities_13 does not have the corresponding join keys\n",
      "Seller: assets_liabilities_14 does not have the corresponding join keys\n",
      "Seller: assets_liabilities_15 does not have the corresponding join keys\n",
      "Seller: assets_liabilities_16 does not have the corresponding join keys\n",
      "Seller: assets_liabilities_17 does not have the corresponding join keys\n",
      "Seller: assets_liabilities_18 does not have the corresponding join keys\n",
      "Seller: assets_liabilities_19 does not have the corresponding join keys\n",
      "Seller: assets_liabilities_20 does not have the corresponding join keys\n",
      "Seller: assets_liabilities_21 does not have the corresponding join keys\n",
      "Seller: assets_liabilities_22 does not have the corresponding join keys\n",
      "Seller: assets_liabilities_23 does not have the corresponding join keys\n",
      "Seller: assets_liabilities_24 does not have the corresponding join keys\n",
      "Seller: assets_liabilities_25 does not have the corresponding join keys\n",
      "Seller: assets_liabilities_26 does not have the corresponding join keys\n",
      "Seller: assets_liabilities_27 does not have the corresponding join keys\n",
      "Seller: assets_liabilities_28 does not have the corresponding join keys\n",
      "Seller: assets_liabilities_29 does not have the corresponding join keys\n",
      "Seller: assets_liabilities_30 does not have the corresponding join keys\n",
      "Seller: assets_liabilities_31 does not have the corresponding join keys\n",
      "Seller: assets_liabilities_32 does not have the corresponding join keys\n",
      "Seller: assets_liabilities_33 does not have the corresponding join keys\n",
      "Seller: assets_liabilities_34 does not have the corresponding join keys\n",
      "Seller: assets_liabilities_35 does not have the corresponding join keys\n"
     ]
    },
    {
     "name": "stderr",
     "output_type": "stream",
     "text": [
      "Loading sellers:  17%|█▋        | 1427/8379 [01:20<01:05, 105.41it/s]"
     ]
    },
    {
     "name": "stdout",
     "output_type": "stream",
     "text": [
      "Seller: assets_liabilities_36 does not have the corresponding join keys\n",
      "Seller: assets_liabilities_37 does not have the corresponding join keys\n",
      "Seller: assets_liabilities_38 does not have the corresponding join keys\n",
      "Seller: assets_liabilities_39 does not have the corresponding join keys\n",
      "Seller: assets_liabilities_40 does not have the corresponding join keys\n",
      "Seller: assets_liabilities_41 does not have the corresponding join keys\n",
      "Seller: assets_liabilities_42 does not have the corresponding join keys\n",
      "Seller: assets_liabilities_43 does not have the corresponding join keys\n",
      "Seller: assets_liabilities_44 does not have the corresponding join keys\n",
      "Seller: assets_liabilities_45 does not have the corresponding join keys\n",
      "Seller: assets_liabilities_46 does not have the corresponding join keys\n",
      "Seller: assets_liabilities_47 does not have the corresponding join keys\n",
      "Seller: assets_liabilities_48 does not have the corresponding join keys\n",
      "Seller: assets_liabilities_49 does not have the corresponding join keys\n",
      "Seller: assets_liabilities_50 does not have the corresponding join keys\n",
      "Seller: assets_liabilities_51 does not have the corresponding join keys\n",
      "Seller: assets_liabilities_52 does not have the corresponding join keys\n",
      "Seller: assets_liabilities_53 does not have the corresponding join keys\n",
      "Seller: assets_liabilities does not have the corresponding join keys\n",
      "Seller: ASSMA's join key: Ticker does not have any intersection with the buyer's join key\n",
      "Seller: ASSMA does not have the corresponding join keys\n",
      "Seller: ASST does not have the corresponding join keys\n",
      "Seller: AST's join key: Ticker does not have any intersection with the buyer's join key\n",
      "Seller: AST does not have the corresponding join keys\n",
      "Seller: ASTC does not have the corresponding join keys\n",
      "Seller: ASTE does not have the corresponding join keys\n",
      "Seller: ASTEC does not have the corresponding join keys\n",
      "Seller: ASTERDM does not have the corresponding join keys\n",
      "Seller: ASTH does not have the corresponding join keys\n",
      "Seller: ASTI does not have the corresponding join keys\n",
      "Seller: ASTL does not have the corresponding join keys\n",
      "Seller: ASTR does not have the corresponding join keys\n",
      "Seller: ASTRAL does not have the corresponding join keys\n"
     ]
    },
    {
     "name": "stderr",
     "output_type": "stream",
     "text": [
      "Loading sellers:  17%|█▋        | 1439/8379 [01:20<01:57, 59.25it/s] "
     ]
    },
    {
     "name": "stdout",
     "output_type": "stream",
     "text": [
      "Seller: ASTRAMICRO does not have the corresponding join keys\n",
      "Seller: ASTRAZEN does not have the corresponding join keys\n",
      "Seller: ASTRON does not have the corresponding join keys\n",
      "Seller: ASTS does not have the corresponding join keys\n",
      "Seller: ASUR does not have the corresponding join keys\n",
      "Seller: ASYS does not have the corresponding join keys\n",
      "Seller: ATAI does not have the corresponding join keys\n",
      "Seller: ATAT does not have the corresponding join keys\n",
      "Seller: ATB's join key: Ticker does not have any intersection with the buyer's join key\n",
      "Seller: ATB does not have the corresponding join keys\n",
      "Seller: ATCX does not have the corresponding join keys\n",
      "Seller: ATEC does not have the corresponding join keys\n",
      "Seller: ATER does not have the corresponding join keys\n",
      "Seller: ATEX does not have the corresponding join keys\n",
      "Seller: ATFL does not have the corresponding join keys\n"
     ]
    },
    {
     "name": "stderr",
     "output_type": "stream",
     "text": [
      "Loading sellers:  17%|█▋        | 1449/8379 [01:21<02:25, 47.50it/s]"
     ]
    },
    {
     "name": "stdout",
     "output_type": "stream",
     "text": [
      "Seller: ATGL_1 does not have the corresponding join keys\n",
      "Seller: ATGL does not have the corresponding join keys\n",
      "Seller: ATHA does not have the corresponding join keys\n",
      "Seller: ATHE does not have the corresponding join keys\n",
      "Seller: ATIF does not have the corresponding join keys\n",
      "Seller: ATL's join key: Ticker does not have any intersection with the buyer's join key\n",
      "Seller: ATL does not have the corresponding join keys\n",
      "Seller: ATLANTA does not have the corresponding join keys\n"
     ]
    },
    {
     "name": "stderr",
     "output_type": "stream",
     "text": [
      "Loading sellers:  17%|█▋        | 1464/8379 [01:21<02:42, 42.46it/s]"
     ]
    },
    {
     "name": "stdout",
     "output_type": "stream",
     "text": [
      "Seller: ATLASCYCLE does not have the corresponding join keys\n",
      "Seller: ATLC does not have the corresponding join keys\n",
      "Seller: ATLO does not have the corresponding join keys\n",
      "Seller: ATLX does not have the corresponding join keys\n",
      "Seller: ATMC does not have the corresponding join keys\n",
      "Seller: ATMV does not have the corresponding join keys\n",
      "Seller: ATNF does not have the corresponding join keys\n",
      "Seller: ATNI does not have the corresponding join keys\n"
     ]
    },
    {
     "name": "stderr",
     "output_type": "stream",
     "text": [
      "Loading sellers:  18%|█▊        | 1470/8379 [01:21<02:51, 40.32it/s]"
     ]
    },
    {
     "name": "stdout",
     "output_type": "stream",
     "text": [
      "Seller: ato does not have the corresponding join keys\n",
      "Seller: ATOM does not have the corresponding join keys\n",
      "Seller: ATOS does not have the corresponding join keys\n",
      "Seller: ATPC does not have the corresponding join keys\n",
      "Seller: ATRA does not have the corresponding join keys\n",
      "Seller: ATRC does not have the corresponding join keys\n",
      "Seller: ATRO does not have the corresponding join keys\n"
     ]
    },
    {
     "name": "stderr",
     "output_type": "stream",
     "text": [
      "Loading sellers:  18%|█▊        | 1475/8379 [01:21<03:38, 31.62it/s]"
     ]
    },
    {
     "name": "stdout",
     "output_type": "stream",
     "text": [
      "Seller: ATSG does not have the corresponding join keys\n",
      "Seller: ATUL does not have the corresponding join keys\n",
      "Seller: ATULAUTO does not have the corresponding join keys\n",
      "Seller: atvi does not have the corresponding join keys\n"
     ]
    },
    {
     "name": "stderr",
     "output_type": "stream",
     "text": [
      "Loading sellers:  18%|█▊        | 1483/8379 [01:22<03:30, 32.77it/s]"
     ]
    },
    {
     "name": "stdout",
     "output_type": "stream",
     "text": [
      "Seller: ATVI does not have the corresponding join keys\n",
      "Seller: ATXG does not have the corresponding join keys\n",
      "Seller: ATXI does not have the corresponding join keys\n",
      "Seller: ATXS does not have the corresponding join keys\n",
      "Seller: ATYR does not have the corresponding join keys\n",
      "Seller: AUBANK does not have the corresponding join keys\n",
      "Seller: AUBN does not have the corresponding join keys\n",
      "Seller: AUDC does not have the corresponding join keys\n",
      "Seller: AUGX does not have the corresponding join keys\n",
      "Seller: AUID does not have the corresponding join keys\n"
     ]
    },
    {
     "name": "stderr",
     "output_type": "stream",
     "text": [
      "Loading sellers:  18%|█▊        | 1489/8379 [01:22<03:07, 36.67it/s]"
     ]
    },
    {
     "name": "stdout",
     "output_type": "stream",
     "text": [
      "Seller: AUPH does not have the corresponding join keys\n",
      "Seller: AUR does not have the corresponding join keys\n",
      "Seller: AURA does not have the corresponding join keys\n",
      "Seller: AURIONPRO does not have the corresponding join keys\n",
      "Seller: AUROPHARMA does not have the corresponding join keys\n",
      "Seller: AUSOMENT does not have the corresponding join keys\n"
     ]
    },
    {
     "name": "stderr",
     "output_type": "stream",
     "text": [
      "Loading sellers:  18%|█▊        | 1494/8379 [01:22<04:05, 28.06it/s]"
     ]
    },
    {
     "name": "stdout",
     "output_type": "stream",
     "text": [
      "Seller: AUTL does not have the corresponding join keys\n",
      "Seller: AUTOAXLES does not have the corresponding join keys\n",
      "Seller: AUTOIND does not have the corresponding join keys\n",
      "Seller: AUTOLITIND does not have the corresponding join keys\n",
      "Seller: AUUD does not have the corresponding join keys\n"
     ]
    },
    {
     "name": "stderr",
     "output_type": "stream",
     "text": [
      "Loading sellers:  18%|█▊        | 1502/8379 [01:22<03:47, 30.23it/s]"
     ]
    },
    {
     "name": "stdout",
     "output_type": "stream",
     "text": [
      "Seller: AVADHSUGAR does not have the corresponding join keys\n",
      "Seller: AVAH does not have the corresponding join keys\n",
      "Seller: AVANTIFEED does not have the corresponding join keys\n",
      "Seller: AVAV does not have the corresponding join keys\n",
      "Seller: avb does not have the corresponding join keys\n",
      "Seller: AVBP does not have the corresponding join keys\n",
      "Seller: AVDL does not have the corresponding join keys\n",
      "Seller: AVDX does not have the corresponding join keys\n"
     ]
    },
    {
     "name": "stderr",
     "output_type": "stream",
     "text": [
      "Loading sellers:  18%|█▊        | 1506/8379 [01:22<03:44, 30.67it/s]"
     ]
    },
    {
     "name": "stdout",
     "output_type": "stream",
     "text": [
      "Seller: AVGO_1 does not have the corresponding join keys\n",
      "Seller: AVGO_fundamentals_test does not have the corresponding join keys\n",
      "Seller: AVGO_fundamentals_train does not have the corresponding join keys\n",
      "Seller: AVGO_technicals_test does not have the corresponding join keys\n"
     ]
    },
    {
     "name": "stderr",
     "output_type": "stream",
     "text": [
      "Loading sellers:  18%|█▊        | 1515/8379 [01:23<04:29, 25.48it/s]"
     ]
    },
    {
     "name": "stdout",
     "output_type": "stream",
     "text": [
      "Seller: AVGO_technicals_train does not have the corresponding join keys\n",
      "Seller: avgo does not have the corresponding join keys\n",
      "Seller: AVGO does not have the corresponding join keys\n",
      "Seller: AVGR does not have the corresponding join keys\n",
      "Seller: AVIR does not have the corresponding join keys\n",
      "Seller: AVLR does not have the corresponding join keys\n",
      "Seller: AVNW does not have the corresponding join keys\n",
      "Seller: AVO does not have the corresponding join keys\n",
      "Seller: AVPT does not have the corresponding join keys\n"
     ]
    },
    {
     "name": "stderr",
     "output_type": "stream",
     "text": [
      "Loading sellers:  18%|█▊        | 1519/8379 [01:23<04:10, 27.34it/s]"
     ]
    },
    {
     "name": "stdout",
     "output_type": "stream",
     "text": [
      "Seller: AVT does not have the corresponding join keys\n",
      "Seller: AVTE does not have the corresponding join keys\n",
      "Seller: AVTNPL does not have the corresponding join keys\n",
      "Seller: AVTX does not have the corresponding join keys\n",
      "Seller: AVXL does not have the corresponding join keys\n"
     ]
    },
    {
     "name": "stderr",
     "output_type": "stream",
     "text": [
      "Loading sellers:  18%|█▊        | 1523/8379 [01:23<04:41, 24.38it/s]2025-02-20 05:49:54,864 - ERROR - Error in get_num_cols: single positional indexer is out-of-bounds\n",
      "2025-02-20 05:49:54,864 - ERROR - Error processing data/stock_ticker_datasets/seller/AWHCL.csv: 'NoneType' object is not iterable\n",
      "Loading sellers:  18%|█▊        | 1527/8379 [01:23<04:22, 26.07it/s]"
     ]
    },
    {
     "name": "stdout",
     "output_type": "stream",
     "text": [
      "Seller: avy does not have the corresponding join keys\n",
      "Seller: AWH does not have the corresponding join keys\n",
      "Seller: awk does not have the corresponding join keys\n",
      "Seller: AWRE does not have the corresponding join keys\n",
      "Seller: AXDX does not have the corresponding join keys\n"
     ]
    },
    {
     "name": "stderr",
     "output_type": "stream",
     "text": [
      "Loading sellers:  18%|█▊        | 1530/8379 [01:24<05:08, 22.21it/s]"
     ]
    },
    {
     "name": "stdout",
     "output_type": "stream",
     "text": [
      "Seller: AXGN does not have the corresponding join keys\n",
      "Seller: AXISBANK does not have the corresponding join keys\n",
      "Seller: AXISCADES does not have the corresponding join keys\n",
      "Seller: AXNX does not have the corresponding join keys\n",
      "Seller: AXON does not have the corresponding join keys\n"
     ]
    },
    {
     "name": "stderr",
     "output_type": "stream",
     "text": [
      "Loading sellers:  18%|█▊        | 1540/8379 [01:24<04:28, 25.48it/s]"
     ]
    },
    {
     "name": "stdout",
     "output_type": "stream",
     "text": [
      "Seller: axp does not have the corresponding join keys\n",
      "Seller: AXP does not have the corresponding join keys\n",
      "Seller: AXSM does not have the corresponding join keys\n",
      "Seller: AXTA does not have the corresponding join keys\n",
      "Seller: AXTI does not have the corresponding join keys\n",
      "Seller: AY does not have the corresponding join keys\n",
      "Seller: AYMSYNTEX does not have the corresponding join keys\n",
      "Seller: AYRO does not have the corresponding join keys\n"
     ]
    },
    {
     "name": "stderr",
     "output_type": "stream",
     "text": [
      "Loading sellers:  18%|█▊        | 1545/8379 [01:24<03:49, 29.76it/s]"
     ]
    },
    {
     "name": "stdout",
     "output_type": "stream",
     "text": [
      "Seller: AYTU does not have the corresponding join keys\n",
      "Seller: AZ does not have the corresponding join keys\n",
      "Seller: AZI does not have the corresponding join keys\n",
      "Seller: AZN_fundamentals_test does not have the corresponding join keys\n",
      "Seller: AZN_fundamentals_train does not have the corresponding join keys\n",
      "Seller: AZN_technicals_test does not have the corresponding join keys\n"
     ]
    },
    {
     "name": "stderr",
     "output_type": "stream",
     "text": [
      "Loading sellers:  18%|█▊        | 1549/8379 [01:24<05:46, 19.70it/s]"
     ]
    },
    {
     "name": "stdout",
     "output_type": "stream",
     "text": [
      "Seller: AZN_technicals_train does not have the corresponding join keys\n",
      "Seller: AZN does not have the corresponding join keys\n",
      "Seller: azo does not have the corresponding join keys\n",
      "Seller: AZPN does not have the corresponding join keys\n"
     ]
    },
    {
     "name": "stderr",
     "output_type": "stream",
     "text": [
      "Loading sellers:  19%|█▊        | 1552/8379 [01:25<05:53, 19.31it/s]"
     ]
    },
    {
     "name": "stdout",
     "output_type": "stream",
     "text": [
      "Seller: AZTA does not have the corresponding join keys\n"
     ]
    },
    {
     "name": "stderr",
     "output_type": "stream",
     "text": [
      "Loading sellers:  19%|█▊        | 1555/8379 [01:37<2:10:40,  1.15s/it]"
     ]
    },
    {
     "name": "stdout",
     "output_type": "stream",
     "text": [
      "Seller: b3_stocks_1994_2020 does not have the corresponding join keys\n",
      "Seller: ba does not have the corresponding join keys\n",
      "Seller: BABA does not have the corresponding join keys\n"
     ]
    },
    {
     "name": "stderr",
     "output_type": "stream",
     "text": [
      "Loading sellers:  19%|█▊        | 1563/8379 [01:38<58:34,  1.94it/s]  "
     ]
    },
    {
     "name": "stdout",
     "output_type": "stream",
     "text": [
      "Seller: bac does not have the corresponding join keys\n",
      "Seller: BAC does not have the corresponding join keys\n",
      "Seller: BACK does not have the corresponding join keys\n",
      "Seller: BACQ does not have the corresponding join keys\n",
      "Seller: BAER does not have the corresponding join keys\n",
      "Seller: BAFN does not have the corresponding join keys\n",
      "Seller: BAFNAPH does not have the corresponding join keys\n",
      "Seller: BAGFILMS does not have the corresponding join keys\n",
      "Seller: BAJAJ-AUTO does not have the corresponding join keys\n"
     ]
    },
    {
     "name": "stderr",
     "output_type": "stream",
     "text": [
      "Loading sellers:  19%|█▊        | 1567/8379 [01:38<42:39,  2.66it/s]"
     ]
    },
    {
     "name": "stdout",
     "output_type": "stream",
     "text": [
      "Seller: BAJAJCON does not have the corresponding join keys\n",
      "Seller: BAJAJELEC does not have the corresponding join keys\n",
      "Seller: BAJAJFINSV does not have the corresponding join keys\n",
      "Seller: BAJAJHIND does not have the corresponding join keys\n"
     ]
    },
    {
     "name": "stderr",
     "output_type": "stream",
     "text": [
      "Loading sellers:  19%|█▊        | 1570/8379 [01:38<34:44,  3.27it/s]"
     ]
    },
    {
     "name": "stdout",
     "output_type": "stream",
     "text": [
      "Seller: BAJAJHLDNG does not have the corresponding join keys\n",
      "Seller: BAJFINANCE does not have the corresponding join keys\n",
      "Seller: BALAJITELE does not have the corresponding join keys\n"
     ]
    },
    {
     "name": "stderr",
     "output_type": "stream",
     "text": [
      "Loading sellers:  19%|█▉        | 1576/8379 [01:39<21:27,  5.29it/s]"
     ]
    },
    {
     "name": "stdout",
     "output_type": "stream",
     "text": [
      "Seller: BALAMINES does not have the corresponding join keys\n",
      "Seller: BALAXI does not have the corresponding join keys\n",
      "Seller: BALKRISHNA does not have the corresponding join keys\n",
      "Seller: BALKRISIND does not have the corresponding join keys\n",
      "Seller: BALLARPUR does not have the corresponding join keys\n"
     ]
    },
    {
     "name": "stderr",
     "output_type": "stream",
     "text": [
      "Loading sellers:  19%|█▉        | 1579/8379 [01:39<18:05,  6.27it/s]"
     ]
    },
    {
     "name": "stdout",
     "output_type": "stream",
     "text": [
      "Seller: BALMLAWRIE does not have the corresponding join keys\n",
      "Seller: BALPHARMA does not have the corresponding join keys\n",
      "Seller: BALRAMCHIN does not have the corresponding join keys\n",
      "Seller: BANARBEADS does not have the corresponding join keys\n"
     ]
    },
    {
     "name": "stderr",
     "output_type": "stream",
     "text": [
      "Loading sellers:  19%|█▉        | 1584/8379 [01:39<12:11,  9.29it/s]"
     ]
    },
    {
     "name": "stdout",
     "output_type": "stream",
     "text": [
      "Seller: BANARISUG does not have the corresponding join keys\n",
      "Seller: BANCOINDIA does not have the corresponding join keys\n",
      "Seller: BAND does not have the corresponding join keys\n",
      "Seller: BANDHANBNK does not have the corresponding join keys\n",
      "Seller: BANF does not have the corresponding join keys\n",
      "Seller: BANG does not have the corresponding join keys\n"
     ]
    },
    {
     "name": "stderr",
     "output_type": "stream",
     "text": [
      "Loading sellers:  19%|█▉        | 1590/8379 [01:39<08:59, 12.59it/s]"
     ]
    },
    {
     "name": "stdout",
     "output_type": "stream",
     "text": [
      "Seller: BANKA does not have the corresponding join keys\n",
      "Seller: BANKBARODA does not have the corresponding join keys\n",
      "Seller: BANKINDIA does not have the corresponding join keys\n",
      "Seller: BANL does not have the corresponding join keys\n"
     ]
    },
    {
     "name": "stderr",
     "output_type": "stream",
     "text": [
      "Loading sellers:  19%|█▉        | 1593/8379 [01:39<07:43, 14.63it/s]2025-02-20 05:50:11,093 - ERROR - Error in get_num_cols: single positional indexer is out-of-bounds\n",
      "2025-02-20 05:50:11,094 - ERROR - Error processing data/stock_ticker_datasets/seller/BARBEQUE.csv: 'NoneType' object is not iterable\n"
     ]
    },
    {
     "name": "stdout",
     "output_type": "stream",
     "text": [
      "Seller: BANR does not have the corresponding join keys\n",
      "Seller: BANSWRAS does not have the corresponding join keys\n",
      "Seller: BANX does not have the corresponding join keys\n",
      "Seller: BAOS does not have the corresponding join keys\n",
      "Seller: BARTRONICS does not have the corresponding join keys\n",
      "Seller: BASE does not have the corresponding join keys\n"
     ]
    },
    {
     "name": "stderr",
     "output_type": "stream",
     "text": [
      "Loading sellers:  19%|█▉        | 1601/8379 [01:40<06:21, 17.75it/s]"
     ]
    },
    {
     "name": "stdout",
     "output_type": "stream",
     "text": [
      "Seller: BASF does not have the corresponding join keys\n",
      "Seller: BASML does not have the corresponding join keys\n",
      "Seller: BATAINDIA does not have the corresponding join keys\n",
      "Seller: BATRA does not have the corresponding join keys\n",
      "Seller: BATRK does not have the corresponding join keys\n"
     ]
    },
    {
     "name": "stderr",
     "output_type": "stream",
     "text": [
      "Loading sellers:  19%|█▉        | 1608/8379 [01:40<05:05, 22.16it/s]"
     ]
    },
    {
     "name": "stdout",
     "output_type": "stream",
     "text": [
      "Seller: bax does not have the corresponding join keys\n",
      "Seller: BAYA does not have the corresponding join keys\n",
      "Seller: BAYERCROP does not have the corresponding join keys\n",
      "Seller: BBCA_2006-01-01_to_2022-03-16 does not have the corresponding join keys\n",
      "Seller: BBCP does not have the corresponding join keys\n",
      "Seller: BBGI does not have the corresponding join keys\n",
      "Seller: BBIO does not have the corresponding join keys\n"
     ]
    },
    {
     "name": "stderr",
     "output_type": "stream",
     "text": [
      "Loading sellers:  19%|█▉        | 1612/8379 [01:40<04:36, 24.48it/s]2025-02-20 05:50:11,900 - ERROR - Error in get_num_cols: single positional indexer is out-of-bounds\n",
      "2025-02-20 05:50:11,900 - ERROR - Error processing data/stock_ticker_datasets/seller/BBTC.csv: 'NoneType' object is not iterable\n",
      "Loading sellers:  19%|█▉        | 1616/8379 [01:40<04:24, 25.57it/s]"
     ]
    },
    {
     "name": "stdout",
     "output_type": "stream",
     "text": [
      "Seller: BBL does not have the corresponding join keys\n",
      "Seller: BBLG does not have the corresponding join keys\n",
      "Seller: BBNI_2006-01-01_to_2022-03-16 does not have the corresponding join keys\n",
      "Seller: BBRI_2006-01-01_to_2022-03-16 does not have the corresponding join keys\n",
      "Seller: BBSI does not have the corresponding join keys\n",
      "Seller: BBTN_2006-01-01_to_2022-03-16 does not have the corresponding join keys\n"
     ]
    },
    {
     "name": "stderr",
     "output_type": "stream",
     "text": [
      "Loading sellers:  19%|█▉        | 1624/8379 [01:41<03:35, 31.39it/s]"
     ]
    },
    {
     "name": "stdout",
     "output_type": "stream",
     "text": [
      "Seller: bby does not have the corresponding join keys\n",
      "Seller: BCAB does not have the corresponding join keys\n",
      "Seller: BCAL does not have the corresponding join keys\n",
      "Seller: BCAN does not have the corresponding join keys\n",
      "Seller: BCAX does not have the corresponding join keys\n",
      "Seller: BCBP does not have the corresponding join keys\n",
      "Seller: BCDA does not have the corresponding join keys\n",
      "Seller: BCG_1 does not have the corresponding join keys\n",
      "Seller: BCG does not have the corresponding join keys\n",
      "Seller: BCLI does not have the corresponding join keys\n"
     ]
    },
    {
     "name": "stderr",
     "output_type": "stream",
     "text": [
      "Loading sellers:  19%|█▉        | 1632/8379 [01:41<03:27, 32.48it/s]"
     ]
    },
    {
     "name": "stdout",
     "output_type": "stream",
     "text": [
      "Seller: BCLIND does not have the corresponding join keys\n",
      "Seller: BCML does not have the corresponding join keys\n",
      "Seller: BCOV does not have the corresponding join keys\n",
      "Seller: BCOW does not have the corresponding join keys\n",
      "Seller: BCP does not have the corresponding join keys\n",
      "Seller: BCPC does not have the corresponding join keys\n"
     ]
    },
    {
     "name": "stderr",
     "output_type": "stream",
     "text": [
      "Loading sellers:  20%|█▉        | 1636/8379 [01:41<03:15, 34.43it/s]"
     ]
    },
    {
     "name": "stdout",
     "output_type": "stream",
     "text": [
      "Seller: BCRX does not have the corresponding join keys\n",
      "Seller: BCSA does not have the corresponding join keys\n",
      "Seller: BCTX does not have the corresponding join keys\n",
      "Seller: BCYC does not have the corresponding join keys\n",
      "Seller: BDL does not have the corresponding join keys\n",
      "Seller: BDMD does not have the corresponding join keys\n",
      "Seller: BDRX does not have the corresponding join keys\n",
      "Seller: BDSX does not have the corresponding join keys\n",
      "Seller: BDTX does not have the corresponding join keys\n"
     ]
    },
    {
     "name": "stderr",
     "output_type": "stream",
     "text": [
      "Loading sellers:  20%|█▉        | 1647/8379 [01:41<02:52, 38.95it/s]"
     ]
    },
    {
     "name": "stdout",
     "output_type": "stream",
     "text": [
      "Seller: bdx does not have the corresponding join keys\n",
      "Seller: BEAM does not have the corresponding join keys\n",
      "Seller: BEARDSELL does not have the corresponding join keys\n",
      "Seller: BEAT does not have the corresponding join keys\n",
      "Seller: BECN does not have the corresponding join keys\n",
      "Seller: BECTORFOOD does not have the corresponding join keys\n",
      "Seller: BEDMUTHA does not have the corresponding join keys\n",
      "Seller: BEEM does not have the corresponding join keys\n"
     ]
    },
    {
     "name": "stderr",
     "output_type": "stream",
     "text": [
      "Loading sellers:  20%|█▉        | 1652/8379 [01:41<03:53, 28.78it/s]"
     ]
    },
    {
     "name": "stdout",
     "output_type": "stream",
     "text": [
      "Seller: BEL does not have the corresponding join keys\n",
      "Seller: BELFA does not have the corresponding join keys\n",
      "Seller: BELFB does not have the corresponding join keys\n",
      "Seller: BEML does not have the corresponding join keys\n"
     ]
    },
    {
     "name": "stderr",
     "output_type": "stream",
     "text": [
      "Loading sellers:  20%|█▉        | 1659/8379 [01:42<04:37, 24.22it/s]"
     ]
    },
    {
     "name": "stdout",
     "output_type": "stream",
     "text": [
      "Seller: ben does not have the corresponding join keys\n",
      "Seller: BENF does not have the corresponding join keys\n",
      "Seller: BEPL does not have the corresponding join keys\n",
      "Seller: BERGEPAINT does not have the corresponding join keys\n",
      "Seller: BESTAGRO does not have the corresponding join keys\n",
      "Seller: BETR does not have the corresponding join keys\n"
     ]
    },
    {
     "name": "stderr",
     "output_type": "stream",
     "text": [
      "Loading sellers:  20%|█▉        | 1662/8379 [01:42<04:37, 24.18it/s]"
     ]
    },
    {
     "name": "stdout",
     "output_type": "stream",
     "text": [
      "Seller: BFC does not have the corresponding join keys\n",
      "Seller: BFIN does not have the corresponding join keys\n",
      "Seller: BFINVEST does not have the corresponding join keys\n",
      "Seller: BFRG does not have the corresponding join keys\n",
      "Seller: BFRI does not have the corresponding join keys\n",
      "Seller: BFST does not have the corresponding join keys\n",
      "Seller: BFUTILITIE does not have the corresponding join keys\n"
     ]
    },
    {
     "name": "stderr",
     "output_type": "stream",
     "text": [
      "Loading sellers:  20%|█▉        | 1672/8379 [01:42<03:36, 30.94it/s]"
     ]
    },
    {
     "name": "stdout",
     "output_type": "stream",
     "text": [
      "Seller: BGC does not have the corresponding join keys\n",
      "Seller: BGFV does not have the corresponding join keys\n",
      "Seller: BGLC does not have the corresponding join keys\n",
      "Seller: BGM does not have the corresponding join keys\n",
      "Seller: BGNE does not have the corresponding join keys\n",
      "Seller: BGRENERGY does not have the corresponding join keys\n",
      "Seller: BH's join key: Ticker does not have any intersection with the buyer's join key\n",
      "Seller: BH does not have the corresponding join keys\n",
      "Seller: BHAGERIA does not have the corresponding join keys\n"
     ]
    },
    {
     "name": "stderr",
     "output_type": "stream",
     "text": [
      "Loading sellers:  20%|██        | 1676/8379 [01:42<03:23, 32.89it/s]"
     ]
    },
    {
     "name": "stdout",
     "output_type": "stream",
     "text": [
      "Seller: BHAGYANGR does not have the corresponding join keys\n",
      "Seller: BHAGYAPROP does not have the corresponding join keys\n",
      "Seller: BHANDARI does not have the corresponding join keys\n",
      "Seller: BHARATFORG does not have the corresponding join keys\n"
     ]
    },
    {
     "name": "stderr",
     "output_type": "stream",
     "text": [
      "Loading sellers:  20%|██        | 1683/8379 [01:43<04:39, 23.94it/s]"
     ]
    },
    {
     "name": "stdout",
     "output_type": "stream",
     "text": [
      "Seller: BHARATGEAR does not have the corresponding join keys\n",
      "Seller: BHARATRAS does not have the corresponding join keys\n",
      "Seller: BHARATWIRE does not have the corresponding join keys\n",
      "Seller: BHARTIARTL does not have the corresponding join keys\n",
      "Seller: BHASS's join key: Ticker does not have any intersection with the buyer's join key\n",
      "Seller: BHASS does not have the corresponding join keys\n"
     ]
    },
    {
     "name": "stderr",
     "output_type": "stream",
     "text": [
      "Loading sellers:  20%|██        | 1686/8379 [01:43<04:45, 23.41it/s]"
     ]
    },
    {
     "name": "stdout",
     "output_type": "stream",
     "text": [
      "Seller: BHAT does not have the corresponding join keys\n",
      "Seller: BHEL does not have the corresponding join keys\n",
      "Seller: BHF does not have the corresponding join keys\n",
      "Seller: BHIL does not have the corresponding join keys\n",
      "Seller: BHL's join key: Ticker does not have any intersection with the buyer's join key\n",
      "Seller: BHL does not have the corresponding join keys\n",
      "Seller: BHRB does not have the corresponding join keys\n",
      "Seller: BHST does not have the corresponding join keys\n",
      "Seller: BIAF does not have the corresponding join keys\n",
      "Seller: BIAT's join key: Ticker does not have any intersection with the buyer's join key\n",
      "Seller: BIAT does not have the corresponding join keys\n"
     ]
    },
    {
     "name": "stderr",
     "output_type": "stream",
     "text": [
      "Loading sellers:  20%|██        | 1697/8379 [01:43<03:41, 30.16it/s]"
     ]
    },
    {
     "name": "stdout",
     "output_type": "stream",
     "text": [
      "Seller: BIDU does not have the corresponding join keys\n",
      "Seller: BIGBLOC does not have the corresponding join keys\n",
      "Seller: BIGC does not have the corresponding join keys\n",
      "Seller: BIIB_1 does not have the corresponding join keys\n",
      "Seller: biib does not have the corresponding join keys\n",
      "Seller: BIIB does not have the corresponding join keys\n"
     ]
    },
    {
     "name": "stderr",
     "output_type": "stream",
     "text": [
      "Loading sellers:  20%|██        | 1701/8379 [01:43<03:53, 28.61it/s]"
     ]
    },
    {
     "name": "stdout",
     "output_type": "stream",
     "text": [
      "Seller: BIL does not have the corresponding join keys\n",
      "Seller: BILENERGY does not have the corresponding join keys\n",
      "Seller: BILI does not have the corresponding join keys\n",
      "Seller: BINDALAGRO does not have the corresponding join keys\n",
      "Seller: BIOA does not have the corresponding join keys\n"
     ]
    },
    {
     "name": "stderr",
     "output_type": "stream",
     "text": [
      "Loading sellers:  20%|██        | 1709/8379 [01:44<04:02, 27.55it/s]"
     ]
    },
    {
     "name": "stdout",
     "output_type": "stream",
     "text": [
      "Seller: BIOCON does not have the corresponding join keys\n",
      "Seller: BIOFILCHEM does not have the corresponding join keys\n",
      "Seller: BIOR does not have the corresponding join keys\n",
      "Seller: BIOX does not have the corresponding join keys\n",
      "Seller: BIRD does not have the corresponding join keys\n",
      "Seller: BIRLACABLE does not have the corresponding join keys\n"
     ]
    },
    {
     "name": "stderr",
     "output_type": "stream",
     "text": [
      "Loading sellers:  20%|██        | 1712/8379 [01:44<04:29, 24.73it/s]"
     ]
    },
    {
     "name": "stdout",
     "output_type": "stream",
     "text": [
      "Seller: BIRLACORPN does not have the corresponding join keys\n",
      "Seller: BIRLAMONEY does not have the corresponding join keys\n",
      "Seller: BIRLATYRE does not have the corresponding join keys\n",
      "Seller: BITF does not have the corresponding join keys\n",
      "Seller: BIVI does not have the corresponding join keys\n",
      "Seller: BJDX does not have the corresponding join keys\n",
      "Seller: BJRI does not have the corresponding join keys\n"
     ]
    },
    {
     "name": "stderr",
     "output_type": "stream",
     "text": [
      "Loading sellers:  21%|██        | 1721/8379 [01:44<03:59, 27.82it/s]"
     ]
    },
    {
     "name": "stdout",
     "output_type": "stream",
     "text": [
      "Seller: bk does not have the corresponding join keys\n",
      "Seller: BK does not have the corresponding join keys\n",
      "Seller: BKHA does not have the corresponding join keys\n",
      "Seller: BKMINDST does not have the corresponding join keys\n",
      "Seller: bkng does not have the corresponding join keys\n",
      "Seller: BKNG does not have the corresponding join keys\n"
     ]
    },
    {
     "name": "stderr",
     "output_type": "stream",
     "text": [
      "Loading sellers:  21%|██        | 1724/8379 [01:44<04:36, 24.11it/s]"
     ]
    },
    {
     "name": "stdout",
     "output_type": "stream",
     "text": [
      "Seller: bkr does not have the corresponding join keys\n",
      "Seller: BKR does not have the corresponding join keys\n",
      "Seller: BKYI does not have the corresponding join keys\n",
      "Seller: BL_1 does not have the corresponding join keys\n",
      "Seller: BL's join key: Ticker does not have any intersection with the buyer's join key\n",
      "Seller: BL does not have the corresponding join keys\n",
      "Seller: BLAC does not have the corresponding join keys\n"
     ]
    },
    {
     "name": "stderr",
     "output_type": "stream",
     "text": [
      "Loading sellers:  21%|██        | 1732/8379 [01:44<04:02, 27.46it/s]"
     ]
    },
    {
     "name": "stdout",
     "output_type": "stream",
     "text": [
      "Seller: blackrock_2022_Q1_holdings_value_esgrisk does not have the corresponding join keys\n",
      "Seller: BLBD does not have the corresponding join keys\n",
      "Seller: BLBLIMITED does not have the corresponding join keys\n",
      "Seller: BLBX does not have the corresponding join keys\n",
      "Seller: BLDE does not have the corresponding join keys\n",
      "Seller: BLDP does not have the corresponding join keys\n"
     ]
    },
    {
     "name": "stderr",
     "output_type": "stream",
     "text": [
      "Loading sellers:  21%|██        | 1739/8379 [01:45<04:00, 27.64it/s]"
     ]
    },
    {
     "name": "stdout",
     "output_type": "stream",
     "text": [
      "Seller: BLFS does not have the corresponding join keys\n",
      "Seller: BLFY does not have the corresponding join keys\n",
      "Seller: BLIN does not have the corresponding join keys\n",
      "Seller: BLISSGVS does not have the corresponding join keys\n",
      "Seller: blk does not have the corresponding join keys\n",
      "Seller: BLKASHYAP does not have the corresponding join keys\n"
     ]
    },
    {
     "name": "stderr",
     "output_type": "stream",
     "text": [
      "Loading sellers:  21%|██        | 1742/8379 [01:45<04:51, 22.74it/s]"
     ]
    },
    {
     "name": "stdout",
     "output_type": "stream",
     "text": [
      "Seller: BLKB does not have the corresponding join keys\n",
      "Seller: bll does not have the corresponding join keys\n",
      "Seller: BLMN does not have the corresponding join keys\n",
      "Seller: BLMZ does not have the corresponding join keys\n",
      "Seller: BLNK does not have the corresponding join keys\n",
      "Seller: BLRX does not have the corresponding join keys\n",
      "Seller: BLS does not have the corresponding join keys\n"
     ]
    },
    {
     "name": "stderr",
     "output_type": "stream",
     "text": [
      "Loading sellers:  21%|██        | 1751/8379 [01:45<04:02, 27.29it/s]"
     ]
    },
    {
     "name": "stdout",
     "output_type": "stream",
     "text": [
      "Seller: BLTE does not have the corresponding join keys\n",
      "Seller: BLUE does not have the corresponding join keys\n",
      "Seller: BLUECOAST does not have the corresponding join keys\n",
      "Seller: BLUEDART does not have the corresponding join keys\n"
     ]
    },
    {
     "name": "stderr",
     "output_type": "stream",
     "text": [
      "Loading sellers:  21%|██        | 1759/8379 [01:45<03:51, 28.61it/s]"
     ]
    },
    {
     "name": "stdout",
     "output_type": "stream",
     "text": [
      "Seller: BLUESTARCO does not have the corresponding join keys\n",
      "Seller: BLZE does not have the corresponding join keys\n",
      "Seller: BMBL does not have the corresponding join keys\n",
      "Seller: BMEA does not have the corresponding join keys\n",
      "Seller: BMR does not have the corresponding join keys\n",
      "Seller: BMRA does not have the corresponding join keys\n",
      "Seller: BMRC does not have the corresponding join keys\n",
      "Seller: BMRI_2006-01-01_to_2022-03-16 does not have the corresponding join keys\n"
     ]
    },
    {
     "name": "stderr",
     "output_type": "stream",
     "text": [
      "Loading sellers:  21%|██        | 1762/8379 [01:46<04:29, 24.54it/s]"
     ]
    },
    {
     "name": "stdout",
     "output_type": "stream",
     "text": [
      "Seller: BMRN does not have the corresponding join keys\n",
      "Seller: BMY_fundamentals_test does not have the corresponding join keys\n",
      "Seller: BMY_fundamentals_train does not have the corresponding join keys\n",
      "Seller: BMY_technicals_test does not have the corresponding join keys\n"
     ]
    },
    {
     "name": "stderr",
     "output_type": "stream",
     "text": [
      "Loading sellers:  21%|██        | 1765/8379 [01:46<06:12, 17.77it/s]"
     ]
    },
    {
     "name": "stdout",
     "output_type": "stream",
     "text": [
      "Seller: BMY_technicals_train does not have the corresponding join keys\n",
      "Seller: bmy does not have the corresponding join keys\n",
      "Seller: BNA's join key: Ticker does not have any intersection with the buyer's join key\n",
      "Seller: BNA does not have the corresponding join keys\n",
      "Seller: BNAI does not have the corresponding join keys\n",
      "Seller: BNGO does not have the corresponding join keys\n",
      "Seller: BNIX does not have the corresponding join keys\n",
      "Seller: BNOX does not have the corresponding join keys\n",
      "Seller: BNR does not have the corresponding join keys\n",
      "Seller: BNRG does not have the corresponding join keys\n"
     ]
    },
    {
     "name": "stderr",
     "output_type": "stream",
     "text": [
      "Loading sellers:  21%|██        | 1778/8379 [01:46<03:33, 30.95it/s]"
     ]
    },
    {
     "name": "stdout",
     "output_type": "stream",
     "text": [
      "Seller: BNTC does not have the corresponding join keys\n",
      "Seller: BNTX does not have the corresponding join keys\n",
      "Seller: BNZI does not have the corresponding join keys\n",
      "Seller: BODALCHEM does not have the corresponding join keys\n",
      "Seller: BOF does not have the corresponding join keys\n",
      "Seller: BOKF does not have the corresponding join keys\n",
      "Seller: BOLD does not have the corresponding join keys\n",
      "Seller: BOLT does not have the corresponding join keys\n"
     ]
    },
    {
     "name": "stderr",
     "output_type": "stream",
     "text": [
      "Loading sellers:  21%|██▏       | 1786/8379 [01:46<03:38, 30.24it/s]"
     ]
    },
    {
     "name": "stdout",
     "output_type": "stream",
     "text": [
      "Seller: BOMDYEING does not have the corresponding join keys\n",
      "Seller: BON does not have the corresponding join keys\n",
      "Seller: BOOM does not have the corresponding join keys\n",
      "Seller: BOROLTD does not have the corresponding join keys\n",
      "Seller: BORORENEW does not have the corresponding join keys\n",
      "Seller: BOSC does not have the corresponding join keys\n"
     ]
    },
    {
     "name": "stderr",
     "output_type": "stream",
     "text": [
      "Loading sellers:  21%|██▏       | 1790/8379 [01:47<03:51, 28.44it/s]"
     ]
    },
    {
     "name": "stdout",
     "output_type": "stream",
     "text": [
      "Seller: BOSCHLTD does not have the corresponding join keys\n",
      "Seller: BOTJ does not have the corresponding join keys\n",
      "Seller: BOWN does not have the corresponding join keys\n",
      "Seller: BOXL does not have the corresponding join keys\n",
      "Seller: BPCL does not have the corresponding join keys\n"
     ]
    },
    {
     "name": "stderr",
     "output_type": "stream",
     "text": [
      "Loading sellers:  21%|██▏       | 1794/8379 [01:47<04:55, 22.30it/s]"
     ]
    },
    {
     "name": "stdout",
     "output_type": "stream",
     "text": [
      "Seller: BPL does not have the corresponding join keys\n",
      "Seller: BPMC does not have the corresponding join keys\n",
      "Seller: BPOP does not have the corresponding join keys\n",
      "Seller: BPRN does not have the corresponding join keys\n",
      "Seller: BPTH does not have the corresponding join keys\n",
      "Seller: br does not have the corresponding join keys\n"
     ]
    },
    {
     "name": "stderr",
     "output_type": "stream",
     "text": [
      "Loading sellers:  22%|██▏       | 1803/8379 [01:47<03:46, 28.99it/s]"
     ]
    },
    {
     "name": "stdout",
     "output_type": "stream",
     "text": [
      "Seller: BR does not have the corresponding join keys\n",
      "Seller: BRAC does not have the corresponding join keys\n",
      "Seller: BRAG does not have the corresponding join keys\n",
      "Seller: BREA does not have the corresponding join keys\n",
      "Seller: BRFH does not have the corresponding join keys\n",
      "Seller: BRFL does not have the corresponding join keys\n",
      "Seller: BRID does not have the corresponding join keys\n"
     ]
    },
    {
     "name": "stderr",
     "output_type": "stream",
     "text": [
      "Loading sellers:  22%|██▏       | 1807/8379 [01:47<05:01, 21.78it/s]"
     ]
    },
    {
     "name": "stdout",
     "output_type": "stream",
     "text": [
      "Seller: BRIGADE does not have the corresponding join keys\n",
      "Seller: BRITANNIA does not have the corresponding join keys\n",
      "Seller: BRK-A does not have the corresponding join keys\n",
      "Seller: BRKA does not have the corresponding join keys\n"
     ]
    },
    {
     "name": "stderr",
     "output_type": "stream",
     "text": [
      "Loading sellers:  22%|██▏       | 1818/8379 [01:48<03:25, 31.94it/s]"
     ]
    },
    {
     "name": "stdout",
     "output_type": "stream",
     "text": [
      "Seller: brkb does not have the corresponding join keys\n",
      "Seller: BRKB does not have the corresponding join keys\n",
      "Seller: BRKH does not have the corresponding join keys\n",
      "Seller: BRKL does not have the corresponding join keys\n",
      "Seller: BRKR does not have the corresponding join keys\n",
      "Seller: BRLS does not have the corresponding join keys\n",
      "Seller: BRLT does not have the corresponding join keys\n",
      "Seller: BRNL does not have the corresponding join keys\n",
      "Seller: BRNS does not have the corresponding join keys\n",
      "Seller: BROG does not have the corresponding join keys\n"
     ]
    },
    {
     "name": "stderr",
     "output_type": "stream",
     "text": [
      "Loading sellers:  22%|██▏       | 1826/8379 [01:48<03:16, 33.40it/s]"
     ]
    },
    {
     "name": "stdout",
     "output_type": "stream",
     "text": [
      "Seller: BROOKS does not have the corresponding join keys\n",
      "Seller: BRPT_2006-01-01_to_2022-03-16 does not have the corresponding join keys\n",
      "Seller: BRTX does not have the corresponding join keys\n",
      "Seller: BRY does not have the corresponding join keys\n",
      "Seller: BRZE does not have the corresponding join keys\n",
      "Seller: BSBK does not have the corresponding join keys\n",
      "Seller: BSE does not have the corresponding join keys\n",
      "Seller: BSELINFRA does not have the corresponding join keys\n"
     ]
    },
    {
     "name": "stderr",
     "output_type": "stream",
     "text": [
      "Loading sellers:  22%|██▏       | 1830/8379 [01:48<03:14, 33.66it/s]"
     ]
    },
    {
     "name": "stdout",
     "output_type": "stream",
     "text": [
      "Seller: BSET does not have the corresponding join keys\n",
      "Seller: BSFC does not have the corresponding join keys\n",
      "Seller: BSGM does not have the corresponding join keys\n",
      "Seller: BSHSL does not have the corresponding join keys\n",
      "Seller: BSII does not have the corresponding join keys\n",
      "Seller: BSL does not have the corresponding join keys\n",
      "Seller: BSLK does not have the corresponding join keys\n"
     ]
    },
    {
     "name": "stderr",
     "output_type": "stream",
     "text": [
      "Loading sellers:  22%|██▏       | 1838/8379 [01:48<03:41, 29.55it/s]"
     ]
    },
    {
     "name": "stdout",
     "output_type": "stream",
     "text": [
      "Seller: BSOFT does not have the corresponding join keys\n",
      "Seller: BSRR does not have the corresponding join keys\n",
      "Seller: BSVN does not have the corresponding join keys\n",
      "Seller: bsx does not have the corresponding join keys\n",
      "Seller: BSY does not have the corresponding join keys\n",
      "Seller: BT's join key: Ticker does not have any intersection with the buyer's join key\n",
      "Seller: BT does not have the corresponding join keys\n",
      "Seller: BTAI does not have the corresponding join keys\n",
      "Seller: BTBD does not have the corresponding join keys\n"
     ]
    },
    {
     "name": "stderr",
     "output_type": "stream",
     "text": [
      "Loading sellers:  22%|██▏       | 1843/8379 [01:48<03:48, 28.57it/s]"
     ]
    },
    {
     "name": "stdout",
     "output_type": "stream",
     "text": [
      "Seller: BTBT does not have the corresponding join keys\n",
      "Seller: btcetf_06012024 does not have the corresponding join keys\n",
      "Seller: BTCS does not have the corresponding join keys\n",
      "Seller: BTCT does not have the corresponding join keys\n",
      "Seller: BTDR does not have the corresponding join keys\n",
      "Seller: BTE's join key: Ticker does not have any intersection with the buyer's join key\n",
      "Seller: BTE does not have the corresponding join keys\n",
      "Seller: BTM does not have the corresponding join keys\n"
     ]
    },
    {
     "name": "stderr",
     "output_type": "stream",
     "text": [
      "Loading sellers:  22%|██▏       | 1851/8379 [01:49<02:46, 39.18it/s]2025-02-20 05:50:20,190 - ERROR - Error in get_num_cols: single positional indexer is out-of-bounds\n",
      "2025-02-20 05:50:20,190 - ERROR - Error processing data/stock_ticker_datasets/seller/BURGERKING.csv: 'NoneType' object is not iterable\n",
      "Loading sellers:  22%|██▏       | 1857/8379 [01:49<02:33, 42.41it/s]"
     ]
    },
    {
     "name": "stdout",
     "output_type": "stream",
     "text": [
      "Seller: BTMD does not have the corresponding join keys\n",
      "Seller: BTOC does not have the corresponding join keys\n",
      "Seller: BTOG does not have the corresponding join keys\n",
      "Seller: BTSG does not have the corresponding join keys\n",
      "Seller: BUJA does not have the corresponding join keys\n",
      "Seller: BUKA_2006-01-01_to_2022-03-16 does not have the corresponding join keys\n",
      "Seller: BURNPUR does not have the corresponding join keys\n",
      "Seller: BUSE does not have the corresponding join keys\n",
      "Seller: BUTTERFLY does not have the corresponding join keys\n",
      "Seller: BVCL does not have the corresponding join keys\n"
     ]
    },
    {
     "name": "stderr",
     "output_type": "stream",
     "text": [
      "Loading sellers:  22%|██▏       | 1867/8379 [01:49<02:36, 41.62it/s]"
     ]
    },
    {
     "name": "stdout",
     "output_type": "stream",
     "text": [
      "Seller: BVFL does not have the corresponding join keys\n",
      "Seller: BVS does not have the corresponding join keys\n",
      "Seller: bwa does not have the corresponding join keys\n",
      "Seller: BWAY does not have the corresponding join keys\n",
      "Seller: BWB does not have the corresponding join keys\n",
      "Seller: BWEN does not have the corresponding join keys\n",
      "Seller: BWFG does not have the corresponding join keys\n",
      "Seller: BWIN does not have the corresponding join keys\n",
      "Seller: BWMN does not have the corresponding join keys\n"
     ]
    },
    {
     "name": "stderr",
     "output_type": "stream",
     "text": [
      "Loading sellers:  22%|██▏       | 1878/8379 [01:49<02:29, 43.60it/s]"
     ]
    },
    {
     "name": "stdout",
     "output_type": "stream",
     "text": [
      "Seller: bxp does not have the corresponding join keys\n",
      "Seller: BYFC does not have the corresponding join keys\n",
      "Seller: BYKE does not have the corresponding join keys\n",
      "Seller: BYND does not have the corresponding join keys\n",
      "Seller: BYNO does not have the corresponding join keys\n",
      "Seller: BYRN does not have the corresponding join keys\n",
      "Seller: BYSI does not have the corresponding join keys\n",
      "Seller: BYU does not have the corresponding join keys\n",
      "Seller: BZ does not have the corresponding join keys\n",
      "Seller: BZFD does not have the corresponding join keys\n"
     ]
    },
    {
     "name": "stderr",
     "output_type": "stream",
     "text": [
      "Loading sellers:  22%|██▏       | 1883/8379 [01:49<03:02, 35.63it/s]"
     ]
    },
    {
     "name": "stdout",
     "output_type": "stream",
     "text": [
      "Seller: BZUN does not have the corresponding join keys\n",
      "Seller: c does not have the corresponding join keys\n",
      "Seller: CAAS does not have the corresponding join keys\n",
      "Seller: CABA does not have the corresponding join keys\n",
      "Seller: CAC does not have the corresponding join keys\n"
     ]
    },
    {
     "name": "stderr",
     "output_type": "stream",
     "text": [
      "Loading sellers:  23%|██▎       | 1887/8379 [01:50<03:47, 28.54it/s]"
     ]
    },
    {
     "name": "stdout",
     "output_type": "stream",
     "text": [
      "Seller: CACC does not have the corresponding join keys\n",
      "Seller: CADILAHC does not have the corresponding join keys\n",
      "Seller: CADL does not have the corresponding join keys\n",
      "Seller: cag does not have the corresponding join keys\n"
     ]
    },
    {
     "name": "stderr",
     "output_type": "stream",
     "text": [
      "Loading sellers:  23%|██▎       | 1891/8379 [01:50<04:01, 26.86it/s]"
     ]
    },
    {
     "name": "stdout",
     "output_type": "stream",
     "text": [
      "Seller: cah does not have the corresponding join keys\n",
      "Seller: CAJ does not have the corresponding join keys\n",
      "Seller: CAKE does not have the corresponding join keys\n",
      "Seller: CALC does not have the corresponding join keys\n",
      "Seller: CALM does not have the corresponding join keys\n",
      "Seller: CALSOFT does not have the corresponding join keys\n"
     ]
    },
    {
     "name": "stderr",
     "output_type": "stream",
     "text": [
      "Loading sellers:  23%|██▎       | 1897/8379 [01:50<04:06, 26.26it/s]"
     ]
    },
    {
     "name": "stdout",
     "output_type": "stream",
     "text": [
      "Seller: CALT does not have the corresponding join keys\n",
      "Seller: CAMLINFINE does not have the corresponding join keys\n",
      "Seller: CAMP does not have the corresponding join keys\n",
      "Seller: CAMS does not have the corresponding join keys\n",
      "Seller: CAMT does not have the corresponding join keys\n",
      "Seller: CAN does not have the corresponding join keys\n"
     ]
    },
    {
     "name": "stderr",
     "output_type": "stream",
     "text": [
      "Loading sellers:  23%|██▎       | 1903/8379 [01:50<04:56, 21.85it/s]"
     ]
    },
    {
     "name": "stdout",
     "output_type": "stream",
     "text": [
      "Seller: CANBK does not have the corresponding join keys\n",
      "Seller: CANDC does not have the corresponding join keys\n",
      "Seller: CANFINHOME does not have the corresponding join keys\n",
      "Seller: CANTABIL does not have the corresponding join keys\n",
      "Seller: CAPACITE does not have the corresponding join keys\n"
     ]
    },
    {
     "name": "stderr",
     "output_type": "stream",
     "text": [
      "Loading sellers:  23%|██▎       | 1908/8379 [01:50<03:53, 27.75it/s]"
     ]
    },
    {
     "name": "stdout",
     "output_type": "stream",
     "text": [
      "Seller: CAPLIPOINT does not have the corresponding join keys\n",
      "Seller: CAPN does not have the corresponding join keys\n",
      "Seller: CAPR does not have the corresponding join keys\n",
      "Seller: CAPT does not have the corresponding join keys\n",
      "Seller: CAPTRUST does not have the corresponding join keys\n",
      "Seller: CAR does not have the corresponding join keys\n",
      "Seller: CARA does not have the corresponding join keys\n"
     ]
    },
    {
     "name": "stderr",
     "output_type": "stream",
     "text": [
      "Loading sellers:  23%|██▎       | 1915/8379 [01:51<04:21, 24.69it/s]"
     ]
    },
    {
     "name": "stdout",
     "output_type": "stream",
     "text": [
      "Seller: CARBORUNIV does not have the corresponding join keys\n",
      "Seller: CARE does not have the corresponding join keys\n",
      "Seller: CAREERP does not have the corresponding join keys\n",
      "Seller: CARERATING does not have the corresponding join keys\n",
      "Seller: CARG does not have the corresponding join keys\n",
      "Seller: CARM does not have the corresponding join keys\n",
      "Seller: carr does not have the corresponding join keys\n",
      "Seller: CART does not have the corresponding join keys\n"
     ]
    },
    {
     "name": "stderr",
     "output_type": "stream",
     "text": [
      "Loading sellers:  23%|██▎       | 1924/8379 [01:51<03:47, 28.36it/s]"
     ]
    },
    {
     "name": "stdout",
     "output_type": "stream",
     "text": [
      "Seller: CARV does not have the corresponding join keys\n",
      "Seller: CASH does not have the corresponding join keys\n",
      "Seller: CASI does not have the corresponding join keys\n",
      "Seller: CASK does not have the corresponding join keys\n",
      "Seller: CASS does not have the corresponding join keys\n",
      "Seller: CASTEXTECH does not have the corresponding join keys\n",
      "Seller: CASTROLIND does not have the corresponding join keys\n",
      "Seller: CASY does not have the corresponding join keys\n"
     ]
    },
    {
     "name": "stderr",
     "output_type": "stream",
     "text": [
      "Loading sellers:  23%|██▎       | 1931/8379 [01:51<04:57, 21.65it/s]"
     ]
    },
    {
     "name": "stdout",
     "output_type": "stream",
     "text": [
      "Seller: cat does not have the corresponding join keys\n",
      "Seller: CATY does not have the corresponding join keys\n",
      "Seller: cb does not have the corresponding join keys\n",
      "Seller: CBAT does not have the corresponding join keys\n",
      "Seller: CBFV does not have the corresponding join keys\n",
      "Seller: CBNK does not have the corresponding join keys\n"
     ]
    },
    {
     "name": "stderr",
     "output_type": "stream",
     "text": [
      "Loading sellers:  23%|██▎       | 1938/8379 [01:52<04:42, 22.78it/s]"
     ]
    },
    {
     "name": "stdout",
     "output_type": "stream",
     "text": [
      "Seller: cboe does not have the corresponding join keys\n",
      "Seller: cbre does not have the corresponding join keys\n",
      "Seller: CBRL does not have the corresponding join keys\n",
      "Seller: CBSH does not have the corresponding join keys\n",
      "Seller: CBUS does not have the corresponding join keys\n"
     ]
    },
    {
     "name": "stderr",
     "output_type": "stream",
     "text": [
      "Loading sellers:  23%|██▎       | 1948/8379 [01:52<03:13, 33.22it/s]"
     ]
    },
    {
     "name": "stdout",
     "output_type": "stream",
     "text": [
      "Seller: CC's join key: Ticker does not have any intersection with the buyer's join key\n",
      "Seller: CC does not have the corresponding join keys\n",
      "Seller: CCAP does not have the corresponding join keys\n",
      "Seller: CCB does not have the corresponding join keys\n",
      "Seller: CCBG does not have the corresponding join keys\n",
      "Seller: CCC does not have the corresponding join keys\n",
      "Seller: CCCC does not have the corresponding join keys\n",
      "Seller: CCCL does not have the corresponding join keys\n",
      "Seller: CCCS does not have the corresponding join keys\n",
      "Seller: CCD does not have the corresponding join keys\n",
      "Seller: CCEC does not have the corresponding join keys\n"
     ]
    },
    {
     "name": "stderr",
     "output_type": "stream",
     "text": [
      "Loading sellers:  23%|██▎       | 1952/8379 [01:52<03:24, 31.45it/s]"
     ]
    },
    {
     "name": "stdout",
     "output_type": "stream",
     "text": [
      "Seller: CCEP does not have the corresponding join keys\n",
      "Seller: CCG does not have the corresponding join keys\n",
      "Seller: CCHHL does not have the corresponding join keys\n",
      "Seller: cci does not have the corresponding join keys\n",
      "Seller: CCIR does not have the corresponding join keys\n",
      "Seller: CCIX does not have the corresponding join keys\n",
      "Seller: ccl does not have the corresponding join keys\n"
     ]
    },
    {
     "name": "stderr",
     "output_type": "stream",
     "text": [
      "Loading sellers:  23%|██▎       | 1960/8379 [01:52<03:43, 28.66it/s]"
     ]
    },
    {
     "name": "stdout",
     "output_type": "stream",
     "text": [
      "Seller: CCL does not have the corresponding join keys\n",
      "Seller: CCLD does not have the corresponding join keys\n",
      "Seller: CCNE does not have the corresponding join keys\n",
      "Seller: CCOI does not have the corresponding join keys\n",
      "Seller: CCRN does not have the corresponding join keys\n",
      "Seller: CCSI does not have the corresponding join keys\n",
      "Seller: CCTG does not have the corresponding join keys\n",
      "Seller: CDAQ does not have the corresponding join keys\n",
      "Seller: CDIO does not have the corresponding join keys\n"
     ]
    },
    {
     "name": "stderr",
     "output_type": "stream",
     "text": [
      "Loading sellers:  23%|██▎       | 1966/8379 [01:52<03:00, 35.47it/s]"
     ]
    },
    {
     "name": "stdout",
     "output_type": "stream",
     "text": [
      "Seller: CDLX does not have the corresponding join keys\n",
      "Seller: CDMO does not have the corresponding join keys\n",
      "Seller: CDNA does not have the corresponding join keys\n",
      "Seller: CDNS_1 does not have the corresponding join keys\n",
      "Seller: cdns does not have the corresponding join keys\n"
     ]
    },
    {
     "name": "stderr",
     "output_type": "stream",
     "text": [
      "Loading sellers:  24%|██▎       | 1977/8379 [01:53<02:49, 37.86it/s]"
     ]
    },
    {
     "name": "stdout",
     "output_type": "stream",
     "text": [
      "Seller: CDNS does not have the corresponding join keys\n",
      "Seller: CDRO does not have the corresponding join keys\n",
      "Seller: CDSL does not have the corresponding join keys\n",
      "Seller: CDT does not have the corresponding join keys\n",
      "Seller: CDTG does not have the corresponding join keys\n",
      "Seller: CDTX does not have the corresponding join keys\n",
      "Seller: CDW_1 does not have the corresponding join keys\n",
      "Seller: cdw does not have the corresponding join keys\n",
      "Seller: CDW does not have the corresponding join keys\n",
      "Seller: CDXC does not have the corresponding join keys\n",
      "Seller: CDXS does not have the corresponding join keys\n"
     ]
    },
    {
     "name": "stderr",
     "output_type": "stream",
     "text": [
      "Loading sellers:  24%|██▎       | 1982/8379 [01:53<03:08, 33.98it/s]"
     ]
    },
    {
     "name": "stdout",
     "output_type": "stream",
     "text": [
      "Seller: CDZI does not have the corresponding join keys\n",
      "Seller: ce does not have the corresponding join keys\n",
      "Seller: CEAD does not have the corresponding join keys\n",
      "Seller: CEATLTD does not have the corresponding join keys\n",
      "Seller: CEBBCO does not have the corresponding join keys\n"
     ]
    },
    {
     "name": "stderr",
     "output_type": "stream",
     "text": [
      "Loading sellers:  24%|██▎       | 1990/8379 [01:53<03:31, 30.21it/s]"
     ]
    },
    {
     "name": "stdout",
     "output_type": "stream",
     "text": [
      "Seller: CECO does not have the corresponding join keys\n",
      "Seller: CEG does not have the corresponding join keys\n",
      "Seller: CELC does not have the corresponding join keys\n",
      "Seller: CELEBRITY does not have the corresponding join keys\n",
      "Seller: CELH does not have the corresponding join keys\n",
      "Seller: CELL's join key: Ticker does not have any intersection with the buyer's join key\n",
      "Seller: CELL does not have the corresponding join keys\n",
      "Seller: CELU does not have the corresponding join keys\n",
      "Seller: CELZ does not have the corresponding join keys\n",
      "Seller: CENN does not have the corresponding join keys\n"
     ]
    },
    {
     "name": "stderr",
     "output_type": "stream",
     "text": [
      "Loading sellers:  24%|██▍       | 1995/8379 [01:53<03:16, 32.54it/s]"
     ]
    },
    {
     "name": "stdout",
     "output_type": "stream",
     "text": [
      "Seller: CENT does not have the corresponding join keys\n",
      "Seller: CENTA does not have the corresponding join keys\n",
      "Seller: CENTENKA does not have the corresponding join keys\n",
      "Seller: CENTEXT does not have the corresponding join keys\n"
     ]
    },
    {
     "name": "stderr",
     "output_type": "stream",
     "text": [
      "Loading sellers:  24%|██▍       | 2002/8379 [01:54<04:24, 24.08it/s]"
     ]
    },
    {
     "name": "stdout",
     "output_type": "stream",
     "text": [
      "Seller: CENTRALBK does not have the corresponding join keys\n",
      "Seller: CENTRUM does not have the corresponding join keys\n",
      "Seller: CENTUM does not have the corresponding join keys\n",
      "Seller: CENTURYPLY does not have the corresponding join keys\n"
     ]
    },
    {
     "name": "stderr",
     "output_type": "stream",
     "text": [
      "Loading sellers:  24%|██▍       | 2005/8379 [01:54<04:38, 22.91it/s]"
     ]
    },
    {
     "name": "stdout",
     "output_type": "stream",
     "text": [
      "Seller: CENTURYTEX does not have the corresponding join keys\n",
      "Seller: CENX does not have the corresponding join keys\n",
      "Seller: CEP does not have the corresponding join keys\n",
      "Seller: CERA does not have the corresponding join keys\n",
      "Seller: CEREBRAINT does not have the corresponding join keys\n"
     ]
    },
    {
     "name": "stderr",
     "output_type": "stream",
     "text": [
      "Loading sellers:  24%|██▍       | 2012/8379 [01:54<04:45, 22.34it/s]"
     ]
    },
    {
     "name": "stdout",
     "output_type": "stream",
     "text": [
      "Seller: cern does not have the corresponding join keys\n",
      "Seller: CERO does not have the corresponding join keys\n",
      "Seller: CERS does not have the corresponding join keys\n",
      "Seller: CERT does not have the corresponding join keys\n",
      "Seller: CESC does not have the corresponding join keys\n",
      "Seller: CESCVENT does not have the corresponding join keys\n",
      "Seller: CETX does not have the corresponding join keys\n"
     ]
    },
    {
     "name": "stderr",
     "output_type": "stream",
     "text": [
      "Loading sellers:  24%|██▍       | 2020/8379 [01:55<03:55, 26.98it/s]"
     ]
    },
    {
     "name": "stdout",
     "output_type": "stream",
     "text": [
      "Seller: CETY does not have the corresponding join keys\n",
      "Seller: CEVA does not have the corresponding join keys\n",
      "Seller: cf does not have the corresponding join keys\n",
      "Seller: CFB does not have the corresponding join keys\n",
      "Seller: CFBK does not have the corresponding join keys\n",
      "Seller: CFFI does not have the corresponding join keys\n"
     ]
    },
    {
     "name": "stderr",
     "output_type": "stream",
     "text": [
      "Loading sellers:  24%|██▍       | 2031/8379 [01:55<02:51, 37.10it/s]"
     ]
    },
    {
     "name": "stdout",
     "output_type": "stream",
     "text": [
      "Seller: CFFN does not have the corresponding join keys\n",
      "Seller: CFFS does not have the corresponding join keys\n",
      "Seller: cfg does not have the corresponding join keys\n",
      "Seller: CFLT does not have the corresponding join keys\n",
      "Seller: CFSB does not have the corresponding join keys\n",
      "Seller: CG does not have the corresponding join keys\n",
      "Seller: CGBD does not have the corresponding join keys\n",
      "Seller: CGBS does not have the corresponding join keys\n",
      "Seller: CGC does not have the corresponding join keys\n",
      "Seller: CGCL does not have the corresponding join keys\n",
      "Seller: CGEM does not have the corresponding join keys\n"
     ]
    },
    {
     "name": "stderr",
     "output_type": "stream",
     "text": [
      "Loading sellers:  24%|██▍       | 2035/8379 [01:55<03:07, 33.85it/s]"
     ]
    },
    {
     "name": "stdout",
     "output_type": "stream",
     "text": [
      "Seller: CGEN does not have the corresponding join keys\n",
      "Seller: CGNT does not have the corresponding join keys\n",
      "Seller: CGNX does not have the corresponding join keys\n",
      "Seller: CGO does not have the corresponding join keys\n",
      "Seller: CGON does not have the corresponding join keys\n"
     ]
    },
    {
     "name": "stderr",
     "output_type": "stream",
     "text": [
      "Loading sellers:  24%|██▍       | 2043/8379 [01:55<03:23, 31.19it/s]"
     ]
    },
    {
     "name": "stdout",
     "output_type": "stream",
     "text": [
      "Seller: CGPOWER does not have the corresponding join keys\n",
      "Seller: CGTL does not have the corresponding join keys\n",
      "Seller: CGTX does not have the corresponding join keys\n",
      "Seller: CHALET does not have the corresponding join keys\n",
      "Seller: CHAMBLFERT does not have the corresponding join keys\n",
      "Seller: CHAR does not have the corresponding join keys\n",
      "Seller: CHCI does not have the corresponding join keys\n"
     ]
    },
    {
     "name": "stderr",
     "output_type": "stream",
     "text": [
      "Loading sellers:  24%|██▍       | 2047/8379 [01:55<04:05, 25.81it/s]2025-02-20 05:50:27,055 - ERROR - Error in get_num_cols: single positional indexer is out-of-bounds\n",
      "2025-02-20 05:50:27,055 - ERROR - Error processing data/stock_ticker_datasets/seller/CHEMCON.csv: 'NoneType' object is not iterable\n"
     ]
    },
    {
     "name": "stdout",
     "output_type": "stream",
     "text": [
      "Seller: CHCO does not have the corresponding join keys\n",
      "Seller: chd does not have the corresponding join keys\n",
      "Seller: CHDN does not have the corresponding join keys\n",
      "Seller: CHEF does not have the corresponding join keys\n",
      "Seller: CHEK does not have the corresponding join keys\n",
      "Seller: CHEMBOND does not have the corresponding join keys\n"
     ]
    },
    {
     "name": "stderr",
     "output_type": "stream",
     "text": [
      "Loading sellers:  24%|██▍       | 2052/8379 [01:56<03:48, 27.65it/s]"
     ]
    },
    {
     "name": "stdout",
     "output_type": "stream",
     "text": [
      "Seller: CHEMFAB does not have the corresponding join keys\n",
      "Seller: CHENNPETRO does not have the corresponding join keys\n",
      "Seller: CHI does not have the corresponding join keys\n",
      "Seller: CHKP_1 does not have the corresponding join keys\n"
     ]
    },
    {
     "name": "stderr",
     "output_type": "stream",
     "text": [
      "Loading sellers:  25%|██▍       | 2058/8379 [01:56<04:34, 23.03it/s]"
     ]
    },
    {
     "name": "stdout",
     "output_type": "stream",
     "text": [
      "Seller: CHKP does not have the corresponding join keys\n",
      "Seller: CHMG does not have the corresponding join keys\n",
      "Seller: CHNR does not have the corresponding join keys\n",
      "Seller: CHOLAFIN does not have the corresponding join keys\n"
     ]
    },
    {
     "name": "stderr",
     "output_type": "stream",
     "text": [
      "Loading sellers:  25%|██▍       | 2066/8379 [01:56<03:45, 28.02it/s]"
     ]
    },
    {
     "name": "stdout",
     "output_type": "stream",
     "text": [
      "Seller: CHOLAHLDNG does not have the corresponding join keys\n",
      "Seller: CHR does not have the corresponding join keys\n",
      "Seller: CHRD does not have the corresponding join keys\n",
      "Seller: CHROMATIC does not have the corresponding join keys\n",
      "Seller: CHRS does not have the corresponding join keys\n",
      "Seller: chrw does not have the corresponding join keys\n",
      "Seller: CHRW does not have the corresponding join keys\n",
      "Seller: CHSN does not have the corresponding join keys\n"
     ]
    },
    {
     "name": "stderr",
     "output_type": "stream",
     "text": [
      "Loading sellers:  25%|██▍       | 2070/8379 [01:56<03:25, 30.66it/s]"
     ]
    },
    {
     "name": "stdout",
     "output_type": "stream",
     "text": [
      "Seller: CHTR_1 does not have the corresponding join keys\n",
      "Seller: chtr does not have the corresponding join keys\n",
      "Seller: CHTR does not have the corresponding join keys\n",
      "Seller: CHUY does not have the corresponding join keys\n",
      "Seller: CHW does not have the corresponding join keys\n",
      "Seller: CHX does not have the corresponding join keys\n",
      "Seller: CHY does not have the corresponding join keys\n"
     ]
    },
    {
     "name": "stderr",
     "output_type": "stream",
     "text": [
      "Loading sellers:  25%|██▍       | 2078/8379 [01:56<03:28, 30.27it/s]"
     ]
    },
    {
     "name": "stdout",
     "output_type": "stream",
     "text": [
      "Seller: ci does not have the corresponding join keys\n",
      "Seller: CIFR does not have the corresponding join keys\n",
      "Seller: CIGI does not have the corresponding join keys\n",
      "Seller: CIGNITITEC does not have the corresponding join keys\n",
      "Seller: CIL's join key: Ticker does not have any intersection with the buyer's join key\n",
      "Seller: CIL does not have the corresponding join keys\n",
      "Seller: CINELINE does not have the corresponding join keys\n"
     ]
    },
    {
     "name": "stderr",
     "output_type": "stream",
     "text": [
      "Loading sellers:  25%|██▍       | 2082/8379 [01:57<04:31, 23.16it/s]"
     ]
    },
    {
     "name": "stdout",
     "output_type": "stream",
     "text": [
      "Seller: CINEVISTA does not have the corresponding join keys\n",
      "Seller: cinf does not have the corresponding join keys\n",
      "Seller: CINF does not have the corresponding join keys\n",
      "Seller: CING does not have the corresponding join keys\n"
     ]
    },
    {
     "name": "stderr",
     "output_type": "stream",
     "text": [
      "Loading sellers:  25%|██▍       | 2089/8379 [01:57<03:50, 27.32it/s]"
     ]
    },
    {
     "name": "stdout",
     "output_type": "stream",
     "text": [
      "Seller: CIPLA does not have the corresponding join keys\n",
      "Seller: CISO does not have the corresponding join keys\n",
      "Seller: CISS does not have the corresponding join keys\n",
      "Seller: CITE does not have the corresponding join keys\n",
      "Seller: CITY's join key: Ticker does not have any intersection with the buyer's join key\n",
      "Seller: CITY does not have the corresponding join keys\n",
      "Seller: CIVB does not have the corresponding join keys\n",
      "Seller: CJET does not have the corresponding join keys\n",
      "Seller: CJJD does not have the corresponding join keys\n",
      "Seller: CKPT does not have the corresponding join keys\n"
     ]
    },
    {
     "name": "stderr",
     "output_type": "stream",
     "text": [
      "Loading sellers:  25%|██▌       | 2097/8379 [01:57<03:46, 27.77it/s]"
     ]
    },
    {
     "name": "stdout",
     "output_type": "stream",
     "text": [
      "Seller: cl does not have the corresponding join keys\n",
      "Seller: CLAR does not have the corresponding join keys\n",
      "Seller: CLBK does not have the corresponding join keys\n",
      "Seller: CLBT does not have the corresponding join keys\n",
      "Seller: CLDX does not have the corresponding join keys\n",
      "Seller: CLEDUCATE does not have the corresponding join keys\n",
      "Seller: CLEU does not have the corresponding join keys\n"
     ]
    },
    {
     "name": "stderr",
     "output_type": "stream",
     "text": [
      "Loading sellers:  25%|██▌       | 2105/8379 [01:57<03:14, 32.30it/s]"
     ]
    },
    {
     "name": "stdout",
     "output_type": "stream",
     "text": [
      "Seller: CLFD does not have the corresponding join keys\n",
      "Seller: CLGN does not have the corresponding join keys\n",
      "Seller: CLIK does not have the corresponding join keys\n",
      "Seller: CLIR does not have the corresponding join keys\n",
      "Seller: CLLS does not have the corresponding join keys\n",
      "Seller: CLMB does not have the corresponding join keys\n",
      "Seller: CLMT does not have the corresponding join keys\n",
      "Seller: CLNE does not have the corresponding join keys\n"
     ]
    },
    {
     "name": "stderr",
     "output_type": "stream",
     "text": [
      "Loading sellers:  25%|██▌       | 2115/8379 [01:58<03:15, 32.03it/s]2025-02-20 05:50:29,417 - ERROR - Error in get_num_cols: single positional indexer is out-of-bounds\n",
      "2025-02-20 05:50:29,418 - ERROR - Error processing data/stock_ticker_datasets/seller/CLSEL.csv: 'NoneType' object is not iterable\n"
     ]
    },
    {
     "name": "stdout",
     "output_type": "stream",
     "text": [
      "Seller: CLNINDIA does not have the corresponding join keys\n",
      "Seller: CLNN does not have the corresponding join keys\n",
      "Seller: CLOV does not have the corresponding join keys\n",
      "Seller: CLPS does not have the corresponding join keys\n",
      "Seller: CLPT does not have the corresponding join keys\n",
      "Seller: CLRB does not have the corresponding join keys\n",
      "Seller: CLRC does not have the corresponding join keys\n",
      "Seller: CLRO does not have the corresponding join keys\n",
      "Seller: CLSD does not have the corresponding join keys\n"
     ]
    },
    {
     "name": "stderr",
     "output_type": "stream",
     "text": [
      "Loading sellers:  25%|██▌       | 2120/8379 [01:58<02:53, 36.08it/s]"
     ]
    },
    {
     "name": "stdout",
     "output_type": "stream",
     "text": [
      "Seller: CLSK does not have the corresponding join keys\n",
      "Seller: CLST does not have the corresponding join keys\n",
      "Seller: CLWT does not have the corresponding join keys\n",
      "Seller: clx does not have the corresponding join keys\n",
      "Seller: CLYM does not have the corresponding join keys\n"
     ]
    },
    {
     "name": "stderr",
     "output_type": "stream",
     "text": [
      "Loading sellers:  25%|██▌       | 2124/8379 [01:58<03:26, 30.30it/s]"
     ]
    },
    {
     "name": "stdout",
     "output_type": "stream",
     "text": [
      "Seller: cma does not have the corresponding join keys\n",
      "Seller: CMBM does not have the corresponding join keys\n",
      "Seller: CMCO does not have the corresponding join keys\n",
      "Seller: CMCSA_fundamentals_test does not have the corresponding join keys\n",
      "Seller: CMCSA_fundamentals_train does not have the corresponding join keys\n"
     ]
    },
    {
     "name": "stderr",
     "output_type": "stream",
     "text": [
      "Loading sellers:  25%|██▌       | 2128/8379 [01:58<04:14, 24.59it/s]"
     ]
    },
    {
     "name": "stdout",
     "output_type": "stream",
     "text": [
      "Seller: CMCSA_technicals_test does not have the corresponding join keys\n",
      "Seller: CMCSA_technicals_train does not have the corresponding join keys\n"
     ]
    },
    {
     "name": "stderr",
     "output_type": "stream",
     "text": [
      "Loading sellers:  25%|██▌       | 2131/8379 [01:59<05:38, 18.48it/s]"
     ]
    },
    {
     "name": "stdout",
     "output_type": "stream",
     "text": [
      "Seller: cmcsa does not have the corresponding join keys\n",
      "Seller: CMCSA does not have the corresponding join keys\n",
      "Seller: CMCT does not have the corresponding join keys\n",
      "Seller: cme does not have the corresponding join keys\n",
      "Seller: CME does not have the corresponding join keys\n"
     ]
    },
    {
     "name": "stderr",
     "output_type": "stream",
     "text": [
      "Loading sellers:  26%|██▌       | 2137/8379 [01:59<05:19, 19.54it/s]"
     ]
    },
    {
     "name": "stdout",
     "output_type": "stream",
     "text": [
      "Seller: cmg does not have the corresponding join keys\n",
      "Seller: cmi does not have the corresponding join keys\n",
      "Seller: CMICABLES does not have the corresponding join keys\n",
      "Seller: CMLS does not have the corresponding join keys\n",
      "Seller: CMMB does not have the corresponding join keys\n",
      "Seller: CMND does not have the corresponding join keys\n",
      "Seller: CMPO does not have the corresponding join keys\n",
      "Seller: CMPR does not have the corresponding join keys\n"
     ]
    },
    {
     "name": "stderr",
     "output_type": "stream",
     "text": [
      "Loading sellers:  26%|██▌       | 2144/8379 [01:59<03:34, 29.08it/s]"
     ]
    },
    {
     "name": "stdout",
     "output_type": "stream",
     "text": [
      "Seller: CMPS does not have the corresponding join keys\n",
      "Seller: CMPX does not have the corresponding join keys\n",
      "Seller: CMRX does not have the corresponding join keys\n",
      "Seller: cms does not have the corresponding join keys\n"
     ]
    },
    {
     "name": "stderr",
     "output_type": "stream",
     "text": [
      "Loading sellers:  26%|██▌       | 2153/8379 [01:59<03:45, 27.65it/s]"
     ]
    },
    {
     "name": "stdout",
     "output_type": "stream",
     "text": [
      "Seller: CMTL does not have the corresponding join keys\n",
      "Seller: cnc does not have the corresponding join keys\n",
      "Seller: CNDT does not have the corresponding join keys\n",
      "Seller: CNET does not have the corresponding join keys\n",
      "Seller: CNEY does not have the corresponding join keys\n",
      "Seller: CNFR does not have the corresponding join keys\n",
      "Seller: CNOB does not have the corresponding join keys\n",
      "Seller: CNOVAPETRO does not have the corresponding join keys\n"
     ]
    },
    {
     "name": "stderr",
     "output_type": "stream",
     "text": [
      "Loading sellers:  26%|██▌       | 2163/8379 [02:00<03:20, 31.05it/s]"
     ]
    },
    {
     "name": "stdout",
     "output_type": "stream",
     "text": [
      "Seller: cnp does not have the corresponding join keys\n",
      "Seller: CNSL does not have the corresponding join keys\n",
      "Seller: CNSP does not have the corresponding join keys\n",
      "Seller: CNTA does not have the corresponding join keys\n",
      "Seller: CNTB does not have the corresponding join keys\n",
      "Seller: CNTM does not have the corresponding join keys\n",
      "Seller: CNTX does not have the corresponding join keys\n",
      "Seller: CNTY does not have the corresponding join keys\n",
      "Seller: CNVS does not have the corresponding join keys\n",
      "Seller: CNXC does not have the corresponding join keys\n"
     ]
    },
    {
     "name": "stderr",
     "output_type": "stream",
     "text": [
      "Loading sellers:  26%|██▌       | 2167/8379 [02:00<04:00, 25.85it/s]"
     ]
    },
    {
     "name": "stdout",
     "output_type": "stream",
     "text": [
      "Seller: CNXN does not have the corresponding join keys\n",
      "Seller: COALINDIA does not have the corresponding join keys\n",
      "Seller: Coca-Cola_stock_history does not have the corresponding join keys\n",
      "Seller: Coca-Cola_stock_info does not have the corresponding join keys\n",
      "Seller: COCH does not have the corresponding join keys\n"
     ]
    },
    {
     "name": "stderr",
     "output_type": "stream",
     "text": [
      "Loading sellers:  26%|██▌       | 2173/8379 [02:00<03:16, 31.65it/s]"
     ]
    },
    {
     "name": "stdout",
     "output_type": "stream",
     "text": [
      "Seller: COCHINSHIP does not have the corresponding join keys\n",
      "Seller: COCO does not have the corresponding join keys\n",
      "Seller: COCP does not have the corresponding join keys\n",
      "Seller: CODA does not have the corresponding join keys\n",
      "Seller: CODX does not have the corresponding join keys\n",
      "Seller: COEP does not have the corresponding join keys\n",
      "Seller: cof does not have the corresponding join keys\n",
      "Seller: COFFEEDAY does not have the corresponding join keys\n"
     ]
    },
    {
     "name": "stderr",
     "output_type": "stream",
     "text": [
      "Loading sellers:  26%|██▌       | 2182/8379 [02:00<03:40, 28.17it/s]"
     ]
    },
    {
     "name": "stdout",
     "output_type": "stream",
     "text": [
      "Seller: COFORGE does not have the corresponding join keys\n",
      "Seller: COFS does not have the corresponding join keys\n",
      "Seller: cog does not have the corresponding join keys\n",
      "Seller: COHU does not have the corresponding join keys\n",
      "Seller: COIN does not have the corresponding join keys\n"
     ]
    },
    {
     "name": "stderr",
     "output_type": "stream",
     "text": [
      "Loading sellers:  26%|██▌       | 2186/8379 [02:01<04:06, 25.10it/s]"
     ]
    },
    {
     "name": "stdout",
     "output_type": "stream",
     "text": [
      "Seller: COKE does not have the corresponding join keys\n",
      "Seller: COLB does not have the corresponding join keys\n",
      "Seller: COLL does not have the corresponding join keys\n",
      "Seller: COLM does not have the corresponding join keys\n",
      "Seller: COLPAL does not have the corresponding join keys\n"
     ]
    },
    {
     "name": "stderr",
     "output_type": "stream",
     "text": [
      "Loading sellers:  26%|██▌       | 2189/8379 [02:01<05:05, 20.27it/s]"
     ]
    },
    {
     "name": "stdout",
     "output_type": "stream",
     "text": [
      "Seller: COMM does not have the corresponding join keys\n",
      "Seller: companies does not have the corresponding join keys\n",
      "Seller: Company List does not have the corresponding join keys\n",
      "Seller: COMPINFO does not have the corresponding join keys\n"
     ]
    },
    {
     "name": "stderr",
     "output_type": "stream",
     "text": [
      "Loading sellers:  26%|██▌       | 2193/8379 [02:01<04:50, 21.28it/s]"
     ]
    },
    {
     "name": "stdout",
     "output_type": "stream",
     "text": [
      "Seller: COMPUSOFT does not have the corresponding join keys\n",
      "Seller: CONCOR does not have the corresponding join keys\n",
      "Seller: CONFIPET does not have the corresponding join keys\n",
      "Seller: CONSOFINVT does not have the corresponding join keys\n",
      "Seller: constituents-financials_csv does not have the corresponding join keys\n",
      "Seller: CONTROLPR does not have the corresponding join keys\n"
     ]
    },
    {
     "name": "stderr",
     "output_type": "stream",
     "text": [
      "Loading sellers:  26%|██▋       | 2200/8379 [02:01<04:50, 21.31it/s]"
     ]
    },
    {
     "name": "stdout",
     "output_type": "stream",
     "text": [
      "Seller: coo does not have the corresponding join keys\n",
      "Seller: COO does not have the corresponding join keys\n",
      "Seller: COOP does not have the corresponding join keys\n",
      "Seller: COOT does not have the corresponding join keys\n",
      "Seller: COP_fundamentals_test does not have the corresponding join keys\n"
     ]
    },
    {
     "name": "stderr",
     "output_type": "stream",
     "text": [
      "Loading sellers:  26%|██▋       | 2203/8379 [02:01<04:49, 21.36it/s]"
     ]
    },
    {
     "name": "stdout",
     "output_type": "stream",
     "text": [
      "Seller: COP_fundamentals_train does not have the corresponding join keys\n",
      "Seller: COP_technicals_test does not have the corresponding join keys\n"
     ]
    },
    {
     "name": "stderr",
     "output_type": "stream",
     "text": [
      "Loading sellers:  26%|██▋       | 2206/8379 [02:02<06:27, 15.91it/s]"
     ]
    },
    {
     "name": "stdout",
     "output_type": "stream",
     "text": [
      "Seller: COP_technicals_train does not have the corresponding join keys\n",
      "Seller: cop does not have the corresponding join keys\n",
      "Seller: CORALFINAC does not have the corresponding join keys\n",
      "Seller: CORDSCABLE does not have the corresponding join keys\n"
     ]
    },
    {
     "name": "stderr",
     "output_type": "stream",
     "text": [
      "Loading sellers:  26%|██▋       | 2213/8379 [02:02<05:31, 18.62it/s]"
     ]
    },
    {
     "name": "stdout",
     "output_type": "stream",
     "text": [
      "Seller: COROMANDEL does not have the corresponding join keys\n",
      "Seller: CORT does not have the corresponding join keys\n",
      "Seller: CORZ does not have the corresponding join keys\n",
      "Seller: COSM does not have the corresponding join keys\n",
      "Seller: COSMOFILMS does not have the corresponding join keys\n"
     ]
    },
    {
     "name": "stderr",
     "output_type": "stream",
     "text": [
      "Loading sellers:  26%|██▋       | 2216/8379 [02:02<05:32, 18.51it/s]"
     ]
    },
    {
     "name": "stdout",
     "output_type": "stream",
     "text": [
      "Seller: COST_1 does not have the corresponding join keys\n",
      "Seller: cost does not have the corresponding join keys\n",
      "Seller: COST does not have the corresponding join keys\n",
      "Seller: coty does not have the corresponding join keys\n",
      "Seller: COUNCODOS does not have the corresponding join keys\n",
      "Seller: COUP does not have the corresponding join keys\n"
     ]
    },
    {
     "name": "stderr",
     "output_type": "stream",
     "text": [
      "Loading sellers:  26%|██▋       | 2220/8379 [02:02<04:42, 21.82it/s]2025-02-20 05:50:33,989 - ERROR - Error in get_num_cols: single positional indexer is out-of-bounds\n",
      "2025-02-20 05:50:33,990 - ERROR - Error processing data/stock_ticker_datasets/seller/COXKINGS.csv: 'NoneType' object is not iterable\n",
      "Loading sellers:  27%|██▋       | 2223/8379 [02:02<04:25, 23.20it/s]"
     ]
    },
    {
     "name": "stdout",
     "output_type": "stream",
     "text": [
      "Seller: COX-KINGS does not have the corresponding join keys\n",
      "Seller: COYA does not have the corresponding join keys\n",
      "Seller: cpb does not have the corresponding join keys\n",
      "Seller: CPB does not have the corresponding join keys\n",
      "Seller: CPBI does not have the corresponding join keys\n"
     ]
    },
    {
     "name": "stderr",
     "output_type": "stream",
     "text": [
      "Loading sellers:  27%|██▋       | 2230/8379 [02:03<04:01, 25.48it/s]"
     ]
    },
    {
     "name": "stdout",
     "output_type": "stream",
     "text": [
      "Seller: CPHC does not have the corresponding join keys\n",
      "Seller: CPIN_2006-01-01_to_2022-03-16 does not have the corresponding join keys\n",
      "Seller: CPIX does not have the corresponding join keys\n",
      "Seller: CPOP does not have the corresponding join keys\n",
      "Seller: cprt does not have the corresponding join keys\n",
      "Seller: CPRT does not have the corresponding join keys\n"
     ]
    },
    {
     "name": "stderr",
     "output_type": "stream",
     "text": [
      "Loading sellers:  27%|██▋       | 2238/8379 [02:03<03:36, 28.38it/s]"
     ]
    },
    {
     "name": "stdout",
     "output_type": "stream",
     "text": [
      "Seller: CPRX does not have the corresponding join keys\n",
      "Seller: CPSH does not have the corresponding join keys\n",
      "Seller: CPSS does not have the corresponding join keys\n",
      "Seller: CPTN does not have the corresponding join keys\n",
      "Seller: CPZ does not have the corresponding join keys\n",
      "Seller: CRAFTSMAN does not have the corresponding join keys\n",
      "Seller: CRAI does not have the corresponding join keys\n"
     ]
    },
    {
     "name": "stderr",
     "output_type": "stream",
     "text": [
      "Loading sellers:  27%|██▋       | 2248/8379 [02:03<02:53, 35.37it/s]"
     ]
    },
    {
     "name": "stdout",
     "output_type": "stream",
     "text": [
      "Seller: CRBP does not have the corresponding join keys\n",
      "Seller: CRBU does not have the corresponding join keys\n",
      "Seller: CRCT does not have the corresponding join keys\n",
      "Seller: CRDF does not have the corresponding join keys\n",
      "Seller: CRDL does not have the corresponding join keys\n",
      "Seller: CRDO does not have the corresponding join keys\n",
      "Seller: CREAL's join key: Ticker does not have any intersection with the buyer's join key\n",
      "Seller: CREAL does not have the corresponding join keys\n",
      "Seller: CREATIVE does not have the corresponding join keys\n",
      "Seller: CREATIVEYE does not have the corresponding join keys\n",
      "Seller: CREDITACC does not have the corresponding join keys\n"
     ]
    },
    {
     "name": "stderr",
     "output_type": "stream",
     "text": [
      "Loading sellers:  27%|██▋       | 2252/8379 [02:03<03:07, 32.75it/s]"
     ]
    },
    {
     "name": "stdout",
     "output_type": "stream",
     "text": [
      "Seller: CREG does not have the corresponding join keys\n",
      "Seller: CREST does not have the corresponding join keys\n",
      "Seller: CRESY does not have the corresponding join keys\n",
      "Seller: CREV does not have the corresponding join keys\n",
      "Seller: CREX does not have the corresponding join keys\n",
      "Seller: CRGO does not have the corresponding join keys\n",
      "Seller: CRGX does not have the corresponding join keys\n",
      "Seller: CRIS does not have the corresponding join keys\n"
     ]
    },
    {
     "name": "stderr",
     "output_type": "stream",
     "text": [
      "Loading sellers:  27%|██▋       | 2261/8379 [02:04<03:22, 30.25it/s]"
     ]
    },
    {
     "name": "stdout",
     "output_type": "stream",
     "text": [
      "Seller: CRISIL does not have the corresponding join keys\n",
      "Seller: CRKN does not have the corresponding join keys\n",
      "Seller: CRM_1 does not have the corresponding join keys\n",
      "Seller: crm does not have the corresponding join keys\n",
      "Seller: CRM does not have the corresponding join keys\n",
      "Seller: CRMD does not have the corresponding join keys\n",
      "Seller: CRML does not have the corresponding join keys\n"
     ]
    },
    {
     "name": "stderr",
     "output_type": "stream",
     "text": [
      "Loading sellers:  27%|██▋       | 2269/8379 [02:04<03:00, 33.84it/s]"
     ]
    },
    {
     "name": "stdout",
     "output_type": "stream",
     "text": [
      "Seller: CRMT does not have the corresponding join keys\n",
      "Seller: CRNC does not have the corresponding join keys\n",
      "Seller: CRNT does not have the corresponding join keys\n",
      "Seller: CRNX does not have the corresponding join keys\n",
      "Seller: CROMPTON does not have the corresponding join keys\n",
      "Seller: CRON does not have the corresponding join keys\n",
      "Seller: CROX does not have the corresponding join keys\n",
      "Seller: CRSP does not have the corresponding join keys\n",
      "Seller: CRSR does not have the corresponding join keys\n",
      "Seller: CRTO does not have the corresponding join keys\n"
     ]
    },
    {
     "name": "stderr",
     "output_type": "stream",
     "text": [
      "Loading sellers:  27%|██▋       | 2278/8379 [02:04<02:55, 34.70it/s]"
     ]
    },
    {
     "name": "stdout",
     "output_type": "stream",
     "text": [
      "Seller: CRUS does not have the corresponding join keys\n",
      "Seller: CRVL does not have the corresponding join keys\n",
      "Seller: CRVO does not have the corresponding join keys\n",
      "Seller: CRVS does not have the corresponding join keys\n",
      "Seller: CRWD_1 does not have the corresponding join keys\n",
      "Seller: CRWD does not have the corresponding join keys\n",
      "Seller: CRWS does not have the corresponding join keys\n",
      "Seller: CSBBANK does not have the corresponding join keys\n",
      "Seller: CSBR does not have the corresponding join keys\n"
     ]
    },
    {
     "name": "stderr",
     "output_type": "stream",
     "text": [
      "Loading sellers:  27%|██▋       | 2283/8379 [02:04<02:38, 38.55it/s]"
     ]
    },
    {
     "name": "stdout",
     "output_type": "stream",
     "text": [
      "Seller: CSCI does not have the corresponding join keys\n",
      "Seller: CSCO_1 does not have the corresponding join keys\n",
      "Seller: CSCO_fundamentals_test does not have the corresponding join keys\n",
      "Seller: CSCO_fundamentals_train does not have the corresponding join keys\n"
     ]
    },
    {
     "name": "stderr",
     "output_type": "stream",
     "text": [
      "Loading sellers:  27%|██▋       | 2287/8379 [02:04<03:40, 27.57it/s]"
     ]
    },
    {
     "name": "stdout",
     "output_type": "stream",
     "text": [
      "Seller: CSCO_technicals_test does not have the corresponding join keys\n",
      "Seller: CSCO_technicals_train does not have the corresponding join keys\n"
     ]
    },
    {
     "name": "stderr",
     "output_type": "stream",
     "text": [
      "Loading sellers:  27%|██▋       | 2294/8379 [02:05<04:29, 22.57it/s]"
     ]
    },
    {
     "name": "stdout",
     "output_type": "stream",
     "text": [
      "Seller: csco does not have the corresponding join keys\n",
      "Seller: CSCO does not have the corresponding join keys\n",
      "Seller: CSGP does not have the corresponding join keys\n",
      "Seller: CSGS does not have the corresponding join keys\n",
      "Seller: CSIQ does not have the corresponding join keys\n",
      "Seller: CSLM does not have the corresponding join keys\n",
      "Seller: CSLR does not have the corresponding join keys\n"
     ]
    },
    {
     "name": "stderr",
     "output_type": "stream",
     "text": [
      "Loading sellers:  27%|██▋       | 2300/8379 [02:05<04:15, 23.75it/s]"
     ]
    },
    {
     "name": "stdout",
     "output_type": "stream",
     "text": [
      "Seller: CSPI does not have the corresponding join keys\n",
      "Seller: CSQ does not have the corresponding join keys\n",
      "Seller: CSTE does not have the corresponding join keys\n",
      "Seller: CSTL does not have the corresponding join keys\n",
      "Seller: CSWC does not have the corresponding join keys\n",
      "Seller: CSWI does not have the corresponding join keys\n"
     ]
    },
    {
     "name": "stderr",
     "output_type": "stream",
     "text": [
      "Loading sellers:  27%|██▋       | 2303/8379 [02:05<04:46, 21.19it/s]"
     ]
    },
    {
     "name": "stdout",
     "output_type": "stream",
     "text": [
      "Seller: csx does not have the corresponding join keys\n",
      "Seller: CSX does not have the corresponding join keys\n",
      "Seller: ctas does not have the corresponding join keys\n"
     ]
    },
    {
     "name": "stderr",
     "output_type": "stream",
     "text": [
      "Loading sellers:  28%|██▊       | 2309/8379 [02:06<04:55, 20.53it/s]"
     ]
    },
    {
     "name": "stdout",
     "output_type": "stream",
     "text": [
      "Seller: CTAS does not have the corresponding join keys\n",
      "Seller: CTBI does not have the corresponding join keys\n",
      "Seller: CTCX does not have the corresponding join keys\n",
      "Seller: CTE does not have the corresponding join keys\n",
      "Seller: CTHR does not have the corresponding join keys\n"
     ]
    },
    {
     "name": "stderr",
     "output_type": "stream",
     "text": [
      "Loading sellers:  28%|██▊       | 2312/8379 [02:06<04:49, 20.94it/s]"
     ]
    },
    {
     "name": "stdout",
     "output_type": "stream",
     "text": [
      "Seller: CTIC does not have the corresponding join keys\n",
      "Seller: CTKB does not have the corresponding join keys\n",
      "Seller: ctl does not have the corresponding join keys\n",
      "Seller: CTLP does not have the corresponding join keys\n",
      "Seller: CTMX does not have the corresponding join keys\n",
      "Seller: CTNM does not have the corresponding join keys\n",
      "Seller: CTNT does not have the corresponding join keys\n",
      "Seller: CTOR does not have the corresponding join keys\n",
      "Seller: CTRM does not have the corresponding join keys\n"
     ]
    },
    {
     "name": "stderr",
     "output_type": "stream",
     "text": [
      "Loading sellers:  28%|██▊       | 2323/8379 [02:06<03:36, 27.96it/s]"
     ]
    },
    {
     "name": "stdout",
     "output_type": "stream",
     "text": [
      "Seller: CTRN does not have the corresponding join keys\n",
      "Seller: CTSH_1 does not have the corresponding join keys\n",
      "Seller: ctsh does not have the corresponding join keys\n",
      "Seller: CTSH does not have the corresponding join keys\n",
      "Seller: CTSO does not have the corresponding join keys\n",
      "Seller: ctva does not have the corresponding join keys\n",
      "Seller: CTXR does not have the corresponding join keys\n"
     ]
    },
    {
     "name": "stderr",
     "output_type": "stream",
     "text": [
      "Loading sellers:  28%|██▊       | 2327/8379 [02:06<03:25, 29.49it/s]"
     ]
    },
    {
     "name": "stdout",
     "output_type": "stream",
     "text": [
      "Seller: ctxs does not have the corresponding join keys\n",
      "Seller: CTXS does not have the corresponding join keys\n",
      "Seller: CUB_1 does not have the corresponding join keys\n",
      "Seller: CUB does not have the corresponding join keys\n",
      "Seller: CUBA does not have the corresponding join keys\n"
     ]
    },
    {
     "name": "stderr",
     "output_type": "stream",
     "text": [
      "Loading sellers:  28%|██▊       | 2334/8379 [02:06<03:53, 25.89it/s]"
     ]
    },
    {
     "name": "stdout",
     "output_type": "stream",
     "text": [
      "Seller: CUBEXTUB does not have the corresponding join keys\n",
      "Seller: CUE does not have the corresponding join keys\n",
      "Seller: CUMMINSIND does not have the corresponding join keys\n",
      "Seller: CUPID does not have the corresponding join keys\n",
      "Seller: CURI does not have the corresponding join keys\n",
      "Seller: CURR does not have the corresponding join keys\n",
      "Seller: CUTR does not have the corresponding join keys\n",
      "Seller: CVAC does not have the corresponding join keys\n"
     ]
    },
    {
     "name": "stderr",
     "output_type": "stream",
     "text": [
      "Loading sellers:  28%|██▊       | 2342/8379 [02:07<03:33, 28.28it/s]"
     ]
    },
    {
     "name": "stdout",
     "output_type": "stream",
     "text": [
      "Seller: CVBF does not have the corresponding join keys\n",
      "Seller: CVCO does not have the corresponding join keys\n",
      "Seller: CVGI does not have the corresponding join keys\n",
      "Seller: CVGW does not have the corresponding join keys\n",
      "Seller: CVKD does not have the corresponding join keys\n",
      "Seller: CVLT does not have the corresponding join keys\n",
      "Seller: CVRX does not have the corresponding join keys\n"
     ]
    },
    {
     "name": "stderr",
     "output_type": "stream",
     "text": [
      "Loading sellers:  28%|██▊       | 2349/8379 [02:07<04:11, 23.97it/s]"
     ]
    },
    {
     "name": "stdout",
     "output_type": "stream",
     "text": [
      "Seller: cvs does not have the corresponding join keys\n",
      "Seller: CVV does not have the corresponding join keys\n",
      "Seller: CVX_fundamentals_test does not have the corresponding join keys\n",
      "Seller: CVX_fundamentals_train does not have the corresponding join keys\n",
      "Seller: CVX_technicals_test does not have the corresponding join keys\n",
      "Seller: CVX_technicals_train does not have the corresponding join keys\n"
     ]
    },
    {
     "name": "stderr",
     "output_type": "stream",
     "text": [
      "Loading sellers:  28%|██▊       | 2355/8379 [02:07<05:19, 18.87it/s]"
     ]
    },
    {
     "name": "stdout",
     "output_type": "stream",
     "text": [
      "Seller: cvx does not have the corresponding join keys\n",
      "Seller: CWBC does not have the corresponding join keys\n",
      "Seller: CWCO does not have the corresponding join keys\n",
      "Seller: CWD does not have the corresponding join keys\n",
      "Seller: CWST does not have the corresponding join keys\n",
      "Seller: CXAI does not have the corresponding join keys\n",
      "Seller: CXDO does not have the corresponding join keys\n",
      "Seller: cxo does not have the corresponding join keys\n"
     ]
    },
    {
     "name": "stderr",
     "output_type": "stream",
     "text": [
      "Loading sellers:  28%|██▊       | 2362/8379 [02:08<04:09, 24.11it/s]"
     ]
    },
    {
     "name": "stdout",
     "output_type": "stream",
     "text": [
      "Seller: CYBERMEDIA does not have the corresponding join keys\n",
      "Seller: CYBERTECH does not have the corresponding join keys\n",
      "Seller: CYBR does not have the corresponding join keys\n",
      "Seller: CYCC does not have the corresponding join keys\n",
      "Seller: CYCN does not have the corresponding join keys\n"
     ]
    },
    {
     "name": "stderr",
     "output_type": "stream",
     "text": [
      "Loading sellers:  28%|██▊       | 2369/8379 [02:08<03:52, 25.81it/s]"
     ]
    },
    {
     "name": "stdout",
     "output_type": "stream",
     "text": [
      "Seller: CYIENT does not have the corresponding join keys\n",
      "Seller: CYN does not have the corresponding join keys\n",
      "Seller: CYRX does not have the corresponding join keys\n",
      "Seller: CYTH does not have the corresponding join keys\n",
      "Seller: CYTK does not have the corresponding join keys\n",
      "Seller: CYTO does not have the corresponding join keys\n",
      "Seller: CZFS does not have the corresponding join keys\n"
     ]
    },
    {
     "name": "stderr",
     "output_type": "stream",
     "text": [
      "Loading sellers:  28%|██▊       | 2375/8379 [02:08<04:05, 24.50it/s]"
     ]
    },
    {
     "name": "stdout",
     "output_type": "stream",
     "text": [
      "Seller: CZNC does not have the corresponding join keys\n",
      "Seller: CZR does not have the corresponding join keys\n",
      "Seller: CZWI does not have the corresponding join keys\n",
      "Seller: d does not have the corresponding join keys\n",
      "Seller: DAAWAT does not have the corresponding join keys\n"
     ]
    },
    {
     "name": "stderr",
     "output_type": "stream",
     "text": [
      "Loading sellers:  28%|██▊       | 2381/8379 [02:09<04:33, 21.92it/s]2025-02-20 05:50:40,175 - ERROR - Error in get_num_cols: single positional indexer is out-of-bounds\n",
      "2025-02-20 05:50:40,175 - ERROR - Error processing data/stock_ticker_datasets/seller/DALALSTCOM.csv: 'NoneType' object is not iterable\n"
     ]
    },
    {
     "name": "stdout",
     "output_type": "stream",
     "text": [
      "Seller: DABUR does not have the corresponding join keys\n",
      "Seller: DADA does not have the corresponding join keys\n",
      "Seller: DAIO does not have the corresponding join keys\n",
      "Seller: DAKT does not have the corresponding join keys\n",
      "Seller: dal does not have the corresponding join keys\n",
      "Seller: DALBHARAT does not have the corresponding join keys\n"
     ]
    },
    {
     "name": "stderr",
     "output_type": "stream",
     "text": [
      "Loading sellers:  29%|██▊       | 2389/8379 [02:09<03:31, 28.32it/s]"
     ]
    },
    {
     "name": "stdout",
     "output_type": "stream",
     "text": [
      "Seller: DALMIASUG does not have the corresponding join keys\n",
      "Seller: DALN does not have the corresponding join keys\n",
      "Seller: DAMODARIND does not have the corresponding join keys\n",
      "Seller: DANGCEM Historical Data does not have the corresponding join keys\n",
      "Seller: DANGEE does not have the corresponding join keys\n",
      "Seller: DARE does not have the corresponding join keys\n",
      "Seller: DASH does not have the corresponding join keys\n",
      "Seller: data_1 does not have the corresponding join keys\n"
     ]
    },
    {
     "name": "stderr",
     "output_type": "stream",
     "text": [
      "Loading sellers:  29%|██▊       | 2396/8379 [02:09<03:23, 29.37it/s]"
     ]
    },
    {
     "name": "stdout",
     "output_type": "stream",
     "text": [
      "Seller: data does not have the corresponding join keys\n",
      "Seller: DATAMATICS does not have the corresponding join keys\n",
      "Seller: dataset does not have the corresponding join keys\n",
      "Seller: DATS does not have the corresponding join keys\n",
      "Seller: DAVE does not have the corresponding join keys\n",
      "Seller: DAWN does not have the corresponding join keys\n",
      "Seller: DBCORP does not have the corresponding join keys\n",
      "Seller: DBGI does not have the corresponding join keys\n"
     ]
    },
    {
     "name": "stderr",
     "output_type": "stream",
     "text": [
      "Loading sellers:  29%|██▊       | 2401/8379 [02:09<03:11, 31.22it/s]"
     ]
    },
    {
     "name": "stdout",
     "output_type": "stream",
     "text": [
      "Seller: DBL does not have the corresponding join keys\n",
      "Seller: DBREALTY does not have the corresponding join keys\n",
      "Seller: DBSTOCKBRO does not have the corresponding join keys\n",
      "Seller: DBVT does not have the corresponding join keys\n",
      "Seller: DBX does not have the corresponding join keys\n",
      "Seller: DCAL does not have the corresponding join keys\n",
      "Seller: DCBBANK does not have the corresponding join keys\n"
     ]
    },
    {
     "name": "stderr",
     "output_type": "stream",
     "text": [
      "Loading sellers:  29%|██▉       | 2410/8379 [02:09<03:19, 29.87it/s]"
     ]
    },
    {
     "name": "stdout",
     "output_type": "stream",
     "text": [
      "Seller: DCBO does not have the corresponding join keys\n",
      "Seller: DCGO does not have the corresponding join keys\n",
      "Seller: DCM does not have the corresponding join keys\n",
      "Seller: DCMFINSERV does not have the corresponding join keys\n",
      "Seller: DCMNVL does not have the corresponding join keys\n"
     ]
    },
    {
     "name": "stderr",
     "output_type": "stream",
     "text": [
      "Loading sellers:  29%|██▉       | 2414/8379 [02:10<03:33, 27.96it/s]"
     ]
    },
    {
     "name": "stdout",
     "output_type": "stream",
     "text": [
      "Seller: DCMSHRIRAM does not have the corresponding join keys\n",
      "Seller: DCOM does not have the corresponding join keys\n",
      "Seller: DCT does not have the corresponding join keys\n",
      "Seller: DCTH does not have the corresponding join keys\n",
      "Seller: DCW does not have the corresponding join keys\n"
     ]
    },
    {
     "name": "stderr",
     "output_type": "stream",
     "text": [
      "Loading sellers:  29%|██▉       | 2421/8379 [02:10<04:03, 24.52it/s]"
     ]
    },
    {
     "name": "stdout",
     "output_type": "stream",
     "text": [
      "Seller: dd does not have the corresponding join keys\n",
      "Seller: DDI does not have the corresponding join keys\n",
      "Seller: DDOG_1 does not have the corresponding join keys\n",
      "Seller: DDOG does not have the corresponding join keys\n",
      "Seller: de does not have the corresponding join keys\n",
      "Seller: DECA does not have the corresponding join keys\n"
     ]
    },
    {
     "name": "stderr",
     "output_type": "stream",
     "text": [
      "Loading sellers:  29%|██▉       | 2424/8379 [02:10<04:33, 21.81it/s]"
     ]
    },
    {
     "name": "stdout",
     "output_type": "stream",
     "text": [
      "Seller: DECCANCE does not have the corresponding join keys\n",
      "Seller: DEEPAKFERT does not have the corresponding join keys\n",
      "Seller: DEEPAKNTR does not have the corresponding join keys\n",
      "Seller: DEEPENR does not have the corresponding join keys\n"
     ]
    },
    {
     "name": "stderr",
     "output_type": "stream",
     "text": [
      "Loading sellers:  29%|██▉       | 2430/8379 [02:10<04:13, 23.50it/s]"
     ]
    },
    {
     "name": "stdout",
     "output_type": "stream",
     "text": [
      "Seller: DEEPINDS does not have the corresponding join keys\n",
      "Seller: DELL does not have the corresponding join keys\n",
      "Seller: DELTACORP does not have the corresponding join keys\n",
      "Seller: DELTAMAGNT does not have the corresponding join keys\n",
      "Seller: DEN does not have the corresponding join keys\n"
     ]
    },
    {
     "name": "stderr",
     "output_type": "stream",
     "text": [
      "Loading sellers:  29%|██▉       | 2438/8379 [02:11<03:37, 27.31it/s]"
     ]
    },
    {
     "name": "stdout",
     "output_type": "stream",
     "text": [
      "Seller: DENN does not have the corresponding join keys\n",
      "Seller: DENORA does not have the corresponding join keys\n",
      "Seller: DERM does not have the corresponding join keys\n",
      "Seller: DFLI does not have the corresponding join keys\n",
      "Seller: DFMFOODS does not have the corresponding join keys\n",
      "Seller: dfs does not have the corresponding join keys\n",
      "Seller: dg does not have the corresponding join keys\n",
      "Seller: DGCONTENT does not have the corresponding join keys\n"
     ]
    },
    {
     "name": "stderr",
     "output_type": "stream",
     "text": [
      "Loading sellers:  29%|██▉       | 2442/8379 [02:11<03:30, 28.15it/s]"
     ]
    },
    {
     "name": "stdout",
     "output_type": "stream",
     "text": [
      "Seller: DGHI does not have the corresponding join keys\n",
      "Seller: DGICA does not have the corresponding join keys\n",
      "Seller: DGICB does not have the corresponding join keys\n",
      "Seller: DGII does not have the corresponding join keys\n",
      "Seller: DGLY does not have the corresponding join keys\n"
     ]
    },
    {
     "name": "stderr",
     "output_type": "stream",
     "text": [
      "Loading sellers:  29%|██▉       | 2449/8379 [02:11<03:43, 26.53it/s]"
     ]
    },
    {
     "name": "stdout",
     "output_type": "stream",
     "text": [
      "Seller: dgx does not have the corresponding join keys\n",
      "Seller: DH_1 does not have the corresponding join keys\n",
      "Seller: DH's join key: Ticker does not have any intersection with the buyer's join key\n",
      "Seller: DH does not have the corresponding join keys\n",
      "Seller: DHAI does not have the corresponding join keys\n",
      "Seller: DHAMPURSUG does not have the corresponding join keys\n",
      "Seller: DHANBANK does not have the corresponding join keys\n"
     ]
    },
    {
     "name": "stderr",
     "output_type": "stream",
     "text": [
      "Loading sellers:  29%|██▉       | 2452/8379 [02:11<04:10, 23.66it/s]"
     ]
    },
    {
     "name": "stdout",
     "output_type": "stream",
     "text": [
      "Seller: DHANI does not have the corresponding join keys\n",
      "Seller: DHANUKA does not have the corresponding join keys\n",
      "Seller: DHARSUGAR does not have the corresponding join keys\n",
      "Seller: DHC does not have the corresponding join keys\n"
     ]
    },
    {
     "name": "stderr",
     "output_type": "stream",
     "text": [
      "Loading sellers:  29%|██▉       | 2458/8379 [02:12<04:56, 19.96it/s]"
     ]
    },
    {
     "name": "stdout",
     "output_type": "stream",
     "text": [
      "Seller: DHFL does not have the corresponding join keys\n",
      "Seller: dhi does not have the corresponding join keys\n",
      "Seller: DHIL does not have the corresponding join keys\n",
      "Seller: DHR_fundamentals_test does not have the corresponding join keys\n",
      "Seller: DHR_fundamentals_train does not have the corresponding join keys\n",
      "Seller: DHR_technicals_test does not have the corresponding join keys\n",
      "Seller: DHR_technicals_train does not have the corresponding join keys\n"
     ]
    },
    {
     "name": "stderr",
     "output_type": "stream",
     "text": [
      "Loading sellers:  29%|██▉       | 2463/8379 [02:12<06:17, 15.67it/s]"
     ]
    },
    {
     "name": "stdout",
     "output_type": "stream",
     "text": [
      "Seller: dhr does not have the corresponding join keys\n",
      "Seller: DHUNINV does not have the corresponding join keys\n",
      "Seller: DIAMONDYD does not have the corresponding join keys\n",
      "Seller: DIAPOWER does not have the corresponding join keys\n",
      "Seller: DIBS does not have the corresponding join keys\n",
      "Seller: DICIND does not have the corresponding join keys\n"
     ]
    },
    {
     "name": "stderr",
     "output_type": "stream",
     "text": [
      "Loading sellers:  29%|██▉       | 2470/8379 [02:12<05:19, 18.48it/s]"
     ]
    },
    {
     "name": "stdout",
     "output_type": "stream",
     "text": [
      "Seller: DIGISPICE does not have the corresponding join keys\n",
      "Seller: DIGJAMLTD does not have the corresponding join keys\n",
      "Seller: DIOD does not have the corresponding join keys\n",
      "Seller: DIS_fundamentals_test does not have the corresponding join keys\n"
     ]
    },
    {
     "name": "stderr",
     "output_type": "stream",
     "text": [
      "Loading sellers:  30%|██▉       | 2472/8379 [02:12<05:34, 17.65it/s]"
     ]
    },
    {
     "name": "stdout",
     "output_type": "stream",
     "text": [
      "Seller: DIS_fundamentals_train does not have the corresponding join keys\n",
      "Seller: DIS_technicals_test does not have the corresponding join keys\n",
      "Seller: DIS_technicals_train does not have the corresponding join keys\n"
     ]
    },
    {
     "name": "stderr",
     "output_type": "stream",
     "text": [
      "Loading sellers:  30%|██▉       | 2479/8379 [02:13<05:55, 16.60it/s]"
     ]
    },
    {
     "name": "stdout",
     "output_type": "stream",
     "text": [
      "Seller: dis does not have the corresponding join keys\n",
      "Seller: disca does not have the corresponding join keys\n",
      "Seller: disck does not have the corresponding join keys\n",
      "Seller: dish does not have the corresponding join keys\n",
      "Seller: DISH does not have the corresponding join keys\n"
     ]
    },
    {
     "name": "stderr",
     "output_type": "stream",
     "text": [
      "Loading sellers:  30%|██▉       | 2482/8379 [02:13<05:29, 17.90it/s]"
     ]
    },
    {
     "name": "stdout",
     "output_type": "stream",
     "text": [
      "Seller: DISHTV does not have the corresponding join keys\n",
      "Seller: DIST does not have the corresponding join keys\n",
      "Seller: DIVISLAB does not have the corresponding join keys\n",
      "Seller: DIXON does not have the corresponding join keys\n",
      "Seller: DJCO does not have the corresponding join keys\n",
      "Seller: DJI does not have the corresponding join keys\n"
     ]
    },
    {
     "name": "stderr",
     "output_type": "stream",
     "text": [
      "Loading sellers:  30%|██▉       | 2489/8379 [02:13<04:33, 21.54it/s]"
     ]
    },
    {
     "name": "stdout",
     "output_type": "stream",
     "text": [
      "Seller: DJT does not have the corresponding join keys\n",
      "Seller: DKNG does not have the corresponding join keys\n",
      "Seller: DLF does not have the corresponding join keys\n",
      "Seller: DLHC does not have the corresponding join keys\n",
      "Seller: DLINKINDIA does not have the corresponding join keys\n"
     ]
    },
    {
     "name": "stderr",
     "output_type": "stream",
     "text": [
      "Loading sellers:  30%|██▉       | 2496/8379 [02:14<04:04, 24.08it/s]"
     ]
    },
    {
     "name": "stdout",
     "output_type": "stream",
     "text": [
      "Seller: DLO does not have the corresponding join keys\n",
      "Seller: DLPN does not have the corresponding join keys\n",
      "Seller: dlr does not have the corresponding join keys\n",
      "Seller: DLTH does not have the corresponding join keys\n",
      "Seller: dltr does not have the corresponding join keys\n",
      "Seller: DLTR does not have the corresponding join keys\n"
     ]
    },
    {
     "name": "stderr",
     "output_type": "stream",
     "text": [
      "Loading sellers:  30%|██▉       | 2501/8379 [02:14<03:31, 27.76it/s]"
     ]
    },
    {
     "name": "stdout",
     "output_type": "stream",
     "text": [
      "Seller: DMAC does not have the corresponding join keys\n",
      "Seller: DMART does not have the corresponding join keys\n",
      "Seller: DMLP does not have the corresponding join keys\n",
      "Seller: DMN does not have the corresponding join keys\n",
      "Seller: DMRC does not have the corresponding join keys\n",
      "Seller: DNAMEDIA does not have the corresponding join keys\n",
      "Seller: DNLI does not have the corresponding join keys\n",
      "Seller: DNTH does not have the corresponding join keys\n",
      "Seller: DNUT_1 does not have the corresponding join keys\n",
      "Seller: DNUT does not have the corresponding join keys\n",
      "Seller: DOCU_1 does not have the corresponding join keys\n",
      "Seller: DOCU does not have the corresponding join keys\n"
     ]
    },
    {
     "name": "stderr",
     "output_type": "stream",
     "text": [
      "Loading sellers:  30%|██▉       | 2513/8379 [02:14<02:37, 37.23it/s]"
     ]
    },
    {
     "name": "stdout",
     "output_type": "stream",
     "text": [
      "Seller: DODLA does not have the corresponding join keys\n",
      "Seller: DOGZ does not have the corresponding join keys\n",
      "Seller: DOLAT does not have the corresponding join keys\n",
      "Seller: DOLLAR does not have the corresponding join keys\n",
      "Seller: DOMH does not have the corresponding join keys\n",
      "Seller: DOMO does not have the corresponding join keys\n",
      "Seller: DONEAR does not have the corresponding join keys\n"
     ]
    },
    {
     "name": "stderr",
     "output_type": "stream",
     "text": [
      "Loading sellers:  30%|███       | 2517/8379 [02:14<02:53, 33.87it/s]"
     ]
    },
    {
     "name": "stdout",
     "output_type": "stream",
     "text": [
      "Seller: DOOO does not have the corresponding join keys\n",
      "Seller: DORM does not have the corresponding join keys\n",
      "Seller: dov does not have the corresponding join keys\n",
      "Seller: Dow Jones South Africa Historical Data (1) does not have the corresponding join keys\n",
      "Seller: dow does not have the corresponding join keys\n"
     ]
    },
    {
     "name": "stderr",
     "output_type": "stream",
     "text": [
      "Loading sellers:  30%|███       | 2527/8379 [02:14<02:42, 36.08it/s]"
     ]
    },
    {
     "name": "stdout",
     "output_type": "stream",
     "text": [
      "Seller: DOX does not have the corresponding join keys\n",
      "Seller: DOYU does not have the corresponding join keys\n",
      "Seller: DPABHUSHAN does not have the corresponding join keys\n",
      "Seller: DPCS does not have the corresponding join keys\n",
      "Seller: DPRO does not have the corresponding join keys\n",
      "Seller: DPSCLTD does not have the corresponding join keys\n",
      "Seller: DPWIRES does not have the corresponding join keys\n",
      "Seller: dpz does not have the corresponding join keys\n",
      "Seller: DPZ does not have the corresponding join keys\n",
      "Seller: DQE does not have the corresponding join keys\n"
     ]
    },
    {
     "name": "stderr",
     "output_type": "stream",
     "text": [
      "Loading sellers:  30%|███       | 2531/8379 [02:15<02:48, 34.68it/s]"
     ]
    },
    {
     "name": "stdout",
     "output_type": "stream",
     "text": [
      "Seller: DRCSYSTEMS does not have the corresponding join keys\n",
      "Seller: DRCT does not have the corresponding join keys\n",
      "Seller: dre does not have the corresponding join keys\n",
      "Seller: DREDGECORP does not have the corresponding join keys\n",
      "Seller: dri does not have the corresponding join keys\n"
     ]
    },
    {
     "name": "stderr",
     "output_type": "stream",
     "text": [
      "Loading sellers:  30%|███       | 2539/8379 [02:15<03:37, 26.82it/s]"
     ]
    },
    {
     "name": "stdout",
     "output_type": "stream",
     "text": [
      "Seller: DRIO does not have the corresponding join keys\n",
      "Seller: DRMA does not have the corresponding join keys\n",
      "Seller: DRREDDY does not have the corresponding join keys\n",
      "Seller: DRRX does not have the corresponding join keys\n"
     ]
    },
    {
     "name": "stderr",
     "output_type": "stream",
     "text": [
      "Loading sellers:  30%|███       | 2544/8379 [02:15<03:07, 31.16it/s]"
     ]
    },
    {
     "name": "stdout",
     "output_type": "stream",
     "text": [
      "Seller: DRS does not have the corresponding join keys\n",
      "Seller: DRTS does not have the corresponding join keys\n",
      "Seller: DRUG does not have the corresponding join keys\n",
      "Seller: DRVN does not have the corresponding join keys\n",
      "Seller: DSGN does not have the corresponding join keys\n",
      "Seller: DSGR does not have the corresponding join keys\n",
      "Seller: DSGX does not have the corresponding join keys\n",
      "Seller: DSP does not have the corresponding join keys\n",
      "Seller: DSSL does not have the corresponding join keys\n"
     ]
    },
    {
     "name": "stderr",
     "output_type": "stream",
     "text": [
      "Loading sellers:  30%|███       | 2552/8379 [02:15<03:38, 26.69it/s]"
     ]
    },
    {
     "name": "stdout",
     "output_type": "stream",
     "text": [
      "Seller: DSWL does not have the corresponding join keys\n",
      "Seller: DSY does not have the corresponding join keys\n",
      "Seller: dte does not have the corresponding join keys\n",
      "Seller: DTI does not have the corresponding join keys\n",
      "Seller: DTIL_1 does not have the corresponding join keys\n",
      "Seller: DTIL does not have the corresponding join keys\n",
      "Seller: DTSQ does not have the corresponding join keys\n"
     ]
    },
    {
     "name": "stderr",
     "output_type": "stream",
     "text": [
      "Loading sellers:  31%|███       | 2561/8379 [02:16<03:10, 30.56it/s]"
     ]
    },
    {
     "name": "stdout",
     "output_type": "stream",
     "text": [
      "Seller: DTSS does not have the corresponding join keys\n",
      "Seller: DTST does not have the corresponding join keys\n",
      "Seller: DUCON does not have the corresponding join keys\n",
      "Seller: duk does not have the corresponding join keys\n",
      "Seller: DUO does not have the corresponding join keys\n",
      "Seller: DUOL does not have the corresponding join keys\n",
      "Seller: DUOT does not have the corresponding join keys\n"
     ]
    },
    {
     "name": "stderr",
     "output_type": "stream",
     "text": [
      "Loading sellers:  31%|███       | 2565/8379 [02:16<03:13, 30.03it/s]"
     ]
    },
    {
     "name": "stdout",
     "output_type": "stream",
     "text": [
      "Seller: dva does not have the corresponding join keys\n",
      "Seller: DVA does not have the corresponding join keys\n",
      "Seller: DVAX does not have the corresponding join keys\n",
      "Seller: DVL does not have the corresponding join keys\n",
      "Seller: dvn does not have the corresponding join keys\n"
     ]
    },
    {
     "name": "stderr",
     "output_type": "stream",
     "text": [
      "Loading sellers:  31%|███       | 2572/8379 [02:16<04:01, 24.02it/s]"
     ]
    },
    {
     "name": "stdout",
     "output_type": "stream",
     "text": [
      "Seller: DWARKESH does not have the corresponding join keys\n",
      "Seller: DWSN does not have the corresponding join keys\n",
      "Seller: DWTX does not have the corresponding join keys\n",
      "Seller: dxc does not have the corresponding join keys\n",
      "Seller: dxcm does not have the corresponding join keys\n"
     ]
    },
    {
     "name": "stderr",
     "output_type": "stream",
     "text": [
      "Loading sellers:  31%|███       | 2575/8379 [02:16<04:14, 22.83it/s]"
     ]
    },
    {
     "name": "stdout",
     "output_type": "stream",
     "text": [
      "Seller: DXCM does not have the corresponding join keys\n",
      "Seller: DXLG does not have the corresponding join keys\n",
      "Seller: DXPE does not have the corresponding join keys\n",
      "Seller: DXR does not have the corresponding join keys\n"
     ]
    },
    {
     "name": "stderr",
     "output_type": "stream",
     "text": [
      "Loading sellers:  31%|███       | 2581/8379 [02:17<03:57, 24.41it/s]"
     ]
    },
    {
     "name": "stdout",
     "output_type": "stream",
     "text": [
      "Seller: DYAI does not have the corresponding join keys\n",
      "Seller: DYCQ does not have the corresponding join keys\n",
      "Seller: DYN does not have the corresponding join keys\n",
      "Seller: DYNAMATECH does not have the corresponding join keys\n",
      "Seller: DYNPRO does not have the corresponding join keys\n",
      "Seller: DYNX does not have the corresponding join keys\n",
      "Seller: e-IPO Data does not have the corresponding join keys\n"
     ]
    },
    {
     "name": "stderr",
     "output_type": "stream",
     "text": [
      "Loading sellers:  31%|███       | 2585/8379 [02:17<03:51, 25.02it/s]2025-02-20 05:50:48,332 - ERROR - Error in get_num_cols: single positional indexer is out-of-bounds\n",
      "2025-02-20 05:50:48,333 - ERROR - Error processing data/stock_ticker_datasets/seller/EASEMYTRIP.csv: 'NoneType' object is not iterable\n",
      "Loading sellers:  31%|███       | 2588/8379 [02:17<03:47, 25.46it/s]"
     ]
    },
    {
     "name": "stdout",
     "output_type": "stream",
     "text": [
      "Seller: ea does not have the corresponding join keys\n",
      "Seller: EA does not have the corresponding join keys\n",
      "Seller: EAST does not have the corresponding join keys\n",
      "Seller: EASTSILK does not have the corresponding join keys\n"
     ]
    },
    {
     "name": "stderr",
     "output_type": "stream",
     "text": [
      "Loading sellers:  31%|███       | 2591/8379 [02:17<04:17, 22.49it/s]"
     ]
    },
    {
     "name": "stdout",
     "output_type": "stream",
     "text": [
      "Seller: EASUNREYRL does not have the corresponding join keys\n",
      "Seller: ebay does not have the corresponding join keys\n",
      "Seller: EBAY does not have the corresponding join keys\n",
      "Seller: EBC does not have the corresponding join keys\n",
      "Seller: EBIXFOREX does not have the corresponding join keys\n",
      "Seller: EBMT does not have the corresponding join keys\n"
     ]
    },
    {
     "name": "stderr",
     "output_type": "stream",
     "text": [
      "Loading sellers:  31%|███       | 2599/8379 [02:17<03:39, 26.39it/s]"
     ]
    },
    {
     "name": "stdout",
     "output_type": "stream",
     "text": [
      "Seller: EBON does not have the corresponding join keys\n",
      "Seller: EBTC does not have the corresponding join keys\n",
      "Seller: ECBK does not have the corresponding join keys\n",
      "Seller: ECDA does not have the corresponding join keys\n",
      "Seller: ecl does not have the corresponding join keys\n",
      "Seller: ECLERX does not have the corresponding join keys\n"
     ]
    },
    {
     "name": "stderr",
     "output_type": "stream",
     "text": [
      "Loading sellers:  31%|███       | 2605/8379 [02:18<04:02, 23.81it/s]"
     ]
    },
    {
     "name": "stdout",
     "output_type": "stream",
     "text": [
      "Seller: ECOR does not have the corresponding join keys\n",
      "Seller: ECPG does not have the corresponding join keys\n",
      "Seller: ECX does not have the corresponding join keys\n",
      "Seller: ECYCL's join key: Ticker does not have any intersection with the buyer's join key\n",
      "Seller: ECYCL does not have the corresponding join keys\n",
      "Seller: ed does not have the corresponding join keys\n"
     ]
    },
    {
     "name": "stderr",
     "output_type": "stream",
     "text": [
      "Loading sellers:  31%|███       | 2608/8379 [02:18<03:55, 24.51it/s]"
     ]
    },
    {
     "name": "stdout",
     "output_type": "stream",
     "text": [
      "Seller: EDAP does not have the corresponding join keys\n",
      "Seller: EDBL does not have the corresponding join keys\n",
      "Seller: EDELWEISS does not have the corresponding join keys\n",
      "Seller: EDIT does not have the corresponding join keys\n",
      "Seller: EDRY does not have the corresponding join keys\n",
      "Seller: EDSA does not have the corresponding join keys\n",
      "Seller: EDTK does not have the corresponding join keys\n"
     ]
    },
    {
     "name": "stderr",
     "output_type": "stream",
     "text": [
      "Loading sellers:  31%|███       | 2616/8379 [02:18<03:33, 26.96it/s]"
     ]
    },
    {
     "name": "stdout",
     "output_type": "stream",
     "text": [
      "Seller: EDUC does not have the corresponding join keys\n",
      "Seller: EDUCOMP does not have the corresponding join keys\n",
      "Seller: EEFT does not have the corresponding join keys\n",
      "Seller: EEIQ does not have the corresponding join keys\n",
      "Seller: EFOI does not have the corresponding join keys\n"
     ]
    },
    {
     "name": "stderr",
     "output_type": "stream",
     "text": [
      "Loading sellers:  31%|███▏      | 2619/8379 [02:18<04:04, 23.58it/s]"
     ]
    },
    {
     "name": "stdout",
     "output_type": "stream",
     "text": [
      "Seller: EFSC does not have the corresponding join keys\n",
      "Seller: efx does not have the corresponding join keys\n",
      "Seller: EGAN does not have the corresponding join keys\n",
      "Seller: EGBN does not have the corresponding join keys\n"
     ]
    },
    {
     "name": "stderr",
     "output_type": "stream",
     "text": [
      "Loading sellers:  31%|███▏      | 2626/8379 [02:18<03:59, 24.01it/s]"
     ]
    },
    {
     "name": "stdout",
     "output_type": "stream",
     "text": [
      "Seller: EGHT does not have the corresponding join keys\n",
      "Seller: EH does not have the corresponding join keys\n",
      "Seller: EHGO does not have the corresponding join keys\n",
      "Seller: EHTH does not have the corresponding join keys\n",
      "Seller: EICHERMOT does not have the corresponding join keys\n"
     ]
    },
    {
     "name": "stderr",
     "output_type": "stream",
     "text": [
      "Loading sellers:  31%|███▏      | 2629/8379 [02:19<05:06, 18.79it/s]"
     ]
    },
    {
     "name": "stdout",
     "output_type": "stream",
     "text": [
      "Seller: EIDPARRY does not have the corresponding join keys\n",
      "Seller: EIHAHOTELS does not have the corresponding join keys\n",
      "Seller: EIHOTEL does not have the corresponding join keys\n"
     ]
    },
    {
     "name": "stderr",
     "output_type": "stream",
     "text": [
      "Loading sellers:  31%|███▏      | 2632/8379 [02:19<05:13, 18.31it/s]"
     ]
    },
    {
     "name": "stdout",
     "output_type": "stream",
     "text": [
      "Seller: EIMCOELECO does not have the corresponding join keys\n",
      "Seller: eix does not have the corresponding join keys\n",
      "Seller: EJH does not have the corresponding join keys\n",
      "Seller: EKC does not have the corresponding join keys\n",
      "Seller: EKSO does not have the corresponding join keys\n"
     ]
    },
    {
     "name": "stderr",
     "output_type": "stream",
     "text": [
      "Loading sellers:  32%|███▏      | 2640/8379 [02:19<03:55, 24.38it/s]"
     ]
    },
    {
     "name": "stdout",
     "output_type": "stream",
     "text": [
      "Seller: el does not have the corresponding join keys\n",
      "Seller: ELAB does not have the corresponding join keys\n",
      "Seller: ELBEN's join key: Ticker does not have any intersection with the buyer's join key\n",
      "Seller: ELBEN does not have the corresponding join keys\n",
      "Seller: ELBM does not have the corresponding join keys\n",
      "Seller: ELDN does not have the corresponding join keys\n",
      "Seller: ELECON does not have the corresponding join keys\n",
      "Seller: ELECTCAST does not have the corresponding join keys\n"
     ]
    },
    {
     "name": "stderr",
     "output_type": "stream",
     "text": [
      "Loading sellers:  32%|███▏      | 2646/8379 [02:19<04:14, 22.51it/s]"
     ]
    },
    {
     "name": "stdout",
     "output_type": "stream",
     "text": [
      "Seller: ELECTHERM does not have the corresponding join keys\n",
      "Seller: ELEV does not have the corresponding join keys\n",
      "Seller: ELGIEQUIP does not have the corresponding join keys\n",
      "Seller: ELGIRUBCO does not have the corresponding join keys\n",
      "Seller: ELPW does not have the corresponding join keys\n"
     ]
    },
    {
     "name": "stderr",
     "output_type": "stream",
     "text": [
      "Loading sellers:  32%|███▏      | 2655/8379 [02:20<03:12, 29.70it/s]"
     ]
    },
    {
     "name": "stdout",
     "output_type": "stream",
     "text": [
      "Seller: ELSE does not have the corresponding join keys\n",
      "Seller: ELTK does not have the corresponding join keys\n",
      "Seller: ELTX does not have the corresponding join keys\n",
      "Seller: ELUT does not have the corresponding join keys\n",
      "Seller: ELVA does not have the corresponding join keys\n",
      "Seller: ELVN does not have the corresponding join keys\n",
      "Seller: ELWS does not have the corresponding join keys\n",
      "Seller: EM does not have the corresponding join keys\n",
      "Seller: EMAMILTD does not have the corresponding join keys\n",
      "Seller: EMAMIPAP does not have the corresponding join keys\n"
     ]
    },
    {
     "name": "stderr",
     "output_type": "stream",
     "text": [
      "Loading sellers:  32%|███▏      | 2661/8379 [02:20<02:50, 33.46it/s]"
     ]
    },
    {
     "name": "stdout",
     "output_type": "stream",
     "text": [
      "Seller: EMAMIREAL does not have the corresponding join keys\n",
      "Seller: EMBC does not have the corresponding join keys\n",
      "Seller: EMBK does not have the corresponding join keys\n",
      "Seller: EMCG does not have the corresponding join keys\n",
      "Seller: EMCO does not have the corresponding join keys\n",
      "Seller: EMKAY does not have the corresponding join keys\n",
      "Seller: EMKR does not have the corresponding join keys\n"
     ]
    },
    {
     "name": "stderr",
     "output_type": "stream",
     "text": [
      "Loading sellers:  32%|███▏      | 2665/8379 [02:20<03:36, 26.42it/s]"
     ]
    },
    {
     "name": "stdout",
     "output_type": "stream",
     "text": [
      "Seller: EML does not have the corresponding join keys\n",
      "Seller: EMMBI does not have the corresponding join keys\n",
      "Seller: emn does not have the corresponding join keys\n"
     ]
    },
    {
     "name": "stderr",
     "output_type": "stream",
     "text": [
      "Loading sellers:  32%|███▏      | 2668/8379 [02:20<04:05, 23.26it/s]"
     ]
    },
    {
     "name": "stdout",
     "output_type": "stream",
     "text": [
      "Seller: emr does not have the corresponding join keys\n",
      "Seller: EMTK_2006-01-01_to_2022-03-16 does not have the corresponding join keys\n",
      "Seller: ENDURANCE does not have the corresponding join keys\n",
      "Seller: ENERGYDEV does not have the corresponding join keys\n",
      "Seller: ENGINERSIN does not have the corresponding join keys\n"
     ]
    },
    {
     "name": "stderr",
     "output_type": "stream",
     "text": [
      "Loading sellers:  32%|███▏      | 2675/8379 [02:20<03:50, 24.78it/s]"
     ]
    },
    {
     "name": "stdout",
     "output_type": "stream",
     "text": [
      "Seller: ENGN does not have the corresponding join keys\n",
      "Seller: ENIL does not have the corresponding join keys\n",
      "Seller: ENLT does not have the corresponding join keys\n",
      "Seller: ENLV does not have the corresponding join keys\n",
      "Seller: ENPH does not have the corresponding join keys\n",
      "Seller: ENSC does not have the corresponding join keys\n",
      "Seller: ENSG does not have the corresponding join keys\n",
      "Seller: ENTA does not have the corresponding join keys\n"
     ]
    },
    {
     "name": "stderr",
     "output_type": "stream",
     "text": [
      "Loading sellers:  32%|███▏      | 2685/8379 [02:21<03:08, 30.29it/s]"
     ]
    },
    {
     "name": "stdout",
     "output_type": "stream",
     "text": [
      "Seller: ENTG does not have the corresponding join keys\n",
      "Seller: ENTO does not have the corresponding join keys\n",
      "Seller: ENTX does not have the corresponding join keys\n",
      "Seller: ENVB does not have the corresponding join keys\n",
      "Seller: ENVX does not have the corresponding join keys\n",
      "Seller: eog does not have the corresponding join keys\n",
      "Seller: EOLS does not have the corresponding join keys\n",
      "Seller: EOSE does not have the corresponding join keys\n",
      "Seller: EPAM does not have the corresponding join keys\n",
      "Seller: EPIX does not have the corresponding join keys\n"
     ]
    },
    {
     "name": "stderr",
     "output_type": "stream",
     "text": [
      "Loading sellers:  32%|███▏      | 2695/8379 [02:21<02:47, 33.90it/s]"
     ]
    },
    {
     "name": "stdout",
     "output_type": "stream",
     "text": [
      "Seller: EPL does not have the corresponding join keys\n",
      "Seller: EPOW does not have the corresponding join keys\n",
      "Seller: EPRX does not have the corresponding join keys\n",
      "Seller: EPSN does not have the corresponding join keys\n",
      "Seller: EQ does not have the corresponding join keys\n",
      "Seller: eqix does not have the corresponding join keys\n",
      "Seller: EQIX does not have the corresponding join keys\n"
     ]
    },
    {
     "name": "stderr",
     "output_type": "stream",
     "text": [
      "2025-02-20 05:50:52,748 - ERROR - Error in get_num_cols: single positional indexer is out-of-bounds\n",
      "2025-02-20 05:50:52,749 - ERROR - Error processing data/stock_ticker_datasets/seller/EQUITASBNK.csv: 'NoneType' object is not iterable\n",
      "Loading sellers:  32%|███▏      | 2703/8379 [02:21<03:04, 30.83it/s]"
     ]
    },
    {
     "name": "stdout",
     "output_type": "stream",
     "text": [
      "Seller: eqr does not have the corresponding join keys\n",
      "Seller: EQUITAS does not have the corresponding join keys\n",
      "Seller: EQUITY_L does not have the corresponding join keys\n",
      "Seller: ERAS does not have the corresponding join keys\n",
      "Seller: ERIC_1 does not have the corresponding join keys\n",
      "Seller: ERIC does not have the corresponding join keys\n"
     ]
    },
    {
     "name": "stderr",
     "output_type": "stream",
     "text": [
      "Loading sellers:  32%|███▏      | 2707/8379 [02:21<03:16, 28.87it/s]"
     ]
    },
    {
     "name": "stdout",
     "output_type": "stream",
     "text": [
      "Seller: ERIE does not have the corresponding join keys\n",
      "Seller: ERII does not have the corresponding join keys\n",
      "Seller: ERIS does not have the corresponding join keys\n",
      "Seller: ERNA does not have the corresponding join keys\n",
      "Seller: EROSMEDIA does not have the corresponding join keys\n"
     ]
    },
    {
     "name": "stderr",
     "output_type": "stream",
     "text": [
      "Loading sellers:  32%|███▏      | 2710/8379 [02:22<04:14, 22.24it/s]"
     ]
    },
    {
     "name": "stdout",
     "output_type": "stream",
     "text": [
      "Seller: es does not have the corresponding join keys\n",
      "Seller: ESABINDIA does not have the corresponding join keys\n",
      "Seller: ESCA does not have the corresponding join keys\n"
     ]
    },
    {
     "name": "stderr",
     "output_type": "stream",
     "text": [
      "Loading sellers:  32%|███▏      | 2718/8379 [02:22<03:50, 24.54it/s]"
     ]
    },
    {
     "name": "stdout",
     "output_type": "stream",
     "text": [
      "Seller: ESCORTS does not have the corresponding join keys\n",
      "Seller: ESEA does not have the corresponding join keys\n",
      "Seller: ESGL does not have the corresponding join keys\n",
      "Seller: ESGR does not have the corresponding join keys\n",
      "Seller: ESHA does not have the corresponding join keys\n",
      "Seller: ESLA does not have the corresponding join keys\n",
      "Seller: ESLT does not have the corresponding join keys\n",
      "Seller: ESOA does not have the corresponding join keys\n"
     ]
    },
    {
     "name": "stderr",
     "output_type": "stream",
     "text": [
      "Loading sellers:  32%|███▏      | 2722/8379 [02:22<03:35, 26.25it/s]"
     ]
    },
    {
     "name": "stdout",
     "output_type": "stream",
     "text": [
      "Seller: ESPR does not have the corresponding join keys\n",
      "Seller: ESQ does not have the corresponding join keys\n",
      "Seller: ess does not have the corresponding join keys\n",
      "Seller: ESSA does not have the corresponding join keys\n",
      "Seller: ESSARSHPNG does not have the corresponding join keys\n",
      "Seller: ESTA does not have the corresponding join keys\n",
      "Seller: ESTER does not have the corresponding join keys\n"
     ]
    },
    {
     "name": "stderr",
     "output_type": "stream",
     "text": [
      "Loading sellers:  33%|███▎      | 2729/8379 [02:22<03:48, 24.67it/s]"
     ]
    },
    {
     "name": "stdout",
     "output_type": "stream",
     "text": [
      "Seller: etfc does not have the corresponding join keys\n",
      "Seller: etn does not have the corresponding join keys\n",
      "Seller: ETNB does not have the corresponding join keys\n",
      "Seller: ETON does not have the corresponding join keys\n",
      "Seller: etr does not have the corresponding join keys\n"
     ]
    },
    {
     "name": "stderr",
     "output_type": "stream",
     "text": [
      "Loading sellers:  33%|███▎      | 2737/8379 [02:23<03:18, 28.44it/s]"
     ]
    },
    {
     "name": "stdout",
     "output_type": "stream",
     "text": [
      "Seller: ETSY does not have the corresponding join keys\n",
      "Seller: EU does not have the corresponding join keys\n",
      "Seller: EUDA does not have the corresponding join keys\n",
      "Seller: EURK does not have the corresponding join keys\n",
      "Seller: EUROMULTI does not have the corresponding join keys\n",
      "Seller: EUROTEXIND does not have the corresponding join keys\n",
      "Seller: EVAX does not have the corresponding join keys\n",
      "Seller: EVBG does not have the corresponding join keys\n",
      "Seller: EVCM does not have the corresponding join keys\n",
      "Seller: EVER does not have the corresponding join keys\n"
     ]
    },
    {
     "name": "stderr",
     "output_type": "stream",
     "text": [
      "Loading sellers:  33%|███▎      | 2746/8379 [02:23<03:06, 30.21it/s]"
     ]
    },
    {
     "name": "stdout",
     "output_type": "stream",
     "text": [
      "Seller: EVEREADY does not have the corresponding join keys\n",
      "Seller: EVERESTIND does not have the corresponding join keys\n",
      "Seller: EVGN does not have the corresponding join keys\n",
      "Seller: EVGO does not have the corresponding join keys\n",
      "Seller: EVGR does not have the corresponding join keys\n",
      "Seller: EVLV does not have the corresponding join keys\n",
      "Seller: EVO does not have the corresponding join keys\n"
     ]
    },
    {
     "name": "stderr",
     "output_type": "stream",
     "text": [
      "Loading sellers:  33%|███▎      | 2750/8379 [02:23<03:19, 28.26it/s]"
     ]
    },
    {
     "name": "stdout",
     "output_type": "stream",
     "text": [
      "Seller: EVOK does not have the corresponding join keys\n",
      "Seller: evrg does not have the corresponding join keys\n",
      "Seller: EVRG does not have the corresponding join keys\n",
      "Seller: EVTV does not have the corresponding join keys\n"
     ]
    },
    {
     "name": "stderr",
     "output_type": "stream",
     "text": [
      "Loading sellers:  33%|███▎      | 2758/8379 [02:23<03:06, 30.14it/s]"
     ]
    },
    {
     "name": "stdout",
     "output_type": "stream",
     "text": [
      "Seller: ew does not have the corresponding join keys\n",
      "Seller: EWBC does not have the corresponding join keys\n",
      "Seller: EWCZ does not have the corresponding join keys\n",
      "Seller: EWTX does not have the corresponding join keys\n",
      "Seller: EXAI does not have the corresponding join keys\n",
      "Seller: EXAS does not have the corresponding join keys\n",
      "Seller: exc does not have the corresponding join keys\n",
      "Seller: EXC does not have the corresponding join keys\n",
      "Seller: EXCEL does not have the corresponding join keys\n",
      "Seller: EXCELINDUS does not have the corresponding join keys\n"
     ]
    },
    {
     "name": "stderr",
     "output_type": "stream",
     "text": [
      "Loading sellers:  33%|███▎      | 2766/8379 [02:24<03:41, 25.35it/s]"
     ]
    },
    {
     "name": "stdout",
     "output_type": "stream",
     "text": [
      "Seller: EXCL_2006-01-01_to_2022-03-16 does not have the corresponding join keys\n",
      "Seller: EXE does not have the corresponding join keys\n",
      "Seller: EXEL does not have the corresponding join keys\n",
      "Seller: EXFY does not have the corresponding join keys\n",
      "Seller: EXIDEIND does not have the corresponding join keys\n",
      "Seller: EXLS does not have the corresponding join keys\n"
     ]
    },
    {
     "name": "stderr",
     "output_type": "stream",
     "text": [
      "Loading sellers:  33%|███▎      | 2774/8379 [02:24<04:04, 22.88it/s]"
     ]
    },
    {
     "name": "stdout",
     "output_type": "stream",
     "text": [
      "Seller: expd does not have the corresponding join keys\n",
      "Seller: expe does not have the corresponding join keys\n",
      "Seller: EXPE does not have the corresponding join keys\n",
      "Seller: EXPI does not have the corresponding join keys\n",
      "Seller: EXPLEOSOL does not have the corresponding join keys\n",
      "Seller: EXPO does not have the corresponding join keys\n"
     ]
    },
    {
     "name": "stderr",
     "output_type": "stream",
     "text": [
      "Loading sellers:  33%|███▎      | 2777/8379 [02:24<03:55, 23.80it/s]"
     ]
    },
    {
     "name": "stdout",
     "output_type": "stream",
     "text": [
      "Seller: exr does not have the corresponding join keys\n",
      "Seller: EXTR does not have the corresponding join keys\n",
      "Seller: exxon_stock_data does not have the corresponding join keys\n",
      "Seller: EYE does not have the corresponding join keys\n",
      "Seller: EYEN does not have the corresponding join keys\n",
      "Seller: EYPT does not have the corresponding join keys\n",
      "Seller: EZFL does not have the corresponding join keys\n",
      "Seller: EZGO does not have the corresponding join keys\n"
     ]
    },
    {
     "name": "stderr",
     "output_type": "stream",
     "text": [
      "Loading sellers:  33%|███▎      | 2787/8379 [02:25<03:10, 29.41it/s]"
     ]
    },
    {
     "name": "stdout",
     "output_type": "stream",
     "text": [
      "Seller: EZPW does not have the corresponding join keys\n",
      "Seller: f does not have the corresponding join keys\n",
      "Seller: FA does not have the corresponding join keys\n",
      "Seller: FAAS does not have the corresponding join keys\n",
      "Seller: FACT_1 does not have the corresponding join keys\n",
      "Seller: FACT does not have the corresponding join keys\n"
     ]
    },
    {
     "name": "stderr",
     "output_type": "stream",
     "text": [
      "Loading sellers:  33%|███▎      | 2791/8379 [02:25<03:04, 30.30it/s]"
     ]
    },
    {
     "name": "stdout",
     "output_type": "stream",
     "text": [
      "Seller: FAIRCHEMOR does not have the corresponding join keys\n",
      "Seller: FAMI does not have the corresponding join keys\n",
      "Seller: fang does not have the corresponding join keys\n",
      "Seller: FANG does not have the corresponding join keys\n",
      "Seller: FARM does not have the corresponding join keys\n",
      "Seller: FARO does not have the corresponding join keys\n"
     ]
    },
    {
     "name": "stderr",
     "output_type": "stream",
     "text": [
      "Loading sellers:  33%|███▎      | 2798/8379 [02:25<03:32, 26.24it/s]"
     ]
    },
    {
     "name": "stdout",
     "output_type": "stream",
     "text": [
      "Seller: fast does not have the corresponding join keys\n",
      "Seller: FAST does not have the corresponding join keys\n",
      "Seller: FAT does not have the corresponding join keys\n",
      "Seller: FATBB does not have the corresponding join keys\n",
      "Seller: FATE does not have the corresponding join keys\n",
      "Seller: fb does not have the corresponding join keys\n",
      "Seller: fbhs does not have the corresponding join keys\n",
      "Seller: FBIO does not have the corresponding join keys\n"
     ]
    },
    {
     "name": "stderr",
     "output_type": "stream",
     "text": [
      "Loading sellers:  34%|███▎      | 2809/8379 [02:25<02:45, 33.59it/s]"
     ]
    },
    {
     "name": "stdout",
     "output_type": "stream",
     "text": [
      "Seller: FBIZ does not have the corresponding join keys\n",
      "Seller: FBLA does not have the corresponding join keys\n",
      "Seller: FBLG does not have the corresponding join keys\n",
      "Seller: FBNC does not have the corresponding join keys\n",
      "Seller: FBRX does not have the corresponding join keys\n",
      "Seller: FBYD does not have the corresponding join keys\n",
      "Seller: FCAP does not have the corresponding join keys\n",
      "Seller: FCBC does not have the corresponding join keys\n"
     ]
    },
    {
     "name": "stderr",
     "output_type": "stream",
     "text": [
      "Loading sellers:  34%|███▎      | 2813/8379 [02:25<03:18, 28.04it/s]"
     ]
    },
    {
     "name": "stdout",
     "output_type": "stream",
     "text": [
      "Seller: FCCO does not have the corresponding join keys\n",
      "Seller: FCEL does not have the corresponding join keys\n",
      "Seller: FCFS does not have the corresponding join keys\n",
      "Seller: FCL does not have the corresponding join keys\n",
      "Seller: FCNCA does not have the corresponding join keys\n"
     ]
    },
    {
     "name": "stderr",
     "output_type": "stream",
     "text": [
      "Loading sellers:  34%|███▎      | 2820/8379 [02:26<03:32, 26.15it/s]"
     ]
    },
    {
     "name": "stdout",
     "output_type": "stream",
     "text": [
      "Seller: FCNCO does not have the corresponding join keys\n",
      "Seller: FCONSUMER does not have the corresponding join keys\n",
      "Seller: FCSSOFT does not have the corresponding join keys\n",
      "Seller: FCUV does not have the corresponding join keys\n",
      "Seller: fcx does not have the corresponding join keys\n"
     ]
    },
    {
     "name": "stderr",
     "output_type": "stream",
     "text": [
      "Loading sellers:  34%|███▎      | 2823/8379 [02:26<03:46, 24.55it/s]"
     ]
    },
    {
     "name": "stdout",
     "output_type": "stream",
     "text": [
      "Seller: FDBC does not have the corresponding join keys\n",
      "Seller: FDC does not have the corresponding join keys\n",
      "Seller: FDMT does not have the corresponding join keys\n",
      "Seller: FDSB does not have the corresponding join keys\n",
      "Seller: FDUS does not have the corresponding join keys\n"
     ]
    },
    {
     "name": "stderr",
     "output_type": "stream",
     "text": [
      "Loading sellers:  34%|███▍      | 2830/8379 [02:26<03:42, 24.98it/s]"
     ]
    },
    {
     "name": "stdout",
     "output_type": "stream",
     "text": [
      "Seller: fdx does not have the corresponding join keys\n",
      "Seller: fe does not have the corresponding join keys\n",
      "Seller: FEAM does not have the corresponding join keys\n",
      "Seller: FEBO does not have the corresponding join keys\n",
      "Seller: FEDERALBNK does not have the corresponding join keys\n"
     ]
    },
    {
     "name": "stderr",
     "output_type": "stream",
     "text": [
      "Loading sellers:  34%|███▍      | 2833/8379 [02:26<04:20, 21.26it/s]"
     ]
    },
    {
     "name": "stdout",
     "output_type": "stream",
     "text": [
      "Seller: FEIM does not have the corresponding join keys\n",
      "Seller: FEL does not have the corresponding join keys\n",
      "Seller: FELDVR does not have the corresponding join keys\n",
      "Seller: FELE does not have the corresponding join keys\n"
     ]
    },
    {
     "name": "stderr",
     "output_type": "stream",
     "text": [
      "Loading sellers:  34%|███▍      | 2839/8379 [02:27<03:56, 23.45it/s]"
     ]
    },
    {
     "name": "stdout",
     "output_type": "stream",
     "text": [
      "Seller: FEMY does not have the corresponding join keys\n",
      "Seller: FENC does not have the corresponding join keys\n",
      "Seller: FER does not have the corresponding join keys\n",
      "Seller: FFBC does not have the corresponding join keys\n",
      "Seller: FFIC does not have the corresponding join keys\n",
      "Seller: FFIE does not have the corresponding join keys\n"
     ]
    },
    {
     "name": "stderr",
     "output_type": "stream",
     "text": [
      "Loading sellers:  34%|███▍      | 2846/8379 [02:27<03:26, 26.79it/s]"
     ]
    },
    {
     "name": "stdout",
     "output_type": "stream",
     "text": [
      "Seller: FFIN does not have the corresponding join keys\n",
      "Seller: ffiv does not have the corresponding join keys\n",
      "Seller: FFIV does not have the corresponding join keys\n",
      "Seller: FFNW does not have the corresponding join keys\n",
      "Seller: FFWM does not have the corresponding join keys\n",
      "Seller: FGBI does not have the corresponding join keys\n",
      "Seller: FGEN does not have the corresponding join keys\n"
     ]
    },
    {
     "name": "stderr",
     "output_type": "stream",
     "text": [
      "Loading sellers:  34%|███▍      | 2853/8379 [02:27<02:31, 36.40it/s]"
     ]
    },
    {
     "name": "stdout",
     "output_type": "stream",
     "text": [
      "Seller: FGF does not have the corresponding join keys\n",
      "Seller: FGI does not have the corresponding join keys\n",
      "Seller: FGL does not have the corresponding join keys\n",
      "Seller: FHB does not have the corresponding join keys\n",
      "Seller: FHTX does not have the corresponding join keys\n",
      "Seller: FIBK does not have the corresponding join keys\n",
      "Seller: FIEMIND does not have the corresponding join keys\n",
      "Seller: FILATEX does not have the corresponding join keys\n"
     ]
    },
    {
     "name": "stderr",
     "output_type": "stream",
     "text": [
      "Loading sellers:  34%|███▍      | 2857/8379 [02:27<03:46, 24.39it/s]"
     ]
    },
    {
     "name": "stdout",
     "output_type": "stream",
     "text": [
      "Seller: Financial-QA-10k does not have the corresponding join keys\n",
      "Seller: FINCABLES does not have the corresponding join keys\n",
      "Seller: FINEORG does not have the corresponding join keys\n"
     ]
    },
    {
     "name": "stderr",
     "output_type": "stream",
     "text": [
      "Loading sellers:  34%|███▍      | 2861/8379 [02:27<03:34, 25.73it/s]"
     ]
    },
    {
     "name": "stdout",
     "output_type": "stream",
     "text": [
      "Seller: FINPIPE does not have the corresponding join keys\n",
      "Seller: FINW does not have the corresponding join keys\n",
      "Seller: FIP does not have the corresponding join keys\n",
      "Seller: fis does not have the corresponding join keys\n",
      "Seller: FIS does not have the corresponding join keys\n",
      "Seller: FISI does not have the corresponding join keys\n",
      "Seller: fisv does not have the corresponding join keys\n"
     ]
    },
    {
     "name": "stderr",
     "output_type": "stream",
     "text": [
      "Loading sellers:  34%|███▍      | 2868/8379 [02:28<04:21, 21.10it/s]"
     ]
    },
    {
     "name": "stdout",
     "output_type": "stream",
     "text": [
      "Seller: FISV does not have the corresponding join keys\n",
      "Seller: fitb does not have the corresponding join keys\n",
      "Seller: FITB does not have the corresponding join keys\n",
      "Seller: FIVE does not have the corresponding join keys\n"
     ]
    },
    {
     "name": "stderr",
     "output_type": "stream",
     "text": [
      "Loading sellers:  34%|███▍      | 2875/8379 [02:28<03:42, 24.76it/s]"
     ]
    },
    {
     "name": "stdout",
     "output_type": "stream",
     "text": [
      "Seller: FIVN does not have the corresponding join keys\n",
      "Seller: FIZZ does not have the corresponding join keys\n",
      "Seller: FKWL does not have the corresponding join keys\n",
      "Seller: FLD does not have the corresponding join keys\n",
      "Seller: FLEX does not have the corresponding join keys\n",
      "Seller: FLEXITUFF does not have the corresponding join keys\n",
      "Seller: FLFL does not have the corresponding join keys\n"
     ]
    },
    {
     "name": "stderr",
     "output_type": "stream",
     "text": [
      "Loading sellers:  34%|███▍      | 2879/8379 [02:28<03:28, 26.35it/s]"
     ]
    },
    {
     "name": "stdout",
     "output_type": "stream",
     "text": [
      "Seller: FLGC does not have the corresponding join keys\n",
      "Seller: FLGT does not have the corresponding join keys\n",
      "Seller: FLIC does not have the corresponding join keys\n",
      "Seller: flir does not have the corresponding join keys\n",
      "Seller: FLL does not have the corresponding join keys\n",
      "Seller: FLNC does not have the corresponding join keys\n"
     ]
    },
    {
     "name": "stderr",
     "output_type": "stream",
     "text": [
      "Loading sellers:  34%|███▍      | 2885/8379 [02:28<03:43, 24.55it/s]"
     ]
    },
    {
     "name": "stdout",
     "output_type": "stream",
     "text": [
      "Seller: FLNT does not have the corresponding join keys\n",
      "Seller: fls does not have the corresponding join keys\n",
      "Seller: flt does not have the corresponding join keys\n",
      "Seller: FLT does not have the corresponding join keys\n",
      "Seller: FLUOROCHEM does not have the corresponding join keys\n",
      "Seller: FLUX does not have the corresponding join keys\n",
      "Seller: FLWS does not have the corresponding join keys\n"
     ]
    },
    {
     "name": "stderr",
     "output_type": "stream",
     "text": [
      "Loading sellers:  35%|███▍      | 2894/8379 [02:29<02:59, 30.61it/s]"
     ]
    },
    {
     "name": "stdout",
     "output_type": "stream",
     "text": [
      "Seller: FLX does not have the corresponding join keys\n",
      "Seller: FLXS does not have the corresponding join keys\n",
      "Seller: FLYE does not have the corresponding join keys\n",
      "Seller: FLYW does not have the corresponding join keys\n",
      "Seller: FMAO does not have the corresponding join keys\n",
      "Seller: FMBH does not have the corresponding join keys\n"
     ]
    },
    {
     "name": "stderr",
     "output_type": "stream",
     "text": [
      "Loading sellers:  35%|███▍      | 2898/8379 [02:29<03:56, 23.19it/s]"
     ]
    },
    {
     "name": "stdout",
     "output_type": "stream",
     "text": [
      "Seller: fmc does not have the corresponding join keys\n",
      "Seller: FMGOETZE does not have the corresponding join keys\n",
      "Seller: FMNB does not have the corresponding join keys\n",
      "Seller: FMNL does not have the corresponding join keys\n",
      "Seller: FMST does not have the corresponding join keys\n"
     ]
    },
    {
     "name": "stderr",
     "output_type": "stream",
     "text": [
      "Loading sellers:  35%|███▍      | 2903/8379 [02:29<03:21, 27.13it/s]"
     ]
    },
    {
     "name": "stdout",
     "output_type": "stream",
     "text": [
      "Seller: FNGR does not have the corresponding join keys\n",
      "Seller: FNKO does not have the corresponding join keys\n",
      "Seller: FNLC does not have the corresponding join keys\n",
      "Seller: FNWB does not have the corresponding join keys\n",
      "Seller: FNWD does not have the corresponding join keys\n",
      "Seller: FOLD does not have the corresponding join keys\n"
     ]
    },
    {
     "name": "stderr",
     "output_type": "stream",
     "text": [
      "Loading sellers:  35%|███▍      | 2911/8379 [02:29<03:17, 27.74it/s]"
     ]
    },
    {
     "name": "stdout",
     "output_type": "stream",
     "text": [
      "Seller: FONR does not have the corresponding join keys\n",
      "Seller: FORA does not have the corresponding join keys\n",
      "Seller: forbes2000 does not have the corresponding join keys\n",
      "Seller: FORCEMOT does not have the corresponding join keys\n",
      "Seller: FORD does not have the corresponding join keys\n",
      "Seller: FORL does not have the corresponding join keys\n",
      "Seller: FORM does not have the corresponding join keys\n"
     ]
    },
    {
     "name": "stderr",
     "output_type": "stream",
     "text": [
      "Loading sellers:  35%|███▍      | 2915/8379 [02:29<03:20, 27.31it/s]"
     ]
    },
    {
     "name": "stdout",
     "output_type": "stream",
     "text": [
      "Seller: FORR does not have the corresponding join keys\n",
      "Seller: FORTIS does not have the corresponding join keys\n"
     ]
    },
    {
     "name": "stderr",
     "output_type": "stream",
     "text": [
      "Loading sellers:  35%|███▍      | 2921/8379 [02:30<04:27, 20.43it/s]"
     ]
    },
    {
     "name": "stdout",
     "output_type": "stream",
     "text": [
      "Seller: FORTY does not have the corresponding join keys\n",
      "Seller: FOSECOIND does not have the corresponding join keys\n",
      "Seller: FOSL does not have the corresponding join keys\n",
      "Seller: fox does not have the corresponding join keys\n",
      "Seller: foxa does not have the corresponding join keys\n",
      "Seller: FOXA does not have the corresponding join keys\n"
     ]
    },
    {
     "name": "stderr",
     "output_type": "stream",
     "text": [
      "Loading sellers:  35%|███▌      | 2933/8379 [02:30<02:50, 31.93it/s]"
     ]
    },
    {
     "name": "stdout",
     "output_type": "stream",
     "text": [
      "Seller: FOXF does not have the corresponding join keys\n",
      "Seller: FOXX does not have the corresponding join keys\n",
      "Seller: FPAY does not have the corresponding join keys\n",
      "Seller: FRAF does not have the corresponding join keys\n",
      "Seller: FRBA does not have the corresponding join keys\n",
      "Seller: frc does not have the corresponding join keys\n",
      "Seller: FREE does not have the corresponding join keys\n",
      "Seller: FRES does not have the corresponding join keys\n",
      "Seller: FRETAIL does not have the corresponding join keys\n"
     ]
    },
    {
     "name": "stderr",
     "output_type": "stream",
     "text": [
      "Loading sellers:  35%|███▌      | 2937/8379 [02:30<02:43, 33.31it/s]"
     ]
    },
    {
     "name": "stdout",
     "output_type": "stream",
     "text": [
      "Seller: FRGT does not have the corresponding join keys\n",
      "Seller: FRHC does not have the corresponding join keys\n",
      "Seller: FRME does not have the corresponding join keys\n",
      "Seller: FROG does not have the corresponding join keys\n",
      "Seller: FRPH does not have the corresponding join keys\n",
      "Seller: FRPT does not have the corresponding join keys\n",
      "Seller: FRSH does not have the corresponding join keys\n"
     ]
    },
    {
     "name": "stderr",
     "output_type": "stream",
     "text": [
      "Loading sellers:  35%|███▌      | 2941/8379 [02:30<02:48, 32.20it/s]"
     ]
    },
    {
     "name": "stdout",
     "output_type": "stream",
     "text": [
      "Seller: FRST does not have the corresponding join keys\n",
      "Seller: FRSX does not have the corresponding join keys\n",
      "Seller: frt does not have the corresponding join keys\n"
     ]
    },
    {
     "name": "stderr",
     "output_type": "stream",
     "text": [
      "Loading sellers:  35%|███▌      | 2949/8379 [02:31<03:07, 28.89it/s]"
     ]
    },
    {
     "name": "stdout",
     "output_type": "stream",
     "text": [
      "Seller: FS_sp500_Recent_Value does not have the corresponding join keys\n"
     ]
    },
    {
     "name": "stderr",
     "output_type": "stream",
     "text": [
      "Loading sellers:  35%|███▌      | 2949/8379 [02:37<04:50, 18.70it/s]\n"
     ]
    },
    {
     "ename": "KeyboardInterrupt",
     "evalue": "",
     "output_type": "error",
     "traceback": [
      "\u001b[0;31m---------------------------------------------------------------------------\u001b[0m",
      "\u001b[0;31mKeyboardInterrupt\u001b[0m                         Traceback (most recent call last)",
      "Cell \u001b[0;32mIn[2], line 87\u001b[0m\n\u001b[1;32m     84\u001b[0m company \u001b[38;5;241m=\u001b[39m ScaledExperiment(config1)\n\u001b[1;32m     85\u001b[0m company_2 \u001b[38;5;241m=\u001b[39m ScaledExperiment(config2)\n\u001b[0;32m---> 87\u001b[0m company_experiment_result \u001b[38;5;241m=\u001b[39m \u001b[43mcompany\u001b[49m\u001b[38;5;241;43m.\u001b[39;49m\u001b[43mrun\u001b[49m\u001b[43m(\u001b[49m\u001b[43m)\u001b[49m\n\u001b[1;32m     88\u001b[0m company_experiment_result_2 \u001b[38;5;241m=\u001b[39m company_2\u001b[38;5;241m.\u001b[39mrun()\n\u001b[1;32m     90\u001b[0m \u001b[38;5;66;03m# Return as list\u001b[39;00m\n",
      "File \u001b[0;32m~/Kitana_e2e/Kitana-e2e/search_engine/utils/logging_utils.py:62\u001b[0m, in \u001b[0;36mhandle_exceptions.<locals>.wrapper\u001b[0;34m(*args, **kwargs)\u001b[0m\n\u001b[1;32m     59\u001b[0m \u001b[38;5;129m@wraps\u001b[39m(func)\n\u001b[1;32m     60\u001b[0m \u001b[38;5;28;01mdef\u001b[39;00m\u001b[38;5;250m \u001b[39m\u001b[38;5;21mwrapper\u001b[39m(\u001b[38;5;241m*\u001b[39margs, \u001b[38;5;241m*\u001b[39m\u001b[38;5;241m*\u001b[39mkwargs):\n\u001b[1;32m     61\u001b[0m     \u001b[38;5;28;01mtry\u001b[39;00m:\n\u001b[0;32m---> 62\u001b[0m         \u001b[38;5;28;01mreturn\u001b[39;00m \u001b[43mfunc\u001b[49m\u001b[43m(\u001b[49m\u001b[38;5;241;43m*\u001b[39;49m\u001b[43margs\u001b[49m\u001b[43m,\u001b[49m\u001b[43m \u001b[49m\u001b[38;5;241;43m*\u001b[39;49m\u001b[38;5;241;43m*\u001b[39;49m\u001b[43mkwargs\u001b[49m\u001b[43m)\u001b[49m\n\u001b[1;32m     63\u001b[0m     \u001b[38;5;28;01mexcept\u001b[39;00m \u001b[38;5;167;01mException\u001b[39;00m \u001b[38;5;28;01mas\u001b[39;00m e:\n\u001b[1;32m     64\u001b[0m         logger\u001b[38;5;241m.\u001b[39merror(\u001b[38;5;124mf\u001b[39m\u001b[38;5;124m\"\u001b[39m\u001b[38;5;124mError in \u001b[39m\u001b[38;5;132;01m{\u001b[39;00mfunc\u001b[38;5;241m.\u001b[39m\u001b[38;5;18m__name__\u001b[39m\u001b[38;5;132;01m}\u001b[39;00m\u001b[38;5;124m: \u001b[39m\u001b[38;5;132;01m{\u001b[39;00me\u001b[38;5;132;01m}\u001b[39;00m\u001b[38;5;124m\"\u001b[39m)\n",
      "File \u001b[0;32m~/Kitana_e2e/Kitana-e2e/search_engine/utils/logging_utils.py:50\u001b[0m, in \u001b[0;36mlog_execution.<locals>.decorator.<locals>.wrapper\u001b[0;34m(*args, **kwargs)\u001b[0m\n\u001b[1;32m     47\u001b[0m \u001b[38;5;129m@wraps\u001b[39m(func)\n\u001b[1;32m     48\u001b[0m \u001b[38;5;28;01mdef\u001b[39;00m\u001b[38;5;250m \u001b[39m\u001b[38;5;21mwrapper\u001b[39m(\u001b[38;5;241m*\u001b[39margs, \u001b[38;5;241m*\u001b[39m\u001b[38;5;241m*\u001b[39mkwargs):\n\u001b[1;32m     49\u001b[0m     logger\u001b[38;5;241m.\u001b[39mlog(level, \u001b[38;5;124mf\u001b[39m\u001b[38;5;124m\"\u001b[39m\u001b[38;5;124mExecuting \u001b[39m\u001b[38;5;132;01m{\u001b[39;00mfunc\u001b[38;5;241m.\u001b[39m\u001b[38;5;18m__name__\u001b[39m\u001b[38;5;132;01m}\u001b[39;00m\u001b[38;5;124m...\u001b[39m\u001b[38;5;124m\"\u001b[39m)\n\u001b[0;32m---> 50\u001b[0m     result \u001b[38;5;241m=\u001b[39m \u001b[43mfunc\u001b[49m\u001b[43m(\u001b[49m\u001b[38;5;241;43m*\u001b[39;49m\u001b[43margs\u001b[49m\u001b[43m,\u001b[49m\u001b[43m \u001b[49m\u001b[38;5;241;43m*\u001b[39;49m\u001b[38;5;241;43m*\u001b[39;49m\u001b[43mkwargs\u001b[49m\u001b[43m)\u001b[49m\n\u001b[1;32m     51\u001b[0m     logger\u001b[38;5;241m.\u001b[39mlog(level, \u001b[38;5;124mf\u001b[39m\u001b[38;5;124m\"\u001b[39m\u001b[38;5;124mFinished executing \u001b[39m\u001b[38;5;132;01m{\u001b[39;00mfunc\u001b[38;5;241m.\u001b[39m\u001b[38;5;18m__name__\u001b[39m\u001b[38;5;132;01m}\u001b[39;00m\u001b[38;5;124m\"\u001b[39m)\n\u001b[1;32m     52\u001b[0m     \u001b[38;5;28;01mreturn\u001b[39;00m result\n",
      "File \u001b[0;32m~/Kitana_e2e/Kitana-e2e/search_engine/experiment/experiment.py:156\u001b[0m, in \u001b[0;36mScaledExperiment.run\u001b[0;34m(self)\u001b[0m\n\u001b[1;32m    153\u001b[0m logging\u001b[38;5;241m.\u001b[39minfo(\u001b[38;5;124m\"\u001b[39m\u001b[38;5;124mStarting scaled experiment\u001b[39m\u001b[38;5;124m\"\u001b[39m)\n\u001b[1;32m    155\u001b[0m \u001b[38;5;28mself\u001b[39m\u001b[38;5;241m.\u001b[39mload_buyer()\n\u001b[0;32m--> 156\u001b[0m \u001b[38;5;28;43mself\u001b[39;49m\u001b[38;5;241;43m.\u001b[39;49m\u001b[43mload_sellers\u001b[49m\u001b[43m(\u001b[49m\u001b[43m)\u001b[49m\n\u001b[1;32m    157\u001b[0m \u001b[38;5;28mself\u001b[39m\u001b[38;5;241m.\u001b[39msetup_market()\n\u001b[1;32m    158\u001b[0m \u001b[38;5;28mself\u001b[39m\u001b[38;5;241m.\u001b[39mrun_search()\n",
      "File \u001b[0;32m~/Kitana_e2e/Kitana-e2e/search_engine/utils/logging_utils.py:62\u001b[0m, in \u001b[0;36mhandle_exceptions.<locals>.wrapper\u001b[0;34m(*args, **kwargs)\u001b[0m\n\u001b[1;32m     59\u001b[0m \u001b[38;5;129m@wraps\u001b[39m(func)\n\u001b[1;32m     60\u001b[0m \u001b[38;5;28;01mdef\u001b[39;00m\u001b[38;5;250m \u001b[39m\u001b[38;5;21mwrapper\u001b[39m(\u001b[38;5;241m*\u001b[39margs, \u001b[38;5;241m*\u001b[39m\u001b[38;5;241m*\u001b[39mkwargs):\n\u001b[1;32m     61\u001b[0m     \u001b[38;5;28;01mtry\u001b[39;00m:\n\u001b[0;32m---> 62\u001b[0m         \u001b[38;5;28;01mreturn\u001b[39;00m \u001b[43mfunc\u001b[49m\u001b[43m(\u001b[49m\u001b[38;5;241;43m*\u001b[39;49m\u001b[43margs\u001b[49m\u001b[43m,\u001b[49m\u001b[43m \u001b[49m\u001b[38;5;241;43m*\u001b[39;49m\u001b[38;5;241;43m*\u001b[39;49m\u001b[43mkwargs\u001b[49m\u001b[43m)\u001b[49m\n\u001b[1;32m     63\u001b[0m     \u001b[38;5;28;01mexcept\u001b[39;00m \u001b[38;5;167;01mException\u001b[39;00m \u001b[38;5;28;01mas\u001b[39;00m e:\n\u001b[1;32m     64\u001b[0m         logger\u001b[38;5;241m.\u001b[39merror(\u001b[38;5;124mf\u001b[39m\u001b[38;5;124m\"\u001b[39m\u001b[38;5;124mError in \u001b[39m\u001b[38;5;132;01m{\u001b[39;00mfunc\u001b[38;5;241m.\u001b[39m\u001b[38;5;18m__name__\u001b[39m\u001b[38;5;132;01m}\u001b[39;00m\u001b[38;5;124m: \u001b[39m\u001b[38;5;132;01m{\u001b[39;00me\u001b[38;5;132;01m}\u001b[39;00m\u001b[38;5;124m\"\u001b[39m)\n",
      "File \u001b[0;32m~/Kitana_e2e/Kitana-e2e/search_engine/utils/logging_utils.py:50\u001b[0m, in \u001b[0;36mlog_execution.<locals>.decorator.<locals>.wrapper\u001b[0;34m(*args, **kwargs)\u001b[0m\n\u001b[1;32m     47\u001b[0m \u001b[38;5;129m@wraps\u001b[39m(func)\n\u001b[1;32m     48\u001b[0m \u001b[38;5;28;01mdef\u001b[39;00m\u001b[38;5;250m \u001b[39m\u001b[38;5;21mwrapper\u001b[39m(\u001b[38;5;241m*\u001b[39margs, \u001b[38;5;241m*\u001b[39m\u001b[38;5;241m*\u001b[39mkwargs):\n\u001b[1;32m     49\u001b[0m     logger\u001b[38;5;241m.\u001b[39mlog(level, \u001b[38;5;124mf\u001b[39m\u001b[38;5;124m\"\u001b[39m\u001b[38;5;124mExecuting \u001b[39m\u001b[38;5;132;01m{\u001b[39;00mfunc\u001b[38;5;241m.\u001b[39m\u001b[38;5;18m__name__\u001b[39m\u001b[38;5;132;01m}\u001b[39;00m\u001b[38;5;124m...\u001b[39m\u001b[38;5;124m\"\u001b[39m)\n\u001b[0;32m---> 50\u001b[0m     result \u001b[38;5;241m=\u001b[39m \u001b[43mfunc\u001b[49m\u001b[43m(\u001b[49m\u001b[38;5;241;43m*\u001b[39;49m\u001b[43margs\u001b[49m\u001b[43m,\u001b[49m\u001b[43m \u001b[49m\u001b[38;5;241;43m*\u001b[39;49m\u001b[38;5;241;43m*\u001b[39;49m\u001b[43mkwargs\u001b[49m\u001b[43m)\u001b[49m\n\u001b[1;32m     51\u001b[0m     logger\u001b[38;5;241m.\u001b[39mlog(level, \u001b[38;5;124mf\u001b[39m\u001b[38;5;124m\"\u001b[39m\u001b[38;5;124mFinished executing \u001b[39m\u001b[38;5;132;01m{\u001b[39;00mfunc\u001b[38;5;241m.\u001b[39m\u001b[38;5;18m__name__\u001b[39m\u001b[38;5;132;01m}\u001b[39;00m\u001b[38;5;124m\"\u001b[39m)\n\u001b[1;32m     52\u001b[0m     \u001b[38;5;28;01mreturn\u001b[39;00m result\n",
      "File \u001b[0;32m~/Kitana_e2e/Kitana-e2e/search_engine/experiment/experiment.py:66\u001b[0m, in \u001b[0;36mScaledExperiment.load_sellers\u001b[0;34m(self)\u001b[0m\n\u001b[1;32m     64\u001b[0m \u001b[38;5;28;01mtry\u001b[39;00m:\n\u001b[1;32m     65\u001b[0m     seller_name \u001b[38;5;241m=\u001b[39m os\u001b[38;5;241m.\u001b[39mpath\u001b[38;5;241m.\u001b[39mbasename(seller_path)\u001b[38;5;241m.\u001b[39mreplace(\u001b[38;5;124m'\u001b[39m\u001b[38;5;124m.csv\u001b[39m\u001b[38;5;124m'\u001b[39m, \u001b[38;5;124m'\u001b[39m\u001b[38;5;124m'\u001b[39m)\n\u001b[0;32m---> 66\u001b[0m     seller \u001b[38;5;241m=\u001b[39m \u001b[43mPrepareSeller\u001b[49m\u001b[43m(\u001b[49m\n\u001b[1;32m     67\u001b[0m \u001b[43m        \u001b[49m\u001b[43mdata_path\u001b[49m\u001b[38;5;241;43m=\u001b[39;49m\u001b[43mseller_path\u001b[49m\u001b[43m,\u001b[49m\n\u001b[1;32m     68\u001b[0m \u001b[43m        \u001b[49m\u001b[43mjoin_keys\u001b[49m\u001b[38;5;241;43m=\u001b[39;49m\u001b[38;5;28;43mself\u001b[39;49m\u001b[38;5;241;43m.\u001b[39;49m\u001b[43mconfig\u001b[49m\u001b[38;5;241;43m.\u001b[39;49m\u001b[43mdata\u001b[49m\u001b[38;5;241;43m.\u001b[39;49m\u001b[43mjoin_keys\u001b[49m\u001b[43m,\u001b[49m\n\u001b[1;32m     69\u001b[0m \u001b[43m        \u001b[49m\u001b[43mneed_to_clean_data\u001b[49m\u001b[38;5;241;43m=\u001b[39;49m\u001b[38;5;28;43mself\u001b[39;49m\u001b[38;5;241;43m.\u001b[39;49m\u001b[43mconfig\u001b[49m\u001b[38;5;241;43m.\u001b[39;49m\u001b[43mdata\u001b[49m\u001b[38;5;241;43m.\u001b[39;49m\u001b[43mneed_to_clean_data\u001b[49m\n\u001b[1;32m     70\u001b[0m \u001b[43m    \u001b[49m\u001b[43m)\u001b[49m\n\u001b[1;32m     71\u001b[0m     \u001b[38;5;28mself\u001b[39m\u001b[38;5;241m.\u001b[39mprepare_data\u001b[38;5;241m.\u001b[39madd_seller(seller_name\u001b[38;5;241m=\u001b[39mseller_name, seller\u001b[38;5;241m=\u001b[39mseller)\n\u001b[1;32m     72\u001b[0m \u001b[38;5;28;01mexcept\u001b[39;00m \u001b[38;5;167;01mException\u001b[39;00m \u001b[38;5;28;01mas\u001b[39;00m e:\n",
      "File \u001b[0;32m~/Kitana_e2e/Kitana-e2e/search_engine/utils/logging_utils.py:50\u001b[0m, in \u001b[0;36mlog_execution.<locals>.decorator.<locals>.wrapper\u001b[0;34m(*args, **kwargs)\u001b[0m\n\u001b[1;32m     47\u001b[0m \u001b[38;5;129m@wraps\u001b[39m(func)\n\u001b[1;32m     48\u001b[0m \u001b[38;5;28;01mdef\u001b[39;00m\u001b[38;5;250m \u001b[39m\u001b[38;5;21mwrapper\u001b[39m(\u001b[38;5;241m*\u001b[39margs, \u001b[38;5;241m*\u001b[39m\u001b[38;5;241m*\u001b[39mkwargs):\n\u001b[1;32m     49\u001b[0m     logger\u001b[38;5;241m.\u001b[39mlog(level, \u001b[38;5;124mf\u001b[39m\u001b[38;5;124m\"\u001b[39m\u001b[38;5;124mExecuting \u001b[39m\u001b[38;5;132;01m{\u001b[39;00mfunc\u001b[38;5;241m.\u001b[39m\u001b[38;5;18m__name__\u001b[39m\u001b[38;5;132;01m}\u001b[39;00m\u001b[38;5;124m...\u001b[39m\u001b[38;5;124m\"\u001b[39m)\n\u001b[0;32m---> 50\u001b[0m     result \u001b[38;5;241m=\u001b[39m \u001b[43mfunc\u001b[49m\u001b[43m(\u001b[49m\u001b[38;5;241;43m*\u001b[39;49m\u001b[43margs\u001b[49m\u001b[43m,\u001b[49m\u001b[43m \u001b[49m\u001b[38;5;241;43m*\u001b[39;49m\u001b[38;5;241;43m*\u001b[39;49m\u001b[43mkwargs\u001b[49m\u001b[43m)\u001b[49m\n\u001b[1;32m     51\u001b[0m     logger\u001b[38;5;241m.\u001b[39mlog(level, \u001b[38;5;124mf\u001b[39m\u001b[38;5;124m\"\u001b[39m\u001b[38;5;124mFinished executing \u001b[39m\u001b[38;5;132;01m{\u001b[39;00mfunc\u001b[38;5;241m.\u001b[39m\u001b[38;5;18m__name__\u001b[39m\u001b[38;5;132;01m}\u001b[39;00m\u001b[38;5;124m\"\u001b[39m)\n\u001b[1;32m     52\u001b[0m     \u001b[38;5;28;01mreturn\u001b[39;00m result\n",
      "File \u001b[0;32m~/Kitana_e2e/Kitana-e2e/search_engine/data_provider/seller_data.py:26\u001b[0m, in \u001b[0;36mPrepareSeller.__init__\u001b[0;34m(self, data_path, join_keys, features, from_disk, seller_df, need_to_clean_data)\u001b[0m\n\u001b[1;32m     23\u001b[0m \u001b[38;5;28mself\u001b[39m\u001b[38;5;241m.\u001b[39mjoin_key_domains \u001b[38;5;241m=\u001b[39m {} \u001b[38;5;66;03m# {join_key: {set of values}}\u001b[39;00m\n\u001b[1;32m     25\u001b[0m \u001b[38;5;28;01mif\u001b[39;00m need_to_clean_data:\n\u001b[0;32m---> 26\u001b[0m     num_cols \u001b[38;5;241m=\u001b[39m \u001b[38;5;28;43mself\u001b[39;49m\u001b[38;5;241;43m.\u001b[39;49m\u001b[43m_data_cleaning\u001b[49m\u001b[43m(\u001b[49m\u001b[38;5;28;43mself\u001b[39;49m\u001b[38;5;241;43m.\u001b[39;49m\u001b[43mdata\u001b[49m\u001b[43m,\u001b[49m\u001b[43m \u001b[49m\u001b[38;5;28;43mself\u001b[39;49m\u001b[38;5;241;43m.\u001b[39;49m\u001b[43mjoin_keys_in_string\u001b[49m\u001b[43m)\u001b[49m\n\u001b[1;32m     27\u001b[0m \u001b[38;5;28;01melse\u001b[39;00m:\n\u001b[1;32m     28\u001b[0m     num_cols \u001b[38;5;241m=\u001b[39m features\n",
      "File \u001b[0;32m~/Kitana_e2e/Kitana-e2e/search_engine/utils/logging_utils.py:62\u001b[0m, in \u001b[0;36mhandle_exceptions.<locals>.wrapper\u001b[0;34m(*args, **kwargs)\u001b[0m\n\u001b[1;32m     59\u001b[0m \u001b[38;5;129m@wraps\u001b[39m(func)\n\u001b[1;32m     60\u001b[0m \u001b[38;5;28;01mdef\u001b[39;00m\u001b[38;5;250m \u001b[39m\u001b[38;5;21mwrapper\u001b[39m(\u001b[38;5;241m*\u001b[39margs, \u001b[38;5;241m*\u001b[39m\u001b[38;5;241m*\u001b[39mkwargs):\n\u001b[1;32m     61\u001b[0m     \u001b[38;5;28;01mtry\u001b[39;00m:\n\u001b[0;32m---> 62\u001b[0m         \u001b[38;5;28;01mreturn\u001b[39;00m \u001b[43mfunc\u001b[49m\u001b[43m(\u001b[49m\u001b[38;5;241;43m*\u001b[39;49m\u001b[43margs\u001b[49m\u001b[43m,\u001b[49m\u001b[43m \u001b[49m\u001b[38;5;241;43m*\u001b[39;49m\u001b[38;5;241;43m*\u001b[39;49m\u001b[43mkwargs\u001b[49m\u001b[43m)\u001b[49m\n\u001b[1;32m     63\u001b[0m     \u001b[38;5;28;01mexcept\u001b[39;00m \u001b[38;5;167;01mException\u001b[39;00m \u001b[38;5;28;01mas\u001b[39;00m e:\n\u001b[1;32m     64\u001b[0m         logger\u001b[38;5;241m.\u001b[39merror(\u001b[38;5;124mf\u001b[39m\u001b[38;5;124m\"\u001b[39m\u001b[38;5;124mError in \u001b[39m\u001b[38;5;132;01m{\u001b[39;00mfunc\u001b[38;5;241m.\u001b[39m\u001b[38;5;18m__name__\u001b[39m\u001b[38;5;132;01m}\u001b[39;00m\u001b[38;5;124m: \u001b[39m\u001b[38;5;132;01m{\u001b[39;00me\u001b[38;5;132;01m}\u001b[39;00m\u001b[38;5;124m\"\u001b[39m)\n",
      "File \u001b[0;32m~/Kitana_e2e/Kitana-e2e/search_engine/utils/logging_utils.py:50\u001b[0m, in \u001b[0;36mlog_execution.<locals>.decorator.<locals>.wrapper\u001b[0;34m(*args, **kwargs)\u001b[0m\n\u001b[1;32m     47\u001b[0m \u001b[38;5;129m@wraps\u001b[39m(func)\n\u001b[1;32m     48\u001b[0m \u001b[38;5;28;01mdef\u001b[39;00m\u001b[38;5;250m \u001b[39m\u001b[38;5;21mwrapper\u001b[39m(\u001b[38;5;241m*\u001b[39margs, \u001b[38;5;241m*\u001b[39m\u001b[38;5;241m*\u001b[39mkwargs):\n\u001b[1;32m     49\u001b[0m     logger\u001b[38;5;241m.\u001b[39mlog(level, \u001b[38;5;124mf\u001b[39m\u001b[38;5;124m\"\u001b[39m\u001b[38;5;124mExecuting \u001b[39m\u001b[38;5;132;01m{\u001b[39;00mfunc\u001b[38;5;241m.\u001b[39m\u001b[38;5;18m__name__\u001b[39m\u001b[38;5;132;01m}\u001b[39;00m\u001b[38;5;124m...\u001b[39m\u001b[38;5;124m\"\u001b[39m)\n\u001b[0;32m---> 50\u001b[0m     result \u001b[38;5;241m=\u001b[39m \u001b[43mfunc\u001b[49m\u001b[43m(\u001b[49m\u001b[38;5;241;43m*\u001b[39;49m\u001b[43margs\u001b[49m\u001b[43m,\u001b[49m\u001b[43m \u001b[49m\u001b[38;5;241;43m*\u001b[39;49m\u001b[38;5;241;43m*\u001b[39;49m\u001b[43mkwargs\u001b[49m\u001b[43m)\u001b[49m\n\u001b[1;32m     51\u001b[0m     logger\u001b[38;5;241m.\u001b[39mlog(level, \u001b[38;5;124mf\u001b[39m\u001b[38;5;124m\"\u001b[39m\u001b[38;5;124mFinished executing \u001b[39m\u001b[38;5;132;01m{\u001b[39;00mfunc\u001b[38;5;241m.\u001b[39m\u001b[38;5;18m__name__\u001b[39m\u001b[38;5;132;01m}\u001b[39;00m\u001b[38;5;124m\"\u001b[39m)\n\u001b[1;32m     52\u001b[0m     \u001b[38;5;28;01mreturn\u001b[39;00m result\n",
      "File \u001b[0;32m~/Kitana_e2e/Kitana-e2e/search_engine/data_provider/base_data.py:61\u001b[0m, in \u001b[0;36mPrepareData._data_cleaning\u001b[0;34m(df, join_keys_in_string)\u001b[0m\n\u001b[1;32m     59\u001b[0m \u001b[38;5;250m\u001b[39m\u001b[38;5;124;03m\"\"\"Static method to perform data cleaning; calls the helper get_num_cols.\"\"\"\u001b[39;00m\n\u001b[1;32m     60\u001b[0m \u001b[38;5;66;03m# Call the get_num_cols helper function\u001b[39;00m\n\u001b[0;32m---> 61\u001b[0m \u001b[38;5;28;01mreturn\u001b[39;00m \u001b[43mPrepareData\u001b[49m\u001b[38;5;241;43m.\u001b[39;49m\u001b[43mget_num_cols\u001b[49m\u001b[43m(\u001b[49m\u001b[43mdf\u001b[49m\u001b[43m,\u001b[49m\u001b[43m \u001b[49m\u001b[38;5;28;43mset\u001b[39;49m\u001b[43m(\u001b[49m\u001b[43mjoin_keys_in_string\u001b[49m\u001b[43m)\u001b[49m\u001b[43m)\u001b[49m\n",
      "File \u001b[0;32m~/Kitana_e2e/Kitana-e2e/search_engine/utils/logging_utils.py:62\u001b[0m, in \u001b[0;36mhandle_exceptions.<locals>.wrapper\u001b[0;34m(*args, **kwargs)\u001b[0m\n\u001b[1;32m     59\u001b[0m \u001b[38;5;129m@wraps\u001b[39m(func)\n\u001b[1;32m     60\u001b[0m \u001b[38;5;28;01mdef\u001b[39;00m\u001b[38;5;250m \u001b[39m\u001b[38;5;21mwrapper\u001b[39m(\u001b[38;5;241m*\u001b[39margs, \u001b[38;5;241m*\u001b[39m\u001b[38;5;241m*\u001b[39mkwargs):\n\u001b[1;32m     61\u001b[0m     \u001b[38;5;28;01mtry\u001b[39;00m:\n\u001b[0;32m---> 62\u001b[0m         \u001b[38;5;28;01mreturn\u001b[39;00m \u001b[43mfunc\u001b[49m\u001b[43m(\u001b[49m\u001b[38;5;241;43m*\u001b[39;49m\u001b[43margs\u001b[49m\u001b[43m,\u001b[49m\u001b[43m \u001b[49m\u001b[38;5;241;43m*\u001b[39;49m\u001b[38;5;241;43m*\u001b[39;49m\u001b[43mkwargs\u001b[49m\u001b[43m)\u001b[49m\n\u001b[1;32m     63\u001b[0m     \u001b[38;5;28;01mexcept\u001b[39;00m \u001b[38;5;167;01mException\u001b[39;00m \u001b[38;5;28;01mas\u001b[39;00m e:\n\u001b[1;32m     64\u001b[0m         logger\u001b[38;5;241m.\u001b[39merror(\u001b[38;5;124mf\u001b[39m\u001b[38;5;124m\"\u001b[39m\u001b[38;5;124mError in \u001b[39m\u001b[38;5;132;01m{\u001b[39;00mfunc\u001b[38;5;241m.\u001b[39m\u001b[38;5;18m__name__\u001b[39m\u001b[38;5;132;01m}\u001b[39;00m\u001b[38;5;124m: \u001b[39m\u001b[38;5;132;01m{\u001b[39;00me\u001b[38;5;132;01m}\u001b[39;00m\u001b[38;5;124m\"\u001b[39m)\n",
      "File \u001b[0;32m~/Kitana_e2e/Kitana-e2e/search_engine/data_provider/base_data.py:84\u001b[0m, in \u001b[0;36mPrepareData.get_num_cols\u001b[0;34m(df, join_keys)\u001b[0m\n\u001b[1;32m     82\u001b[0m \u001b[38;5;66;03m# Remove columns with > 40% missing values\u001b[39;00m\n\u001b[1;32m     83\u001b[0m \u001b[38;5;28;01mfor\u001b[39;00m col \u001b[38;5;129;01min\u001b[39;00m df\u001b[38;5;241m.\u001b[39mcolumns:\n\u001b[0;32m---> 84\u001b[0m     nan_fraction \u001b[38;5;241m=\u001b[39m \u001b[43mdf\u001b[49m\u001b[43m[\u001b[49m\u001b[43mcol\u001b[49m\u001b[43m]\u001b[49m\u001b[38;5;241;43m.\u001b[39;49m\u001b[43mapply\u001b[49m\u001b[43m(\u001b[49m\u001b[38;5;28;43;01mlambda\u001b[39;49;00m\u001b[43m \u001b[49m\u001b[43mx\u001b[49m\u001b[43m:\u001b[49m\u001b[43m \u001b[49m\u001b[43mx\u001b[49m\u001b[43m \u001b[49m\u001b[38;5;241;43m==\u001b[39;49m\u001b[43m \u001b[49m\u001b[38;5;124;43m'\u001b[39;49m\u001b[38;5;124;43m'\u001b[39;49m\u001b[43m \u001b[49m\u001b[38;5;129;43;01mor\u001b[39;49;00m\u001b[43m \u001b[49m\u001b[43mpd\u001b[49m\u001b[38;5;241;43m.\u001b[39;49m\u001b[43misna\u001b[49m\u001b[43m(\u001b[49m\u001b[43mx\u001b[49m\u001b[43m)\u001b[49m\u001b[43m)\u001b[49m\u001b[38;5;241m.\u001b[39mmean()\n\u001b[1;32m     85\u001b[0m     \u001b[38;5;28;01mif\u001b[39;00m nan_fraction \u001b[38;5;241m>\u001b[39m \u001b[38;5;241m0.4\u001b[39m:\n\u001b[1;32m     86\u001b[0m         display_cols\u001b[38;5;241m.\u001b[39mremove(col)\n",
      "File \u001b[0;32m/opt/conda/envs/kitana-e2e/lib/python3.9/site-packages/pandas/core/series.py:4757\u001b[0m, in \u001b[0;36mSeries.apply\u001b[0;34m(self, func, convert_dtype, args, by_row, **kwargs)\u001b[0m\n\u001b[1;32m   4629\u001b[0m \u001b[38;5;28;01mdef\u001b[39;00m\u001b[38;5;250m \u001b[39m\u001b[38;5;21mapply\u001b[39m(\n\u001b[1;32m   4630\u001b[0m     \u001b[38;5;28mself\u001b[39m,\n\u001b[1;32m   4631\u001b[0m     func: AggFuncType,\n\u001b[0;32m   (...)\u001b[0m\n\u001b[1;32m   4636\u001b[0m     \u001b[38;5;241m*\u001b[39m\u001b[38;5;241m*\u001b[39mkwargs,\n\u001b[1;32m   4637\u001b[0m ) \u001b[38;5;241m-\u001b[39m\u001b[38;5;241m>\u001b[39m DataFrame \u001b[38;5;241m|\u001b[39m Series:\n\u001b[1;32m   4638\u001b[0m \u001b[38;5;250m    \u001b[39m\u001b[38;5;124;03m\"\"\"\u001b[39;00m\n\u001b[1;32m   4639\u001b[0m \u001b[38;5;124;03m    Invoke function on values of Series.\u001b[39;00m\n\u001b[1;32m   4640\u001b[0m \n\u001b[0;32m   (...)\u001b[0m\n\u001b[1;32m   4755\u001b[0m \u001b[38;5;124;03m    dtype: float64\u001b[39;00m\n\u001b[1;32m   4756\u001b[0m \u001b[38;5;124;03m    \"\"\"\u001b[39;00m\n\u001b[0;32m-> 4757\u001b[0m     \u001b[38;5;28;01mreturn\u001b[39;00m \u001b[43mSeriesApply\u001b[49m\u001b[43m(\u001b[49m\n\u001b[1;32m   4758\u001b[0m \u001b[43m        \u001b[49m\u001b[38;5;28;43mself\u001b[39;49m\u001b[43m,\u001b[49m\n\u001b[1;32m   4759\u001b[0m \u001b[43m        \u001b[49m\u001b[43mfunc\u001b[49m\u001b[43m,\u001b[49m\n\u001b[1;32m   4760\u001b[0m \u001b[43m        \u001b[49m\u001b[43mconvert_dtype\u001b[49m\u001b[38;5;241;43m=\u001b[39;49m\u001b[43mconvert_dtype\u001b[49m\u001b[43m,\u001b[49m\n\u001b[1;32m   4761\u001b[0m \u001b[43m        \u001b[49m\u001b[43mby_row\u001b[49m\u001b[38;5;241;43m=\u001b[39;49m\u001b[43mby_row\u001b[49m\u001b[43m,\u001b[49m\n\u001b[1;32m   4762\u001b[0m \u001b[43m        \u001b[49m\u001b[43margs\u001b[49m\u001b[38;5;241;43m=\u001b[39;49m\u001b[43margs\u001b[49m\u001b[43m,\u001b[49m\n\u001b[1;32m   4763\u001b[0m \u001b[43m        \u001b[49m\u001b[43mkwargs\u001b[49m\u001b[38;5;241;43m=\u001b[39;49m\u001b[43mkwargs\u001b[49m\u001b[43m,\u001b[49m\n\u001b[1;32m   4764\u001b[0m \u001b[43m    \u001b[49m\u001b[43m)\u001b[49m\u001b[38;5;241;43m.\u001b[39;49m\u001b[43mapply\u001b[49m\u001b[43m(\u001b[49m\u001b[43m)\u001b[49m\n",
      "File \u001b[0;32m/opt/conda/envs/kitana-e2e/lib/python3.9/site-packages/pandas/core/apply.py:1209\u001b[0m, in \u001b[0;36mSeriesApply.apply\u001b[0;34m(self)\u001b[0m\n\u001b[1;32m   1206\u001b[0m     \u001b[38;5;28;01mreturn\u001b[39;00m \u001b[38;5;28mself\u001b[39m\u001b[38;5;241m.\u001b[39mapply_compat()\n\u001b[1;32m   1208\u001b[0m \u001b[38;5;66;03m# self.func is Callable\u001b[39;00m\n\u001b[0;32m-> 1209\u001b[0m \u001b[38;5;28;01mreturn\u001b[39;00m \u001b[38;5;28;43mself\u001b[39;49m\u001b[38;5;241;43m.\u001b[39;49m\u001b[43mapply_standard\u001b[49m\u001b[43m(\u001b[49m\u001b[43m)\u001b[49m\n",
      "File \u001b[0;32m/opt/conda/envs/kitana-e2e/lib/python3.9/site-packages/pandas/core/apply.py:1289\u001b[0m, in \u001b[0;36mSeriesApply.apply_standard\u001b[0;34m(self)\u001b[0m\n\u001b[1;32m   1283\u001b[0m \u001b[38;5;66;03m# row-wise access\u001b[39;00m\n\u001b[1;32m   1284\u001b[0m \u001b[38;5;66;03m# apply doesn't have a `na_action` keyword and for backward compat reasons\u001b[39;00m\n\u001b[1;32m   1285\u001b[0m \u001b[38;5;66;03m# we need to give `na_action=\"ignore\"` for categorical data.\u001b[39;00m\n\u001b[1;32m   1286\u001b[0m \u001b[38;5;66;03m# TODO: remove the `na_action=\"ignore\"` when that default has been changed in\u001b[39;00m\n\u001b[1;32m   1287\u001b[0m \u001b[38;5;66;03m#  Categorical (GH51645).\u001b[39;00m\n\u001b[1;32m   1288\u001b[0m action \u001b[38;5;241m=\u001b[39m \u001b[38;5;124m\"\u001b[39m\u001b[38;5;124mignore\u001b[39m\u001b[38;5;124m\"\u001b[39m \u001b[38;5;28;01mif\u001b[39;00m \u001b[38;5;28misinstance\u001b[39m(obj\u001b[38;5;241m.\u001b[39mdtype, CategoricalDtype) \u001b[38;5;28;01melse\u001b[39;00m \u001b[38;5;28;01mNone\u001b[39;00m\n\u001b[0;32m-> 1289\u001b[0m mapped \u001b[38;5;241m=\u001b[39m \u001b[43mobj\u001b[49m\u001b[38;5;241;43m.\u001b[39;49m\u001b[43m_map_values\u001b[49m\u001b[43m(\u001b[49m\n\u001b[1;32m   1290\u001b[0m \u001b[43m    \u001b[49m\u001b[43mmapper\u001b[49m\u001b[38;5;241;43m=\u001b[39;49m\u001b[43mcurried\u001b[49m\u001b[43m,\u001b[49m\u001b[43m \u001b[49m\u001b[43mna_action\u001b[49m\u001b[38;5;241;43m=\u001b[39;49m\u001b[43maction\u001b[49m\u001b[43m,\u001b[49m\u001b[43m \u001b[49m\u001b[43mconvert\u001b[49m\u001b[38;5;241;43m=\u001b[39;49m\u001b[38;5;28;43mself\u001b[39;49m\u001b[38;5;241;43m.\u001b[39;49m\u001b[43mconvert_dtype\u001b[49m\n\u001b[1;32m   1291\u001b[0m \u001b[43m\u001b[49m\u001b[43m)\u001b[49m\n\u001b[1;32m   1293\u001b[0m \u001b[38;5;28;01mif\u001b[39;00m \u001b[38;5;28mlen\u001b[39m(mapped) \u001b[38;5;129;01mand\u001b[39;00m \u001b[38;5;28misinstance\u001b[39m(mapped[\u001b[38;5;241m0\u001b[39m], ABCSeries):\n\u001b[1;32m   1294\u001b[0m     \u001b[38;5;66;03m# GH#43986 Need to do list(mapped) in order to get treated as nested\u001b[39;00m\n\u001b[1;32m   1295\u001b[0m     \u001b[38;5;66;03m#  See also GH#25959 regarding EA support\u001b[39;00m\n\u001b[1;32m   1296\u001b[0m     \u001b[38;5;28;01mreturn\u001b[39;00m obj\u001b[38;5;241m.\u001b[39m_constructor_expanddim(\u001b[38;5;28mlist\u001b[39m(mapped), index\u001b[38;5;241m=\u001b[39mobj\u001b[38;5;241m.\u001b[39mindex)\n",
      "File \u001b[0;32m/opt/conda/envs/kitana-e2e/lib/python3.9/site-packages/pandas/core/base.py:921\u001b[0m, in \u001b[0;36mIndexOpsMixin._map_values\u001b[0;34m(self, mapper, na_action, convert)\u001b[0m\n\u001b[1;32m    918\u001b[0m \u001b[38;5;28;01mif\u001b[39;00m \u001b[38;5;28misinstance\u001b[39m(arr, ExtensionArray):\n\u001b[1;32m    919\u001b[0m     \u001b[38;5;28;01mreturn\u001b[39;00m arr\u001b[38;5;241m.\u001b[39mmap(mapper, na_action\u001b[38;5;241m=\u001b[39mna_action)\n\u001b[0;32m--> 921\u001b[0m \u001b[38;5;28;01mreturn\u001b[39;00m \u001b[43malgorithms\u001b[49m\u001b[38;5;241;43m.\u001b[39;49m\u001b[43mmap_array\u001b[49m\u001b[43m(\u001b[49m\u001b[43marr\u001b[49m\u001b[43m,\u001b[49m\u001b[43m \u001b[49m\u001b[43mmapper\u001b[49m\u001b[43m,\u001b[49m\u001b[43m \u001b[49m\u001b[43mna_action\u001b[49m\u001b[38;5;241;43m=\u001b[39;49m\u001b[43mna_action\u001b[49m\u001b[43m,\u001b[49m\u001b[43m \u001b[49m\u001b[43mconvert\u001b[49m\u001b[38;5;241;43m=\u001b[39;49m\u001b[43mconvert\u001b[49m\u001b[43m)\u001b[49m\n",
      "File \u001b[0;32m/opt/conda/envs/kitana-e2e/lib/python3.9/site-packages/pandas/core/algorithms.py:1814\u001b[0m, in \u001b[0;36mmap_array\u001b[0;34m(arr, mapper, na_action, convert)\u001b[0m\n\u001b[1;32m   1812\u001b[0m values \u001b[38;5;241m=\u001b[39m arr\u001b[38;5;241m.\u001b[39mastype(\u001b[38;5;28mobject\u001b[39m, copy\u001b[38;5;241m=\u001b[39m\u001b[38;5;28;01mFalse\u001b[39;00m)\n\u001b[1;32m   1813\u001b[0m \u001b[38;5;28;01mif\u001b[39;00m na_action \u001b[38;5;129;01mis\u001b[39;00m \u001b[38;5;28;01mNone\u001b[39;00m:\n\u001b[0;32m-> 1814\u001b[0m     \u001b[38;5;28;01mreturn\u001b[39;00m \u001b[43mlib\u001b[49m\u001b[38;5;241;43m.\u001b[39;49m\u001b[43mmap_infer\u001b[49m\u001b[43m(\u001b[49m\u001b[43mvalues\u001b[49m\u001b[43m,\u001b[49m\u001b[43m \u001b[49m\u001b[43mmapper\u001b[49m\u001b[43m,\u001b[49m\u001b[43m \u001b[49m\u001b[43mconvert\u001b[49m\u001b[38;5;241;43m=\u001b[39;49m\u001b[43mconvert\u001b[49m\u001b[43m)\u001b[49m\n\u001b[1;32m   1815\u001b[0m \u001b[38;5;28;01melse\u001b[39;00m:\n\u001b[1;32m   1816\u001b[0m     \u001b[38;5;28;01mreturn\u001b[39;00m lib\u001b[38;5;241m.\u001b[39mmap_infer_mask(\n\u001b[1;32m   1817\u001b[0m         values, mapper, mask\u001b[38;5;241m=\u001b[39misna(values)\u001b[38;5;241m.\u001b[39mview(np\u001b[38;5;241m.\u001b[39muint8), convert\u001b[38;5;241m=\u001b[39mconvert\n\u001b[1;32m   1818\u001b[0m     )\n",
      "File \u001b[0;32mlib.pyx:2926\u001b[0m, in \u001b[0;36mpandas._libs.lib.map_infer\u001b[0;34m()\u001b[0m\n",
      "File \u001b[0;32m~/Kitana_e2e/Kitana-e2e/search_engine/data_provider/base_data.py:84\u001b[0m, in \u001b[0;36mPrepareData.get_num_cols.<locals>.<lambda>\u001b[0;34m(x)\u001b[0m\n\u001b[1;32m     82\u001b[0m \u001b[38;5;66;03m# Remove columns with > 40% missing values\u001b[39;00m\n\u001b[1;32m     83\u001b[0m \u001b[38;5;28;01mfor\u001b[39;00m col \u001b[38;5;129;01min\u001b[39;00m df\u001b[38;5;241m.\u001b[39mcolumns:\n\u001b[0;32m---> 84\u001b[0m     nan_fraction \u001b[38;5;241m=\u001b[39m df[col]\u001b[38;5;241m.\u001b[39mapply(\u001b[38;5;28;01mlambda\u001b[39;00m x: x \u001b[38;5;241m==\u001b[39m \u001b[38;5;124m'\u001b[39m\u001b[38;5;124m'\u001b[39m \u001b[38;5;129;01mor\u001b[39;00m \u001b[43mpd\u001b[49m\u001b[38;5;241;43m.\u001b[39;49m\u001b[43misna\u001b[49m\u001b[43m(\u001b[49m\u001b[43mx\u001b[49m\u001b[43m)\u001b[49m)\u001b[38;5;241m.\u001b[39mmean()\n\u001b[1;32m     85\u001b[0m     \u001b[38;5;28;01mif\u001b[39;00m nan_fraction \u001b[38;5;241m>\u001b[39m \u001b[38;5;241m0.4\u001b[39m:\n\u001b[1;32m     86\u001b[0m         display_cols\u001b[38;5;241m.\u001b[39mremove(col)\n",
      "File \u001b[0;32m/opt/conda/envs/kitana-e2e/lib/python3.9/site-packages/pandas/core/dtypes/missing.py:101\u001b[0m, in \u001b[0;36misna\u001b[0;34m(obj)\u001b[0m\n\u001b[1;32m     96\u001b[0m \u001b[38;5;129m@overload\u001b[39m\n\u001b[1;32m     97\u001b[0m \u001b[38;5;28;01mdef\u001b[39;00m\u001b[38;5;250m \u001b[39m\u001b[38;5;21misna\u001b[39m(obj: \u001b[38;5;28mobject\u001b[39m) \u001b[38;5;241m-\u001b[39m\u001b[38;5;241m>\u001b[39m \u001b[38;5;28mbool\u001b[39m \u001b[38;5;241m|\u001b[39m npt\u001b[38;5;241m.\u001b[39mNDArray[np\u001b[38;5;241m.\u001b[39mbool_] \u001b[38;5;241m|\u001b[39m NDFrame:\n\u001b[1;32m     98\u001b[0m     \u001b[38;5;241m.\u001b[39m\u001b[38;5;241m.\u001b[39m\u001b[38;5;241m.\u001b[39m\n\u001b[0;32m--> 101\u001b[0m \u001b[38;5;28;01mdef\u001b[39;00m\u001b[38;5;250m \u001b[39m\u001b[38;5;21misna\u001b[39m(obj: \u001b[38;5;28mobject\u001b[39m) \u001b[38;5;241m-\u001b[39m\u001b[38;5;241m>\u001b[39m \u001b[38;5;28mbool\u001b[39m \u001b[38;5;241m|\u001b[39m npt\u001b[38;5;241m.\u001b[39mNDArray[np\u001b[38;5;241m.\u001b[39mbool_] \u001b[38;5;241m|\u001b[39m NDFrame:\n\u001b[1;32m    102\u001b[0m \u001b[38;5;250m    \u001b[39m\u001b[38;5;124;03m\"\"\"\u001b[39;00m\n\u001b[1;32m    103\u001b[0m \u001b[38;5;124;03m    Detect missing values for an array-like object.\u001b[39;00m\n\u001b[1;32m    104\u001b[0m \n\u001b[0;32m   (...)\u001b[0m\n\u001b[1;32m    176\u001b[0m \u001b[38;5;124;03m    Name: 1, dtype: bool\u001b[39;00m\n\u001b[1;32m    177\u001b[0m \u001b[38;5;124;03m    \"\"\"\u001b[39;00m\n\u001b[1;32m    178\u001b[0m     \u001b[38;5;28;01mreturn\u001b[39;00m _isna(obj)\n",
      "\u001b[0;31mKeyboardInterrupt\u001b[0m: "
     ]
    }
   ],
   "source": [
    "import pandas as pd\n",
    "import numpy as np\n",
    "from search_engine.experiment import ScaledExperiment\n",
    "from search_engine.config import get_config, Config, DataConfig, SearchConfig, ExperimentConfig, LoggingConfig\n",
    "from search_engine.entity_linking.el_test import DBpediaLinker, TURLExecuter, PredictionEntityConverter\n",
    "import os\n",
    "import json\n",
    "import argparse\n",
    "\n",
    "def plot_two_experiments_results_max(\n",
    "    origin_result: dict, \n",
    "    alite_result: dict,\n",
    "    output_fig=\"experiment_comparison.png\"\n",
    "):\n",
    "    acc1 = origin_result[\"accuracy\"] \n",
    "    acc2 = alite_result[\"accuracy\"]\n",
    "    max_len = max(len(acc1), len(acc2))\n",
    "    acc1_padded = list(acc1) + [np.nan] * (max_len - len(acc1))\n",
    "    acc2_padded = list(acc2) + [np.nan] * (max_len - len(acc2))\n",
    "\n",
    "    iterations = range(1, max_len + 1)\n",
    "    df = pd.DataFrame({\n",
    "        \"iteration\": iterations,\n",
    "        \"origin_exp\": acc1_padded,\n",
    "        \"alite_exp\": acc2_padded\n",
    "    })\n",
    "\n",
    "\n",
    "    from search_engine.utils.plot_utils import plot_whiskers\n",
    "    plot_whiskers(\n",
    "        df=df,\n",
    "        x_col=\"iteration\", \n",
    "        y_cols=[\"origin_exp\", \"alite_exp\"],\n",
    "        labels=[\"Origin Exp\", \"Alite Exp\"],\n",
    "        colors=[\"blue\", \"red\"],\n",
    "        linestyles=[\"-\", \"--\"],\n",
    "        figsize=(8, 6),\n",
    "        resultname=output_fig,\n",
    "        xlabel=\"Iteration\",\n",
    "        ylabel=\"Accuracy\"\n",
    "    )\n",
    "\n",
    "    return df\n",
    "\n",
    "config1 = Config(\n",
    "    search=SearchConfig(iterations=12),\n",
    "    data=DataConfig(\n",
    "        directory_path='data/stock_ticker_datasets/seller',\n",
    "        buyer_csv='data/stock_ticker_datasets/buyer/financial data sp500 companies.csv',\n",
    "        join_keys=[['Ticker']],\n",
    "        target_feature='Income Before Tax',\n",
    "        one_target_feature=False,\n",
    "        need_to_clean_data=True\n",
    "    ),\n",
    "    experiment=ExperimentConfig(\n",
    "        plot_results=True,\n",
    "        results_dir='results/'\n",
    "    ),\n",
    "    logging=LoggingConfig(\n",
    "        level='ERROR',\n",
    "        file='logs/experiment.log'\n",
    "    )\n",
    ")\n",
    "config2 = Config(\n",
    "    search=SearchConfig(iterations=12),\n",
    "    data=DataConfig(\n",
    "        directory_path='data/alite_searched_stock_ticker_datasets/seller',\n",
    "        buyer_csv='data/alite_searched_stock_ticker_datasets/buyer/financial data sp500 companies.csv',\n",
    "        join_keys=[['Ticker']],\n",
    "        target_feature='Income Before Tax',\n",
    "        one_target_feature=False,\n",
    "        need_to_clean_data=True\n",
    "    ),\n",
    "    experiment=ExperimentConfig(\n",
    "        plot_results=True,\n",
    "        results_dir='results/'\n",
    "    ),\n",
    "    logging=LoggingConfig(\n",
    "        level='ERROR',\n",
    "        file='logs/experiment.log'\n",
    "    )\n",
    ")\n",
    "# Run exps\n",
    "company = ScaledExperiment(config1)\n",
    "company_2 = ScaledExperiment(config2)\n",
    "\n",
    "company_experiment_result = company.run()\n",
    "company_experiment_result_2 = company_2.run()\n",
    "\n",
    "# Return as list\n",
    "results_list = [company_experiment_result]\n",
    "results_list.append(company_experiment_result_2)\n",
    "\n",
    "# plot\n",
    "plot_two_experiments_results_max(\n",
    "    origin_result=company_experiment_result,\n",
    "    alite_result=company_experiment_result_2,\n",
    "    output_fig=\"results/comparison_ticker_whiskers.png\"\n",
    ")"
   ]
  }
 ],
 "metadata": {
  "kernelspec": {
   "display_name": "kitana-e2e",
   "language": "python",
   "name": "python3"
  },
  "language_info": {
   "codemirror_mode": {
    "name": "ipython",
    "version": 3
   },
   "file_extension": ".py",
   "mimetype": "text/x-python",
   "name": "python",
   "nbconvert_exporter": "python",
   "pygments_lexer": "ipython3",
   "version": "3.9.21"
  }
 },
 "nbformat": 4,
 "nbformat_minor": 2
}
